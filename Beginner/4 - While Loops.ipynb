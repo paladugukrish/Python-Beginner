{
 "cells": [
  {
   "cell_type": "code",
   "execution_count": 1,
   "id": "31968fc5",
   "metadata": {},
   "outputs": [],
   "source": [
    "# Print all integers from 0 to 5 (5 included)"
   ]
  },
  {
   "cell_type": "code",
   "execution_count": 3,
   "id": "ab9b5334",
   "metadata": {},
   "outputs": [
    {
     "name": "stdout",
     "output_type": "stream",
     "text": [
      "0 1 2 3 4 5 "
     ]
    }
   ],
   "source": [
    "number = 0\n",
    "\n",
    "while number <= 5:\n",
    "    print(number, end = \" \")\n",
    "    number += 1"
   ]
  },
  {
   "cell_type": "code",
   "execution_count": 4,
   "id": "9e037849",
   "metadata": {},
   "outputs": [
    {
     "name": "stdout",
     "output_type": "stream",
     "text": [
      "50 51 52 53 54 55 56 57 58 59 60 61 62 63 64 65 66 67 68 69 70 71 72 73 74 75 "
     ]
    }
   ],
   "source": [
    "number = 50\n",
    "\n",
    "while number <= 75:\n",
    "    print(number, end = \" \")\n",
    "    number += 1"
   ]
  },
  {
   "cell_type": "code",
   "execution_count": 5,
   "id": "81948733",
   "metadata": {},
   "outputs": [
    {
     "name": "stdout",
     "output_type": "stream",
     "text": [
      "-5 -4 -3 -2 -1 0 1 2 3 4 5 "
     ]
    }
   ],
   "source": [
    "number = -5\n",
    "\n",
    "while number <= 5:\n",
    "    print(number, end = \" \")\n",
    "    number += 1"
   ]
  },
  {
   "cell_type": "code",
   "execution_count": 9,
   "id": "bf87aa2b",
   "metadata": {},
   "outputs": [],
   "source": [
    "# number = 0\n",
    "\n",
    "# while number <= 5:\n",
    "#     print(number, end = \" \")\n",
    "# #     number += 1"
   ]
  },
  {
   "cell_type": "code",
   "execution_count": 8,
   "id": "409d8e5c",
   "metadata": {},
   "outputs": [],
   "source": [
    "# number = -5\n",
    "\n",
    "# while number >= -10:\n",
    "#     print(number, end = \" \")\n",
    "#     number += 1"
   ]
  },
  {
   "cell_type": "code",
   "execution_count": 10,
   "id": "4e9488c8",
   "metadata": {},
   "outputs": [
    {
     "data": {
      "text/plain": [
       "'\\nQuestion 1 - \\nTake an input from the user and print alternate numbers from from 1 to input.\\nInput will be a positive number > 1.\\n\\nINPUT - 7\\nOUTPUT - 1 3 5 7\\n'"
      ]
     },
     "execution_count": 10,
     "metadata": {},
     "output_type": "execute_result"
    }
   ],
   "source": [
    "'''\n",
    "Question 1 - \n",
    "Take an input from the user and print alternate numbers from from 1 to input.\n",
    "Input will be a positive number > 1.\n",
    "\n",
    "INPUT - 7\n",
    "OUTPUT - 1 3 5 7\n",
    "'''"
   ]
  },
  {
   "cell_type": "code",
   "execution_count": 29,
   "id": "2456f711",
   "metadata": {},
   "outputs": [
    {
     "name": "stdout",
     "output_type": "stream",
     "text": [
      "Please enter a number > 1 - 6\n"
     ]
    }
   ],
   "source": [
    "number = int(input(\"Please enter a number > 1 - \"))"
   ]
  },
  {
   "cell_type": "code",
   "execution_count": 30,
   "id": "3c6d94d0",
   "metadata": {},
   "outputs": [],
   "source": [
    "i = 1"
   ]
  },
  {
   "cell_type": "code",
   "execution_count": 31,
   "id": "97b09f01",
   "metadata": {},
   "outputs": [
    {
     "name": "stdout",
     "output_type": "stream",
     "text": [
      "1\n",
      "3\n",
      "5\n"
     ]
    }
   ],
   "source": [
    "while i <= number:\n",
    "    print(i)\n",
    "    \n",
    "    i += 2"
   ]
  },
  {
   "cell_type": "code",
   "execution_count": 33,
   "id": "1a63cf72",
   "metadata": {},
   "outputs": [
    {
     "data": {
      "text/plain": [
       "'\\nQuestion 1 - \\nTake an input from the user and print alternate numbers from from 1 to input.\\nIf number is > 1 -> Print as required.\\nElse print \"Number is smaller than 1!\"\\n\\nINPUT - 7\\nOUTPUT - 1 3 5 7\\n\\nINPUT - -5\\nOUTPUT - Number is smaller than 1!\\n'"
      ]
     },
     "execution_count": 33,
     "metadata": {},
     "output_type": "execute_result"
    }
   ],
   "source": [
    "'''\n",
    "Question 1 - \n",
    "Take an input from the user and print alternate numbers from from 1 to input.\n",
    "If number is > 1 -> Print as required.\n",
    "Else print \"Number is smaller than 1!\"\n",
    "\n",
    "INPUT - 7\n",
    "OUTPUT - 1 3 5 7\n",
    "\n",
    "INPUT - -5\n",
    "OUTPUT - Number is smaller than 1!\n",
    "'''"
   ]
  },
  {
   "cell_type": "code",
   "execution_count": 35,
   "id": "36597eac",
   "metadata": {},
   "outputs": [
    {
     "name": "stdout",
     "output_type": "stream",
     "text": [
      "Please provide input number - 7\n",
      "1\n",
      "3\n",
      "5\n",
      "7\n"
     ]
    }
   ],
   "source": [
    "number = int(input(\"Please provide input number - \"))\n",
    "\n",
    "if number > 1:\n",
    "    i = 1\n",
    "    \n",
    "    while i <= number:\n",
    "        print(i)\n",
    "    \n",
    "        i += 2\n",
    "else:\n",
    "    print(\"Number is smaller than or equal to 1!\")"
   ]
  },
  {
   "cell_type": "code",
   "execution_count": 37,
   "id": "9dac6cab",
   "metadata": {},
   "outputs": [
    {
     "data": {
      "text/plain": [
       "'\\nQuestion 3 - \\nTake two inputs from user for start and end integer values.\\nPrint every third number starting at start till end.\\n'"
      ]
     },
     "execution_count": 37,
     "metadata": {},
     "output_type": "execute_result"
    }
   ],
   "source": [
    "'''\n",
    "Question 3 - \n",
    "Take two inputs from user for start and end integer values.\n",
    "Print every third number starting at start till end.\n",
    "'''"
   ]
  },
  {
   "cell_type": "code",
   "execution_count": 40,
   "id": "07f50beb",
   "metadata": {},
   "outputs": [
    {
     "name": "stdout",
     "output_type": "stream",
     "text": [
      "3\n",
      "20\n",
      "3 6 9 12 15 18 "
     ]
    }
   ],
   "source": [
    "start = int(input())\n",
    "end = int(input())\n",
    "\n",
    "while start <= end:\n",
    "    print(start, end = \" \")\n",
    "    start += 3"
   ]
  },
  {
   "cell_type": "code",
   "execution_count": 42,
   "id": "eed99bdb",
   "metadata": {},
   "outputs": [
    {
     "data": {
      "text/plain": [
       "'\\nQuestion 4 - \\nTake an input from user for start and end values.\\nPrint all even numbers between them. (start and end included)\\n\\nINPUT - \\n3\\n7\\n\\nOUTPUT - 4 6\\n'"
      ]
     },
     "execution_count": 42,
     "metadata": {},
     "output_type": "execute_result"
    }
   ],
   "source": [
    "'''\n",
    "Question 4 - \n",
    "Take an input from user for start and end values.\n",
    "Print all even numbers between them. (start and end included)\n",
    "\n",
    "INPUT - \n",
    "3\n",
    "7\n",
    "\n",
    "OUTPUT - 4 6\n",
    "'''"
   ]
  },
  {
   "cell_type": "code",
   "execution_count": 43,
   "id": "ff8125d2",
   "metadata": {},
   "outputs": [
    {
     "name": "stdout",
     "output_type": "stream",
     "text": [
      "3\n",
      "9\n",
      "4\n",
      "6\n",
      "8\n"
     ]
    }
   ],
   "source": [
    "start = int(input())\n",
    "end = int(input())\n",
    "\n",
    "while start <= end:\n",
    "    if start % 2 == 0:\n",
    "        print(start)\n",
    "    \n",
    "    start += 1"
   ]
  },
  {
   "cell_type": "code",
   "execution_count": null,
   "id": "55526691",
   "metadata": {},
   "outputs": [],
   "source": [
    "# INCORRECT\n",
    "start = int(input())\n",
    "end = int(input())\n",
    "\n",
    "while start <= end:\n",
    "    if start % 2 == 0:\n",
    "        print(start)\n",
    "    \n",
    "    start += 2"
   ]
  },
  {
   "cell_type": "code",
   "execution_count": 47,
   "id": "a9301719",
   "metadata": {},
   "outputs": [],
   "source": [
    "# INCORRECT\n",
    "# start = int(input())\n",
    "# end = int(input())\n",
    "\n",
    "# while start <= end:\n",
    "#     if start % 2 == 0:\n",
    "#         print(start)\n",
    "#         start += 2"
   ]
  },
  {
   "cell_type": "code",
   "execution_count": 48,
   "id": "05d7fb34",
   "metadata": {},
   "outputs": [
    {
     "name": "stdout",
     "output_type": "stream",
     "text": [
      "5\n",
      "20\n",
      "6\n",
      "8\n",
      "10\n",
      "12\n",
      "14\n",
      "16\n",
      "18\n",
      "20\n",
      "This loop was run 16 times!\n"
     ]
    }
   ],
   "source": [
    "start = int(input())\n",
    "end = int(input())\n",
    "\n",
    "loop_count = 0\n",
    "\n",
    "while start <= end:\n",
    "    loop_count += 1\n",
    "    \n",
    "    if start % 2 == 0:\n",
    "        print(start)\n",
    "    \n",
    "    start += 1\n",
    "    \n",
    "print(\"This loop was run\", loop_count, \"times!\")"
   ]
  },
  {
   "cell_type": "code",
   "execution_count": 49,
   "id": "108ba01f",
   "metadata": {},
   "outputs": [
    {
     "name": "stdout",
     "output_type": "stream",
     "text": [
      "5\n",
      "20\n",
      "6\n",
      "8\n",
      "10\n",
      "12\n",
      "14\n",
      "16\n",
      "18\n",
      "20\n",
      "This loop was run 8 times!\n"
     ]
    }
   ],
   "source": [
    "start = int(input())\n",
    "end = int(input())\n",
    "\n",
    "if start % 2 == 0:\n",
    "    i = start\n",
    "else:\n",
    "    i = start + 1\n",
    "\n",
    "loop_count = 0\n",
    "\n",
    "while i <= end:\n",
    "    loop_count += 1\n",
    "    \n",
    "    print(i)\n",
    "    \n",
    "    i += 2\n",
    "    \n",
    "print(\"This loop was run\", loop_count, \"times!\")"
   ]
  },
  {
   "cell_type": "code",
   "execution_count": 51,
   "id": "bd0a1099",
   "metadata": {},
   "outputs": [
    {
     "data": {
      "text/plain": [
       "'\\nQuestion 5 - \\nYou are a bowler and you have to bowl 1 over. (6 balls)\\n\"Bowling ball number - ball_number\"\\n'"
      ]
     },
     "execution_count": 51,
     "metadata": {},
     "output_type": "execute_result"
    }
   ],
   "source": [
    "'''\n",
    "Question 5 - \n",
    "You are a bowler and you have to bowl 1 over. (6 balls)\n",
    "\"Bowling ball number - ball_number\"\n",
    "'''"
   ]
  },
  {
   "cell_type": "code",
   "execution_count": 52,
   "id": "d8690b91",
   "metadata": {},
   "outputs": [
    {
     "name": "stdout",
     "output_type": "stream",
     "text": [
      "Bowling ball number - 1\n",
      "Bowling ball number - 2\n",
      "Bowling ball number - 3\n",
      "Bowling ball number - 4\n",
      "Bowling ball number - 5\n",
      "Bowling ball number - 6\n"
     ]
    }
   ],
   "source": [
    "ball_number = 1\n",
    "\n",
    "while ball_number <= 6:\n",
    "    print(\"Bowling ball number -\", ball_number)\n",
    "    ball_number += 1"
   ]
  },
  {
   "cell_type": "code",
   "execution_count": 53,
   "id": "af6fcd23",
   "metadata": {},
   "outputs": [
    {
     "name": "stdout",
     "output_type": "stream",
     "text": [
      "Bowling ball number - 1\n",
      "Bowling ball number - 2\n",
      "Bowling ball number - 3\n",
      "Bowling ball number - 4\n",
      "Bowling ball number - 5\n",
      "Bowling ball number - 6\n"
     ]
    }
   ],
   "source": [
    "ball_number = 1\n",
    "\n",
    "while ball_number < 7:\n",
    "    print(\"Bowling ball number -\", ball_number)\n",
    "    ball_number += 1"
   ]
  },
  {
   "cell_type": "code",
   "execution_count": 54,
   "id": "b94a3e6d",
   "metadata": {},
   "outputs": [
    {
     "data": {
      "text/plain": [
       "'\\nQuestion 6 -\\nTake a number input from user.\\nPrint its multiplication table till 10th multiple.\\n\\nINPUT - 7\\nOUTPUT - 7 14 21 28 35 42 49 56 63 70\\n'"
      ]
     },
     "execution_count": 54,
     "metadata": {},
     "output_type": "execute_result"
    }
   ],
   "source": [
    "'''\n",
    "Question 6 -\n",
    "Take a number input from user.\n",
    "Print its multiplication table till 10th multiple.\n",
    "\n",
    "INPUT - 7\n",
    "OUTPUT - 7 14 21 28 35 42 49 56 63 70\n",
    "'''"
   ]
  },
  {
   "cell_type": "code",
   "execution_count": 55,
   "id": "4c24ae3e",
   "metadata": {},
   "outputs": [
    {
     "name": "stdout",
     "output_type": "stream",
     "text": [
      "8\n",
      "8 16 24 32 40 48 56 64 72 80 "
     ]
    }
   ],
   "source": [
    "number = int(input())\n",
    "\n",
    "i = 1\n",
    "\n",
    "while i <= 10:\n",
    "    print(number * i, end = \" \")\n",
    "    \n",
    "    i += 1"
   ]
  },
  {
   "cell_type": "code",
   "execution_count": 60,
   "id": "2bc39d52",
   "metadata": {},
   "outputs": [
    {
     "data": {
      "text/plain": [
       "'\\nQuestion 7 - \\nPassword is 567\\n\\nWrite a loop in python which runs from 0 to 999 and prints the password after finding it.\\nPrint - \"Trying number\" for every number\\nPrint - \"Password found - number\" when password is found\\n'"
      ]
     },
     "execution_count": 60,
     "metadata": {},
     "output_type": "execute_result"
    }
   ],
   "source": [
    "'''\n",
    "Question 7 - \n",
    "Password is 567\n",
    "\n",
    "Write a loop in python which runs from 0 to 999 and prints the password after finding it.\n",
    "Print - \"Trying number\" for every number\n",
    "Print - \"Password found - number\" when password is found\n",
    "'''"
   ]
  },
  {
   "cell_type": "code",
   "execution_count": 64,
   "id": "162fc660",
   "metadata": {},
   "outputs": [],
   "source": [
    "password = 8"
   ]
  },
  {
   "cell_type": "code",
   "execution_count": 65,
   "id": "1a7963e6",
   "metadata": {},
   "outputs": [
    {
     "name": "stdout",
     "output_type": "stream",
     "text": [
      "Trying 0\n",
      "Trying 1\n",
      "Trying 2\n",
      "Trying 3\n",
      "Trying 4\n",
      "Trying 5\n",
      "Trying 6\n",
      "Trying 7\n",
      "Password Found - 8\n"
     ]
    }
   ],
   "source": [
    "i = 0\n",
    "\n",
    "while i <= 999:\n",
    "    if i == password:\n",
    "        print(\"Password Found -\", i)\n",
    "        break\n",
    "    else:\n",
    "        print(\"Trying\", i)\n",
    "    \n",
    "    i += 1"
   ]
  },
  {
   "cell_type": "code",
   "execution_count": 66,
   "id": "1055b052",
   "metadata": {},
   "outputs": [
    {
     "name": "stdout",
     "output_type": "stream",
     "text": [
      "0\n",
      "1\n",
      "2\n",
      "3\n",
      "4\n",
      "5\n",
      "6\n",
      "7\n",
      "8\n"
     ]
    }
   ],
   "source": [
    "number = 0\n",
    "\n",
    "while True:\n",
    "    print(number)\n",
    "    \n",
    "    if number == 8:\n",
    "        break\n",
    "        \n",
    "    number += 1"
   ]
  },
  {
   "cell_type": "code",
   "execution_count": 67,
   "id": "c10365d1",
   "metadata": {},
   "outputs": [
    {
     "data": {
      "text/plain": [
       "'\\nQuestion 8 - \\n1. Take an integer input from user. This is the number of test cases. (count)\\n2. Take int for each count from the user.\\n3. Print multiplication table of that integer.\\n\\n\\nINPUT - 3\\n\\nOUTPUT - \\nPlease input number 1 - 2\\nMultiplication table - 2 4 6 8 10 12 14 16 18 20\\n\\nPlese input number 2 - 1\\nMultiplication table - 1 2 3 4 5 6 7 8 9 10\\n\\nPlease input number 3 - 5\\nMultiplication table - 5 10 15 20 25 30 35 40 45 50\\n'"
      ]
     },
     "execution_count": 67,
     "metadata": {},
     "output_type": "execute_result"
    }
   ],
   "source": [
    "'''\n",
    "Question 8 - \n",
    "1. Take an integer input from user. This is the number of test cases. (count)\n",
    "2. Take int for each count from the user.\n",
    "3. Print multiplication table of that integer.\n",
    "\n",
    "\n",
    "INPUT - 3\n",
    "\n",
    "OUTPUT - \n",
    "Please input number 1 - 2\n",
    "Multiplication table - 2 4 6 8 10 12 14 16 18 20\n",
    "\n",
    "Plese input number 2 - 1\n",
    "Multiplication table - 1 2 3 4 5 6 7 8 9 10\n",
    "\n",
    "Please input number 3 - 5\n",
    "Multiplication table - 5 10 15 20 25 30 35 40 45 50\n",
    "'''"
   ]
  },
  {
   "cell_type": "code",
   "execution_count": 70,
   "id": "11b3ec30",
   "metadata": {},
   "outputs": [
    {
     "name": "stdout",
     "output_type": "stream",
     "text": [
      "Enter number of test cases - 1\n",
      "Please enter a number - 5\n",
      "Multiplication Table - 5 10 15 20 25 30 35 40 45 50 \n"
     ]
    }
   ],
   "source": [
    "test_cases = int(input(\"Enter number of test cases - \"))\n",
    "\n",
    "t = 1\n",
    "\n",
    "while t <= test_cases:\n",
    "    number = int(input(\"Please enter a number - \"))\n",
    "\n",
    "    i = 1\n",
    "    \n",
    "    print(\"Multiplication Table - \", end = \"\")\n",
    "    while i <= 10:\n",
    "        print(number * i, end = \" \")\n",
    "\n",
    "        i += 1\n",
    "        \n",
    "    print()\n",
    "    t += 1"
   ]
  },
  {
   "cell_type": "code",
   "execution_count": null,
   "id": "2ce2bd1a",
   "metadata": {},
   "outputs": [],
   "source": []
  }
 ],
 "metadata": {
  "kernelspec": {
   "display_name": "Python 3 (ipykernel)",
   "language": "python",
   "name": "python3"
  },
  "language_info": {
   "codemirror_mode": {
    "name": "ipython",
    "version": 3
   },
   "file_extension": ".py",
   "mimetype": "text/x-python",
   "name": "python",
   "nbconvert_exporter": "python",
   "pygments_lexer": "ipython3",
   "version": "3.9.5"
  }
 },
 "nbformat": 4,
 "nbformat_minor": 5
}
