{
 "cells": [
  {
   "cell_type": "code",
   "execution_count": 1,
   "id": "78c99d62",
   "metadata": {},
   "outputs": [],
   "source": [
    "runs = [62, 85, 71, 10, 12, 101, 122, 99, 81, 55]"
   ]
  },
  {
   "cell_type": "code",
   "execution_count": 2,
   "id": "7cc38b46",
   "metadata": {},
   "outputs": [
    {
     "data": {
      "text/plain": [
       "[62, 85, 71, 10, 12, 101, 122, 99, 81, 55]"
      ]
     },
     "execution_count": 2,
     "metadata": {},
     "output_type": "execute_result"
    }
   ],
   "source": [
    "runs"
   ]
  },
  {
   "cell_type": "code",
   "execution_count": 3,
   "id": "ef6ac3e8",
   "metadata": {},
   "outputs": [
    {
     "data": {
      "text/plain": [
       "'\\nQuestion 1 - \\nGiven a list of all runs, oprint runs made in odd numbered matches.\\n'"
      ]
     },
     "execution_count": 3,
     "metadata": {},
     "output_type": "execute_result"
    }
   ],
   "source": [
    "'''\n",
    "Question 1 - \n",
    "Given a list of all runs, oprint runs made in odd numbered matches.\n",
    "'''"
   ]
  },
  {
   "cell_type": "code",
   "execution_count": 4,
   "id": "cd048f06",
   "metadata": {},
   "outputs": [
    {
     "name": "stdout",
     "output_type": "stream",
     "text": [
      "62 71 12 122 81 "
     ]
    }
   ],
   "source": [
    "for i in range(len(runs)):\n",
    "    if i % 2 == 0:\n",
    "        print(runs[i], end = \" \")"
   ]
  },
  {
   "cell_type": "code",
   "execution_count": 7,
   "id": "d0c69d13",
   "metadata": {},
   "outputs": [
    {
     "name": "stdout",
     "output_type": "stream",
     "text": [
      "62 71 12 122 81 "
     ]
    }
   ],
   "source": [
    "for i in range(0, len(runs), 2):\n",
    "    print(runs[i], end = \" \")"
   ]
  },
  {
   "cell_type": "code",
   "execution_count": 10,
   "id": "c10c6997",
   "metadata": {},
   "outputs": [
    {
     "name": "stdout",
     "output_type": "stream",
     "text": [
      "62,71,12,122,81"
     ]
    }
   ],
   "source": [
    "for i in range(0, len(runs), 2):\n",
    "    if i == len(runs) - 1 or i == len(runs) - 2:\n",
    "        print(runs[i], end = \"\")\n",
    "    else:\n",
    "        print(runs[i], end = \",\")"
   ]
  },
  {
   "cell_type": "code",
   "execution_count": 11,
   "id": "b42e08d6",
   "metadata": {},
   "outputs": [
    {
     "name": "stdout",
     "output_type": "stream",
     "text": [
      "45,56,71,85,89\n"
     ]
    }
   ],
   "source": [
    "print(45, 56, 71, 85, 89, sep = \",\")"
   ]
  },
  {
   "cell_type": "code",
   "execution_count": 18,
   "id": "cf707486",
   "metadata": {},
   "outputs": [],
   "source": [
    "result = []\n",
    "for i in range(0, len(runs), 2):\n",
    "    result.append(str(runs[i]))"
   ]
  },
  {
   "cell_type": "code",
   "execution_count": 19,
   "id": "1bf69b51",
   "metadata": {},
   "outputs": [
    {
     "data": {
      "text/plain": [
       "['62', '71', '12', '122', '81']"
      ]
     },
     "execution_count": 19,
     "metadata": {},
     "output_type": "execute_result"
    }
   ],
   "source": [
    "result"
   ]
  },
  {
   "cell_type": "code",
   "execution_count": 20,
   "id": "17b788f0",
   "metadata": {},
   "outputs": [
    {
     "data": {
      "text/plain": [
       "'62,71,12,122,81'"
      ]
     },
     "execution_count": 20,
     "metadata": {},
     "output_type": "execute_result"
    }
   ],
   "source": [
    "\",\".join(result)"
   ]
  },
  {
   "cell_type": "code",
   "execution_count": 21,
   "id": "1c937862",
   "metadata": {},
   "outputs": [
    {
     "name": "stdout",
     "output_type": "stream",
     "text": [
      "62,71,12,122,81\n"
     ]
    }
   ],
   "source": [
    "print(\",\".join(result))"
   ]
  },
  {
   "cell_type": "code",
   "execution_count": 23,
   "id": "9312504c",
   "metadata": {},
   "outputs": [
    {
     "data": {
      "text/plain": [
       "'\\nQuestion 2 - \\nGiven a list of all runs, make a new list of runs made in odd numbered matches.\\n'"
      ]
     },
     "execution_count": 23,
     "metadata": {},
     "output_type": "execute_result"
    }
   ],
   "source": [
    "'''\n",
    "Question 2 - \n",
    "Given a list of all runs, make a new list of runs made in odd numbered matches.\n",
    "'''"
   ]
  },
  {
   "cell_type": "code",
   "execution_count": 26,
   "id": "aa548099",
   "metadata": {},
   "outputs": [],
   "source": [
    "result = []\n",
    "for i in range(0, len(runs), 2):\n",
    "    result.append(runs[i])"
   ]
  },
  {
   "cell_type": "code",
   "execution_count": 27,
   "id": "4d38c30b",
   "metadata": {},
   "outputs": [
    {
     "data": {
      "text/plain": [
       "[62, 71, 12, 122, 81]"
      ]
     },
     "execution_count": 27,
     "metadata": {},
     "output_type": "execute_result"
    }
   ],
   "source": [
    "result"
   ]
  },
  {
   "cell_type": "code",
   "execution_count": 28,
   "id": "bd8ffdd7",
   "metadata": {},
   "outputs": [
    {
     "data": {
      "text/plain": [
       "'\\nQuestion 3 - \\nCreate a list of runs made in the last 5 matches.\\n'"
      ]
     },
     "execution_count": 28,
     "metadata": {},
     "output_type": "execute_result"
    }
   ],
   "source": [
    "'''\n",
    "Question 3 - \n",
    "Create a list of runs made in the last 5 matches.\n",
    "'''"
   ]
  },
  {
   "cell_type": "code",
   "execution_count": 29,
   "id": "74719177",
   "metadata": {},
   "outputs": [
    {
     "name": "stdout",
     "output_type": "stream",
     "text": [
      "101\n",
      "122\n",
      "99\n",
      "81\n",
      "55\n"
     ]
    }
   ],
   "source": [
    "for i in range(len(runs) - 5, len(runs)):\n",
    "    print(runs[i])"
   ]
  },
  {
   "cell_type": "code",
   "execution_count": 33,
   "id": "d2c195fc",
   "metadata": {
    "scrolled": true
   },
   "outputs": [
    {
     "name": "stdout",
     "output_type": "stream",
     "text": [
      "55\n",
      "81\n",
      "99\n",
      "122\n",
      "101\n"
     ]
    }
   ],
   "source": [
    "for i in range(len(runs)-1, len(runs)-6, -1):\n",
    "    print(runs[i])"
   ]
  },
  {
   "cell_type": "code",
   "execution_count": 34,
   "id": "f5583fe4",
   "metadata": {},
   "outputs": [
    {
     "data": {
      "text/plain": [
       "'\\nQuestion 4 - \\nCreate a list of runs made in the first 3 matches.\\n'"
      ]
     },
     "execution_count": 34,
     "metadata": {},
     "output_type": "execute_result"
    }
   ],
   "source": [
    "'''\n",
    "Question 4 - \n",
    "Create a list of runs made in the first 3 matches.\n",
    "'''"
   ]
  },
  {
   "cell_type": "code",
   "execution_count": 35,
   "id": "bb983637",
   "metadata": {},
   "outputs": [
    {
     "name": "stdout",
     "output_type": "stream",
     "text": [
      "62\n",
      "85\n",
      "71\n"
     ]
    }
   ],
   "source": [
    "for i in range(3):\n",
    "    print(runs[i])"
   ]
  },
  {
   "cell_type": "code",
   "execution_count": 36,
   "id": "2dabb7a7",
   "metadata": {},
   "outputs": [
    {
     "name": "stdout",
     "output_type": "stream",
     "text": [
      "55\n",
      "81\n",
      "99\n",
      "122\n",
      "101\n",
      "12\n",
      "10\n",
      "71\n",
      "85\n",
      "62\n"
     ]
    }
   ],
   "source": [
    "for i in range(len(runs)-1, -1, -1):\n",
    "    print(runs[i])"
   ]
  },
  {
   "cell_type": "code",
   "execution_count": 37,
   "id": "cb12305f",
   "metadata": {},
   "outputs": [
    {
     "data": {
      "text/plain": [
       "'\\nQuestion 5 - \\nCreate a list of runs made from the third match to the 7th match. Both included.\\n'"
      ]
     },
     "execution_count": 37,
     "metadata": {},
     "output_type": "execute_result"
    }
   ],
   "source": [
    "'''\n",
    "Question 5 - \n",
    "Create a list of runs made from the third match to the 7th match. Both included.\n",
    "'''"
   ]
  },
  {
   "cell_type": "code",
   "execution_count": 38,
   "id": "d4b5d7a2",
   "metadata": {},
   "outputs": [
    {
     "name": "stdout",
     "output_type": "stream",
     "text": [
      "71\n",
      "10\n",
      "12\n",
      "101\n",
      "122\n"
     ]
    }
   ],
   "source": [
    "for i in range(2,7):\n",
    "    print(runs[i])"
   ]
  },
  {
   "cell_type": "code",
   "execution_count": 39,
   "id": "f77ec719",
   "metadata": {},
   "outputs": [
    {
     "name": "stdout",
     "output_type": "stream",
     "text": [
      "71\n",
      "10\n",
      "12\n",
      "101\n",
      "122\n"
     ]
    }
   ],
   "source": [
    "for i in range(len(runs)):\n",
    "    if i >=2 and i <=6:\n",
    "        print(runs[i])"
   ]
  },
  {
   "cell_type": "code",
   "execution_count": 41,
   "id": "bb94ac36",
   "metadata": {},
   "outputs": [
    {
     "name": "stdout",
     "output_type": "stream",
     "text": [
      "71\n",
      "10\n",
      "12\n",
      "101\n",
      "122\n"
     ]
    }
   ],
   "source": [
    "i = 0\n",
    "\n",
    "while True:\n",
    "    if i == 7:\n",
    "        break\n",
    "    elif i >= 2:\n",
    "        print(runs[i])\n",
    "        \n",
    "    i += 1"
   ]
  },
  {
   "cell_type": "code",
   "execution_count": 42,
   "id": "8d601195",
   "metadata": {},
   "outputs": [
    {
     "data": {
      "text/plain": [
       "[101, 122, 99, 81, 55]"
      ]
     },
     "execution_count": 42,
     "metadata": {},
     "output_type": "execute_result"
    }
   ],
   "source": [
    "runs[len(runs)-5:len(runs)]"
   ]
  },
  {
   "cell_type": "code",
   "execution_count": 43,
   "id": "5976b36f",
   "metadata": {},
   "outputs": [
    {
     "data": {
      "text/plain": [
       "[62, 85, 71]"
      ]
     },
     "execution_count": 43,
     "metadata": {},
     "output_type": "execute_result"
    }
   ],
   "source": [
    "runs[0:3]"
   ]
  },
  {
   "cell_type": "code",
   "execution_count": 44,
   "id": "9d5b65ee",
   "metadata": {},
   "outputs": [
    {
     "data": {
      "text/plain": [
       "[71, 10, 12, 101, 122]"
      ]
     },
     "execution_count": 44,
     "metadata": {},
     "output_type": "execute_result"
    }
   ],
   "source": [
    "runs[2:7]"
   ]
  },
  {
   "cell_type": "code",
   "execution_count": 46,
   "id": "aabb4914",
   "metadata": {},
   "outputs": [
    {
     "data": {
      "text/plain": [
       "[62, 85, 71]"
      ]
     },
     "execution_count": 46,
     "metadata": {},
     "output_type": "execute_result"
    }
   ],
   "source": [
    "runs[:3] # automatically assumes start value to be zero"
   ]
  },
  {
   "cell_type": "code",
   "execution_count": 47,
   "id": "21f8ea04",
   "metadata": {},
   "outputs": [
    {
     "data": {
      "text/plain": [
       "[10, 12, 101, 122, 99, 81, 55]"
      ]
     },
     "execution_count": 47,
     "metadata": {},
     "output_type": "execute_result"
    }
   ],
   "source": [
    "runs[3:] # automatically assumes end value to be len(runs)"
   ]
  },
  {
   "cell_type": "code",
   "execution_count": 48,
   "id": "2708cfff",
   "metadata": {},
   "outputs": [
    {
     "data": {
      "text/plain": [
       "[]"
      ]
     },
     "execution_count": 48,
     "metadata": {},
     "output_type": "execute_result"
    }
   ],
   "source": [
    "runs[200:300]"
   ]
  },
  {
   "cell_type": "code",
   "execution_count": 49,
   "id": "7c144d33",
   "metadata": {},
   "outputs": [
    {
     "data": {
      "text/plain": [
       "[71, 10, 12, 101, 122, 99, 81, 55]"
      ]
     },
     "execution_count": 49,
     "metadata": {},
     "output_type": "execute_result"
    }
   ],
   "source": [
    "runs[2:400]"
   ]
  },
  {
   "cell_type": "code",
   "execution_count": 51,
   "id": "ace02d2e",
   "metadata": {},
   "outputs": [
    {
     "ename": "IndexError",
     "evalue": "list index out of range",
     "output_type": "error",
     "traceback": [
      "\u001b[0;31m---------------------------------------------------------------------------\u001b[0m",
      "\u001b[0;31mIndexError\u001b[0m                                Traceback (most recent call last)",
      "\u001b[0;32m/var/folders/nn/c52y0d3j0gq59dpsswchkt2r0000gn/T/ipykernel_61536/2522517950.py\u001b[0m in \u001b[0;36m<module>\u001b[0;34m\u001b[0m\n\u001b[0;32m----> 1\u001b[0;31m \u001b[0mruns\u001b[0m\u001b[0;34m[\u001b[0m\u001b[0;36m400\u001b[0m\u001b[0;34m]\u001b[0m \u001b[0;31m# list index out of range errors are automatically handled in list slicing\u001b[0m\u001b[0;34m\u001b[0m\u001b[0;34m\u001b[0m\u001b[0m\n\u001b[0m",
      "\u001b[0;31mIndexError\u001b[0m: list index out of range"
     ]
    }
   ],
   "source": [
    "runs[400] # list index out of range errors are automatically handled in list slicing"
   ]
  },
  {
   "cell_type": "code",
   "execution_count": 55,
   "id": "ac0adee0",
   "metadata": {},
   "outputs": [
    {
     "data": {
      "text/plain": [
       "[62, 71, 12, 122, 81]"
      ]
     },
     "execution_count": 55,
     "metadata": {},
     "output_type": "execute_result"
    }
   ],
   "source": [
    "runs[0:len(runs):2]"
   ]
  },
  {
   "cell_type": "code",
   "execution_count": 56,
   "id": "2957b558",
   "metadata": {},
   "outputs": [
    {
     "data": {
      "text/plain": [
       "[62, 71, 12, 122, 81]"
      ]
     },
     "execution_count": 56,
     "metadata": {},
     "output_type": "execute_result"
    }
   ],
   "source": [
    "runs[:len(runs):2]"
   ]
  },
  {
   "cell_type": "code",
   "execution_count": 57,
   "id": "25f80ae3",
   "metadata": {},
   "outputs": [
    {
     "data": {
      "text/plain": [
       "[62, 71, 12, 122, 81]"
      ]
     },
     "execution_count": 57,
     "metadata": {},
     "output_type": "execute_result"
    }
   ],
   "source": [
    "runs[::2]"
   ]
  },
  {
   "cell_type": "code",
   "execution_count": 58,
   "id": "ee6c0ac3",
   "metadata": {},
   "outputs": [
    {
     "data": {
      "text/plain": [
       "[85, 10, 101, 99, 55]"
      ]
     },
     "execution_count": 58,
     "metadata": {},
     "output_type": "execute_result"
    }
   ],
   "source": [
    "runs[1::2]"
   ]
  },
  {
   "cell_type": "code",
   "execution_count": 59,
   "id": "86842bc8",
   "metadata": {},
   "outputs": [
    {
     "data": {
      "text/plain": [
       "[]"
      ]
     },
     "execution_count": 59,
     "metadata": {},
     "output_type": "execute_result"
    }
   ],
   "source": [
    "runs[5:0]"
   ]
  },
  {
   "cell_type": "code",
   "execution_count": 60,
   "id": "aabebeef",
   "metadata": {},
   "outputs": [
    {
     "data": {
      "text/plain": [
       "[62, 85, 71, 10, 12, 101, 122, 99, 81, 55]"
      ]
     },
     "execution_count": 60,
     "metadata": {},
     "output_type": "execute_result"
    }
   ],
   "source": [
    "runs[:]"
   ]
  },
  {
   "cell_type": "code",
   "execution_count": 66,
   "id": "29e6c9c2",
   "metadata": {},
   "outputs": [
    {
     "data": {
      "text/plain": [
       "[101, 12, 10, 71, 85]"
      ]
     },
     "execution_count": 66,
     "metadata": {},
     "output_type": "execute_result"
    }
   ],
   "source": [
    "runs[5:0:-1] # Negative step size"
   ]
  },
  {
   "cell_type": "raw",
   "id": "a94d1afc",
   "metadata": {},
   "source": [
    "runs[:]"
   ]
  },
  {
   "cell_type": "code",
   "execution_count": 64,
   "id": "1b0a175e",
   "metadata": {},
   "outputs": [
    {
     "data": {
      "text/plain": [
       "[62, 85, 71, 10, 12, 101, 122, 99, 81, 55]"
      ]
     },
     "execution_count": 64,
     "metadata": {},
     "output_type": "execute_result"
    }
   ],
   "source": [
    "runs[::]"
   ]
  },
  {
   "cell_type": "code",
   "execution_count": null,
   "id": "1a91d27a",
   "metadata": {},
   "outputs": [],
   "source": []
  }
 ],
 "metadata": {
  "kernelspec": {
   "display_name": "Python 3 (ipykernel)",
   "language": "python",
   "name": "python3"
  },
  "language_info": {
   "codemirror_mode": {
    "name": "ipython",
    "version": 3
   },
   "file_extension": ".py",
   "mimetype": "text/x-python",
   "name": "python",
   "nbconvert_exporter": "python",
   "pygments_lexer": "ipython3",
   "version": "3.9.5"
  }
 },
 "nbformat": 4,
 "nbformat_minor": 5
}
