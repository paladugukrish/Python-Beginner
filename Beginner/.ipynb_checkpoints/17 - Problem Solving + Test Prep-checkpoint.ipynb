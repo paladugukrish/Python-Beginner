{
 "cells": [
  {
   "cell_type": "code",
   "execution_count": 1,
   "id": "b229d807",
   "metadata": {},
   "outputs": [],
   "source": [
    "a = [1,2,3]"
   ]
  },
  {
   "cell_type": "code",
   "execution_count": 2,
   "id": "f9519752",
   "metadata": {},
   "outputs": [],
   "source": [
    "b = a"
   ]
  },
  {
   "cell_type": "code",
   "execution_count": 3,
   "id": "f19bb77a",
   "metadata": {},
   "outputs": [
    {
     "data": {
      "text/plain": [
       "[1, 2, 3]"
      ]
     },
     "execution_count": 3,
     "metadata": {},
     "output_type": "execute_result"
    }
   ],
   "source": [
    "b"
   ]
  },
  {
   "cell_type": "code",
   "execution_count": 4,
   "id": "83ecede6",
   "metadata": {},
   "outputs": [],
   "source": [
    "a[0] = 4"
   ]
  },
  {
   "cell_type": "code",
   "execution_count": 5,
   "id": "da23998a",
   "metadata": {},
   "outputs": [
    {
     "data": {
      "text/plain": [
       "[4, 2, 3]"
      ]
     },
     "execution_count": 5,
     "metadata": {},
     "output_type": "execute_result"
    }
   ],
   "source": [
    "b"
   ]
  },
  {
   "cell_type": "code",
   "execution_count": 6,
   "id": "13db709b",
   "metadata": {},
   "outputs": [],
   "source": [
    "a = [1,2,3]"
   ]
  },
  {
   "cell_type": "code",
   "execution_count": 7,
   "id": "5db67b78",
   "metadata": {},
   "outputs": [],
   "source": [
    "b = a.copy()"
   ]
  },
  {
   "cell_type": "code",
   "execution_count": 9,
   "id": "d8424c2b",
   "metadata": {},
   "outputs": [],
   "source": [
    "a[0] = 4"
   ]
  },
  {
   "cell_type": "code",
   "execution_count": 10,
   "id": "34a0668c",
   "metadata": {},
   "outputs": [
    {
     "data": {
      "text/plain": [
       "[4, 2, 3]"
      ]
     },
     "execution_count": 10,
     "metadata": {},
     "output_type": "execute_result"
    }
   ],
   "source": [
    "a"
   ]
  },
  {
   "cell_type": "code",
   "execution_count": 11,
   "id": "898fc9c4",
   "metadata": {},
   "outputs": [
    {
     "data": {
      "text/plain": [
       "[1, 2, 3]"
      ]
     },
     "execution_count": 11,
     "metadata": {},
     "output_type": "execute_result"
    }
   ],
   "source": [
    "b"
   ]
  },
  {
   "cell_type": "code",
   "execution_count": 12,
   "id": "2219d46b",
   "metadata": {},
   "outputs": [],
   "source": [
    "a = [1,2,3,4,1,1,1,4,5]"
   ]
  },
  {
   "cell_type": "code",
   "execution_count": 13,
   "id": "e45e5244",
   "metadata": {},
   "outputs": [],
   "source": [
    "set_a = set(a)"
   ]
  },
  {
   "cell_type": "code",
   "execution_count": 14,
   "id": "bdf00248",
   "metadata": {},
   "outputs": [
    {
     "data": {
      "text/plain": [
       "{1, 2, 3, 4, 5}"
      ]
     },
     "execution_count": 14,
     "metadata": {},
     "output_type": "execute_result"
    }
   ],
   "source": [
    "set_a"
   ]
  },
  {
   "cell_type": "code",
   "execution_count": 15,
   "id": "34b5e689",
   "metadata": {},
   "outputs": [
    {
     "data": {
      "text/plain": [
       "False"
      ]
     },
     "execution_count": 15,
     "metadata": {},
     "output_type": "execute_result"
    }
   ],
   "source": [
    "len(a) == len(set(a))"
   ]
  },
  {
   "cell_type": "code",
   "execution_count": 18,
   "id": "10bde4eb",
   "metadata": {},
   "outputs": [],
   "source": [
    "def check_duplicates(a):\n",
    "    unique = []\n",
    "    \n",
    "    for i in a:\n",
    "        if i not in unique:\n",
    "            unique.append(i)\n",
    "    \n",
    "    print(unique)\n",
    "    if len(unique) == len(a):\n",
    "        return False\n",
    "    else:\n",
    "        return True"
   ]
  },
  {
   "cell_type": "code",
   "execution_count": 19,
   "id": "f2e45eae",
   "metadata": {},
   "outputs": [
    {
     "name": "stdout",
     "output_type": "stream",
     "text": [
      "[1, 2, 3, 4, 5, 6]\n"
     ]
    },
    {
     "data": {
      "text/plain": [
       "True"
      ]
     },
     "execution_count": 19,
     "metadata": {},
     "output_type": "execute_result"
    }
   ],
   "source": [
    "check_duplicates([1,2,3,4,4,5,6])"
   ]
  },
  {
   "cell_type": "code",
   "execution_count": 20,
   "id": "7d63980c",
   "metadata": {},
   "outputs": [
    {
     "data": {
      "text/plain": [
       "True"
      ]
     },
     "execution_count": 20,
     "metadata": {},
     "output_type": "execute_result"
    }
   ],
   "source": [
    "5 in [1,2,3,4,5]"
   ]
  },
  {
   "cell_type": "code",
   "execution_count": 21,
   "id": "4c8014dd",
   "metadata": {},
   "outputs": [
    {
     "data": {
      "text/plain": [
       "False"
      ]
     },
     "execution_count": 21,
     "metadata": {},
     "output_type": "execute_result"
    }
   ],
   "source": [
    "5 not in [1,2,3,4,5]"
   ]
  },
  {
   "cell_type": "code",
   "execution_count": 37,
   "id": "0f55f247",
   "metadata": {},
   "outputs": [],
   "source": [
    "def second_max(a):\n",
    "    max_element = a[0]\n",
    "    second_max = 0\n",
    "    \n",
    "    for i in a:\n",
    "        if i > max_element:\n",
    "            second_max = max_element\n",
    "            max_element = i\n",
    "            \n",
    "        if i > second_max and i < max_element:\n",
    "            second_max = i\n",
    "            \n",
    "    return second_max"
   ]
  },
  {
   "cell_type": "code",
   "execution_count": 38,
   "id": "16cee67d",
   "metadata": {},
   "outputs": [
    {
     "data": {
      "text/plain": [
       "9"
      ]
     },
     "execution_count": 38,
     "metadata": {},
     "output_type": "execute_result"
    }
   ],
   "source": [
    "second_max([4,5,6,8,9,10])"
   ]
  },
  {
   "cell_type": "code",
   "execution_count": 39,
   "id": "b6f48f64",
   "metadata": {},
   "outputs": [
    {
     "data": {
      "text/plain": [
       "1"
      ]
     },
     "execution_count": 39,
     "metadata": {},
     "output_type": "execute_result"
    }
   ],
   "source": [
    "second_max([2,1,2])"
   ]
  },
  {
   "cell_type": "code",
   "execution_count": 42,
   "id": "a86b1049",
   "metadata": {},
   "outputs": [],
   "source": [
    "# Inverse of an Array"
   ]
  },
  {
   "cell_type": "code",
   "execution_count": 43,
   "id": "ebf8f85f",
   "metadata": {},
   "outputs": [],
   "source": [
    "def inverse_list(a):\n",
    "    n = len(a)\n",
    "    \n",
    "    inverse = [0]*n\n",
    "    \n",
    "    for i in range(n):\n",
    "        inverse[a[i]] = i\n",
    "        \n",
    "    return inverse"
   ]
  },
  {
   "cell_type": "code",
   "execution_count": 44,
   "id": "f51dc4a1",
   "metadata": {},
   "outputs": [
    {
     "ename": "SyntaxError",
     "evalue": "name 'x' is used prior to global declaration (3961584099.py, line 8)",
     "output_type": "error",
     "traceback": [
      "\u001b[0;36m  File \u001b[0;32m\"/var/folders/nn/c52y0d3j0gq59dpsswchkt2r0000gn/T/ipykernel_13056/3961584099.py\"\u001b[0;36m, line \u001b[0;32m8\u001b[0m\n\u001b[0;31m    global x\u001b[0m\n\u001b[0m    ^\u001b[0m\n\u001b[0;31mSyntaxError\u001b[0m\u001b[0;31m:\u001b[0m name 'x' is used prior to global declaration\n"
     ]
    }
   ],
   "source": [
    "x = 10\n",
    "\n",
    "def random():\n",
    "    x = 5\n",
    "    \n",
    "    print(x)\n",
    "    \n",
    "    global x\n",
    "    \n",
    "    print(x)"
   ]
  },
  {
   "cell_type": "code",
   "execution_count": 46,
   "id": "d8365e5a",
   "metadata": {},
   "outputs": [
    {
     "name": "stdout",
     "output_type": "stream",
     "text": [
      "F\n"
     ]
    }
   ],
   "source": [
    "ascii_code = 70\n",
    "character = chr(70)\n",
    "\n",
    "print(character)\n",
    "\n",
    "target_string = \"shdFgsejhfisdhfkhjdsgfjsbdfbdshfjzsgh\""
   ]
  },
  {
   "cell_type": "code",
   "execution_count": 47,
   "id": "67997154",
   "metadata": {},
   "outputs": [
    {
     "name": "stdout",
     "output_type": "stream",
     "text": [
      "3\n"
     ]
    }
   ],
   "source": [
    "for i in range(len(target_string)):\n",
    "    if target_string[i] == character:\n",
    "        print(i)\n",
    "        break"
   ]
  },
  {
   "cell_type": "code",
   "execution_count": 48,
   "id": "4733a892",
   "metadata": {},
   "outputs": [
    {
     "data": {
      "text/plain": [
       "3"
      ]
     },
     "execution_count": 48,
     "metadata": {},
     "output_type": "execute_result"
    }
   ],
   "source": [
    "target_string.find(character)"
   ]
  },
  {
   "cell_type": "code",
   "execution_count": 49,
   "id": "4429c1cd",
   "metadata": {},
   "outputs": [],
   "source": [
    "number = 67.89"
   ]
  },
  {
   "cell_type": "code",
   "execution_count": 51,
   "id": "f83358c8",
   "metadata": {},
   "outputs": [],
   "source": [
    "floor = 67\n",
    "ceil = 68"
   ]
  },
  {
   "cell_type": "code",
   "execution_count": 52,
   "id": "19a20645",
   "metadata": {},
   "outputs": [],
   "source": [
    "number = -67.89"
   ]
  },
  {
   "cell_type": "code",
   "execution_count": 53,
   "id": "a9d92149",
   "metadata": {},
   "outputs": [],
   "source": [
    "floor = -68\n",
    "ceil = -67"
   ]
  },
  {
   "cell_type": "code",
   "execution_count": 55,
   "id": "7f38d925",
   "metadata": {},
   "outputs": [
    {
     "data": {
      "text/plain": [
       "-68.0"
      ]
     },
     "execution_count": 55,
     "metadata": {},
     "output_type": "execute_result"
    }
   ],
   "source": [
    "-67.89 // 1"
   ]
  },
  {
   "cell_type": "code",
   "execution_count": 54,
   "id": "23084591",
   "metadata": {},
   "outputs": [
    {
     "data": {
      "text/plain": [
       "67.0"
      ]
     },
     "execution_count": 54,
     "metadata": {},
     "output_type": "execute_result"
    }
   ],
   "source": [
    "67.89 // 1"
   ]
  },
  {
   "cell_type": "code",
   "execution_count": 61,
   "id": "90f16a1f",
   "metadata": {},
   "outputs": [],
   "source": [
    "def ceil_custom(number):\n",
    "    floor = number // 1\n",
    "    \n",
    "    if number - floor == 0.0:\n",
    "        ceil = floor\n",
    "    else:\n",
    "        ceil = floor + 1\n",
    "    \n",
    "    return ceil"
   ]
  },
  {
   "cell_type": "code",
   "execution_count": 63,
   "id": "1ee0e23e",
   "metadata": {},
   "outputs": [
    {
     "data": {
      "text/plain": [
       "66.0"
      ]
     },
     "execution_count": 63,
     "metadata": {},
     "output_type": "execute_result"
    }
   ],
   "source": [
    "ceil_custom(65.67)"
   ]
  },
  {
   "cell_type": "code",
   "execution_count": null,
   "id": "bb5207a4",
   "metadata": {},
   "outputs": [],
   "source": []
  }
 ],
 "metadata": {
  "kernelspec": {
   "display_name": "Python 3 (ipykernel)",
   "language": "python",
   "name": "python3"
  },
  "language_info": {
   "codemirror_mode": {
    "name": "ipython",
    "version": 3
   },
   "file_extension": ".py",
   "mimetype": "text/x-python",
   "name": "python",
   "nbconvert_exporter": "python",
   "pygments_lexer": "ipython3",
   "version": "3.9.5"
  }
 },
 "nbformat": 4,
 "nbformat_minor": 5
}
