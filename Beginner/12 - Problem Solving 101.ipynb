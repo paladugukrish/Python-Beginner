{
 "cells": [
  {
   "cell_type": "code",
   "execution_count": 2,
   "id": "63034c8e",
   "metadata": {},
   "outputs": [
    {
     "name": "stdout",
     "output_type": "stream",
     "text": [
      "*****\n",
      " *  *\n",
      "  * *\n",
      "   **\n",
      "    *\n"
     ]
    }
   ],
   "source": [
    "n = 5\n",
    "\n",
    "for i in range(n):\n",
    "    for j in range(n):\n",
    "        if i == 0 or j == n - 1 or i == j:\n",
    "            print(\"*\", end = \"\")\n",
    "        else:\n",
    "            print(\" \", end = \"\")\n",
    "            \n",
    "    print()"
   ]
  },
  {
   "cell_type": "code",
   "execution_count": 8,
   "id": "bc5504c2",
   "metadata": {},
   "outputs": [
    {
     "name": "stdout",
     "output_type": "stream",
     "text": [
      "0\t0\t0\t0\t5\t0\t0\t0\t0\t\n",
      "0\t0\t0\t4\t8\t12\t0\t0\t0\t\n",
      "0\t0\t3\t6\t9\t12\t15\t0\t0\t\n",
      "0\t2\t4\t6\t8\t10\t12\t14\t0\t\n",
      "1\t2\t3\t4\t5\t6\t7\t8\t9\t\n"
     ]
    }
   ],
   "source": [
    "n = 5\n",
    "\n",
    "for i in range(5):\n",
    "    print(\"0\\t\"*(n-i-1), end = \"\")\n",
    "    \n",
    "    # Logic for number pyramid\n",
    "    for j in range(1, 2*i + 2):\n",
    "        print((n-i)*j, end = \"\\t\")\n",
    "    \n",
    "    print(\"0\\t\"*(n-i-1), end = \"\\n\")"
   ]
  },
  {
   "cell_type": "code",
   "execution_count": 13,
   "id": "f31ad013",
   "metadata": {},
   "outputs": [],
   "source": [
    "a = 5.6"
   ]
  },
  {
   "cell_type": "code",
   "execution_count": 14,
   "id": "6fc16e8e",
   "metadata": {},
   "outputs": [],
   "source": [
    "floor = a // 1"
   ]
  },
  {
   "cell_type": "code",
   "execution_count": 15,
   "id": "917149a2",
   "metadata": {},
   "outputs": [],
   "source": [
    "ceil = (a // 1) + 1"
   ]
  },
  {
   "cell_type": "code",
   "execution_count": 16,
   "id": "c4c9455d",
   "metadata": {},
   "outputs": [],
   "source": [
    "diff_from_floor = a - floor"
   ]
  },
  {
   "cell_type": "code",
   "execution_count": 17,
   "id": "371933b5",
   "metadata": {},
   "outputs": [],
   "source": [
    "diff_from_ceil = ceil - a"
   ]
  },
  {
   "cell_type": "code",
   "execution_count": 18,
   "id": "37efe9c9",
   "metadata": {},
   "outputs": [
    {
     "data": {
      "text/plain": [
       "0.40000000000000036"
      ]
     },
     "execution_count": 18,
     "metadata": {},
     "output_type": "execute_result"
    }
   ],
   "source": [
    "diff_from_ceil"
   ]
  },
  {
   "cell_type": "code",
   "execution_count": 19,
   "id": "9b6ff602",
   "metadata": {},
   "outputs": [
    {
     "data": {
      "text/plain": [
       "0.5999999999999996"
      ]
     },
     "execution_count": 19,
     "metadata": {},
     "output_type": "execute_result"
    }
   ],
   "source": [
    "diff_from_floor"
   ]
  },
  {
   "cell_type": "code",
   "execution_count": 20,
   "id": "9b0d967a",
   "metadata": {},
   "outputs": [],
   "source": [
    "if diff_from_ceil <= diff_from_floor:\n",
    "    result = ceil\n",
    "else:\n",
    "    result = floor"
   ]
  },
  {
   "cell_type": "code",
   "execution_count": 21,
   "id": "30e610e8",
   "metadata": {},
   "outputs": [
    {
     "data": {
      "text/plain": [
       "4.199999999999999"
      ]
     },
     "execution_count": 21,
     "metadata": {},
     "output_type": "execute_result"
    }
   ],
   "source": [
    "1.2 + 1.4 + 1.6"
   ]
  },
  {
   "cell_type": "code",
   "execution_count": 22,
   "id": "a3fd7a15",
   "metadata": {},
   "outputs": [],
   "source": [
    "a = [10,20,30,40,50]"
   ]
  },
  {
   "cell_type": "code",
   "execution_count": 23,
   "id": "03d3e3a2",
   "metadata": {},
   "outputs": [
    {
     "name": "stdout",
     "output_type": "stream",
     "text": [
      "10\n",
      "20\n",
      "30\n",
      "40\n",
      "50\n"
     ]
    }
   ],
   "source": [
    "for i in a:\n",
    "    print(i)"
   ]
  },
  {
   "cell_type": "code",
   "execution_count": 25,
   "id": "d0d5d15d",
   "metadata": {},
   "outputs": [
    {
     "name": "stdout",
     "output_type": "stream",
     "text": [
      "0\n",
      "1\n",
      "2\n",
      "3\n",
      "4\n"
     ]
    }
   ],
   "source": [
    "for i in range(len(a)):\n",
    "    print(i)"
   ]
  },
  {
   "cell_type": "code",
   "execution_count": 26,
   "id": "c76f6d7a",
   "metadata": {},
   "outputs": [],
   "source": [
    "height = 150\n",
    "weight = 80\n",
    "\n",
    "height = height / 100"
   ]
  },
  {
   "cell_type": "code",
   "execution_count": 27,
   "id": "fcceefaa",
   "metadata": {},
   "outputs": [
    {
     "data": {
      "text/plain": [
       "1.5"
      ]
     },
     "execution_count": 27,
     "metadata": {},
     "output_type": "execute_result"
    }
   ],
   "source": [
    "height"
   ]
  },
  {
   "cell_type": "code",
   "execution_count": 28,
   "id": "1352fbf9",
   "metadata": {},
   "outputs": [
    {
     "data": {
      "text/plain": [
       "80"
      ]
     },
     "execution_count": 28,
     "metadata": {},
     "output_type": "execute_result"
    }
   ],
   "source": [
    "weight"
   ]
  },
  {
   "cell_type": "code",
   "execution_count": 29,
   "id": "46be0099",
   "metadata": {},
   "outputs": [],
   "source": [
    "bmi = weight / height**2"
   ]
  },
  {
   "cell_type": "code",
   "execution_count": 30,
   "id": "13834121",
   "metadata": {},
   "outputs": [
    {
     "data": {
      "text/plain": [
       "35.55555555555556"
      ]
     },
     "execution_count": 30,
     "metadata": {},
     "output_type": "execute_result"
    }
   ],
   "source": [
    "bmi"
   ]
  },
  {
   "cell_type": "code",
   "execution_count": 31,
   "id": "a486b725",
   "metadata": {},
   "outputs": [],
   "source": [
    "a = 49834567898765456789876543456789765434567876543234567876543"
   ]
  },
  {
   "cell_type": "code",
   "execution_count": 32,
   "id": "29122e33",
   "metadata": {},
   "outputs": [
    {
     "data": {
      "text/plain": [
       "49834567898765456789876543456789765434567876543234567876543"
      ]
     },
     "execution_count": 32,
     "metadata": {},
     "output_type": "execute_result"
    }
   ],
   "source": [
    "a"
   ]
  },
  {
   "cell_type": "code",
   "execution_count": 33,
   "id": "beb3931d",
   "metadata": {},
   "outputs": [],
   "source": [
    "n = 67"
   ]
  },
  {
   "cell_type": "code",
   "execution_count": 34,
   "id": "057ee264",
   "metadata": {},
   "outputs": [],
   "source": [
    "import math"
   ]
  },
  {
   "cell_type": "code",
   "execution_count": 36,
   "id": "b125f4f6",
   "metadata": {},
   "outputs": [],
   "source": [
    "result = math.sqrt(67)"
   ]
  },
  {
   "cell_type": "code",
   "execution_count": 37,
   "id": "63e02aef",
   "metadata": {},
   "outputs": [
    {
     "data": {
      "text/plain": [
       "8.18535277187245"
      ]
     },
     "execution_count": 37,
     "metadata": {},
     "output_type": "execute_result"
    }
   ],
   "source": [
    "result"
   ]
  },
  {
   "cell_type": "code",
   "execution_count": 38,
   "id": "3f88bedd",
   "metadata": {},
   "outputs": [
    {
     "data": {
      "text/plain": [
       "0.18535277187245036"
      ]
     },
     "execution_count": 38,
     "metadata": {},
     "output_type": "execute_result"
    }
   ],
   "source": [
    "result - result // 1"
   ]
  },
  {
   "cell_type": "code",
   "execution_count": null,
   "id": "2d7d6503",
   "metadata": {},
   "outputs": [],
   "source": []
  }
 ],
 "metadata": {
  "kernelspec": {
   "display_name": "Python 3 (ipykernel)",
   "language": "python",
   "name": "python3"
  },
  "language_info": {
   "codemirror_mode": {
    "name": "ipython",
    "version": 3
   },
   "file_extension": ".py",
   "mimetype": "text/x-python",
   "name": "python",
   "nbconvert_exporter": "python",
   "pygments_lexer": "ipython3",
   "version": "3.9.5"
  }
 },
 "nbformat": 4,
 "nbformat_minor": 5
}
