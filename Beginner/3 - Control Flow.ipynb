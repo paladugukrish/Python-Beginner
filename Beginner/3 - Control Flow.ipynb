{
 "cells": [
  {
   "cell_type": "code",
   "execution_count": 1,
   "id": "8a640699",
   "metadata": {},
   "outputs": [
    {
     "name": "stdout",
     "output_type": "stream",
     "text": [
      "A B\n"
     ]
    }
   ],
   "source": [
    "print(\"A\", \"B\", sep = \" \")"
   ]
  },
  {
   "cell_type": "code",
   "execution_count": 2,
   "id": "63059dc6",
   "metadata": {},
   "outputs": [
    {
     "name": "stdout",
     "output_type": "stream",
     "text": [
      "A\tB\n"
     ]
    }
   ],
   "source": [
    "print(\"A\", \"B\", sep = \"\\t\")"
   ]
  },
  {
   "cell_type": "code",
   "execution_count": 3,
   "id": "d0f2443c",
   "metadata": {},
   "outputs": [
    {
     "name": "stdout",
     "output_type": "stream",
     "text": [
      "0\n",
      "4\n"
     ]
    }
   ],
   "source": [
    "print(\"0\")\n",
    "\n",
    "if 56 > 60:\n",
    "    print(\"1\")\n",
    "    print(\"2\")\n",
    "    print(\"3\")\n",
    "\n",
    "print(\"4\")"
   ]
  },
  {
   "cell_type": "code",
   "execution_count": 4,
   "id": "1668006b",
   "metadata": {},
   "outputs": [
    {
     "name": "stdout",
     "output_type": "stream",
     "text": [
      "0\n",
      "1\n",
      "2\n",
      "3\n",
      "4\n"
     ]
    }
   ],
   "source": [
    "print(\"0\")\n",
    "\n",
    "if 64 > 60:\n",
    "    print(\"1\")\n",
    "    print(\"2\")\n",
    "    print(\"3\")\n",
    "\n",
    "print(\"4\")"
   ]
  },
  {
   "cell_type": "code",
   "execution_count": 6,
   "id": "b0ba7b67",
   "metadata": {},
   "outputs": [
    {
     "ename": "IndentationError",
     "evalue": "expected an indented block (1197661821.py, line 7)",
     "output_type": "error",
     "traceback": [
      "\u001b[0;36m  File \u001b[0;32m\"/var/folders/nn/c52y0d3j0gq59dpsswchkt2r0000gn/T/ipykernel_22808/1197661821.py\"\u001b[0;36m, line \u001b[0;32m7\u001b[0m\n\u001b[0;31m    else:\u001b[0m\n\u001b[0m    ^\u001b[0m\n\u001b[0;31mIndentationError\u001b[0m\u001b[0;31m:\u001b[0m expected an indented block\n"
     ]
    }
   ],
   "source": [
    "# These lines will always run\n",
    "\n",
    "if True:\n",
    "    # These lines will run if condition is True\n",
    "    # Statement 2\n",
    "    # Statement 3\n",
    "else:\n",
    "    # These lines will run if condition is False\n",
    "    # Statement 2\n",
    "    # Statement 3\n",
    "    \n",
    "# These lines will always run"
   ]
  },
  {
   "cell_type": "code",
   "execution_count": 7,
   "id": "144a43f3",
   "metadata": {},
   "outputs": [
    {
     "data": {
      "text/plain": [
       "'\\nQuestion 1 - \\n1. Take a int as input from the user.\\n2. Calculate int**3\\n3. if result > 50 -> \"Massive Number\" else -> \"Small Number\"\\n4. After this, print \"Code is Complete!\"\\n'"
      ]
     },
     "execution_count": 7,
     "metadata": {},
     "output_type": "execute_result"
    }
   ],
   "source": [
    "'''\n",
    "Question 1 - \n",
    "1. Take a int as input from the user.\n",
    "2. Calculate int**3\n",
    "3. if result > 50 -> \"Massive Number\" else -> \"Small Number\"\n",
    "4. After this, print \"Code is Complete!\"\n",
    "'''"
   ]
  },
  {
   "cell_type": "code",
   "execution_count": 11,
   "id": "c565aa2e",
   "metadata": {},
   "outputs": [
    {
     "name": "stdout",
     "output_type": "stream",
     "text": [
      "4\n",
      "Massive Number\n",
      "Code is Complete!\n"
     ]
    }
   ],
   "source": [
    "n = int(input())\n",
    "\n",
    "result = n ** 3\n",
    "\n",
    "if result > 50:\n",
    "    print(\"Massive Number\")\n",
    "else:\n",
    "    print(\"Small Number\")\n",
    "    \n",
    "print(\"Code is Complete!\")"
   ]
  },
  {
   "cell_type": "code",
   "execution_count": 17,
   "id": "1c762b2f",
   "metadata": {},
   "outputs": [
    {
     "data": {
      "text/plain": [
       "'\\nQuestion 2 - \\n1. Take Password Input as User\\n2. Take another input to verify password\\n3. If both inputs are same -> \"Password matched!\",\\notherwise \"Password mismatch. Check Again.\"\\n'"
      ]
     },
     "execution_count": 17,
     "metadata": {},
     "output_type": "execute_result"
    }
   ],
   "source": [
    "'''\n",
    "Question 2 - \n",
    "1. Take Password Input as User\n",
    "2. Take another input to verify password\n",
    "3. If both inputs are same -> \"Password matched!\",\n",
    "otherwise \"Password mismatch. Check Again.\"\n",
    "'''"
   ]
  },
  {
   "cell_type": "code",
   "execution_count": 14,
   "id": "486db058",
   "metadata": {},
   "outputs": [
    {
     "name": "stdout",
     "output_type": "stream",
     "text": [
      "Enter your password - random\n",
      "Enter your password again - whattherandom\n",
      "Password mismatch. Check Again!\n"
     ]
    }
   ],
   "source": [
    "password_1 = input(\"Enter your password - \")\n",
    "password_2 = input(\"Enter your password again - \")\n",
    "\n",
    "if password_1 == password_2:\n",
    "    print(\"Password matched!\")\n",
    "else:\n",
    "    print(\"Password mismatch. Check Again!\")"
   ]
  },
  {
   "cell_type": "code",
   "execution_count": 18,
   "id": "1892e673",
   "metadata": {},
   "outputs": [
    {
     "data": {
      "text/plain": [
       "'\\nQuestion 3 -\\n1. Take an amount as input from the user\\n2. You only have 200 and 500 Rs Notes in the ATM. For one transaction,\\n    you can only dispatch notes of a single type.\\n3. Given the amount - \\n    - \"Dispatching Cash!\" if it can be dispatched.\\n    - \"Denomination not available!\" if it can not be dispatched.\\n'"
      ]
     },
     "execution_count": 18,
     "metadata": {},
     "output_type": "execute_result"
    }
   ],
   "source": [
    "'''\n",
    "Question 3 -\n",
    "1. Take an amount as input from the user\n",
    "2. You only have 200 and 500 Rs Notes in the ATM. For one transaction,\n",
    "    you can only dispatch notes of a single type.\n",
    "3. Given the amount - \n",
    "    - \"Dispatching Cash!\" if it can be dispatched.\n",
    "    - \"Denomination not available!\" if it can not be dispatched.\n",
    "'''"
   ]
  },
  {
   "cell_type": "code",
   "execution_count": 19,
   "id": "ab4d9b39",
   "metadata": {},
   "outputs": [
    {
     "data": {
      "text/plain": [
       "0"
      ]
     },
     "execution_count": 19,
     "metadata": {},
     "output_type": "execute_result"
    }
   ],
   "source": [
    "1000 % 500"
   ]
  },
  {
   "cell_type": "code",
   "execution_count": 20,
   "id": "c064a90a",
   "metadata": {},
   "outputs": [
    {
     "data": {
      "text/plain": [
       "234"
      ]
     },
     "execution_count": 20,
     "metadata": {},
     "output_type": "execute_result"
    }
   ],
   "source": [
    "1234 % 500"
   ]
  },
  {
   "cell_type": "code",
   "execution_count": 22,
   "id": "631f495f",
   "metadata": {},
   "outputs": [
    {
     "name": "stdout",
     "output_type": "stream",
     "text": [
      "50\n",
      "Can't Dispatch This Amount!\n"
     ]
    }
   ],
   "source": [
    "amount = int(input())\n",
    "\n",
    "if amount % 500 == 0 or amount % 200 == 0:\n",
    "    print(\"Dispatching Amount!\")\n",
    "else:\n",
    "    print(\"Can't Dispatch This Amount!\")"
   ]
  },
  {
   "cell_type": "code",
   "execution_count": 23,
   "id": "9d59fcaa",
   "metadata": {},
   "outputs": [
    {
     "name": "stdout",
     "output_type": "stream",
     "text": [
      "16\n"
     ]
    }
   ],
   "source": [
    "time = int(input())"
   ]
  },
  {
   "cell_type": "code",
   "execution_count": 24,
   "id": "d35bdd8d",
   "metadata": {},
   "outputs": [
    {
     "name": "stdout",
     "output_type": "stream",
     "text": [
      "Good Afternoon\n"
     ]
    }
   ],
   "source": [
    "if time >= 9 and time < 12:\n",
    "    print(\"Good Morning\")\n",
    "else:\n",
    "    if time >= 12 and time < 17:\n",
    "        print(\"Good Afternoon\")\n",
    "    else:\n",
    "        if time >= 17 and time < 24:\n",
    "            print(\"Good Night\")\n",
    "        else:\n",
    "            print(\"SOJAAOO!\")            "
   ]
  },
  {
   "cell_type": "code",
   "execution_count": 25,
   "id": "ef87b4da",
   "metadata": {},
   "outputs": [
    {
     "name": "stdout",
     "output_type": "stream",
     "text": [
      "Good Afternoon\n"
     ]
    }
   ],
   "source": [
    "if time >= 9 and time < 12:\n",
    "    print(\"Good Morning\")\n",
    "elif time >= 12 and time < 17:\n",
    "    print(\"Good Afternoon\")\n",
    "elif time >= 17 and time < 24:\n",
    "    print(\"Good Night\")\n",
    "else:\n",
    "    print(\"SOJAAOO!\")  "
   ]
  },
  {
   "cell_type": "code",
   "execution_count": 27,
   "id": "db5f9968",
   "metadata": {},
   "outputs": [
    {
     "name": "stdout",
     "output_type": "stream",
     "text": [
      "some statement is important! Can't be empty!\n"
     ]
    }
   ],
   "source": [
    "if True:\n",
    "    print(\"some statement is important! Can't be empty!\")"
   ]
  },
  {
   "cell_type": "markdown",
   "id": "8e8ff769",
   "metadata": {},
   "source": [
    "# Practice! Practice! Practice!"
   ]
  },
  {
   "cell_type": "code",
   "execution_count": 28,
   "id": "409280de",
   "metadata": {},
   "outputs": [
    {
     "data": {
      "text/plain": [
       "'\\nQuestion 4 -\\n1. Take an integer as input.\\n2. Print whether that integer is positive or not.\\n'"
      ]
     },
     "execution_count": 28,
     "metadata": {},
     "output_type": "execute_result"
    }
   ],
   "source": [
    "'''\n",
    "Question 4 -\n",
    "1. Take an integer as input.\n",
    "2. Print whether that integer is positive or not.\n",
    "'''"
   ]
  },
  {
   "cell_type": "code",
   "execution_count": 30,
   "id": "75cdabf8",
   "metadata": {},
   "outputs": [
    {
     "name": "stdout",
     "output_type": "stream",
     "text": [
      "-3456789\n",
      "Negative\n"
     ]
    }
   ],
   "source": [
    "number = int(input())\n",
    "\n",
    "if number >= 0:\n",
    "    print(\"Positive\")\n",
    "else:\n",
    "    print(\"Negative\")"
   ]
  },
  {
   "cell_type": "code",
   "execution_count": 31,
   "id": "18f5bc96",
   "metadata": {},
   "outputs": [
    {
     "name": "stdout",
     "output_type": "stream",
     "text": [
      "0\n",
      "ZEROOOOO!!\n"
     ]
    }
   ],
   "source": [
    "number = int(input())\n",
    "\n",
    "if number > 0:\n",
    "    print(\"Positive\")\n",
    "elif number == 0:\n",
    "    print(\"ZEROOOOO!!\")\n",
    "else:\n",
    "    print(\"Negative\")"
   ]
  },
  {
   "cell_type": "code",
   "execution_count": 33,
   "id": "fa19d117",
   "metadata": {},
   "outputs": [
    {
     "data": {
      "text/plain": [
       "'\\nQuestion 5 -\\nTake a non-negative single digit number as input.\\nIf num**5%50+20-6 is > 15\\nthen print(\"BLACK\") else print(\"BLUE\").\\n\\nNote - Reject any inputs which are not single digit or positive\\n'"
      ]
     },
     "execution_count": 33,
     "metadata": {},
     "output_type": "execute_result"
    }
   ],
   "source": [
    "'''\n",
    "Question 5 -\n",
    "Take a non-negative single digit number as input.\n",
    "If num**5%50+20-6 is > 15\n",
    "then print(\"BLACK\") else print(\"BLUE\").\n",
    "\n",
    "Note - Reject any inputs which are not single digit or positive\n",
    "'''"
   ]
  },
  {
   "cell_type": "code",
   "execution_count": 36,
   "id": "72c34017",
   "metadata": {},
   "outputs": [
    {
     "name": "stdout",
     "output_type": "stream",
     "text": [
      "1\n",
      "BLUE\n"
     ]
    }
   ],
   "source": [
    "number = int(input())\n",
    "\n",
    "if number >= 0 and number <= 9:\n",
    "    if number ** 5 % 50 + 20 - 6 > 15:\n",
    "        print(\"BLACK\")\n",
    "    else:\n",
    "        print(\"BLUE\")\n",
    "else:\n",
    "    print(\"Number is not valid!\")"
   ]
  },
  {
   "cell_type": "code",
   "execution_count": 38,
   "id": "71bfe054",
   "metadata": {},
   "outputs": [
    {
     "name": "stdout",
     "output_type": "stream",
     "text": [
      "-5\n",
      "Number is not valid!\n"
     ]
    }
   ],
   "source": [
    "number = int(input())\n",
    "\n",
    "if not(number >= 0 and number <= 9):\n",
    "    print(\"Number is not valid!\")\n",
    "else:\n",
    "    if number ** 5 % 50 + 20 - 6 > 15:\n",
    "        print(\"BLACK\")\n",
    "    else:\n",
    "        print(\"BLUE\")"
   ]
  },
  {
   "cell_type": "code",
   "execution_count": 39,
   "id": "1cb7e816",
   "metadata": {},
   "outputs": [
    {
     "name": "stdout",
     "output_type": "stream",
     "text": [
      "0\n",
      "BLUE\n"
     ]
    }
   ],
   "source": [
    "number = int(input())\n",
    "\n",
    "if number < 0 or number > 9:\n",
    "    print(\"Number is not valid!\")\n",
    "else:\n",
    "    if number ** 5 % 50 + 20 - 6 > 15:\n",
    "        print(\"BLACK\")\n",
    "    else:\n",
    "        print(\"BLUE\")"
   ]
  },
  {
   "cell_type": "code",
   "execution_count": 40,
   "id": "4bbf9da4",
   "metadata": {},
   "outputs": [
    {
     "data": {
      "text/plain": [
       "'\\nQuestion 6 -\\nTake in a string as input and if the entered language is \"Python\",\\nprint(\"Great Choice\") else print(\"Think Again?\")\\n'"
      ]
     },
     "execution_count": 40,
     "metadata": {},
     "output_type": "execute_result"
    }
   ],
   "source": [
    "'''\n",
    "Question 6 -\n",
    "Take in a string as input and if the entered language is \"Python\",\n",
    "print(\"Great Choice\") else print(\"Think Again?\")\n",
    "'''"
   ]
  },
  {
   "cell_type": "code",
   "execution_count": 46,
   "id": "e8dfd42d",
   "metadata": {},
   "outputs": [
    {
     "name": "stdout",
     "output_type": "stream",
     "text": [
      "pythoN\n"
     ]
    }
   ],
   "source": [
    "language = input()"
   ]
  },
  {
   "cell_type": "code",
   "execution_count": 48,
   "id": "001fd549",
   "metadata": {
    "scrolled": true
   },
   "outputs": [
    {
     "data": {
      "text/plain": [
       "'python'"
      ]
     },
     "execution_count": 48,
     "metadata": {},
     "output_type": "execute_result"
    }
   ],
   "source": [
    "language.lower()"
   ]
  },
  {
   "cell_type": "code",
   "execution_count": 50,
   "id": "06e9c6a4",
   "metadata": {},
   "outputs": [
    {
     "data": {
      "text/plain": [
       "'abuaudfuvauavdjbaajdshajvbkzxvndsjab'"
      ]
     },
     "execution_count": 50,
     "metadata": {},
     "output_type": "execute_result"
    }
   ],
   "source": [
    "\"abuaudFUVAUAVDJBaajdsHAJVBkzxvndsjAB\".lower()"
   ]
  },
  {
   "cell_type": "code",
   "execution_count": 49,
   "id": "595abba6",
   "metadata": {},
   "outputs": [
    {
     "name": "stdout",
     "output_type": "stream",
     "text": [
      "Great Choice!\n"
     ]
    }
   ],
   "source": [
    "if language.lower() == \"python\":\n",
    "    print(\"Great Choice!\")\n",
    "else:\n",
    "    print(\"Think Again!\")"
   ]
  },
  {
   "cell_type": "code",
   "execution_count": 51,
   "id": "c9b7a352",
   "metadata": {},
   "outputs": [
    {
     "data": {
      "text/plain": [
       "'\\nQuestion 7 -\\nFeedback System - Take string feedback from a user.\\nNow,\\n    if any the feedback is provided,\\n        print(\"Thank you for providing the feedback\").\\n    If feedback is \"Super\", \"Great\", \"Fantastic\", \"Awesome\",\\n        print(\"Thank you so much!\")\\n'"
      ]
     },
     "execution_count": 51,
     "metadata": {},
     "output_type": "execute_result"
    }
   ],
   "source": [
    "'''\n",
    "Question 7 -\n",
    "Feedback System - Take string feedback from a user.\n",
    "Now,\n",
    "    if any the feedback is provided,\n",
    "        print(\"Thank you for providing the feedback\").\n",
    "    If feedback is \"Super\", \"Great\", \"Fantastic\", \"Awesome\",\n",
    "        print(\"Thank you so much!\")\n",
    "'''"
   ]
  },
  {
   "cell_type": "code",
   "execution_count": 52,
   "id": "c49c4a92",
   "metadata": {},
   "outputs": [
    {
     "name": "stdout",
     "output_type": "stream",
     "text": [
      "\n"
     ]
    }
   ],
   "source": [
    "feedback = input()"
   ]
  },
  {
   "cell_type": "code",
   "execution_count": 53,
   "id": "8b72a15e",
   "metadata": {},
   "outputs": [
    {
     "name": "stdout",
     "output_type": "stream",
     "text": [
      "\n"
     ]
    }
   ],
   "source": [
    "print(feedback)"
   ]
  },
  {
   "cell_type": "code",
   "execution_count": 55,
   "id": "1f843119",
   "metadata": {},
   "outputs": [
    {
     "name": "stdout",
     "output_type": "stream",
     "text": [
      "abc\n",
      "Thank you for providing feedback!\n"
     ]
    }
   ],
   "source": [
    "feedback = input()\n",
    "\n",
    "if feedback:\n",
    "    print(\"Thank you for providing feedback!\")\n",
    "else:\n",
    "    print(\"Please provide feedback the next time!\")"
   ]
  },
  {
   "cell_type": "code",
   "execution_count": 57,
   "id": "1d3ddc06",
   "metadata": {},
   "outputs": [
    {
     "name": "stdout",
     "output_type": "stream",
     "text": [
      "super\n",
      "Thank you for providing feedback!\n",
      "Thank you so much!\n"
     ]
    }
   ],
   "source": [
    "feedback = input()\n",
    "\n",
    "if not feedback:\n",
    "    print(\"Please provide feedback the next time!\")\n",
    "else:\n",
    "    print(\"Thank you for providing feedback!\")\n",
    "    \n",
    "    if feedback.lower()  == \"super\" or feedback.lower() == \"awesome\":\n",
    "        print(\"Thank you so much!\")"
   ]
  },
  {
   "cell_type": "code",
   "execution_count": 2,
   "id": "7d891b8e",
   "metadata": {},
   "outputs": [
    {
     "name": "stdout",
     "output_type": "stream",
     "text": [
      "super\n",
      "Thank you for providing feedback!\n",
      "Thank you so much!\n"
     ]
    }
   ],
   "source": [
    "feedback = input()\n",
    "\n",
    "if feedback == \"\":\n",
    "    print(\"Please provide feedback the next time!\")\n",
    "else:\n",
    "    print(\"Thank you for providing feedback!\")\n",
    "    \n",
    "    if feedback.lower()  == \"super\" or feedback.lower() == \"awesome\":\n",
    "        print(\"Thank you so much!\")"
   ]
  },
  {
   "cell_type": "code",
   "execution_count": 62,
   "id": "48c3cfa7",
   "metadata": {},
   "outputs": [
    {
     "name": "stdout",
     "output_type": "stream",
     "text": [
      "super\n",
      "Thank you so much!\n"
     ]
    }
   ],
   "source": [
    "feedback = input()\n",
    "\n",
    "if feedback == \"\":\n",
    "    print(\"Please provide feedback the next time!\")\n",
    "else:\n",
    "    if feedback.lower()  == \"super\" or feedback.lower() == \"awesome\":\n",
    "        print(\"Thank you so much!\")\n",
    "    else:\n",
    "        print(\"Thank you for providing feedback!\")"
   ]
  },
  {
   "cell_type": "code",
   "execution_count": 2,
   "id": "548591f3",
   "metadata": {},
   "outputs": [
    {
     "name": "stdout",
     "output_type": "stream",
     "text": [
      "Something\n"
     ]
    }
   ],
   "source": [
    "if True:\n",
    "    print(\"Something\")\n",
    "else:\n",
    "    print(\"Something else\")"
   ]
  },
  {
   "cell_type": "code",
   "execution_count": 4,
   "id": "95c03de9",
   "metadata": {},
   "outputs": [
    {
     "data": {
      "text/plain": [
       "'\\nQuestion 8 - \\nFIZZBUZZ - \\n1. Take an integer input n.\\n2. If N is a multiple of 3 -> print FIZZ\\n3. If N is a multiple of 5 -> print BUZZ\\n4. If N is a multiple of both 3 and 5 -> print FIZZBUZZ\\n\\nOtherwise print nothing.\\n'"
      ]
     },
     "execution_count": 4,
     "metadata": {},
     "output_type": "execute_result"
    }
   ],
   "source": [
    "'''\n",
    "Question 8 - \n",
    "FIZZBUZZ - \n",
    "1. Take an integer input n.\n",
    "2. If N is a multiple of 3 -> print FIZZ\n",
    "3. If N is a multiple of 5 -> print BUZZ\n",
    "4. If N is a multiple of both 3 and 5 -> print FIZZBUZZ\n",
    "\n",
    "Otherwise print nothing.\n",
    "'''"
   ]
  },
  {
   "cell_type": "code",
   "execution_count": 8,
   "id": "5a367bce",
   "metadata": {},
   "outputs": [
    {
     "name": "stdout",
     "output_type": "stream",
     "text": [
      "15\n",
      "FIZZ\n"
     ]
    }
   ],
   "source": [
    "n = int(input())\n",
    "\n",
    "if n % 3 == 0:\n",
    "    print(\"FIZZ\")\n",
    "elif n % 5 == 0:\n",
    "    print(\"BUZZ\")\n",
    "elif n % 3 == 0 and n % 5 == 0:\n",
    "    print(\"FIZZBUZZ\")\n",
    "else:\n",
    "    print(\"\")"
   ]
  },
  {
   "cell_type": "code",
   "execution_count": 14,
   "id": "f2d8c68a",
   "metadata": {},
   "outputs": [
    {
     "name": "stdout",
     "output_type": "stream",
     "text": [
      "15\n",
      "FIZZBUZZ\n"
     ]
    }
   ],
   "source": [
    "n = int(input())\n",
    "\n",
    "if n % 3 == 0 and n % 5 == 0:\n",
    "    print(\"FIZZBUZZ\")\n",
    "elif n % 5 == 0:\n",
    "    print(\"BUZZ\")\n",
    "elif n % 3 == 0:\n",
    "    print(\"FIZZ\")\n",
    "else:\n",
    "    print(\"\")"
   ]
  },
  {
   "cell_type": "code",
   "execution_count": null,
   "id": "fa2539df",
   "metadata": {},
   "outputs": [],
   "source": [
    "'''\n",
    "Question 9 -\n",
    "What will be the output of the following?\n",
    "\n",
    "a = 50\n",
    "if a > 40:\n",
    "    print(\"A\")\n",
    "if a > 30:\n",
    "    print(\"B\")\n",
    "if a > 20:\n",
    "    print(\"C\")\n",
    "'''"
   ]
  },
  {
   "cell_type": "code",
   "execution_count": 15,
   "id": "60cc2922",
   "metadata": {},
   "outputs": [
    {
     "name": "stdout",
     "output_type": "stream",
     "text": [
      "A\n",
      "B\n",
      "C\n"
     ]
    }
   ],
   "source": [
    "a = 50\n",
    "if a > 40:\n",
    "    print(\"A\")\n",
    "if a > 30:\n",
    "    print(\"B\")\n",
    "if a > 20:\n",
    "    print(\"C\")"
   ]
  },
  {
   "cell_type": "code",
   "execution_count": 18,
   "id": "1d497193",
   "metadata": {},
   "outputs": [
    {
     "data": {
      "text/plain": [
       "'\\nQuestion 10 - \\nTake in three inputs from a user which are marksin english, maths and science.\\nAssign streams according to the following criteria.\\n- if science > 90 or marks in all are greater than 75 -> Science\\n- if marks in all are greater than 60 and less than 75 -> Commerce\\n- if marks in any are less than 60 -> Humanities\\n'"
      ]
     },
     "execution_count": 18,
     "metadata": {},
     "output_type": "execute_result"
    }
   ],
   "source": [
    "'''\n",
    "Question 10 - \n",
    "Take in three inputs from a user which are marksin english, maths and science.\n",
    "Assign streams according to the following criteria.\n",
    "- if science > 90 or marks in all are greater than 75 -> Science\n",
    "- if marks in all are greater than 60 and less than 75 -> Commerce\n",
    "- if marks in any are less than 60 -> Humanities\n",
    "'''"
   ]
  },
  {
   "cell_type": "code",
   "execution_count": 22,
   "id": "0cfaa12e",
   "metadata": {},
   "outputs": [
    {
     "name": "stdout",
     "output_type": "stream",
     "text": [
      "Marks in Science - 91\n",
      "Marks in Maths - 0\n",
      "Marks in English - 0\n",
      "Science\n"
     ]
    }
   ],
   "source": [
    "science = int(input(\"Marks in Science - \"))\n",
    "maths = int(input(\"Marks in Maths - \"))\n",
    "english = int(input(\"Marks in English - \"))\n",
    "\n",
    "if science > 90 or (science > 75 and maths > 75 and english > 75):\n",
    "    print(\"Science\")\n",
    "elif science > 60 and maths > 60 and english > 60:\n",
    "    print(\"Commerce\")\n",
    "else:\n",
    "    print(\"Humanities\")"
   ]
  },
  {
   "cell_type": "code",
   "execution_count": 1,
   "id": "36d9e03c",
   "metadata": {},
   "outputs": [
    {
     "data": {
      "text/plain": [
       "'\\nBONUS QUESTIONS - \\n1. Build a meter system for an auto. Take into two inputs. \\nKilometers Travelled and Stall Time (in minutes). Rate List -\\n- First 10 kms - Rs 10 per Km\\n- Next 40 kms - Rs 9 per Km\\n- Next 100 kms - Rs 8 per Km\\n- Any leftover km count - Rs. 6 per Km\\n\\n- Rs 5 extra for every minute of Stall Time.\\n\\n------------------------------------------\\n\\n2. Generate electricity bill using the following rate card.\\nTake units consumed as input -\\n- If < 100 units -> Free\\n- If >= 100 units and < 200 units -> Rs 2 per unit\\n- If >= 200 units -> Rs 5 per unit\\n\\n'"
      ]
     },
     "execution_count": 1,
     "metadata": {},
     "output_type": "execute_result"
    }
   ],
   "source": [
    "'''\n",
    "BONUS QUESTIONS - \n",
    "1. Build a meter system for an auto. Take into two inputs. \n",
    "Kilometers Travelled and Stall Time (in minutes). Rate List -\n",
    "- First 10 kms - Rs 10 per Km\n",
    "- Next 40 kms - Rs 9 per Km\n",
    "- Next 100 kms - Rs 8 per Km\n",
    "- Any leftover km count - Rs. 6 per Km\n",
    "\n",
    "- Rs 5 extra for every minute of Stall Time.\n",
    "\n",
    "------------------------------------------\n",
    "\n",
    "2. Generate electricity bill using the following rate card.\n",
    "Take units consumed as input -\n",
    "- If < 100 units -> Free\n",
    "- If >= 100 units and < 200 units -> Rs 2 per unit\n",
    "- If >= 200 units -> Rs 5 per unit\n",
    "\n",
    "'''"
   ]
  },
  {
   "cell_type": "code",
   "execution_count": 2,
   "id": "87640b4b",
   "metadata": {},
   "outputs": [
    {
     "data": {
      "text/plain": [
       "True"
      ]
     },
     "execution_count": 2,
     "metadata": {},
     "output_type": "execute_result"
    }
   ],
   "source": [
    "True and False or True and True\n",
    "# False or True and True\n",
    "# False or True\n",
    "# True"
   ]
  },
  {
   "cell_type": "code",
   "execution_count": 3,
   "id": "2752eaf8",
   "metadata": {},
   "outputs": [
    {
     "data": {
      "text/plain": [
       "False"
      ]
     },
     "execution_count": 3,
     "metadata": {},
     "output_type": "execute_result"
    }
   ],
   "source": [
    "True and True and False and True"
   ]
  },
  {
   "cell_type": "code",
   "execution_count": 6,
   "id": "4407f4e2",
   "metadata": {},
   "outputs": [
    {
     "name": "stdout",
     "output_type": "stream",
     "text": [
      "True\n"
     ]
    }
   ],
   "source": [
    "print(1 and True) # True"
   ]
  },
  {
   "cell_type": "code",
   "execution_count": 7,
   "id": "34d5df80",
   "metadata": {},
   "outputs": [
    {
     "data": {
      "text/plain": [
       "0"
      ]
     },
     "execution_count": 7,
     "metadata": {},
     "output_type": "execute_result"
    }
   ],
   "source": [
    "0 and True"
   ]
  },
  {
   "cell_type": "code",
   "execution_count": 8,
   "id": "96886199",
   "metadata": {},
   "outputs": [
    {
     "name": "stdout",
     "output_type": "stream",
     "text": [
      "1\n"
     ]
    }
   ],
   "source": [
    "print(True and 1 or 0 and True)\n",
    "# 1 or 0"
   ]
  },
  {
   "cell_type": "code",
   "execution_count": 9,
   "id": "45a08ed7",
   "metadata": {},
   "outputs": [
    {
     "name": "stdout",
     "output_type": "stream",
     "text": [
      "True\n"
     ]
    }
   ],
   "source": [
    "print(1 and True or 0 and True)\n",
    "# True or 0"
   ]
  },
  {
   "cell_type": "code",
   "execution_count": 10,
   "id": "8e3b780b",
   "metadata": {},
   "outputs": [
    {
     "name": "stdout",
     "output_type": "stream",
     "text": [
      "True\n"
     ]
    }
   ],
   "source": [
    "print(1 and True or 0 and 1)\n",
    "# True or 0"
   ]
  },
  {
   "cell_type": "code",
   "execution_count": 12,
   "id": "b807db92",
   "metadata": {},
   "outputs": [
    {
     "data": {
      "text/plain": [
       "True"
      ]
     },
     "execution_count": 12,
     "metadata": {},
     "output_type": "execute_result"
    }
   ],
   "source": [
    "bool(23567876543)"
   ]
  },
  {
   "cell_type": "code",
   "execution_count": 13,
   "id": "0831eaf5",
   "metadata": {},
   "outputs": [
    {
     "data": {
      "text/plain": [
       "True"
      ]
     },
     "execution_count": 13,
     "metadata": {},
     "output_type": "execute_result"
    }
   ],
   "source": [
    "bool(-34567876543)"
   ]
  },
  {
   "cell_type": "code",
   "execution_count": 14,
   "id": "f1149272",
   "metadata": {},
   "outputs": [
    {
     "data": {
      "text/plain": [
       "True"
      ]
     },
     "execution_count": 14,
     "metadata": {},
     "output_type": "execute_result"
    }
   ],
   "source": [
    "bool(0.234567876)"
   ]
  },
  {
   "cell_type": "code",
   "execution_count": 15,
   "id": "e1d07bf8",
   "metadata": {},
   "outputs": [
    {
     "name": "stdout",
     "output_type": "stream",
     "text": [
      "A\n"
     ]
    }
   ],
   "source": [
    "if 34567:\n",
    "    print(\"A\")"
   ]
  },
  {
   "cell_type": "code",
   "execution_count": 16,
   "id": "008f5012",
   "metadata": {},
   "outputs": [],
   "source": [
    "if 0:\n",
    "    print(\"A\")"
   ]
  },
  {
   "cell_type": "code",
   "execution_count": 17,
   "id": "813f01ee",
   "metadata": {},
   "outputs": [],
   "source": [
    "if \"\":\n",
    "    print(\"A\")"
   ]
  },
  {
   "cell_type": "code",
   "execution_count": 18,
   "id": "16472a71",
   "metadata": {},
   "outputs": [
    {
     "name": "stdout",
     "output_type": "stream",
     "text": [
      "A\n"
     ]
    }
   ],
   "source": [
    "if \"AJhgdfsdfhjksdhfAHdjAKDJ\":\n",
    "    print(\"A\")"
   ]
  },
  {
   "cell_type": "code",
   "execution_count": null,
   "id": "a80a30f6",
   "metadata": {},
   "outputs": [],
   "source": []
  }
 ],
 "metadata": {
  "kernelspec": {
   "display_name": "Python 3 (ipykernel)",
   "language": "python",
   "name": "python3"
  },
  "language_info": {
   "codemirror_mode": {
    "name": "ipython",
    "version": 3
   },
   "file_extension": ".py",
   "mimetype": "text/x-python",
   "name": "python",
   "nbconvert_exporter": "python",
   "pygments_lexer": "ipython3",
   "version": "3.9.5"
  }
 },
 "nbformat": 4,
 "nbformat_minor": 5
}
