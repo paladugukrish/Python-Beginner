{
 "cells": [
  {
   "cell_type": "code",
   "execution_count": 1,
   "id": "7d9eaefd",
   "metadata": {},
   "outputs": [
    {
     "name": "stdout",
     "output_type": "stream",
     "text": [
      "Dust all the rooms!\n",
      "Arrange the living area.\n",
      "Go and get cold drinks and mixtures.\n",
      "Turn on all fancy lights.\n",
      "Take out the fancy silverware.\n",
      "Touch feet when you see them.\n"
     ]
    }
   ],
   "source": [
    "print(\"Dust all the rooms!\")\n",
    "print(\"Arrange the living area.\")\n",
    "print(\"Go and get cold drinks and mixtures.\")\n",
    "print(\"Turn on all fancy lights.\")\n",
    "print(\"Take out the fancy silverware.\")\n",
    "print(\"Touch feet when you see them.\")"
   ]
  },
  {
   "cell_type": "code",
   "execution_count": 2,
   "id": "e1aef535",
   "metadata": {},
   "outputs": [
    {
     "name": "stdout",
     "output_type": "stream",
     "text": [
      "Dust all the rooms!\n",
      "Arrange the living area.\n",
      "Go and get cold drinks and mixtures.\n",
      "Turn on all fancy lights.\n",
      "Take out the fancy silverware.\n",
      "Touch feet when you see them.\n"
     ]
    }
   ],
   "source": [
    "print(\"Dust all the rooms!\")\n",
    "print(\"Arrange the living area.\")\n",
    "print(\"Go and get cold drinks and mixtures.\")\n",
    "print(\"Turn on all fancy lights.\")\n",
    "print(\"Take out the fancy silverware.\")\n",
    "print(\"Touch feet when you see them.\")"
   ]
  },
  {
   "cell_type": "code",
   "execution_count": 3,
   "id": "3b83f67a",
   "metadata": {},
   "outputs": [
    {
     "name": "stdout",
     "output_type": "stream",
     "text": [
      "Dust all the rooms!\n",
      "Arrange the living area.\n",
      "Go and get cold drinks and mixtures.\n",
      "Turn on all fancy lights.\n",
      "Take out the fancy silverware.\n",
      "Touch feet when you see them.\n"
     ]
    }
   ],
   "source": [
    "print(\"Dust all the rooms!\")\n",
    "print(\"Arrange the living area.\")\n",
    "print(\"Go and get cold drinks and mixtures.\")\n",
    "print(\"Turn on all fancy lights.\")\n",
    "print(\"Take out the fancy silverware.\")\n",
    "print(\"Touch feet when you see them.\")"
   ]
  },
  {
   "cell_type": "code",
   "execution_count": 4,
   "id": "3311e98d",
   "metadata": {},
   "outputs": [],
   "source": [
    "# A function is a set of instructions which are modular and reusable\n",
    "\n",
    "def prepare_for_guests():\n",
    "    print(\"Dust all the rooms!\")\n",
    "    print(\"Arrange the living area.\")\n",
    "    print(\"Go and get cold drinks and mixtures.\")\n",
    "    print(\"Turn on all fancy lights.\")\n",
    "    print(\"Take out the fancy silverware.\")\n",
    "    print(\"Touch feet when you see them.\")"
   ]
  },
  {
   "cell_type": "code",
   "execution_count": 5,
   "id": "3fc10cbb",
   "metadata": {},
   "outputs": [
    {
     "name": "stdout",
     "output_type": "stream",
     "text": [
      "Dust all the rooms!\n",
      "Arrange the living area.\n",
      "Go and get cold drinks and mixtures.\n",
      "Turn on all fancy lights.\n",
      "Take out the fancy silverware.\n",
      "Touch feet when you see them.\n"
     ]
    }
   ],
   "source": [
    "prepare_for_guests()"
   ]
  },
  {
   "cell_type": "code",
   "execution_count": 7,
   "id": "d899abc5",
   "metadata": {},
   "outputs": [
    {
     "name": "stdout",
     "output_type": "stream",
     "text": [
      "Dust all the rooms!\n",
      "Arrange the living area.\n",
      "Go and get cold drinks and mixtures.\n",
      "Turn on all fancy lights.\n",
      "Take out the fancy silverware.\n",
      "Touch feet when you see them.\n"
     ]
    }
   ],
   "source": [
    "prepare_for_guests()"
   ]
  },
  {
   "cell_type": "code",
   "execution_count": 8,
   "id": "77377703",
   "metadata": {},
   "outputs": [
    {
     "name": "stdout",
     "output_type": "stream",
     "text": [
      "Dust all the rooms!\n",
      "Arrange the living area.\n",
      "Go and get cold drinks and mixtures.\n",
      "Turn on all fancy lights.\n",
      "Take out the fancy silverware.\n",
      "Touch feet when you see them.\n"
     ]
    }
   ],
   "source": [
    "prepare_for_guests()"
   ]
  },
  {
   "cell_type": "code",
   "execution_count": 9,
   "id": "bd892952",
   "metadata": {},
   "outputs": [
    {
     "data": {
      "text/plain": [
       "'\\nQuestion 1 -\\nWrite a piece of code to print(\"Making Tea\") five times.\\n'"
      ]
     },
     "execution_count": 9,
     "metadata": {},
     "output_type": "execute_result"
    }
   ],
   "source": [
    "'''\n",
    "Question 1 -\n",
    "Write a piece of code to print(\"Making Tea\") five times.\n",
    "'''"
   ]
  },
  {
   "cell_type": "code",
   "execution_count": 11,
   "id": "0f502ac0",
   "metadata": {},
   "outputs": [
    {
     "name": "stdout",
     "output_type": "stream",
     "text": [
      "Making Tea!\n",
      "Making Tea!\n",
      "Making Tea!\n",
      "Making Tea!\n",
      "Making Tea!\n"
     ]
    }
   ],
   "source": [
    "for i in range(5):\n",
    "    print(\"Making Tea!\") # logic to make tea"
   ]
  },
  {
   "cell_type": "code",
   "execution_count": 12,
   "id": "cdf57d89",
   "metadata": {},
   "outputs": [],
   "source": [
    "def make_tea():\n",
    "    print(\"Making Tea!\")"
   ]
  },
  {
   "cell_type": "code",
   "execution_count": 13,
   "id": "c1960e4e",
   "metadata": {},
   "outputs": [
    {
     "name": "stdout",
     "output_type": "stream",
     "text": [
      "Making Tea!\n",
      "Making Tea!\n",
      "Making Tea!\n",
      "Making Tea!\n",
      "Making Tea!\n"
     ]
    }
   ],
   "source": [
    "for i in range(5):\n",
    "    make_tea()"
   ]
  },
  {
   "cell_type": "code",
   "execution_count": 14,
   "id": "3214eab1",
   "metadata": {},
   "outputs": [
    {
     "name": "stdout",
     "output_type": "stream",
     "text": [
      "Making Tea!\n"
     ]
    }
   ],
   "source": [
    "make_tea()"
   ]
  },
  {
   "cell_type": "code",
   "execution_count": 15,
   "id": "94aef671",
   "metadata": {},
   "outputs": [
    {
     "name": "stdout",
     "output_type": "stream",
     "text": [
      "Making Tea!\n"
     ]
    }
   ],
   "source": [
    "if True:\n",
    "    make_tea()\n",
    "else:\n",
    "    print(\"I can't make more tea! :(\")"
   ]
  },
  {
   "cell_type": "code",
   "execution_count": 16,
   "id": "07dda629",
   "metadata": {},
   "outputs": [],
   "source": [
    "def sheldon_knock():\n",
    "    print(\"knock knock knock penny\")\n",
    "    print(\"knock knock knock penny\")\n",
    "    print(\"knock knock knock penny\")"
   ]
  },
  {
   "cell_type": "code",
   "execution_count": 17,
   "id": "b6a0d846",
   "metadata": {},
   "outputs": [
    {
     "name": "stdout",
     "output_type": "stream",
     "text": [
      "knock knock knock penny\n",
      "knock knock knock penny\n",
      "knock knock knock penny\n"
     ]
    }
   ],
   "source": [
    "sheldon_knock()"
   ]
  },
  {
   "cell_type": "code",
   "execution_count": 18,
   "id": "89652122",
   "metadata": {},
   "outputs": [
    {
     "name": "stdout",
     "output_type": "stream",
     "text": [
      "knock knock knock penny\n",
      "knock knock knock penny\n",
      "knock knock knock penny\n"
     ]
    }
   ],
   "source": [
    "sheldon_knock()"
   ]
  },
  {
   "cell_type": "code",
   "execution_count": 19,
   "id": "da526c61",
   "metadata": {},
   "outputs": [],
   "source": [
    "def sheldon_knock(name): # name is an argument accepted by the function\n",
    "    print(\"knock knock knock\", name)\n",
    "    print(\"knock knock knock\", name)\n",
    "    print(\"knock knock knock\", name)"
   ]
  },
  {
   "cell_type": "code",
   "execution_count": 20,
   "id": "7ecc699c",
   "metadata": {},
   "outputs": [
    {
     "name": "stdout",
     "output_type": "stream",
     "text": [
      "knock knock knock Kartik\n",
      "knock knock knock Kartik\n",
      "knock knock knock Kartik\n"
     ]
    }
   ],
   "source": [
    "sheldon_knock(\"Kartik\")"
   ]
  },
  {
   "cell_type": "code",
   "execution_count": 21,
   "id": "01100be8",
   "metadata": {},
   "outputs": [
    {
     "name": "stdout",
     "output_type": "stream",
     "text": [
      "knock knock knock Vishal\n",
      "knock knock knock Vishal\n",
      "knock knock knock Vishal\n"
     ]
    }
   ],
   "source": [
    "sheldon_knock(\"Vishal\")"
   ]
  },
  {
   "cell_type": "code",
   "execution_count": 22,
   "id": "059f019a",
   "metadata": {},
   "outputs": [
    {
     "name": "stdout",
     "output_type": "stream",
     "text": [
      "knock knock knock Sheema\n",
      "knock knock knock Sheema\n",
      "knock knock knock Sheema\n"
     ]
    }
   ],
   "source": [
    "sheldon_knock(\"Sheema\")"
   ]
  },
  {
   "cell_type": "code",
   "execution_count": 23,
   "id": "4b9f2eef",
   "metadata": {},
   "outputs": [
    {
     "name": "stdout",
     "output_type": "stream",
     "text": [
      "knock knock knock Yoginder\n",
      "knock knock knock Yoginder\n",
      "knock knock knock Yoginder\n"
     ]
    }
   ],
   "source": [
    "sheldon_knock(\"Yoginder\")"
   ]
  },
  {
   "cell_type": "code",
   "execution_count": 25,
   "id": "62481542",
   "metadata": {},
   "outputs": [
    {
     "name": "stdout",
     "output_type": "stream",
     "text": [
      "neeraj\n",
      "knock knock knock neeraj\n",
      "knock knock knock neeraj\n",
      "knock knock knock neeraj\n"
     ]
    }
   ],
   "source": [
    "input_name = input()\n",
    "\n",
    "sheldon_knock(input_name)"
   ]
  },
  {
   "cell_type": "code",
   "execution_count": 27,
   "id": "4ef4653d",
   "metadata": {},
   "outputs": [
    {
     "data": {
      "text/plain": [
       "'\\nQuestion 2 - \\nTake a name as input.\\nWrite a greeter function which prints, \"HELLO NAME!\"\\nafter accepting a name as argument.\\n'"
      ]
     },
     "execution_count": 27,
     "metadata": {},
     "output_type": "execute_result"
    }
   ],
   "source": [
    "'''\n",
    "Question 2 - \n",
    "Take a name as input.\n",
    "Write a greeter function which prints, \"HELLO NAME!\"\n",
    "after accepting a name as argument.\n",
    "'''"
   ]
  },
  {
   "cell_type": "code",
   "execution_count": 28,
   "id": "7d00c341",
   "metadata": {},
   "outputs": [
    {
     "name": "stdout",
     "output_type": "stream",
     "text": [
      "Sudhendu\n"
     ]
    }
   ],
   "source": [
    "input_name = input()\n",
    "\n",
    "def greeter(name):\n",
    "    print(\"Hello\", name, sep = \"-\")"
   ]
  },
  {
   "cell_type": "code",
   "execution_count": 29,
   "id": "631fc0aa",
   "metadata": {},
   "outputs": [
    {
     "name": "stdout",
     "output_type": "stream",
     "text": [
      "Hello-Sudhendu\n"
     ]
    }
   ],
   "source": [
    "greeter(input_name)"
   ]
  },
  {
   "cell_type": "code",
   "execution_count": 30,
   "id": "40aa87a1",
   "metadata": {},
   "outputs": [],
   "source": [
    "def greeter():\n",
    "    name = input()\n",
    "    \n",
    "    print(\"Hello\", name)"
   ]
  },
  {
   "cell_type": "code",
   "execution_count": 31,
   "id": "439e80c5",
   "metadata": {},
   "outputs": [
    {
     "name": "stdout",
     "output_type": "stream",
     "text": [
      "Bipin\n",
      "Hello Bipin\n"
     ]
    }
   ],
   "source": [
    "greeter()"
   ]
  },
  {
   "cell_type": "code",
   "execution_count": 32,
   "id": "f095619f",
   "metadata": {},
   "outputs": [
    {
     "data": {
      "text/plain": [
       "'\\nQuestion 3 - \\nWrite a proposal function. :)\\nYou have been given a dare. Take an input name from your friends. \\nWrite a function which takes that name as argument and prints\\n\"I LOVE YOU NAME! :)\"\\n'"
      ]
     },
     "execution_count": 32,
     "metadata": {},
     "output_type": "execute_result"
    }
   ],
   "source": [
    "'''\n",
    "Question 3 - \n",
    "Write a proposal function. :)\n",
    "You have been given a dare. Take an input name from your friends. \n",
    "Write a function which takes that name as argument and prints\n",
    "\"I LOVE YOU NAME! :)\"\n",
    "'''"
   ]
  },
  {
   "cell_type": "code",
   "execution_count": 33,
   "id": "04cf6e6d",
   "metadata": {},
   "outputs": [
    {
     "name": "stdout",
     "output_type": "stream",
     "text": [
      "Emma Watson\n"
     ]
    }
   ],
   "source": [
    "dare_name = input()"
   ]
  },
  {
   "cell_type": "code",
   "execution_count": 35,
   "id": "c0962b5d",
   "metadata": {},
   "outputs": [],
   "source": [
    "def propose(name):\n",
    "    print(\"I LOVE YOU\", name)"
   ]
  },
  {
   "cell_type": "code",
   "execution_count": 36,
   "id": "ae0c58fc",
   "metadata": {},
   "outputs": [
    {
     "name": "stdout",
     "output_type": "stream",
     "text": [
      "I LOVE YOU Emma Watson\n"
     ]
    }
   ],
   "source": [
    "propose(dare_name) # -> name = dare_name"
   ]
  },
  {
   "cell_type": "code",
   "execution_count": 37,
   "id": "5fecaa6d",
   "metadata": {},
   "outputs": [
    {
     "name": "stdout",
     "output_type": "stream",
     "text": [
      "I LOVE YOU Hinata\n"
     ]
    }
   ],
   "source": [
    "name2 = \"Hinata\"\n",
    "\n",
    "propose(name2) # -> name = name2"
   ]
  },
  {
   "cell_type": "code",
   "execution_count": 38,
   "id": "51dd425e",
   "metadata": {},
   "outputs": [
    {
     "name": "stdout",
     "output_type": "stream",
     "text": [
      "I LOVE YOU Kiara Advani\n"
     ]
    }
   ],
   "source": [
    "propose(\"Kiara Advani\")"
   ]
  },
  {
   "cell_type": "code",
   "execution_count": 39,
   "id": "9e04efe2",
   "metadata": {},
   "outputs": [],
   "source": [
    "name3 = \"Emilia Clarke\""
   ]
  },
  {
   "cell_type": "code",
   "execution_count": 40,
   "id": "df90f6e1",
   "metadata": {},
   "outputs": [
    {
     "name": "stdout",
     "output_type": "stream",
     "text": [
      "I LOVE YOU Emilia Clarke\n"
     ]
    }
   ],
   "source": [
    "propose(name3)"
   ]
  },
  {
   "cell_type": "code",
   "execution_count": 42,
   "id": "8bb92a7d",
   "metadata": {},
   "outputs": [
    {
     "name": "stdout",
     "output_type": "stream",
     "text": [
      "string followed by an integer 56 78.0\n"
     ]
    }
   ],
   "source": [
    "print(\"string\", \"followed\", \"by\", \"an\", \"integer\", 56, 78.0)\n",
    "# THIS WORKS :)"
   ]
  },
  {
   "cell_type": "code",
   "execution_count": 43,
   "id": "2c2b2a9f",
   "metadata": {},
   "outputs": [
    {
     "data": {
      "text/plain": [
       "''"
      ]
     },
     "execution_count": 43,
     "metadata": {},
     "output_type": "execute_result"
    }
   ],
   "source": [
    "\"random\"*0"
   ]
  },
  {
   "cell_type": "code",
   "execution_count": 44,
   "id": "c04659a6",
   "metadata": {},
   "outputs": [
    {
     "data": {
      "text/plain": [
       "''"
      ]
     },
     "execution_count": 44,
     "metadata": {},
     "output_type": "execute_result"
    }
   ],
   "source": [
    "\"random\"*-1"
   ]
  },
  {
   "cell_type": "code",
   "execution_count": 45,
   "id": "f17bd607",
   "metadata": {},
   "outputs": [],
   "source": [
    "# A function can accept multiple arguments\n",
    "def introduce_family(father, mother, sibling):\n",
    "    print(\"Father:\", father)\n",
    "    print(\"Mother:\", mother)\n",
    "    print(\"Sibling:\", sibling)"
   ]
  },
  {
   "cell_type": "code",
   "execution_count": 46,
   "id": "1f828fea",
   "metadata": {
    "scrolled": true
   },
   "outputs": [
    {
     "name": "stdout",
     "output_type": "stream",
     "text": [
      "Father: Bradd Pitt\n",
      "Mother: Angelina Jolie\n",
      "Sibling: Stormi\n"
     ]
    }
   ],
   "source": [
    "introduce_family(\"Bradd Pitt\", \"Angelina Jolie\", \"Stormi\")"
   ]
  },
  {
   "cell_type": "code",
   "execution_count": 49,
   "id": "f6092156",
   "metadata": {},
   "outputs": [
    {
     "name": "stdout",
     "output_type": "stream",
     "text": [
      "Father: Stormi\n",
      "Mother: Brad Pitt\n",
      "Sibling: Angelina Jolie\n"
     ]
    }
   ],
   "source": [
    "introduce_family(\"Stormi\", \"Brad Pitt\", \"Angelina Jolie\")"
   ]
  },
  {
   "cell_type": "code",
   "execution_count": 47,
   "id": "04a3adaa",
   "metadata": {},
   "outputs": [
    {
     "ename": "TypeError",
     "evalue": "introduce_family() missing 1 required positional argument: 'sibling'",
     "output_type": "error",
     "traceback": [
      "\u001b[0;31m---------------------------------------------------------------------------\u001b[0m",
      "\u001b[0;31mTypeError\u001b[0m                                 Traceback (most recent call last)",
      "\u001b[0;32m/var/folders/nn/c52y0d3j0gq59dpsswchkt2r0000gn/T/ipykernel_25691/3389999355.py\u001b[0m in \u001b[0;36m<module>\u001b[0;34m\u001b[0m\n\u001b[0;32m----> 1\u001b[0;31m \u001b[0mintroduce_family\u001b[0m\u001b[0;34m(\u001b[0m\u001b[0;34m\"A\"\u001b[0m\u001b[0;34m,\u001b[0m \u001b[0;34m\"B\"\u001b[0m\u001b[0;34m)\u001b[0m\u001b[0;34m\u001b[0m\u001b[0;34m\u001b[0m\u001b[0m\n\u001b[0m",
      "\u001b[0;31mTypeError\u001b[0m: introduce_family() missing 1 required positional argument: 'sibling'"
     ]
    }
   ],
   "source": [
    "introduce_family(\"A\", \"B\")"
   ]
  },
  {
   "cell_type": "code",
   "execution_count": 48,
   "id": "11bc37aa",
   "metadata": {},
   "outputs": [
    {
     "ename": "TypeError",
     "evalue": "introduce_family() takes 3 positional arguments but 4 were given",
     "output_type": "error",
     "traceback": [
      "\u001b[0;31m---------------------------------------------------------------------------\u001b[0m",
      "\u001b[0;31mTypeError\u001b[0m                                 Traceback (most recent call last)",
      "\u001b[0;32m/var/folders/nn/c52y0d3j0gq59dpsswchkt2r0000gn/T/ipykernel_25691/3169200133.py\u001b[0m in \u001b[0;36m<module>\u001b[0;34m\u001b[0m\n\u001b[0;32m----> 1\u001b[0;31m \u001b[0mintroduce_family\u001b[0m\u001b[0;34m(\u001b[0m\u001b[0;34m\"A\"\u001b[0m\u001b[0;34m,\u001b[0m \u001b[0;34m\"B\"\u001b[0m\u001b[0;34m,\u001b[0m \u001b[0;34m\"C\"\u001b[0m\u001b[0;34m,\u001b[0m \u001b[0;34m\"D\"\u001b[0m\u001b[0;34m)\u001b[0m\u001b[0;34m\u001b[0m\u001b[0;34m\u001b[0m\u001b[0m\n\u001b[0m",
      "\u001b[0;31mTypeError\u001b[0m: introduce_family() takes 3 positional arguments but 4 were given"
     ]
    }
   ],
   "source": [
    "introduce_family(\"A\", \"B\", \"C\", \"D\")"
   ]
  },
  {
   "cell_type": "code",
   "execution_count": 50,
   "id": "15b084a6",
   "metadata": {},
   "outputs": [],
   "source": [
    "s1 = 'string'"
   ]
  },
  {
   "cell_type": "code",
   "execution_count": 51,
   "id": "b278d6ee",
   "metadata": {},
   "outputs": [],
   "source": [
    "s2 = \"string\""
   ]
  },
  {
   "cell_type": "code",
   "execution_count": 52,
   "id": "cbd83382",
   "metadata": {},
   "outputs": [],
   "source": [
    "s3 = '''string'''"
   ]
  },
  {
   "cell_type": "code",
   "execution_count": 53,
   "id": "d074bdc8",
   "metadata": {},
   "outputs": [
    {
     "data": {
      "text/plain": [
       "str"
      ]
     },
     "execution_count": 53,
     "metadata": {},
     "output_type": "execute_result"
    }
   ],
   "source": [
    "type(s3)"
   ]
  },
  {
   "cell_type": "code",
   "execution_count": 54,
   "id": "6cfd7839",
   "metadata": {},
   "outputs": [],
   "source": [
    "s4 = '''\n",
    "this is a weird string.         which preserves.\n",
    "    White \n",
    "            Spaces like space, tab      \n",
    "                enter etc.\n",
    "'''"
   ]
  },
  {
   "cell_type": "code",
   "execution_count": 55,
   "id": "db1891de",
   "metadata": {},
   "outputs": [
    {
     "data": {
      "text/plain": [
       "'\\nthis is a weird string.         which preserves.\\n    White \\n            Spaces like space, tab      \\n                enter etc.\\n'"
      ]
     },
     "execution_count": 55,
     "metadata": {},
     "output_type": "execute_result"
    }
   ],
   "source": [
    "s4"
   ]
  },
  {
   "cell_type": "code",
   "execution_count": 56,
   "id": "9ddaee8d",
   "metadata": {},
   "outputs": [],
   "source": [
    "def random(a, b):\n",
    "    '''\n",
    "    This function takes two arguments - \n",
    "    a and b can be of any type.\n",
    "    \n",
    "    Output - Prints both the arguments separated by space.\n",
    "    '''\n",
    "    \n",
    "    print(a, b)"
   ]
  },
  {
   "cell_type": "code",
   "execution_count": 57,
   "id": "887669dc",
   "metadata": {},
   "outputs": [
    {
     "name": "stdout",
     "output_type": "stream",
     "text": [
      "4 5\n"
     ]
    }
   ],
   "source": [
    "random(4,5)"
   ]
  },
  {
   "cell_type": "code",
   "execution_count": 58,
   "id": "d6a11a88",
   "metadata": {},
   "outputs": [
    {
     "name": "stdout",
     "output_type": "stream",
     "text": [
      "Help on function random in module __main__:\n",
      "\n",
      "random(a, b)\n",
      "    This function takes two arguments - \n",
      "    a and b can be of any type.\n",
      "    \n",
      "    Output - Prints both the arguments separated by space.\n",
      "\n"
     ]
    }
   ],
   "source": [
    "help(random)"
   ]
  },
  {
   "cell_type": "code",
   "execution_count": 59,
   "id": "e78de9aa",
   "metadata": {},
   "outputs": [
    {
     "data": {
      "text/plain": [
       "'\\nThis also works to create doc strings\\n'"
      ]
     },
     "execution_count": 59,
     "metadata": {},
     "output_type": "execute_result"
    }
   ],
   "source": [
    "\"\"\"\n",
    "This also works to create doc strings\n",
    "\"\"\""
   ]
  },
  {
   "cell_type": "code",
   "execution_count": 60,
   "id": "88d76fcb",
   "metadata": {},
   "outputs": [
    {
     "data": {
      "text/plain": [
       "9"
      ]
     },
     "execution_count": 60,
     "metadata": {},
     "output_type": "execute_result"
    }
   ],
   "source": [
    "4 + 5"
   ]
  },
  {
   "cell_type": "code",
   "execution_count": 61,
   "id": "692caecb",
   "metadata": {},
   "outputs": [
    {
     "data": {
      "text/plain": [
       "'string1string2'"
      ]
     },
     "execution_count": 61,
     "metadata": {},
     "output_type": "execute_result"
    }
   ],
   "source": [
    "\"string1\" + \"string2\""
   ]
  },
  {
   "cell_type": "code",
   "execution_count": 62,
   "id": "e1977b2a",
   "metadata": {},
   "outputs": [
    {
     "ename": "TypeError",
     "evalue": "can only concatenate str (not \"int\") to str",
     "output_type": "error",
     "traceback": [
      "\u001b[0;31m---------------------------------------------------------------------------\u001b[0m",
      "\u001b[0;31mTypeError\u001b[0m                                 Traceback (most recent call last)",
      "\u001b[0;32m/var/folders/nn/c52y0d3j0gq59dpsswchkt2r0000gn/T/ipykernel_25691/374207036.py\u001b[0m in \u001b[0;36m<module>\u001b[0;34m\u001b[0m\n\u001b[0;32m----> 1\u001b[0;31m \u001b[0;34m\"string1\"\u001b[0m \u001b[0;34m+\u001b[0m \u001b[0;36m45\u001b[0m\u001b[0;34m\u001b[0m\u001b[0;34m\u001b[0m\u001b[0m\n\u001b[0m",
      "\u001b[0;31mTypeError\u001b[0m: can only concatenate str (not \"int\") to str"
     ]
    }
   ],
   "source": [
    "\"string1\" + 45"
   ]
  },
  {
   "cell_type": "code",
   "execution_count": 69,
   "id": "9f8dd91a",
   "metadata": {},
   "outputs": [],
   "source": [
    "def add_two(a, b):\n",
    "    '''\n",
    "    Arguments - \n",
    "    a: Int or String\n",
    "    b: Int or String\n",
    "    \n",
    "    Note - Please do not enter values with mixed data types. i.e. both integers or both strings\n",
    "    \n",
    "    Output - \n",
    "    Str + Str -> Concatenation\n",
    "    Int + Int -> Addition\n",
    "    '''\n",
    "    \n",
    "    result = a + b\n",
    "    print(result)"
   ]
  },
  {
   "cell_type": "code",
   "execution_count": 70,
   "id": "beaf46ab",
   "metadata": {},
   "outputs": [
    {
     "name": "stdout",
     "output_type": "stream",
     "text": [
      "Help on function add_two in module __main__:\n",
      "\n",
      "add_two(a, b)\n",
      "    Arguments - \n",
      "    a: Int or String\n",
      "    b: Int or String\n",
      "    \n",
      "    Note - Please do not enter values with mixed data types. i.e. both integers or both strings\n",
      "    \n",
      "    Output - \n",
      "    Str + Str -> Concatenation\n",
      "    Int + Int -> Addition\n",
      "\n"
     ]
    }
   ],
   "source": [
    "help(add_two)"
   ]
  },
  {
   "cell_type": "code",
   "execution_count": 64,
   "id": "856f2eef",
   "metadata": {},
   "outputs": [
    {
     "name": "stdout",
     "output_type": "stream",
     "text": [
      "9\n"
     ]
    }
   ],
   "source": [
    "add_two(4,5)"
   ]
  },
  {
   "cell_type": "code",
   "execution_count": 66,
   "id": "261ccca9",
   "metadata": {},
   "outputs": [
    {
     "name": "stdout",
     "output_type": "stream",
     "text": [
      "AB\n"
     ]
    }
   ],
   "source": [
    "add_two(\"A\", \"B\")"
   ]
  },
  {
   "cell_type": "code",
   "execution_count": 68,
   "id": "ad684ba3",
   "metadata": {},
   "outputs": [
    {
     "ename": "TypeError",
     "evalue": "can only concatenate str (not \"int\") to str",
     "output_type": "error",
     "traceback": [
      "\u001b[0;31m---------------------------------------------------------------------------\u001b[0m",
      "\u001b[0;31mTypeError\u001b[0m                                 Traceback (most recent call last)",
      "\u001b[0;32m/var/folders/nn/c52y0d3j0gq59dpsswchkt2r0000gn/T/ipykernel_25691/3513332356.py\u001b[0m in \u001b[0;36m<module>\u001b[0;34m\u001b[0m\n\u001b[0;32m----> 1\u001b[0;31m \u001b[0madd_two\u001b[0m\u001b[0;34m(\u001b[0m\u001b[0;34m\"A\"\u001b[0m\u001b[0;34m,\u001b[0m \u001b[0;36m5\u001b[0m\u001b[0;34m)\u001b[0m\u001b[0;34m\u001b[0m\u001b[0;34m\u001b[0m\u001b[0m\n\u001b[0m",
      "\u001b[0;32m/var/folders/nn/c52y0d3j0gq59dpsswchkt2r0000gn/T/ipykernel_25691/3191240787.py\u001b[0m in \u001b[0;36madd_two\u001b[0;34m(a, b)\u001b[0m\n\u001b[1;32m      1\u001b[0m \u001b[0;32mdef\u001b[0m \u001b[0madd_two\u001b[0m\u001b[0;34m(\u001b[0m\u001b[0ma\u001b[0m\u001b[0;34m,\u001b[0m \u001b[0mb\u001b[0m\u001b[0;34m)\u001b[0m\u001b[0;34m:\u001b[0m\u001b[0;34m\u001b[0m\u001b[0;34m\u001b[0m\u001b[0m\n\u001b[0;32m----> 2\u001b[0;31m     \u001b[0mresult\u001b[0m \u001b[0;34m=\u001b[0m \u001b[0ma\u001b[0m \u001b[0;34m+\u001b[0m \u001b[0mb\u001b[0m\u001b[0;34m\u001b[0m\u001b[0;34m\u001b[0m\u001b[0m\n\u001b[0m\u001b[1;32m      3\u001b[0m     \u001b[0mprint\u001b[0m\u001b[0;34m(\u001b[0m\u001b[0mresult\u001b[0m\u001b[0;34m)\u001b[0m\u001b[0;34m\u001b[0m\u001b[0;34m\u001b[0m\u001b[0m\n",
      "\u001b[0;31mTypeError\u001b[0m: can only concatenate str (not \"int\") to str"
     ]
    }
   ],
   "source": [
    "add_two(\"A\", 5)"
   ]
  },
  {
   "cell_type": "code",
   "execution_count": 71,
   "id": "915c9c75",
   "metadata": {},
   "outputs": [],
   "source": [
    "a = 4 + 5"
   ]
  },
  {
   "cell_type": "code",
   "execution_count": 72,
   "id": "3555f3a6",
   "metadata": {},
   "outputs": [
    {
     "data": {
      "text/plain": [
       "int"
      ]
     },
     "execution_count": 72,
     "metadata": {},
     "output_type": "execute_result"
    }
   ],
   "source": [
    "type(56)"
   ]
  },
  {
   "cell_type": "code",
   "execution_count": 73,
   "id": "3ec25483",
   "metadata": {},
   "outputs": [],
   "source": [
    "a = type(56)"
   ]
  },
  {
   "cell_type": "code",
   "execution_count": 74,
   "id": "01569d3b",
   "metadata": {},
   "outputs": [
    {
     "data": {
      "text/plain": [
       "int"
      ]
     },
     "execution_count": 74,
     "metadata": {},
     "output_type": "execute_result"
    }
   ],
   "source": [
    "a"
   ]
  },
  {
   "cell_type": "code",
   "execution_count": 75,
   "id": "4e191539",
   "metadata": {},
   "outputs": [],
   "source": [
    "def money_back(money):\n",
    "    print(money)"
   ]
  },
  {
   "cell_type": "code",
   "execution_count": 76,
   "id": "25da919b",
   "metadata": {},
   "outputs": [
    {
     "name": "stdout",
     "output_type": "stream",
     "text": [
      "500\n"
     ]
    }
   ],
   "source": [
    "m = money_back(500)"
   ]
  },
  {
   "cell_type": "code",
   "execution_count": 77,
   "id": "6ab05456",
   "metadata": {},
   "outputs": [],
   "source": [
    "m"
   ]
  },
  {
   "cell_type": "code",
   "execution_count": 78,
   "id": "fe47f5ab",
   "metadata": {},
   "outputs": [
    {
     "name": "stdout",
     "output_type": "stream",
     "text": [
      "None\n"
     ]
    }
   ],
   "source": [
    "print(m)"
   ]
  },
  {
   "cell_type": "code",
   "execution_count": 79,
   "id": "8458c03b",
   "metadata": {},
   "outputs": [],
   "source": [
    "def add_two_numbers(a, b):\n",
    "    print(a + b)"
   ]
  },
  {
   "cell_type": "code",
   "execution_count": 80,
   "id": "2a7f0db9",
   "metadata": {},
   "outputs": [
    {
     "name": "stdout",
     "output_type": "stream",
     "text": [
      "9\n"
     ]
    }
   ],
   "source": [
    "add_two_numbers(4,5)"
   ]
  },
  {
   "cell_type": "code",
   "execution_count": 81,
   "id": "8b22f3b7",
   "metadata": {},
   "outputs": [
    {
     "name": "stdout",
     "output_type": "stream",
     "text": [
      "9\n"
     ]
    }
   ],
   "source": [
    "c = add_two_numbers(4,5)"
   ]
  },
  {
   "cell_type": "code",
   "execution_count": 82,
   "id": "895e66f8",
   "metadata": {},
   "outputs": [
    {
     "name": "stdout",
     "output_type": "stream",
     "text": [
      "None\n"
     ]
    }
   ],
   "source": [
    "print(c)"
   ]
  },
  {
   "cell_type": "code",
   "execution_count": 83,
   "id": "38c457af",
   "metadata": {},
   "outputs": [],
   "source": [
    "def add_two_numbers(a, b):\n",
    "    print(a + b)\n",
    "    \n",
    "    return a + b"
   ]
  },
  {
   "cell_type": "code",
   "execution_count": 84,
   "id": "a7d62a85",
   "metadata": {
    "scrolled": false
   },
   "outputs": [
    {
     "name": "stdout",
     "output_type": "stream",
     "text": [
      "9\n"
     ]
    }
   ],
   "source": [
    "a = add_two_numbers(4,5)"
   ]
  },
  {
   "cell_type": "code",
   "execution_count": 85,
   "id": "3ddba288",
   "metadata": {
    "scrolled": true
   },
   "outputs": [
    {
     "data": {
      "text/plain": [
       "9"
      ]
     },
     "execution_count": 85,
     "metadata": {},
     "output_type": "execute_result"
    }
   ],
   "source": [
    "a"
   ]
  },
  {
   "cell_type": "code",
   "execution_count": 87,
   "id": "94172a3e",
   "metadata": {},
   "outputs": [
    {
     "data": {
      "text/plain": [
       "'\\nQuestion 4 - \\nWrite a function which takes 2 numbers are arguments\\nand returns the product of those numbers.\\n'"
      ]
     },
     "execution_count": 87,
     "metadata": {},
     "output_type": "execute_result"
    }
   ],
   "source": [
    "'''\n",
    "Question 4 - \n",
    "Write a function which takes 2 numbers are arguments\n",
    "and returns the product of those numbers.\n",
    "'''"
   ]
  },
  {
   "cell_type": "code",
   "execution_count": 88,
   "id": "c46d3003",
   "metadata": {},
   "outputs": [],
   "source": [
    "product = 6 * 8"
   ]
  },
  {
   "cell_type": "code",
   "execution_count": 89,
   "id": "a33c8671",
   "metadata": {},
   "outputs": [
    {
     "data": {
      "text/plain": [
       "48"
      ]
     },
     "execution_count": 89,
     "metadata": {},
     "output_type": "execute_result"
    }
   ],
   "source": [
    "product"
   ]
  },
  {
   "cell_type": "code",
   "execution_count": 90,
   "id": "403426fd",
   "metadata": {},
   "outputs": [],
   "source": [
    "def product(a, b):\n",
    "    print(a * b)"
   ]
  },
  {
   "cell_type": "code",
   "execution_count": 91,
   "id": "b8b00bca",
   "metadata": {},
   "outputs": [
    {
     "name": "stdout",
     "output_type": "stream",
     "text": [
      "36\n"
     ]
    }
   ],
   "source": [
    "result = product(4, 9)"
   ]
  },
  {
   "cell_type": "code",
   "execution_count": 92,
   "id": "85635271",
   "metadata": {},
   "outputs": [],
   "source": [
    "result"
   ]
  },
  {
   "cell_type": "code",
   "execution_count": 93,
   "id": "6e5e61ba",
   "metadata": {},
   "outputs": [],
   "source": [
    "def product(a, b):\n",
    "    return a * b"
   ]
  },
  {
   "cell_type": "code",
   "execution_count": 94,
   "id": "3115e477",
   "metadata": {},
   "outputs": [],
   "source": [
    "result = product(4, 9)"
   ]
  },
  {
   "cell_type": "code",
   "execution_count": 95,
   "id": "6336baf8",
   "metadata": {},
   "outputs": [
    {
     "data": {
      "text/plain": [
       "36"
      ]
     },
     "execution_count": 95,
     "metadata": {},
     "output_type": "execute_result"
    }
   ],
   "source": [
    "result"
   ]
  },
  {
   "cell_type": "code",
   "execution_count": 96,
   "id": "4c6b382e",
   "metadata": {},
   "outputs": [],
   "source": [
    "def random():\n",
    "    print(\"before return\")\n",
    "    return 1\n",
    "    print(\"after return\")"
   ]
  },
  {
   "cell_type": "code",
   "execution_count": 98,
   "id": "14693105",
   "metadata": {
    "scrolled": true
   },
   "outputs": [
    {
     "name": "stdout",
     "output_type": "stream",
     "text": [
      "before return\n"
     ]
    },
    {
     "data": {
      "text/plain": [
       "1"
      ]
     },
     "execution_count": 98,
     "metadata": {},
     "output_type": "execute_result"
    }
   ],
   "source": [
    "random()"
   ]
  },
  {
   "cell_type": "code",
   "execution_count": 99,
   "id": "21cb10f2",
   "metadata": {},
   "outputs": [
    {
     "name": "stdout",
     "output_type": "stream",
     "text": [
      "Bipin\n",
      "HelloBipin\n"
     ]
    }
   ],
   "source": [
    "Name = input()\n",
    "\n",
    "def greet(Name):\n",
    "    result = \"Hello\" + Name\n",
    "    return result\n",
    "\n",
    "print(greet(Name))"
   ]
  },
  {
   "cell_type": "code",
   "execution_count": 100,
   "id": "9ab05bb8",
   "metadata": {},
   "outputs": [],
   "source": [
    "# this is a single line comment"
   ]
  },
  {
   "cell_type": "code",
   "execution_count": 101,
   "id": "44f1a509",
   "metadata": {},
   "outputs": [
    {
     "data": {
      "text/plain": [
       "'\\nwhatever I write here\\nis a multiline\\ncomment\\n'"
      ]
     },
     "execution_count": 101,
     "metadata": {},
     "output_type": "execute_result"
    }
   ],
   "source": [
    "'''\n",
    "whatever I write here\n",
    "is a multiline\n",
    "comment\n",
    "'''"
   ]
  },
  {
   "cell_type": "code",
   "execution_count": null,
   "id": "ff335b71",
   "metadata": {},
   "outputs": [],
   "source": []
  }
 ],
 "metadata": {
  "kernelspec": {
   "display_name": "Python 3 (ipykernel)",
   "language": "python",
   "name": "python3"
  },
  "language_info": {
   "codemirror_mode": {
    "name": "ipython",
    "version": 3
   },
   "file_extension": ".py",
   "mimetype": "text/x-python",
   "name": "python",
   "nbconvert_exporter": "python",
   "pygments_lexer": "ipython3",
   "version": "3.9.5"
  }
 },
 "nbformat": 4,
 "nbformat_minor": 5
}
