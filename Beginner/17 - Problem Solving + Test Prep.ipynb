{
 "cells": [
  {
   "cell_type": "code",
   "execution_count": 1,
   "id": "5c035e44",
   "metadata": {},
   "outputs": [],
   "source": [
    "a = [1,2,3]"
   ]
  },
  {
   "cell_type": "code",
   "execution_count": 2,
   "id": "3a8356dd",
   "metadata": {},
   "outputs": [],
   "source": [
    "b = a"
   ]
  },
  {
   "cell_type": "code",
   "execution_count": 3,
   "id": "df447148",
   "metadata": {},
   "outputs": [
    {
     "data": {
      "text/plain": [
       "[1, 2, 3]"
      ]
     },
     "execution_count": 3,
     "metadata": {},
     "output_type": "execute_result"
    }
   ],
   "source": [
    "b"
   ]
  },
  {
   "cell_type": "code",
   "execution_count": 4,
   "id": "2d74567a",
   "metadata": {},
   "outputs": [],
   "source": [
    "a[0] = 4"
   ]
  },
  {
   "cell_type": "code",
   "execution_count": 5,
   "id": "794dc002",
   "metadata": {},
   "outputs": [
    {
     "data": {
      "text/plain": [
       "[4, 2, 3]"
      ]
     },
     "execution_count": 5,
     "metadata": {},
     "output_type": "execute_result"
    }
   ],
   "source": [
    "b"
   ]
  },
  {
   "cell_type": "code",
   "execution_count": 6,
   "id": "92abd6d3",
   "metadata": {},
   "outputs": [],
   "source": [
    "a = [1,2,3]"
   ]
  },
  {
   "cell_type": "code",
   "execution_count": 7,
   "id": "e926d962",
   "metadata": {},
   "outputs": [],
   "source": [
    "b = a.copy()"
   ]
  },
  {
   "cell_type": "code",
   "execution_count": 9,
   "id": "5c9acc77",
   "metadata": {},
   "outputs": [],
   "source": [
    "a[0] = 4"
   ]
  },
  {
   "cell_type": "code",
   "execution_count": 10,
   "id": "e24230a7",
   "metadata": {},
   "outputs": [
    {
     "data": {
      "text/plain": [
       "[4, 2, 3]"
      ]
     },
     "execution_count": 10,
     "metadata": {},
     "output_type": "execute_result"
    }
   ],
   "source": [
    "a"
   ]
  },
  {
   "cell_type": "code",
   "execution_count": 11,
   "id": "1c64650d",
   "metadata": {},
   "outputs": [
    {
     "data": {
      "text/plain": [
       "[1, 2, 3]"
      ]
     },
     "execution_count": 11,
     "metadata": {},
     "output_type": "execute_result"
    }
   ],
   "source": [
    "b"
   ]
  },
  {
   "cell_type": "code",
   "execution_count": 12,
   "id": "75e220a6",
   "metadata": {},
   "outputs": [],
   "source": [
    "a = [1,2,3,4,1,1,1,4,5]"
   ]
  },
  {
   "cell_type": "code",
   "execution_count": 13,
   "id": "ea11d43e",
   "metadata": {},
   "outputs": [],
   "source": [
    "set_a = set(a)"
   ]
  },
  {
   "cell_type": "code",
   "execution_count": 14,
   "id": "72035319",
   "metadata": {},
   "outputs": [
    {
     "data": {
      "text/plain": [
       "{1, 2, 3, 4, 5}"
      ]
     },
     "execution_count": 14,
     "metadata": {},
     "output_type": "execute_result"
    }
   ],
   "source": [
    "set_a"
   ]
  },
  {
   "cell_type": "code",
   "execution_count": 15,
   "id": "815af556",
   "metadata": {},
   "outputs": [
    {
     "data": {
      "text/plain": [
       "False"
      ]
     },
     "execution_count": 15,
     "metadata": {},
     "output_type": "execute_result"
    }
   ],
   "source": [
    "len(a) == len(set(a))"
   ]
  },
  {
   "cell_type": "code",
   "execution_count": 18,
   "id": "d7589b2d",
   "metadata": {},
   "outputs": [],
   "source": [
    "def check_duplicates(a):\n",
    "    unique = []\n",
    "    \n",
    "    for i in a:\n",
    "        if i not in unique:\n",
    "            unique.append(i)\n",
    "    \n",
    "    print(unique)\n",
    "    if len(unique) == len(a):\n",
    "        return False\n",
    "    else:\n",
    "        return True"
   ]
  },
  {
   "cell_type": "code",
   "execution_count": 19,
   "id": "a3e6daba",
   "metadata": {},
   "outputs": [
    {
     "name": "stdout",
     "output_type": "stream",
     "text": [
      "[1, 2, 3, 4, 5, 6]\n"
     ]
    },
    {
     "data": {
      "text/plain": [
       "True"
      ]
     },
     "execution_count": 19,
     "metadata": {},
     "output_type": "execute_result"
    }
   ],
   "source": [
    "check_duplicates([1,2,3,4,4,5,6])"
   ]
  },
  {
   "cell_type": "code",
   "execution_count": 20,
   "id": "36ca795f",
   "metadata": {},
   "outputs": [
    {
     "data": {
      "text/plain": [
       "True"
      ]
     },
     "execution_count": 20,
     "metadata": {},
     "output_type": "execute_result"
    }
   ],
   "source": [
    "5 in [1,2,3,4,5]"
   ]
  },
  {
   "cell_type": "code",
   "execution_count": 21,
   "id": "f9c27d3b",
   "metadata": {},
   "outputs": [
    {
     "data": {
      "text/plain": [
       "False"
      ]
     },
     "execution_count": 21,
     "metadata": {},
     "output_type": "execute_result"
    }
   ],
   "source": [
    "5 not in [1,2,3,4,5]"
   ]
  },
  {
   "cell_type": "code",
   "execution_count": 37,
   "id": "c693bfaa",
   "metadata": {},
   "outputs": [],
   "source": [
    "def second_max(a):\n",
    "    max_element = a[0]\n",
    "    second_max = 0\n",
    "    \n",
    "    for i in a:\n",
    "        if i > max_element:\n",
    "            second_max = max_element\n",
    "            max_element = i\n",
    "            \n",
    "        if i > second_max and i < max_element:\n",
    "            second_max = i\n",
    "            \n",
    "    return second_max"
   ]
  },
  {
   "cell_type": "code",
   "execution_count": 38,
   "id": "0602a15b",
   "metadata": {},
   "outputs": [
    {
     "data": {
      "text/plain": [
       "9"
      ]
     },
     "execution_count": 38,
     "metadata": {},
     "output_type": "execute_result"
    }
   ],
   "source": [
    "second_max([4,5,6,8,9,10])"
   ]
  },
  {
   "cell_type": "code",
   "execution_count": 39,
   "id": "392c1a4d",
   "metadata": {},
   "outputs": [
    {
     "data": {
      "text/plain": [
       "1"
      ]
     },
     "execution_count": 39,
     "metadata": {},
     "output_type": "execute_result"
    }
   ],
   "source": [
    "second_max([2,1,2])"
   ]
  },
  {
   "cell_type": "code",
   "execution_count": 42,
   "id": "41e8505c",
   "metadata": {},
   "outputs": [],
   "source": [
    "# Inverse of an Array"
   ]
  },
  {
   "cell_type": "code",
   "execution_count": 43,
   "id": "54e0274c",
   "metadata": {},
   "outputs": [],
   "source": [
    "def inverse_list(a):\n",
    "    n = len(a)\n",
    "    \n",
    "    inverse = [0]*n\n",
    "    \n",
    "    for i in range(n):\n",
    "        inverse[a[i]] = i\n",
    "        \n",
    "    return inverse"
   ]
  },
  {
   "cell_type": "code",
   "execution_count": 44,
   "id": "6211b623",
   "metadata": {},
   "outputs": [
    {
     "ename": "SyntaxError",
     "evalue": "name 'x' is used prior to global declaration (3961584099.py, line 8)",
     "output_type": "error",
     "traceback": [
      "\u001b[0;36m  File \u001b[0;32m\"/var/folders/nn/c52y0d3j0gq59dpsswchkt2r0000gn/T/ipykernel_13056/3961584099.py\"\u001b[0;36m, line \u001b[0;32m8\u001b[0m\n\u001b[0;31m    global x\u001b[0m\n\u001b[0m    ^\u001b[0m\n\u001b[0;31mSyntaxError\u001b[0m\u001b[0;31m:\u001b[0m name 'x' is used prior to global declaration\n"
     ]
    }
   ],
   "source": [
    "x = 10\n",
    "\n",
    "def random():\n",
    "    x = 5\n",
    "    \n",
    "    print(x)\n",
    "    \n",
    "    global x\n",
    "    \n",
    "    print(x)"
   ]
  },
  {
   "cell_type": "code",
   "execution_count": 46,
   "id": "2072f19c",
   "metadata": {},
   "outputs": [
    {
     "name": "stdout",
     "output_type": "stream",
     "text": [
      "F\n"
     ]
    }
   ],
   "source": [
    "ascii_code = 70\n",
    "character = chr(70)\n",
    "\n",
    "print(character)\n",
    "\n",
    "target_string = \"shdFgsejhfisdhfkhjdsgfjsbdfbdshfjzsgh\""
   ]
  },
  {
   "cell_type": "code",
   "execution_count": 47,
   "id": "ba6fc0cb",
   "metadata": {},
   "outputs": [
    {
     "name": "stdout",
     "output_type": "stream",
     "text": [
      "3\n"
     ]
    }
   ],
   "source": [
    "for i in range(len(target_string)):\n",
    "    if target_string[i] == character:\n",
    "        print(i)\n",
    "        break"
   ]
  },
  {
   "cell_type": "code",
   "execution_count": 48,
   "id": "b032560d",
   "metadata": {},
   "outputs": [
    {
     "data": {
      "text/plain": [
       "3"
      ]
     },
     "execution_count": 48,
     "metadata": {},
     "output_type": "execute_result"
    }
   ],
   "source": [
    "target_string.find(character)"
   ]
  },
  {
   "cell_type": "code",
   "execution_count": 49,
   "id": "903143b0",
   "metadata": {},
   "outputs": [],
   "source": [
    "number = 67.89"
   ]
  },
  {
   "cell_type": "code",
   "execution_count": 51,
   "id": "477a9a5b",
   "metadata": {},
   "outputs": [],
   "source": [
    "floor = 67\n",
    "ceil = 68"
   ]
  },
  {
   "cell_type": "code",
   "execution_count": 52,
   "id": "2ca2369b",
   "metadata": {},
   "outputs": [],
   "source": [
    "number = -67.89"
   ]
  },
  {
   "cell_type": "code",
   "execution_count": 53,
   "id": "c7c051a0",
   "metadata": {},
   "outputs": [],
   "source": [
    "floor = -68\n",
    "ceil = -67"
   ]
  },
  {
   "cell_type": "code",
   "execution_count": 55,
   "id": "6131155a",
   "metadata": {},
   "outputs": [
    {
     "data": {
      "text/plain": [
       "-68.0"
      ]
     },
     "execution_count": 55,
     "metadata": {},
     "output_type": "execute_result"
    }
   ],
   "source": [
    "-67.89 // 1"
   ]
  },
  {
   "cell_type": "code",
   "execution_count": 54,
   "id": "5e698205",
   "metadata": {},
   "outputs": [
    {
     "data": {
      "text/plain": [
       "67.0"
      ]
     },
     "execution_count": 54,
     "metadata": {},
     "output_type": "execute_result"
    }
   ],
   "source": [
    "67.89 // 1"
   ]
  },
  {
   "cell_type": "code",
   "execution_count": 64,
   "id": "906d72f2",
   "metadata": {},
   "outputs": [
    {
     "data": {
      "text/plain": [
       "-3.855"
      ]
     },
     "execution_count": 64,
     "metadata": {},
     "output_type": "execute_result"
    }
   ],
   "source": [
    "-771/200"
   ]
  },
  {
   "cell_type": "code",
   "execution_count": 61,
   "id": "d6eeab05",
   "metadata": {},
   "outputs": [],
   "source": [
    "def ceil_custom(number):\n",
    "    floor = number // 1\n",
    "    \n",
    "    if number - floor == 0.0:\n",
    "        ceil = floor\n",
    "    else:\n",
    "        ceil = floor + 1\n",
    "    \n",
    "    return ceil"
   ]
  },
  {
   "cell_type": "code",
   "execution_count": 65,
   "id": "b63abd12",
   "metadata": {},
   "outputs": [
    {
     "data": {
      "text/plain": [
       "-3.0"
      ]
     },
     "execution_count": 65,
     "metadata": {},
     "output_type": "execute_result"
    }
   ],
   "source": [
    "ceil_custom(-3.855)"
   ]
  },
  {
   "cell_type": "code",
   "execution_count": 66,
   "id": "e27b6e9b",
   "metadata": {},
   "outputs": [],
   "source": [
    "a = [[1,2], [3,4]]\n",
    "b = [[1,2], [3,4]]"
   ]
  },
  {
   "cell_type": "code",
   "execution_count": 67,
   "id": "ae7ca47c",
   "metadata": {},
   "outputs": [
    {
     "data": {
      "text/plain": [
       "True"
      ]
     },
     "execution_count": 67,
     "metadata": {},
     "output_type": "execute_result"
    }
   ],
   "source": [
    "a == b"
   ]
  },
  {
   "cell_type": "code",
   "execution_count": 68,
   "id": "ed444d64",
   "metadata": {},
   "outputs": [],
   "source": [
    "def equal_matrices(a, b):\n",
    "    for i in range(len(a)):\n",
    "        for j in range(len(a[0])):\n",
    "            if a[i][j] != b[i][j]:\n",
    "                return False\n",
    "            \n",
    "    return True"
   ]
  },
  {
   "cell_type": "code",
   "execution_count": 69,
   "id": "d8df41f0",
   "metadata": {},
   "outputs": [
    {
     "data": {
      "text/plain": [
       "True"
      ]
     },
     "execution_count": 69,
     "metadata": {},
     "output_type": "execute_result"
    }
   ],
   "source": [
    "equal_matrices(a,b)"
   ]
  },
  {
   "cell_type": "code",
   "execution_count": 70,
   "id": "63aa312e",
   "metadata": {},
   "outputs": [],
   "source": [
    "a = [[1,2,3], [4,5,6]]"
   ]
  },
  {
   "cell_type": "code",
   "execution_count": 73,
   "id": "a5d55083",
   "metadata": {},
   "outputs": [],
   "source": [
    "def transpose_matrix(a):\n",
    "    rows = len(a)\n",
    "    columns = len(a[0])\n",
    "    \n",
    "    transpose = []\n",
    "    \n",
    "    for i in range(columns):\n",
    "        row = []\n",
    "        \n",
    "        for j in range(rows):\n",
    "            row.append(a[j][i])\n",
    "            \n",
    "        transpose.append(row)\n",
    "        \n",
    "    return transpose"
   ]
  },
  {
   "cell_type": "code",
   "execution_count": 74,
   "id": "6a62ed07",
   "metadata": {},
   "outputs": [
    {
     "data": {
      "text/plain": [
       "[[1, 4], [2, 5], [3, 6]]"
      ]
     },
     "execution_count": 74,
     "metadata": {},
     "output_type": "execute_result"
    }
   ],
   "source": [
    "transpose_matrix(a)"
   ]
  },
  {
   "cell_type": "code",
   "execution_count": 99,
   "id": "f1e6e010",
   "metadata": {},
   "outputs": [
    {
     "name": "stdout",
     "output_type": "stream",
     "text": [
      "0\t0\t0\t0\t1\t0\t0\t0\t0\t\n",
      "0\t0\t0\t2\t3\t2\t0\t0\t0\t\n",
      "0\t0\t3\t4\t5\t4\t3\t0\t0\t\n",
      "0\t4\t5\t6\t7\t6\t5\t4\t0\t\n",
      "5\t6\t7\t8\t9\t8\t7\t6\t5\t\n"
     ]
    }
   ],
   "source": [
    "n = 5\n",
    "\n",
    "subtractor = 1\n",
    "for i in range(5):\n",
    "    print(\"0\\t\"*(n-i-1), end = \"\")\n",
    "    \n",
    "    # Logic for number pyramic\n",
    "    for j in range(0, 2*i + subtractor):\n",
    "        print(i + j + 1, end = \"\\t\")\n",
    "        \n",
    "    for k in range(i):\n",
    "        print(2*i - k, end = \"\\t\")\n",
    "    \n",
    "    subtractor -= 1\n",
    "    \n",
    "    print(\"0\\t\"*(n-i-1), end = \"\\n\")"
   ]
  },
  {
   "cell_type": "code",
   "execution_count": 100,
   "id": "8387e535",
   "metadata": {},
   "outputs": [
    {
     "data": {
      "text/plain": [
       "32"
      ]
     },
     "execution_count": 100,
     "metadata": {},
     "output_type": "execute_result"
    }
   ],
   "source": [
    "ord(\" \")"
   ]
  },
  {
   "cell_type": "code",
   "execution_count": 101,
   "id": "ce0da923",
   "metadata": {},
   "outputs": [
    {
     "name": "stdout",
     "output_type": "stream",
     "text": [
      "F\n"
     ]
    }
   ],
   "source": [
    "ascii_code_1 = 100\n",
    "ascii_code_2 = 32\n",
    "character = chr(70)\n",
    "\n",
    "print(character)\n",
    "\n",
    "target_string = \"shdFgsejhfisdhfkhjdsgfjsbdfbdshfjzsgh\""
   ]
  },
  {
   "cell_type": "code",
   "execution_count": 102,
   "id": "3ec0370a",
   "metadata": {},
   "outputs": [
    {
     "data": {
      "text/plain": [
       "'sh Fgsejhfis hfkhj sgfjsb fb shfjzsgh'"
      ]
     },
     "execution_count": 102,
     "metadata": {},
     "output_type": "execute_result"
    }
   ],
   "source": [
    "target_string.replace(chr(ascii_code_1), chr(ascii_code_2))"
   ]
  },
  {
   "cell_type": "code",
   "execution_count": null,
   "id": "28a40e7e",
   "metadata": {},
   "outputs": [],
   "source": []
  }
 ],
 "metadata": {
  "kernelspec": {
   "display_name": "Python 3 (ipykernel)",
   "language": "python",
   "name": "python3"
  },
  "language_info": {
   "codemirror_mode": {
    "name": "ipython",
    "version": 3
   },
   "file_extension": ".py",
   "mimetype": "text/x-python",
   "name": "python",
   "nbconvert_exporter": "python",
   "pygments_lexer": "ipython3",
   "version": "3.9.5"
  }
 },
 "nbformat": 4,
 "nbformat_minor": 5
}
