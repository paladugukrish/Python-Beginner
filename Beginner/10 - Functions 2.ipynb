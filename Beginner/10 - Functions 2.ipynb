{
 "cells": [
  {
   "cell_type": "code",
   "execution_count": 1,
   "id": "51eb16b9",
   "metadata": {},
   "outputs": [
    {
     "data": {
      "text/plain": [
       "True"
      ]
     },
     "execution_count": 1,
     "metadata": {},
     "output_type": "execute_result"
    }
   ],
   "source": [
    "def random():\n",
    "    return True\n",
    "\n",
    "random()"
   ]
  },
  {
   "cell_type": "code",
   "execution_count": 2,
   "id": "8c34fcf3",
   "metadata": {},
   "outputs": [],
   "source": [
    "def random1():\n",
    "    return True\n",
    "\n",
    "def random2():\n",
    "    print(True)"
   ]
  },
  {
   "cell_type": "code",
   "execution_count": 3,
   "id": "0a65a313",
   "metadata": {},
   "outputs": [
    {
     "name": "stdout",
     "output_type": "stream",
     "text": [
      "True\n"
     ]
    }
   ],
   "source": [
    "result1 = random1()\n",
    "result2 = random2()"
   ]
  },
  {
   "cell_type": "code",
   "execution_count": 4,
   "id": "5209f4b9",
   "metadata": {},
   "outputs": [
    {
     "name": "stdout",
     "output_type": "stream",
     "text": [
      "True\n"
     ]
    }
   ],
   "source": [
    "print(result1)"
   ]
  },
  {
   "cell_type": "code",
   "execution_count": 5,
   "id": "30e8303d",
   "metadata": {},
   "outputs": [
    {
     "name": "stdout",
     "output_type": "stream",
     "text": [
      "None\n"
     ]
    }
   ],
   "source": [
    "print(result2)"
   ]
  },
  {
   "cell_type": "code",
   "execution_count": 9,
   "id": "5f15f208",
   "metadata": {},
   "outputs": [
    {
     "name": "stdout",
     "output_type": "stream",
     "text": [
      "40\n"
     ]
    },
    {
     "ename": "NameError",
     "evalue": "name 'number' is not defined",
     "output_type": "error",
     "traceback": [
      "\u001b[0;31m---------------------------------------------------------------------------\u001b[0m",
      "\u001b[0;31mNameError\u001b[0m                                 Traceback (most recent call last)",
      "\u001b[0;32m/var/folders/nn/c52y0d3j0gq59dpsswchkt2r0000gn/T/ipykernel_38275/1235508089.py\u001b[0m in \u001b[0;36m<module>\u001b[0;34m\u001b[0m\n\u001b[1;32m      6\u001b[0m \u001b[0mcalculator\u001b[0m\u001b[0;34m(\u001b[0m\u001b[0ma\u001b[0m\u001b[0;34m)\u001b[0m\u001b[0;34m\u001b[0m\u001b[0;34m\u001b[0m\u001b[0m\n\u001b[1;32m      7\u001b[0m \u001b[0mprint\u001b[0m\u001b[0;34m(\u001b[0m\u001b[0ma\u001b[0m\u001b[0;34m)\u001b[0m\u001b[0;34m\u001b[0m\u001b[0;34m\u001b[0m\u001b[0m\n\u001b[0;32m----> 8\u001b[0;31m \u001b[0mprint\u001b[0m\u001b[0;34m(\u001b[0m\u001b[0mnumber\u001b[0m\u001b[0;34m)\u001b[0m\u001b[0;34m\u001b[0m\u001b[0;34m\u001b[0m\u001b[0m\n\u001b[0m",
      "\u001b[0;31mNameError\u001b[0m: name 'number' is not defined"
     ]
    }
   ],
   "source": [
    "a = 40\n",
    "\n",
    "def calculator(number):\n",
    "    return number * 10\n",
    "\n",
    "calculator(a)\n",
    "print(a)\n",
    "print(number)"
   ]
  },
  {
   "cell_type": "code",
   "execution_count": 13,
   "id": "9ae77777",
   "metadata": {},
   "outputs": [
    {
     "name": "stdout",
     "output_type": "stream",
     "text": [
      "5\n"
     ]
    },
    {
     "data": {
      "text/plain": [
       "'small'"
      ]
     },
     "execution_count": 13,
     "metadata": {},
     "output_type": "execute_result"
    }
   ],
   "source": [
    "a = int(input())\n",
    "\n",
    "def simple_function(a):\n",
    "    if a <= 10:\n",
    "        return \"small\"\n",
    "    elif a > 10:\n",
    "        return \"BIG\"\n",
    "    \n",
    "simple_function(a)"
   ]
  },
  {
   "cell_type": "code",
   "execution_count": 14,
   "id": "cd601865",
   "metadata": {},
   "outputs": [],
   "source": [
    "def introduce_family(my_name, sibling_name, father_name, mother_name):\n",
    "    print(\"My name is\", my_name)\n",
    "    print(\"My sibling's name is\", sibling_name)\n",
    "    print(\"My father's name is\", father_name)\n",
    "    print(\"My mother's name is\", mother_name)"
   ]
  },
  {
   "cell_type": "code",
   "execution_count": 15,
   "id": "3bcd2e6e",
   "metadata": {},
   "outputs": [
    {
     "name": "stdout",
     "output_type": "stream",
     "text": [
      "My name is Bipin Kalra\n",
      "My sibling's name is Stormi\n",
      "My father's name is Brad Pitt\n",
      "My mother's name is Angelina Jolie\n"
     ]
    }
   ],
   "source": [
    "introduce_family(\"Bipin Kalra\", \"Stormi\", \"Brad Pitt\", \"Angelina Jolie\")"
   ]
  },
  {
   "cell_type": "code",
   "execution_count": 16,
   "id": "18a0c9e1",
   "metadata": {},
   "outputs": [
    {
     "name": "stdout",
     "output_type": "stream",
     "text": [
      "My name is Bipin Kalra\n",
      "My sibling's name is Brad Pitt\n",
      "My father's name is Angelina Jolie\n",
      "My mother's name is Stormi\n"
     ]
    }
   ],
   "source": [
    "introduce_family(\"Bipin Kalra\", \"Brad Pitt\", \"Angelina Jolie\", \"Stormi\")"
   ]
  },
  {
   "cell_type": "code",
   "execution_count": 17,
   "id": "2ae595a4",
   "metadata": {},
   "outputs": [],
   "source": [
    "# KEYWORDED ARGUMENTS"
   ]
  },
  {
   "cell_type": "code",
   "execution_count": 18,
   "id": "1585a941",
   "metadata": {},
   "outputs": [
    {
     "name": "stdout",
     "output_type": "stream",
     "text": [
      "My name is Bipin Kalra\n",
      "My sibling's name is Stormi\n",
      "My father's name is Brad Pitt\n",
      "My mother's name is Angelina Jolie\n"
     ]
    }
   ],
   "source": [
    "introduce_family(father_name = \"Brad Pitt\", mother_name = \"Angelina Jolie\", my_name = \"Bipin Kalra\", sibling_name = \"Stormi\")"
   ]
  },
  {
   "cell_type": "code",
   "execution_count": 19,
   "id": "e07efbc2",
   "metadata": {},
   "outputs": [
    {
     "name": "stdout",
     "output_type": "stream",
     "text": [
      "My name is Bipin Kalra\n",
      "My sibling's name is Stormi\n",
      "My father's name is Brad Pitt\n",
      "My mother's name is Angelina Jolie\n"
     ]
    }
   ],
   "source": [
    "introduce_family(\n",
    "    father_name = \"Brad Pitt\",\n",
    "    mother_name = \"Angelina Jolie\",\n",
    "    my_name = \"Bipin Kalra\",\n",
    "    sibling_name = \"Stormi\"\n",
    ")"
   ]
  },
  {
   "cell_type": "code",
   "execution_count": 22,
   "id": "3181e1fb",
   "metadata": {},
   "outputs": [],
   "source": [
    "def random(a, b, c, d):\n",
    "    print(\"a ->\", a)\n",
    "    print(\"b ->\", b)\n",
    "    print(\"c ->\", c)\n",
    "    print(\"d ->\", d)"
   ]
  },
  {
   "cell_type": "code",
   "execution_count": 23,
   "id": "479e3527",
   "metadata": {},
   "outputs": [
    {
     "name": "stdout",
     "output_type": "stream",
     "text": [
      "a -> 4\n",
      "b -> 5\n",
      "c -> 6\n",
      "d -> 7\n"
     ]
    }
   ],
   "source": [
    "random(4,5,6,7)"
   ]
  },
  {
   "cell_type": "code",
   "execution_count": 24,
   "id": "ed6a68e1",
   "metadata": {},
   "outputs": [
    {
     "name": "stdout",
     "output_type": "stream",
     "text": [
      "a -> 6\n",
      "b -> 7\n",
      "c -> 9\n",
      "d -> 5\n"
     ]
    }
   ],
   "source": [
    "random(b = 7, d = 5, a = 6, c = 9)"
   ]
  },
  {
   "cell_type": "code",
   "execution_count": 26,
   "id": "6237e819",
   "metadata": {},
   "outputs": [
    {
     "ename": "SyntaxError",
     "evalue": "positional argument follows keyword argument (188079638.py, line 1)",
     "output_type": "error",
     "traceback": [
      "\u001b[0;36m  File \u001b[0;32m\"/var/folders/nn/c52y0d3j0gq59dpsswchkt2r0000gn/T/ipykernel_38275/188079638.py\"\u001b[0;36m, line \u001b[0;32m1\u001b[0m\n\u001b[0;31m    random(b = 6, c = 7, d = 9, 5)\u001b[0m\n\u001b[0m                                 ^\u001b[0m\n\u001b[0;31mSyntaxError\u001b[0m\u001b[0;31m:\u001b[0m positional argument follows keyword argument\n"
     ]
    }
   ],
   "source": [
    "random(b = 6, c = 7, d = 9, 5)\n",
    "# Passing a positional argument after a key worded argument is not allowed"
   ]
  },
  {
   "cell_type": "code",
   "execution_count": 27,
   "id": "c2ef8663",
   "metadata": {},
   "outputs": [
    {
     "name": "stdout",
     "output_type": "stream",
     "text": [
      "a -> 4\n",
      "b -> 5\n",
      "c -> 7\n",
      "d -> 6\n"
     ]
    }
   ],
   "source": [
    "# def random(a, b, c, d):\n",
    "random(4, 5, d = 6, c = 7)"
   ]
  },
  {
   "cell_type": "code",
   "execution_count": 28,
   "id": "c014754c",
   "metadata": {},
   "outputs": [
    {
     "ename": "TypeError",
     "evalue": "random() got multiple values for argument 'b'",
     "output_type": "error",
     "traceback": [
      "\u001b[0;31m---------------------------------------------------------------------------\u001b[0m",
      "\u001b[0;31mTypeError\u001b[0m                                 Traceback (most recent call last)",
      "\u001b[0;32m/var/folders/nn/c52y0d3j0gq59dpsswchkt2r0000gn/T/ipykernel_38275/3537760456.py\u001b[0m in \u001b[0;36m<module>\u001b[0;34m\u001b[0m\n\u001b[0;32m----> 1\u001b[0;31m \u001b[0mrandom\u001b[0m\u001b[0;34m(\u001b[0m\u001b[0;36m4\u001b[0m\u001b[0;34m,\u001b[0m \u001b[0;36m5\u001b[0m\u001b[0;34m,\u001b[0m \u001b[0mb\u001b[0m \u001b[0;34m=\u001b[0m \u001b[0;36m7\u001b[0m\u001b[0;34m,\u001b[0m \u001b[0md\u001b[0m \u001b[0;34m=\u001b[0m \u001b[0;36m8\u001b[0m\u001b[0;34m)\u001b[0m\u001b[0;34m\u001b[0m\u001b[0;34m\u001b[0m\u001b[0m\n\u001b[0m",
      "\u001b[0;31mTypeError\u001b[0m: random() got multiple values for argument 'b'"
     ]
    }
   ],
   "source": [
    "random(4, 5, b = 7, d = 8)"
   ]
  },
  {
   "cell_type": "code",
   "execution_count": 29,
   "id": "10bbfdd7",
   "metadata": {},
   "outputs": [],
   "source": [
    "def simple_interest(p, r, t):\n",
    "    interest = (p*r*t) / 100\n",
    "    \n",
    "    return interest"
   ]
  },
  {
   "cell_type": "code",
   "execution_count": 31,
   "id": "17b95ea3",
   "metadata": {},
   "outputs": [
    {
     "ename": "TypeError",
     "evalue": "simple_interest() missing 1 required positional argument: 't'",
     "output_type": "error",
     "traceback": [
      "\u001b[0;31m---------------------------------------------------------------------------\u001b[0m",
      "\u001b[0;31mTypeError\u001b[0m                                 Traceback (most recent call last)",
      "\u001b[0;32m/var/folders/nn/c52y0d3j0gq59dpsswchkt2r0000gn/T/ipykernel_38275/1519175884.py\u001b[0m in \u001b[0;36m<module>\u001b[0;34m\u001b[0m\n\u001b[0;32m----> 1\u001b[0;31m \u001b[0msimple_interest\u001b[0m\u001b[0;34m(\u001b[0m\u001b[0;36m5000\u001b[0m\u001b[0;34m,\u001b[0m \u001b[0;36m3\u001b[0m\u001b[0;34m)\u001b[0m\u001b[0;34m\u001b[0m\u001b[0;34m\u001b[0m\u001b[0m\n\u001b[0m",
      "\u001b[0;31mTypeError\u001b[0m: simple_interest() missing 1 required positional argument: 't'"
     ]
    }
   ],
   "source": [
    "simple_interest(5000, 3)"
   ]
  },
  {
   "cell_type": "code",
   "execution_count": 34,
   "id": "c5e4ff8a",
   "metadata": {},
   "outputs": [],
   "source": [
    "def simple_interest(p, r, t = 2): # default arguments\n",
    "    interest = (p*r*t) / 100\n",
    "    \n",
    "    return interest"
   ]
  },
  {
   "cell_type": "code",
   "execution_count": 35,
   "id": "78a59c59",
   "metadata": {},
   "outputs": [
    {
     "data": {
      "text/plain": [
       "500.0"
      ]
     },
     "execution_count": 35,
     "metadata": {},
     "output_type": "execute_result"
    }
   ],
   "source": [
    "simple_interest(5000, 5)"
   ]
  },
  {
   "cell_type": "code",
   "execution_count": 36,
   "id": "24aa45a2",
   "metadata": {},
   "outputs": [
    {
     "data": {
      "text/plain": [
       "1000.0"
      ]
     },
     "execution_count": 36,
     "metadata": {},
     "output_type": "execute_result"
    }
   ],
   "source": [
    "simple_interest(5000, 5, 4)"
   ]
  },
  {
   "cell_type": "code",
   "execution_count": 37,
   "id": "80370c0d",
   "metadata": {},
   "outputs": [
    {
     "ename": "SyntaxError",
     "evalue": "non-default argument follows default argument (992412390.py, line 1)",
     "output_type": "error",
     "traceback": [
      "\u001b[0;36m  File \u001b[0;32m\"/var/folders/nn/c52y0d3j0gq59dpsswchkt2r0000gn/T/ipykernel_38275/992412390.py\"\u001b[0;36m, line \u001b[0;32m1\u001b[0m\n\u001b[0;31m    def simple_interest(p, r = 5, t):\u001b[0m\n\u001b[0m                                   ^\u001b[0m\n\u001b[0;31mSyntaxError\u001b[0m\u001b[0;31m:\u001b[0m non-default argument follows default argument\n"
     ]
    }
   ],
   "source": [
    "def simple_interest(p, r = 5, t):\n",
    "    interest = (p*r*t) / 100\n",
    "    \n",
    "    return interest"
   ]
  },
  {
   "cell_type": "code",
   "execution_count": 39,
   "id": "df9641e0",
   "metadata": {},
   "outputs": [],
   "source": [
    "def simple_interest(p, r = 5, t = 2):\n",
    "    interest = (p*r*t) / 100\n",
    "    \n",
    "    return interest\n",
    "\n",
    "# All arguments after a default argument should also have default values"
   ]
  },
  {
   "cell_type": "code",
   "execution_count": 40,
   "id": "e3e1e630",
   "metadata": {},
   "outputs": [
    {
     "data": {
      "text/plain": [
       "500.0"
      ]
     },
     "execution_count": 40,
     "metadata": {},
     "output_type": "execute_result"
    }
   ],
   "source": [
    "simple_interest(5000)"
   ]
  },
  {
   "cell_type": "code",
   "execution_count": 41,
   "id": "a8fc5397",
   "metadata": {},
   "outputs": [
    {
     "data": {
      "text/plain": [
       "'\\nQuestion 1 - \\nCreate a date printing function - \\nShould take 4 arguments -> day, month, year and style\\n\\nStyling Logic - \\nstyle -> 0 -> d/m/y\\nstyle -> 1 -> m/d/y\\nstyle -> any other value -> Invalid Style\\n\\ndefault style is 0.\\n'"
      ]
     },
     "execution_count": 41,
     "metadata": {},
     "output_type": "execute_result"
    }
   ],
   "source": [
    "'''\n",
    "Question 1 - \n",
    "Create a date printing function - \n",
    "Should take 4 arguments -> day, month, year and style\n",
    "\n",
    "Styling Logic - \n",
    "style -> 0 -> d/m/y\n",
    "style -> 1 -> m/d/y\n",
    "style -> any other value -> Invalid Style\n",
    "\n",
    "default style is 0.\n",
    "'''"
   ]
  },
  {
   "cell_type": "code",
   "execution_count": 43,
   "id": "0d4067aa",
   "metadata": {},
   "outputs": [],
   "source": [
    "def print_date(day, month, year, style = 0):\n",
    "    if style == 0:\n",
    "        print(day, month, year, sep = \"/\")\n",
    "    elif style == 1:\n",
    "        print(month, day, year, sep = \"/\")\n",
    "    else:\n",
    "        print(\"Invalid Style!\")"
   ]
  },
  {
   "cell_type": "code",
   "execution_count": 44,
   "id": "c03d47d8",
   "metadata": {},
   "outputs": [
    {
     "name": "stdout",
     "output_type": "stream",
     "text": [
      "23/12/2022\n"
     ]
    }
   ],
   "source": [
    "print_date(23,12,2022)"
   ]
  },
  {
   "cell_type": "code",
   "execution_count": 45,
   "id": "ee9096fb",
   "metadata": {},
   "outputs": [
    {
     "name": "stdout",
     "output_type": "stream",
     "text": [
      "12/23/2022\n"
     ]
    }
   ],
   "source": [
    "print_date(23,12,2022,1)"
   ]
  },
  {
   "cell_type": "code",
   "execution_count": 46,
   "id": "6ce699d0",
   "metadata": {},
   "outputs": [
    {
     "name": "stdout",
     "output_type": "stream",
     "text": [
      "Invalid Style!\n"
     ]
    }
   ],
   "source": [
    "print_date(23,12,2022,16)"
   ]
  },
  {
   "cell_type": "code",
   "execution_count": 49,
   "id": "049044c5",
   "metadata": {},
   "outputs": [
    {
     "name": "stdout",
     "output_type": "stream",
     "text": [
      "Chief of house is - Mother\n",
      "New chief of house is - Father\n"
     ]
    }
   ],
   "source": [
    "chief_of_house = \"Mother\" # global variable\n",
    "\n",
    "print(\"Chief of house is -\", chief_of_house)\n",
    "\n",
    "def change_chief():\n",
    "    chief_of_house = \"Father\" # local variable\n",
    "    print(\"New chief of house is -\", chief_of_house)\n",
    "    \n",
    "change_chief()"
   ]
  },
  {
   "cell_type": "code",
   "execution_count": 48,
   "id": "1d3b9dc7",
   "metadata": {},
   "outputs": [
    {
     "name": "stdout",
     "output_type": "stream",
     "text": [
      "Mother\n"
     ]
    }
   ],
   "source": [
    "print(chief_of_house)"
   ]
  },
  {
   "cell_type": "code",
   "execution_count": 50,
   "id": "8d67fcd3",
   "metadata": {},
   "outputs": [
    {
     "name": "stdout",
     "output_type": "stream",
     "text": [
      "Inside random1 - 50\n",
      "Inside random2 - 10\n",
      "Outside - 10\n"
     ]
    }
   ],
   "source": [
    "a = 10 # global variable\n",
    "\n",
    "def random1():\n",
    "    a = 50 # local variable\n",
    "    print(\"Inside random1 -\", a)\n",
    "    \n",
    "def random2():\n",
    "    print(\"Inside random2 -\", a)\n",
    "    \n",
    "random1()\n",
    "random2()\n",
    "print(\"Outside -\", a)"
   ]
  },
  {
   "cell_type": "code",
   "execution_count": 56,
   "id": "6f786e34",
   "metadata": {},
   "outputs": [
    {
     "name": "stdout",
     "output_type": "stream",
     "text": [
      "20\n",
      "20\n"
     ]
    }
   ],
   "source": [
    "a = 10\n",
    "\n",
    "def random():\n",
    "    global a\n",
    "    \n",
    "    a = 20\n",
    "    print(a)\n",
    "    \n",
    "random()\n",
    "print(a)"
   ]
  },
  {
   "cell_type": "code",
   "execution_count": 57,
   "id": "a97b5846",
   "metadata": {},
   "outputs": [
    {
     "name": "stdout",
     "output_type": "stream",
     "text": [
      "3/4/1997\n"
     ]
    }
   ],
   "source": [
    "def date(d,m,y,s):\n",
    "    if s==0:\n",
    "        print(d,m,y, sep=\"/\")\n",
    "    elif s==1:\n",
    "        print(m,d,y, sep=\"/\")\n",
    "    else:\n",
    "        print(\"invalid style\")\n",
    "        \n",
    "date(3,4,1997,0)"
   ]
  },
  {
   "cell_type": "code",
   "execution_count": 58,
   "id": "6ff26c29",
   "metadata": {},
   "outputs": [
    {
     "data": {
      "text/plain": [
       "4"
      ]
     },
     "execution_count": 58,
     "metadata": {},
     "output_type": "execute_result"
    }
   ],
   "source": [
    "round(4.5)"
   ]
  },
  {
   "cell_type": "code",
   "execution_count": 59,
   "id": "d9bd8195",
   "metadata": {},
   "outputs": [
    {
     "data": {
      "text/plain": [
       "6"
      ]
     },
     "execution_count": 59,
     "metadata": {},
     "output_type": "execute_result"
    }
   ],
   "source": [
    "round(5.5)"
   ]
  },
  {
   "cell_type": "code",
   "execution_count": 60,
   "id": "67798797",
   "metadata": {},
   "outputs": [],
   "source": [
    "round?"
   ]
  },
  {
   "cell_type": "code",
   "execution_count": 61,
   "id": "743387d4",
   "metadata": {},
   "outputs": [
    {
     "name": "stdout",
     "output_type": "stream",
     "text": [
      "03/12/2022\n"
     ]
    }
   ],
   "source": [
    "print_date(\"03\", \"12\", \"2022\")"
   ]
  },
  {
   "cell_type": "code",
   "execution_count": null,
   "id": "8ea8e6bc",
   "metadata": {},
   "outputs": [],
   "source": []
  }
 ],
 "metadata": {
  "kernelspec": {
   "display_name": "Python 3 (ipykernel)",
   "language": "python",
   "name": "python3"
  },
  "language_info": {
   "codemirror_mode": {
    "name": "ipython",
    "version": 3
   },
   "file_extension": ".py",
   "mimetype": "text/x-python",
   "name": "python",
   "nbconvert_exporter": "python",
   "pygments_lexer": "ipython3",
   "version": "3.9.5"
  }
 },
 "nbformat": 4,
 "nbformat_minor": 5
}
