{
 "cells": [
  {
   "cell_type": "code",
   "execution_count": 1,
   "id": "e1aa6ff5",
   "metadata": {},
   "outputs": [
    {
     "name": "stdout",
     "output_type": "stream",
     "text": [
      "13\n"
     ]
    }
   ],
   "source": [
    "print(10 + 3)"
   ]
  },
  {
   "cell_type": "code",
   "execution_count": 2,
   "id": "2ee39903",
   "metadata": {},
   "outputs": [
    {
     "name": "stdout",
     "output_type": "stream",
     "text": [
      "7\n"
     ]
    }
   ],
   "source": [
    "print(10 - 3)"
   ]
  },
  {
   "cell_type": "code",
   "execution_count": 3,
   "id": "cf5491a6",
   "metadata": {},
   "outputs": [
    {
     "name": "stdout",
     "output_type": "stream",
     "text": [
      "30\n"
     ]
    }
   ],
   "source": [
    "print(10 * 3)"
   ]
  },
  {
   "cell_type": "code",
   "execution_count": 4,
   "id": "f69aaaab",
   "metadata": {},
   "outputs": [
    {
     "name": "stdout",
     "output_type": "stream",
     "text": [
      "3.3333333333333335\n"
     ]
    }
   ],
   "source": [
    "print(10 / 3)"
   ]
  },
  {
   "cell_type": "code",
   "execution_count": 5,
   "id": "73c3de03",
   "metadata": {},
   "outputs": [
    {
     "name": "stdout",
     "output_type": "stream",
     "text": [
      "3\n"
     ]
    }
   ],
   "source": [
    "# // -> Floored Division Operator\n",
    "print(10 // 3)"
   ]
  },
  {
   "cell_type": "code",
   "execution_count": 6,
   "id": "063acd7b",
   "metadata": {},
   "outputs": [
    {
     "name": "stdout",
     "output_type": "stream",
     "text": [
      "2\n"
     ]
    }
   ],
   "source": [
    "print(5 // 2)"
   ]
  },
  {
   "cell_type": "code",
   "execution_count": 7,
   "id": "91b4bddf",
   "metadata": {},
   "outputs": [
    {
     "name": "stdout",
     "output_type": "stream",
     "text": [
      "-4\n"
     ]
    }
   ],
   "source": [
    "print(-10 // 3)"
   ]
  },
  {
   "cell_type": "code",
   "execution_count": 8,
   "id": "4947a9ae",
   "metadata": {},
   "outputs": [
    {
     "name": "stdout",
     "output_type": "stream",
     "text": [
      "16\n"
     ]
    }
   ],
   "source": [
    "print(4**2)"
   ]
  },
  {
   "cell_type": "code",
   "execution_count": 9,
   "id": "3bf4df55",
   "metadata": {},
   "outputs": [
    {
     "name": "stdout",
     "output_type": "stream",
     "text": [
      "2.0\n"
     ]
    }
   ],
   "source": [
    "print(4**0.5)"
   ]
  },
  {
   "cell_type": "code",
   "execution_count": 10,
   "id": "489b47ac",
   "metadata": {},
   "outputs": [
    {
     "data": {
      "text/plain": [
       "-3"
      ]
     },
     "execution_count": 10,
     "metadata": {},
     "output_type": "execute_result"
    }
   ],
   "source": [
    "-5 // 2"
   ]
  },
  {
   "cell_type": "code",
   "execution_count": 11,
   "id": "089b475c",
   "metadata": {},
   "outputs": [
    {
     "data": {
      "text/plain": [
       "1"
      ]
     },
     "execution_count": 11,
     "metadata": {},
     "output_type": "execute_result"
    }
   ],
   "source": [
    "10 % 3"
   ]
  },
  {
   "cell_type": "code",
   "execution_count": 12,
   "id": "fd495ef5",
   "metadata": {},
   "outputs": [
    {
     "data": {
      "text/plain": [
       "2"
      ]
     },
     "execution_count": 12,
     "metadata": {},
     "output_type": "execute_result"
    }
   ],
   "source": [
    "-10 % 3 # 3 - (10 mod 3) -> 2"
   ]
  },
  {
   "cell_type": "code",
   "execution_count": 15,
   "id": "7d8c54cc",
   "metadata": {},
   "outputs": [
    {
     "data": {
      "text/plain": [
       "11.666666666666668"
      ]
     },
     "execution_count": 15,
     "metadata": {},
     "output_type": "execute_result"
    }
   ],
   "source": [
    "10 / 6 * 7 # left to right"
   ]
  },
  {
   "cell_type": "code",
   "execution_count": 16,
   "id": "1c8f6513",
   "metadata": {},
   "outputs": [
    {
     "data": {
      "text/plain": [
       "4"
      ]
     },
     "execution_count": 16,
     "metadata": {},
     "output_type": "execute_result"
    }
   ],
   "source": [
    "10 - 4 * 2 + 5 - 6 // 2\n",
    "# 10 - 8 + 5 - 6 // 2\n",
    "# 10 - 8 + 5 - 3\n",
    "# 4"
   ]
  },
  {
   "cell_type": "code",
   "execution_count": 17,
   "id": "91a8aa3f",
   "metadata": {},
   "outputs": [],
   "source": [
    "x = 4.67890"
   ]
  },
  {
   "cell_type": "code",
   "execution_count": 18,
   "id": "c8853de8",
   "metadata": {},
   "outputs": [],
   "source": [
    "int_x = int(x)"
   ]
  },
  {
   "cell_type": "code",
   "execution_count": 19,
   "id": "1b26862b",
   "metadata": {},
   "outputs": [
    {
     "data": {
      "text/plain": [
       "4"
      ]
     },
     "execution_count": 19,
     "metadata": {},
     "output_type": "execute_result"
    }
   ],
   "source": [
    "int_x"
   ]
  },
  {
   "cell_type": "code",
   "execution_count": 22,
   "id": "d0859039",
   "metadata": {},
   "outputs": [],
   "source": [
    "float_x = float(int_x)"
   ]
  },
  {
   "cell_type": "code",
   "execution_count": 23,
   "id": "0371e4a3",
   "metadata": {},
   "outputs": [
    {
     "data": {
      "text/plain": [
       "4.0"
      ]
     },
     "execution_count": 23,
     "metadata": {},
     "output_type": "execute_result"
    }
   ],
   "source": [
    "float_x"
   ]
  },
  {
   "cell_type": "code",
   "execution_count": 24,
   "id": "878a9e83",
   "metadata": {},
   "outputs": [],
   "source": [
    "random = str(x)"
   ]
  },
  {
   "cell_type": "code",
   "execution_count": 25,
   "id": "8febf4d3",
   "metadata": {},
   "outputs": [
    {
     "data": {
      "text/plain": [
       "'4.6789'"
      ]
     },
     "execution_count": 25,
     "metadata": {},
     "output_type": "execute_result"
    }
   ],
   "source": [
    "random"
   ]
  },
  {
   "cell_type": "code",
   "execution_count": 26,
   "id": "a61f86ec",
   "metadata": {},
   "outputs": [
    {
     "data": {
      "text/plain": [
       "True"
      ]
     },
     "execution_count": 26,
     "metadata": {},
     "output_type": "execute_result"
    }
   ],
   "source": [
    "bool(1)"
   ]
  },
  {
   "cell_type": "code",
   "execution_count": 27,
   "id": "6badea92",
   "metadata": {},
   "outputs": [
    {
     "data": {
      "text/plain": [
       "True"
      ]
     },
     "execution_count": 27,
     "metadata": {},
     "output_type": "execute_result"
    }
   ],
   "source": [
    "bool(1.45678987654)"
   ]
  },
  {
   "cell_type": "code",
   "execution_count": 28,
   "id": "52fbb31a",
   "metadata": {},
   "outputs": [
    {
     "data": {
      "text/plain": [
       "True"
      ]
     },
     "execution_count": 28,
     "metadata": {},
     "output_type": "execute_result"
    }
   ],
   "source": [
    "bool(3489876543)"
   ]
  },
  {
   "cell_type": "code",
   "execution_count": 29,
   "id": "8068efcd",
   "metadata": {},
   "outputs": [
    {
     "data": {
      "text/plain": [
       "True"
      ]
     },
     "execution_count": 29,
     "metadata": {},
     "output_type": "execute_result"
    }
   ],
   "source": [
    "bool(-45678)"
   ]
  },
  {
   "cell_type": "code",
   "execution_count": 30,
   "id": "33147f34",
   "metadata": {},
   "outputs": [
    {
     "data": {
      "text/plain": [
       "False"
      ]
     },
     "execution_count": 30,
     "metadata": {},
     "output_type": "execute_result"
    }
   ],
   "source": [
    "bool(0)"
   ]
  },
  {
   "cell_type": "code",
   "execution_count": 33,
   "id": "93955c41",
   "metadata": {},
   "outputs": [
    {
     "data": {
      "text/plain": [
       "True"
      ]
     },
     "execution_count": 33,
     "metadata": {},
     "output_type": "execute_result"
    }
   ],
   "source": [
    "bool(-0.000000000000007)"
   ]
  },
  {
   "cell_type": "code",
   "execution_count": 34,
   "id": "8c7d5399",
   "metadata": {},
   "outputs": [
    {
     "data": {
      "text/plain": [
       "True"
      ]
     },
     "execution_count": 34,
     "metadata": {},
     "output_type": "execute_result"
    }
   ],
   "source": [
    "bool(\"This is a string!\")"
   ]
  },
  {
   "cell_type": "code",
   "execution_count": 35,
   "id": "a137850c",
   "metadata": {},
   "outputs": [
    {
     "data": {
      "text/plain": [
       "True"
      ]
     },
     "execution_count": 35,
     "metadata": {},
     "output_type": "execute_result"
    }
   ],
   "source": [
    "bool(\"A\")"
   ]
  },
  {
   "cell_type": "code",
   "execution_count": 37,
   "id": "e2ea80df",
   "metadata": {},
   "outputs": [
    {
     "data": {
      "text/plain": [
       "False"
      ]
     },
     "execution_count": 37,
     "metadata": {},
     "output_type": "execute_result"
    }
   ],
   "source": [
    "bool(\"\") # empty string"
   ]
  },
  {
   "cell_type": "code",
   "execution_count": 39,
   "id": "efce6574",
   "metadata": {},
   "outputs": [
    {
     "data": {
      "text/plain": [
       "True"
      ]
     },
     "execution_count": 39,
     "metadata": {},
     "output_type": "execute_result"
    }
   ],
   "source": [
    "bool(\" \")"
   ]
  },
  {
   "cell_type": "code",
   "execution_count": 40,
   "id": "e006ca2b",
   "metadata": {},
   "outputs": [
    {
     "data": {
      "text/plain": [
       "False"
      ]
     },
     "execution_count": 40,
     "metadata": {},
     "output_type": "execute_result"
    }
   ],
   "source": [
    "bool()"
   ]
  },
  {
   "cell_type": "code",
   "execution_count": 41,
   "id": "3d61e1f5",
   "metadata": {},
   "outputs": [
    {
     "data": {
      "text/plain": [
       "False"
      ]
     },
     "execution_count": 41,
     "metadata": {},
     "output_type": "execute_result"
    }
   ],
   "source": [
    "bool(None)"
   ]
  },
  {
   "cell_type": "code",
   "execution_count": 42,
   "id": "4757d292",
   "metadata": {},
   "outputs": [],
   "source": [
    "passing_marks = 50"
   ]
  },
  {
   "cell_type": "code",
   "execution_count": 43,
   "id": "31a5d78e",
   "metadata": {},
   "outputs": [],
   "source": [
    "my_marks = 80"
   ]
  },
  {
   "cell_type": "code",
   "execution_count": 44,
   "id": "81e80b82",
   "metadata": {},
   "outputs": [
    {
     "name": "stdout",
     "output_type": "stream",
     "text": [
      "True\n"
     ]
    }
   ],
   "source": [
    "print(my_marks > passing_marks)"
   ]
  },
  {
   "cell_type": "code",
   "execution_count": 48,
   "id": "e70e0dbb",
   "metadata": {},
   "outputs": [
    {
     "name": "stdout",
     "output_type": "stream",
     "text": [
      "False\n"
     ]
    }
   ],
   "source": [
    "print(\"abc\" > \"ze\") # this comparison in strings is lexicographical"
   ]
  },
  {
   "cell_type": "code",
   "execution_count": 49,
   "id": "711cab5b",
   "metadata": {},
   "outputs": [],
   "source": [
    "actual_password = \"tummerihoXYZ\""
   ]
  },
  {
   "cell_type": "code",
   "execution_count": 50,
   "id": "1ef25a13",
   "metadata": {},
   "outputs": [
    {
     "data": {
      "text/plain": [
       "'\\nQuestion 1 -\\n1. Take a input from the user.\\n2. Return True is password entered is correct or same as actual_password otherwise return False\\n'"
      ]
     },
     "execution_count": 50,
     "metadata": {},
     "output_type": "execute_result"
    }
   ],
   "source": [
    "'''\n",
    "Question 1 -\n",
    "1. Take a input from the user.\n",
    "2. Return True is password entered is correct or same as actual_password otherwise return False\n",
    "'''"
   ]
  },
  {
   "cell_type": "code",
   "execution_count": 53,
   "id": "0d385f0b",
   "metadata": {},
   "outputs": [
    {
     "name": "stdout",
     "output_type": "stream",
     "text": [
      "tummerihoXYZ\n"
     ]
    }
   ],
   "source": [
    "current_password = input()"
   ]
  },
  {
   "cell_type": "code",
   "execution_count": 55,
   "id": "7fbfba64",
   "metadata": {},
   "outputs": [
    {
     "name": "stdout",
     "output_type": "stream",
     "text": [
      "True\n"
     ]
    }
   ],
   "source": [
    "print(actual_password == current_password) # READ ABOUD ASCII"
   ]
  },
  {
   "cell_type": "code",
   "execution_count": 56,
   "id": "83dcb578",
   "metadata": {},
   "outputs": [
    {
     "name": "stdout",
     "output_type": "stream",
     "text": [
      "True\n"
     ]
    }
   ],
   "source": [
    "print(4 == 4)"
   ]
  },
  {
   "cell_type": "code",
   "execution_count": 58,
   "id": "987bbfb9",
   "metadata": {},
   "outputs": [
    {
     "name": "stdout",
     "output_type": "stream",
     "text": [
      "True\n"
     ]
    }
   ],
   "source": [
    "print(4 != 5)"
   ]
  },
  {
   "cell_type": "code",
   "execution_count": 59,
   "id": "c1775233",
   "metadata": {},
   "outputs": [],
   "source": [
    "marks = 50\n",
    "correction = 0.5"
   ]
  },
  {
   "cell_type": "code",
   "execution_count": 60,
   "id": "a536d9a5",
   "metadata": {},
   "outputs": [],
   "source": [
    "marks = marks + correction"
   ]
  },
  {
   "cell_type": "code",
   "execution_count": 61,
   "id": "41066252",
   "metadata": {},
   "outputs": [
    {
     "data": {
      "text/plain": [
       "50.5"
      ]
     },
     "execution_count": 61,
     "metadata": {},
     "output_type": "execute_result"
    }
   ],
   "source": [
    "marks"
   ]
  },
  {
   "cell_type": "code",
   "execution_count": 64,
   "id": "f2dc6039",
   "metadata": {},
   "outputs": [],
   "source": [
    "marks += correction # marks = marks + correction"
   ]
  },
  {
   "cell_type": "code",
   "execution_count": 63,
   "id": "da933a5d",
   "metadata": {},
   "outputs": [
    {
     "data": {
      "text/plain": [
       "51.0"
      ]
     },
     "execution_count": 63,
     "metadata": {},
     "output_type": "execute_result"
    }
   ],
   "source": [
    "marks"
   ]
  },
  {
   "cell_type": "code",
   "execution_count": 65,
   "id": "554deb5b",
   "metadata": {},
   "outputs": [],
   "source": [
    "marks -= 20"
   ]
  },
  {
   "cell_type": "code",
   "execution_count": 66,
   "id": "06c89770",
   "metadata": {},
   "outputs": [
    {
     "data": {
      "text/plain": [
       "31.5"
      ]
     },
     "execution_count": 66,
     "metadata": {},
     "output_type": "execute_result"
    }
   ],
   "source": [
    "marks"
   ]
  },
  {
   "cell_type": "code",
   "execution_count": 67,
   "id": "e4a1490f",
   "metadata": {},
   "outputs": [],
   "source": [
    "marks *= 2"
   ]
  },
  {
   "cell_type": "code",
   "execution_count": 68,
   "id": "172b73d1",
   "metadata": {},
   "outputs": [
    {
     "data": {
      "text/plain": [
       "63.0"
      ]
     },
     "execution_count": 68,
     "metadata": {},
     "output_type": "execute_result"
    }
   ],
   "source": [
    "marks"
   ]
  },
  {
   "cell_type": "code",
   "execution_count": 69,
   "id": "28de33e1",
   "metadata": {},
   "outputs": [],
   "source": [
    "marks /= 1"
   ]
  },
  {
   "cell_type": "code",
   "execution_count": 70,
   "id": "48399514",
   "metadata": {},
   "outputs": [
    {
     "data": {
      "text/plain": [
       "63.0"
      ]
     },
     "execution_count": 70,
     "metadata": {},
     "output_type": "execute_result"
    }
   ],
   "source": [
    "marks"
   ]
  },
  {
   "cell_type": "code",
   "execution_count": 71,
   "id": "2045ec17",
   "metadata": {},
   "outputs": [],
   "source": [
    "marks //= 2"
   ]
  },
  {
   "cell_type": "code",
   "execution_count": 72,
   "id": "5f480b74",
   "metadata": {},
   "outputs": [
    {
     "data": {
      "text/plain": [
       "31.0"
      ]
     },
     "execution_count": 72,
     "metadata": {},
     "output_type": "execute_result"
    }
   ],
   "source": [
    "marks"
   ]
  },
  {
   "cell_type": "code",
   "execution_count": 73,
   "id": "d25bfe3e",
   "metadata": {},
   "outputs": [],
   "source": [
    "marks **= 2"
   ]
  },
  {
   "cell_type": "code",
   "execution_count": 74,
   "id": "7cbb4e3e",
   "metadata": {},
   "outputs": [
    {
     "data": {
      "text/plain": [
       "961.0"
      ]
     },
     "execution_count": 74,
     "metadata": {},
     "output_type": "execute_result"
    }
   ],
   "source": [
    "marks"
   ]
  },
  {
   "cell_type": "code",
   "execution_count": 75,
   "id": "965f6ff5",
   "metadata": {},
   "outputs": [],
   "source": [
    "marks %= 3"
   ]
  },
  {
   "cell_type": "code",
   "execution_count": 76,
   "id": "1d5e5779",
   "metadata": {},
   "outputs": [
    {
     "data": {
      "text/plain": [
       "1.0"
      ]
     },
     "execution_count": 76,
     "metadata": {},
     "output_type": "execute_result"
    }
   ],
   "source": [
    "marks"
   ]
  },
  {
   "cell_type": "code",
   "execution_count": 78,
   "id": "b7d2c6c1",
   "metadata": {},
   "outputs": [
    {
     "name": "stdout",
     "output_type": "stream",
     "text": [
      "True\n"
     ]
    }
   ],
   "source": [
    "print(True and True or False and True)\n",
    "# True or False and True\n",
    "# True and True\n",
    "# True"
   ]
  },
  {
   "cell_type": "code",
   "execution_count": 79,
   "id": "16634332",
   "metadata": {},
   "outputs": [
    {
     "data": {
      "text/plain": [
       "False"
      ]
     },
     "execution_count": 79,
     "metadata": {},
     "output_type": "execute_result"
    }
   ],
   "source": [
    "not True"
   ]
  },
  {
   "cell_type": "code",
   "execution_count": 80,
   "id": "40f13104",
   "metadata": {},
   "outputs": [
    {
     "data": {
      "text/plain": [
       "True"
      ]
     },
     "execution_count": 80,
     "metadata": {},
     "output_type": "execute_result"
    }
   ],
   "source": [
    "not False"
   ]
  },
  {
   "cell_type": "code",
   "execution_count": 81,
   "id": "201f28e0",
   "metadata": {},
   "outputs": [],
   "source": [
    "marks = 10"
   ]
  },
  {
   "cell_type": "code",
   "execution_count": 82,
   "id": "2a08fdca",
   "metadata": {},
   "outputs": [],
   "source": [
    "marks //= 2"
   ]
  },
  {
   "cell_type": "code",
   "execution_count": 83,
   "id": "ac0d5d01",
   "metadata": {},
   "outputs": [
    {
     "data": {
      "text/plain": [
       "5"
      ]
     },
     "execution_count": 83,
     "metadata": {},
     "output_type": "execute_result"
    }
   ],
   "source": [
    "marks"
   ]
  },
  {
   "cell_type": "code",
   "execution_count": 84,
   "id": "f52ebcc7",
   "metadata": {},
   "outputs": [],
   "source": [
    "marks = 10.0"
   ]
  },
  {
   "cell_type": "code",
   "execution_count": 85,
   "id": "4a2cefca",
   "metadata": {},
   "outputs": [],
   "source": [
    "marks //= 2"
   ]
  },
  {
   "cell_type": "code",
   "execution_count": 86,
   "id": "0056bef3",
   "metadata": {},
   "outputs": [
    {
     "data": {
      "text/plain": [
       "5.0"
      ]
     },
     "execution_count": 86,
     "metadata": {},
     "output_type": "execute_result"
    }
   ],
   "source": [
    "marks"
   ]
  },
  {
   "cell_type": "code",
   "execution_count": 87,
   "id": "dc83c369",
   "metadata": {},
   "outputs": [
    {
     "data": {
      "text/plain": [
       "''"
      ]
     },
     "execution_count": 87,
     "metadata": {},
     "output_type": "execute_result"
    }
   ],
   "source": [
    "False or \"\""
   ]
  },
  {
   "cell_type": "code",
   "execution_count": 89,
   "id": "dae2b68e",
   "metadata": {},
   "outputs": [
    {
     "name": "stdout",
     "output_type": "stream",
     "text": [
      "20\n"
     ]
    }
   ],
   "source": [
    "x = print(4*5)"
   ]
  },
  {
   "cell_type": "code",
   "execution_count": 90,
   "id": "44802331",
   "metadata": {},
   "outputs": [
    {
     "name": "stdout",
     "output_type": "stream",
     "text": [
      "None\n"
     ]
    }
   ],
   "source": [
    "print(x)"
   ]
  },
  {
   "cell_type": "code",
   "execution_count": 91,
   "id": "b36602e2",
   "metadata": {},
   "outputs": [
    {
     "data": {
      "text/plain": [
       "NoneType"
      ]
     },
     "execution_count": 91,
     "metadata": {},
     "output_type": "execute_result"
    }
   ],
   "source": [
    "type(None)"
   ]
  },
  {
   "cell_type": "code",
   "execution_count": 92,
   "id": "e85e811b",
   "metadata": {},
   "outputs": [
    {
     "data": {
      "text/plain": [
       "int"
      ]
     },
     "execution_count": 92,
     "metadata": {},
     "output_type": "execute_result"
    }
   ],
   "source": [
    "type(4*3)"
   ]
  },
  {
   "cell_type": "code",
   "execution_count": 95,
   "id": "ade596e3",
   "metadata": {},
   "outputs": [
    {
     "name": "stdout",
     "output_type": "stream",
     "text": [
      "None\n"
     ]
    }
   ],
   "source": [
    "print(None)"
   ]
  },
  {
   "cell_type": "code",
   "execution_count": 96,
   "id": "420fe088",
   "metadata": {},
   "outputs": [
    {
     "data": {
      "text/plain": [
       "True"
      ]
     },
     "execution_count": 96,
     "metadata": {},
     "output_type": "execute_result"
    }
   ],
   "source": [
    "True == 1"
   ]
  },
  {
   "cell_type": "code",
   "execution_count": 97,
   "id": "e7525e74",
   "metadata": {},
   "outputs": [
    {
     "data": {
      "text/plain": [
       "True"
      ]
     },
     "execution_count": 97,
     "metadata": {},
     "output_type": "execute_result"
    }
   ],
   "source": [
    "False == 0"
   ]
  },
  {
   "cell_type": "code",
   "execution_count": null,
   "id": "9b5a7449",
   "metadata": {},
   "outputs": [],
   "source": []
  }
 ],
 "metadata": {
  "kernelspec": {
   "display_name": "Python 3 (ipykernel)",
   "language": "python",
   "name": "python3"
  },
  "language_info": {
   "codemirror_mode": {
    "name": "ipython",
    "version": 3
   },
   "file_extension": ".py",
   "mimetype": "text/x-python",
   "name": "python",
   "nbconvert_exporter": "python",
   "pygments_lexer": "ipython3",
   "version": "3.9.5"
  }
 },
 "nbformat": 4,
 "nbformat_minor": 5
}
