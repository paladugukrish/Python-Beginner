{
 "cells": [
  {
   "cell_type": "code",
   "execution_count": 1,
   "id": "e1c6af35",
   "metadata": {},
   "outputs": [],
   "source": [
    "x = \"double quotes\""
   ]
  },
  {
   "cell_type": "code",
   "execution_count": 3,
   "id": "e5caa9ae",
   "metadata": {},
   "outputs": [],
   "source": [
    "y = 'single quotes'"
   ]
  },
  {
   "cell_type": "code",
   "execution_count": 8,
   "id": "cd8ca073",
   "metadata": {},
   "outputs": [],
   "source": [
    "z = '''triple quotes''' # docstrings"
   ]
  },
  {
   "cell_type": "code",
   "execution_count": 16,
   "id": "1ef624f6",
   "metadata": {},
   "outputs": [],
   "source": [
    "a = \"\"\"triple double quotes\"\"\" # docstrings"
   ]
  },
  {
   "cell_type": "code",
   "execution_count": 9,
   "id": "4c2f3218",
   "metadata": {},
   "outputs": [
    {
     "data": {
      "text/plain": [
       "str"
      ]
     },
     "execution_count": 9,
     "metadata": {},
     "output_type": "execute_result"
    }
   ],
   "source": [
    "type(x)"
   ]
  },
  {
   "cell_type": "code",
   "execution_count": 10,
   "id": "7e51c04e",
   "metadata": {},
   "outputs": [
    {
     "data": {
      "text/plain": [
       "str"
      ]
     },
     "execution_count": 10,
     "metadata": {},
     "output_type": "execute_result"
    }
   ],
   "source": [
    "type(y)"
   ]
  },
  {
   "cell_type": "code",
   "execution_count": 11,
   "id": "4e0680f7",
   "metadata": {},
   "outputs": [
    {
     "data": {
      "text/plain": [
       "str"
      ]
     },
     "execution_count": 11,
     "metadata": {},
     "output_type": "execute_result"
    }
   ],
   "source": [
    "type(z)"
   ]
  },
  {
   "cell_type": "code",
   "execution_count": 12,
   "id": "46633ade",
   "metadata": {},
   "outputs": [],
   "source": [
    "x = \"Whatever I write, UPPERCASE, lowercase, @#*&^@#*&^$#$%^&*(), 29854323456789, {}<:<\""
   ]
  },
  {
   "cell_type": "code",
   "execution_count": 13,
   "id": "2c4b8594",
   "metadata": {},
   "outputs": [
    {
     "data": {
      "text/plain": [
       "str"
      ]
     },
     "execution_count": 13,
     "metadata": {},
     "output_type": "execute_result"
    }
   ],
   "source": [
    "type(x)"
   ]
  },
  {
   "cell_type": "code",
   "execution_count": 14,
   "id": "f818aa6d",
   "metadata": {},
   "outputs": [
    {
     "name": "stdout",
     "output_type": "stream",
     "text": [
      "Whatever I write, UPPERCASE, lowercase, @#*&^@#*&^$#$%^&*(), 29854323456789, {}<:<\n"
     ]
    }
   ],
   "source": [
    "print(x)"
   ]
  },
  {
   "cell_type": "code",
   "execution_count": 17,
   "id": "52b18c04",
   "metadata": {},
   "outputs": [],
   "source": [
    "# we can't use mixed quotations"
   ]
  },
  {
   "cell_type": "code",
   "execution_count": 20,
   "id": "782e1405",
   "metadata": {},
   "outputs": [
    {
     "ename": "SyntaxError",
     "evalue": "EOL while scanning string literal (3803207284.py, line 2)",
     "output_type": "error",
     "traceback": [
      "\u001b[0;36m  File \u001b[0;32m\"/var/folders/nn/c52y0d3j0gq59dpsswchkt2r0000gn/T/ipykernel_88127/3803207284.py\"\u001b[0;36m, line \u001b[0;32m2\u001b[0m\n\u001b[0;31m    'a\"\u001b[0m\n\u001b[0m        ^\u001b[0m\n\u001b[0;31mSyntaxError\u001b[0m\u001b[0;31m:\u001b[0m EOL while scanning string literal\n"
     ]
    }
   ],
   "source": [
    "# this is not valid\n",
    "'a\" "
   ]
  },
  {
   "cell_type": "code",
   "execution_count": 30,
   "id": "a3d5f48e",
   "metadata": {},
   "outputs": [],
   "source": [
    "x = \"'ab'\" # single quotes inside double quotes\n",
    "y = '\"ab\"' # double quotes inside single quotes"
   ]
  },
  {
   "cell_type": "code",
   "execution_count": 31,
   "id": "6d84e30d",
   "metadata": {},
   "outputs": [
    {
     "name": "stdout",
     "output_type": "stream",
     "text": [
      "'ab'\n",
      "\"ab\"\n"
     ]
    }
   ],
   "source": [
    "print(x)\n",
    "print(y)"
   ]
  },
  {
   "cell_type": "code",
   "execution_count": 32,
   "id": "be145e31",
   "metadata": {},
   "outputs": [],
   "source": [
    "z = \"\\\"ab\\\"\" # escape characters - TO BE COVERED TOMORROW"
   ]
  },
  {
   "cell_type": "code",
   "execution_count": 33,
   "id": "798eed4a",
   "metadata": {},
   "outputs": [
    {
     "name": "stdout",
     "output_type": "stream",
     "text": [
      "\"ab\"\n"
     ]
    }
   ],
   "source": [
    "print(z)"
   ]
  },
  {
   "cell_type": "code",
   "execution_count": 37,
   "id": "f19786c6",
   "metadata": {},
   "outputs": [
    {
     "data": {
      "text/plain": [
       "True"
      ]
     },
     "execution_count": 37,
     "metadata": {},
     "output_type": "execute_result"
    }
   ],
   "source": [
    "\"a\" > \"A\"\n",
    "# This comparison happens on the basis of ASCII values\n",
    "# MORE ABOUT ASCII IN THE SECOND HALF TODAY"
   ]
  },
  {
   "cell_type": "code",
   "execution_count": 38,
   "id": "cd296ffc",
   "metadata": {},
   "outputs": [
    {
     "data": {
      "text/plain": [
       "'randomrandom2'"
      ]
     },
     "execution_count": 38,
     "metadata": {},
     "output_type": "execute_result"
    }
   ],
   "source": [
    "\"random\" + \"random2\" # concatenation"
   ]
  },
  {
   "cell_type": "code",
   "execution_count": 43,
   "id": "e497a6b1",
   "metadata": {},
   "outputs": [],
   "source": [
    "a = \"a\" * 3 * 2"
   ]
  },
  {
   "cell_type": "code",
   "execution_count": 44,
   "id": "c8f1aaf3",
   "metadata": {},
   "outputs": [
    {
     "name": "stdout",
     "output_type": "stream",
     "text": [
      "aaaaaa\n"
     ]
    }
   ],
   "source": [
    "print(a)"
   ]
  },
  {
   "cell_type": "code",
   "execution_count": 41,
   "id": "2a4948eb",
   "metadata": {},
   "outputs": [
    {
     "data": {
      "text/plain": [
       "False"
      ]
     },
     "execution_count": 41,
     "metadata": {},
     "output_type": "execute_result"
    }
   ],
   "source": [
    "\"abc\" > \"cba\" # lexicographical comparison"
   ]
  },
  {
   "cell_type": "code",
   "execution_count": 45,
   "id": "0c12e12c",
   "metadata": {},
   "outputs": [
    {
     "data": {
      "text/plain": [
       "True"
      ]
     },
     "execution_count": 45,
     "metadata": {},
     "output_type": "execute_result"
    }
   ],
   "source": [
    "\"zebra\" > \"abeyasdsdjhfvskdahdhagdfhadjkbfvjahdfjDHSVGHfzgs\"\n",
    "# LEXICOGRAPHICAL\n",
    "# String which comes later in a dictionary has higher value"
   ]
  },
  {
   "cell_type": "code",
   "execution_count": 46,
   "id": "484b76db",
   "metadata": {},
   "outputs": [
    {
     "data": {
      "text/plain": [
       "True"
      ]
     },
     "execution_count": 46,
     "metadata": {},
     "output_type": "execute_result"
    }
   ],
   "source": [
    "\"zebra\" > \"ZEBRA\"\n",
    "# ASCII BASED\n",
    "# We will learning more about this in the second half"
   ]
  },
  {
   "cell_type": "code",
   "execution_count": 47,
   "id": "b0edbb4a",
   "metadata": {},
   "outputs": [],
   "source": [
    "length = 5\n",
    "breadth = 10\n",
    "area = length * breadth"
   ]
  },
  {
   "cell_type": "code",
   "execution_count": 49,
   "id": "869757ed",
   "metadata": {},
   "outputs": [],
   "source": [
    "def calc_area(l, b):\n",
    "    a = l*b\n",
    "    # length = l, breadth = b and area = a"
   ]
  },
  {
   "cell_type": "code",
   "execution_count": 50,
   "id": "02398e48",
   "metadata": {},
   "outputs": [],
   "source": [
    "def calc_area(l, b):\n",
    "    a = l*b\n",
    "    print(\"length =\", l, \",breadth =\", b, \",area =\", a)"
   ]
  },
  {
   "cell_type": "code",
   "execution_count": 51,
   "id": "bc0e7885",
   "metadata": {},
   "outputs": [
    {
     "name": "stdout",
     "output_type": "stream",
     "text": [
      "length = 4 ,breadth = 5 ,area = 20\n"
     ]
    }
   ],
   "source": [
    "calc_area(4,5)"
   ]
  },
  {
   "cell_type": "code",
   "execution_count": 52,
   "id": "844d4da2",
   "metadata": {},
   "outputs": [],
   "source": [
    "def calc_area(l, b):\n",
    "    a = l*b\n",
    "    print(\"length = {}, breath = {}, area = {}\".format(l, b, a))"
   ]
  },
  {
   "cell_type": "code",
   "execution_count": 53,
   "id": "a738d8cb",
   "metadata": {},
   "outputs": [
    {
     "name": "stdout",
     "output_type": "stream",
     "text": [
      "length = 4, breath = 5, area = 20\n"
     ]
    }
   ],
   "source": [
    "calc_area(4,5)"
   ]
  },
  {
   "cell_type": "code",
   "execution_count": 56,
   "id": "cc7b8079",
   "metadata": {},
   "outputs": [],
   "source": [
    "def calc_area(l, b):\n",
    "    a = l*b\n",
    "    print(\"length = {2}, breath = {1}, area = {0}\".format(a, b, l))"
   ]
  },
  {
   "cell_type": "code",
   "execution_count": 57,
   "id": "a0d935b2",
   "metadata": {},
   "outputs": [
    {
     "name": "stdout",
     "output_type": "stream",
     "text": [
      "length = 4, breath = 5, area = 20\n"
     ]
    }
   ],
   "source": [
    "calc_area(4,5)"
   ]
  },
  {
   "cell_type": "code",
   "execution_count": 58,
   "id": "9588842c",
   "metadata": {},
   "outputs": [],
   "source": [
    "def calc_area(l, b):\n",
    "    a = l*b\n",
    "    print(f\"length = {l}, breadth = {b}, area = {a}\")"
   ]
  },
  {
   "cell_type": "code",
   "execution_count": 59,
   "id": "191c80fd",
   "metadata": {},
   "outputs": [
    {
     "name": "stdout",
     "output_type": "stream",
     "text": [
      "length = 4, breadth = 5, area = 20\n"
     ]
    }
   ],
   "source": [
    "calc_area(4,5)"
   ]
  },
  {
   "cell_type": "code",
   "execution_count": 60,
   "id": "045d8a01",
   "metadata": {},
   "outputs": [],
   "source": [
    "s1 = \"string1\"\n",
    "s2 = \"string2\"\n",
    "\n",
    "a = f\"{s1}, {s2}\""
   ]
  },
  {
   "cell_type": "code",
   "execution_count": 61,
   "id": "0ca88dd7",
   "metadata": {},
   "outputs": [
    {
     "data": {
      "text/plain": [
       "'string1, string2'"
      ]
     },
     "execution_count": 61,
     "metadata": {},
     "output_type": "execute_result"
    }
   ],
   "source": [
    "a"
   ]
  },
  {
   "cell_type": "code",
   "execution_count": 70,
   "id": "f6455c46",
   "metadata": {},
   "outputs": [
    {
     "data": {
      "text/plain": [
       "97"
      ]
     },
     "execution_count": 70,
     "metadata": {},
     "output_type": "execute_result"
    }
   ],
   "source": [
    "ord(\"a\") # check integer value of character"
   ]
  },
  {
   "cell_type": "code",
   "execution_count": 71,
   "id": "fe2185a9",
   "metadata": {},
   "outputs": [
    {
     "data": {
      "text/plain": [
       "128516"
      ]
     },
     "execution_count": 71,
     "metadata": {},
     "output_type": "execute_result"
    }
   ],
   "source": [
    "ord(\"😄\") # UTF - 8"
   ]
  },
  {
   "cell_type": "code",
   "execution_count": 72,
   "id": "20e281b8",
   "metadata": {},
   "outputs": [
    {
     "data": {
      "text/plain": [
       "10"
      ]
     },
     "execution_count": 72,
     "metadata": {},
     "output_type": "execute_result"
    }
   ],
   "source": [
    "ord(\"\\n\")"
   ]
  },
  {
   "cell_type": "code",
   "execution_count": 73,
   "id": "724afd94",
   "metadata": {},
   "outputs": [
    {
     "data": {
      "text/plain": [
       "'8'"
      ]
     },
     "execution_count": 73,
     "metadata": {},
     "output_type": "execute_result"
    }
   ],
   "source": [
    "chr(56) # get character from integer value"
   ]
  },
  {
   "cell_type": "code",
   "execution_count": 74,
   "id": "bdd245a1",
   "metadata": {},
   "outputs": [
    {
     "data": {
      "text/plain": [
       "'😄'"
      ]
     },
     "execution_count": 74,
     "metadata": {},
     "output_type": "execute_result"
    }
   ],
   "source": [
    "chr(128516)"
   ]
  },
  {
   "cell_type": "code",
   "execution_count": 75,
   "id": "773ee2e6",
   "metadata": {},
   "outputs": [
    {
     "data": {
      "text/plain": [
       "'\\nQuestion 1 -\\n1. Take a string as input from the user.\\n2. Print thew string character by character in new lines.\\n\\nINPUT - VIRAT\\nOUTPUT -\\nV\\nI\\nR\\nA\\nT\\n'"
      ]
     },
     "execution_count": 75,
     "metadata": {},
     "output_type": "execute_result"
    }
   ],
   "source": [
    "'''\n",
    "Question 1 -\n",
    "1. Take a string as input from the user.\n",
    "2. Print thew string character by character in new lines.\n",
    "\n",
    "INPUT - VIRAT\n",
    "OUTPUT -\n",
    "V\n",
    "I\n",
    "R\n",
    "A\n",
    "T\n",
    "'''"
   ]
  },
  {
   "cell_type": "code",
   "execution_count": 76,
   "id": "22ebc442",
   "metadata": {},
   "outputs": [
    {
     "name": "stdout",
     "output_type": "stream",
     "text": [
      "INDIA\n",
      "I\n",
      "N\n",
      "D\n",
      "I\n",
      "A\n"
     ]
    }
   ],
   "source": [
    "a = input()\n",
    "\n",
    "for i in a:\n",
    "    print(i)"
   ]
  },
  {
   "cell_type": "code",
   "execution_count": 77,
   "id": "6f617a2c",
   "metadata": {},
   "outputs": [
    {
     "data": {
      "text/plain": [
       "'\\nQuestion 2 -\\n1. Take a string as input from the user.\\n2. Print the following - \\n\"First Character - f, Last Character - l\"\\n'"
      ]
     },
     "execution_count": 77,
     "metadata": {},
     "output_type": "execute_result"
    }
   ],
   "source": [
    "'''\n",
    "Question 2 -\n",
    "1. Take a string as input from the user.\n",
    "2. Print the following - \n",
    "\"First Character - f, Last Character - l\"\n",
    "'''"
   ]
  },
  {
   "cell_type": "code",
   "execution_count": 78,
   "id": "ec2129c5",
   "metadata": {},
   "outputs": [
    {
     "name": "stdout",
     "output_type": "stream",
     "text": [
      "SHAILENDAR\n",
      "First Character - S, Last Character - R\n"
     ]
    }
   ],
   "source": [
    "a = input()\n",
    "\n",
    "print(f\"First Character - {a[0]}, Last Character - {a[-1]}\")"
   ]
  },
  {
   "cell_type": "code",
   "execution_count": 79,
   "id": "7abd4fd6",
   "metadata": {},
   "outputs": [
    {
     "data": {
      "text/plain": [
       "'\\nQuestion 3 -\\n1. Take a string as input from the user.\\n2. Reverse that string.\\n'"
      ]
     },
     "execution_count": 79,
     "metadata": {},
     "output_type": "execute_result"
    }
   ],
   "source": [
    "'''\n",
    "Question 3 -\n",
    "1. Take a string as input from the user.\n",
    "2. Reverse that string.\n",
    "'''"
   ]
  },
  {
   "cell_type": "code",
   "execution_count": 80,
   "id": "7849b544",
   "metadata": {},
   "outputs": [
    {
     "name": "stdout",
     "output_type": "stream",
     "text": [
      "Sudhendu\n"
     ]
    },
    {
     "data": {
      "text/plain": [
       "'udnehduS'"
      ]
     },
     "execution_count": 80,
     "metadata": {},
     "output_type": "execute_result"
    }
   ],
   "source": [
    "a = input()\n",
    "\n",
    "a[::-1]"
   ]
  },
  {
   "cell_type": "code",
   "execution_count": 81,
   "id": "463eb197",
   "metadata": {},
   "outputs": [
    {
     "data": {
      "text/plain": [
       "'\\nQuestion 4 -\\n1. Take a string as input from the user.\\n2. Check whether that string is a palindrome.\\n   Create a function which returns \"PALINDROME\" if true otherwise \"NOT A PALINDROME.\"\\n'"
      ]
     },
     "execution_count": 81,
     "metadata": {},
     "output_type": "execute_result"
    }
   ],
   "source": [
    "'''\n",
    "Question 4 -\n",
    "1. Take a string as input from the user.\n",
    "2. Check whether that string is a palindrome.\n",
    "   Create a function which returns \"PALINDROME\" if true otherwise \"NOT A PALINDROME.\"\n",
    "'''"
   ]
  },
  {
   "cell_type": "code",
   "execution_count": 82,
   "id": "6ca5ee64",
   "metadata": {},
   "outputs": [
    {
     "data": {
      "text/plain": [
       "'BipIn'"
      ]
     },
     "execution_count": 82,
     "metadata": {},
     "output_type": "execute_result"
    }
   ],
   "source": [
    "\"BipIn\" # this is also considered to be a palindrome"
   ]
  },
  {
   "cell_type": "code",
   "execution_count": 84,
   "id": "60564c3d",
   "metadata": {},
   "outputs": [
    {
     "name": "stdout",
     "output_type": "stream",
     "text": [
      "NAMAN\n"
     ]
    }
   ],
   "source": [
    "a = input()\n",
    "\n",
    "def check_palindrome(a):\n",
    "    a = a.lower()\n",
    "    \n",
    "    return \"PALINDROME\" if a == a[::-1] else \"NOT A PALINDROME\""
   ]
  },
  {
   "cell_type": "code",
   "execution_count": 85,
   "id": "a55fe188",
   "metadata": {},
   "outputs": [
    {
     "data": {
      "text/plain": [
       "'PALINDROME'"
      ]
     },
     "execution_count": 85,
     "metadata": {},
     "output_type": "execute_result"
    }
   ],
   "source": [
    "check_palindrome(a)"
   ]
  },
  {
   "cell_type": "code",
   "execution_count": 86,
   "id": "950d4606",
   "metadata": {},
   "outputs": [
    {
     "data": {
      "text/plain": [
       "'NOT A PALINDROME'"
      ]
     },
     "execution_count": 86,
     "metadata": {},
     "output_type": "execute_result"
    }
   ],
   "source": [
    "check_palindrome(\"nakul\")"
   ]
  },
  {
   "cell_type": "code",
   "execution_count": 87,
   "id": "d8efc588",
   "metadata": {},
   "outputs": [
    {
     "data": {
      "text/plain": [
       "'PALINDROME'"
      ]
     },
     "execution_count": 87,
     "metadata": {},
     "output_type": "execute_result"
    }
   ],
   "source": [
    "check_palindrome(\"NamAn\")"
   ]
  },
  {
   "cell_type": "code",
   "execution_count": 88,
   "id": "ffc0900a",
   "metadata": {},
   "outputs": [
    {
     "data": {
      "text/plain": [
       "'\\nQuestion 5 -\\n1. Take a string as input from the user.\\n2. Print the number of uppercase characters in that string. (alphabets)\\n\\nINPUT - \"This is a Random%^&*()\"\\nOUTPUT - 2\\n'"
      ]
     },
     "execution_count": 88,
     "metadata": {},
     "output_type": "execute_result"
    }
   ],
   "source": [
    "'''\n",
    "Question 5 -\n",
    "1. Take a string as input from the user.\n",
    "2. Print the number of uppercase characters in that string. (alphabets)\n",
    "\n",
    "INPUT - \"This is a Random%^&*()\"\n",
    "OUTPUT - 2\n",
    "'''"
   ]
  },
  {
   "cell_type": "code",
   "execution_count": 89,
   "id": "f91b05d1",
   "metadata": {},
   "outputs": [],
   "source": [
    "a = \"This is a Random%^&*()\""
   ]
  },
  {
   "cell_type": "code",
   "execution_count": 91,
   "id": "1d6b2013",
   "metadata": {},
   "outputs": [],
   "source": [
    "def count_uppercase(a):\n",
    "    count = 0\n",
    "    \n",
    "    for i in a:\n",
    "        if ord(i) >= 65 and ord(i) <= 90:\n",
    "            count += 1\n",
    "            \n",
    "    return count"
   ]
  },
  {
   "cell_type": "code",
   "execution_count": 92,
   "id": "9e88c336",
   "metadata": {},
   "outputs": [
    {
     "data": {
      "text/plain": [
       "2"
      ]
     },
     "execution_count": 92,
     "metadata": {},
     "output_type": "execute_result"
    }
   ],
   "source": [
    "count_uppercase(a)"
   ]
  },
  {
   "cell_type": "code",
   "execution_count": 93,
   "id": "5a180753",
   "metadata": {},
   "outputs": [],
   "source": [
    "def count_uppercase_easy(a):\n",
    "    count = 0\n",
    "    \n",
    "    for i in a:\n",
    "        if i.isupper():\n",
    "            count += 1\n",
    "            \n",
    "    return count"
   ]
  },
  {
   "cell_type": "code",
   "execution_count": 94,
   "id": "85953331",
   "metadata": {},
   "outputs": [
    {
     "data": {
      "text/plain": [
       "2"
      ]
     },
     "execution_count": 94,
     "metadata": {},
     "output_type": "execute_result"
    }
   ],
   "source": [
    "count_uppercase_easy(a)"
   ]
  },
  {
   "cell_type": "code",
   "execution_count": 95,
   "id": "0bf67fe2",
   "metadata": {},
   "outputs": [
    {
     "data": {
      "text/plain": [
       "True"
      ]
     },
     "execution_count": 95,
     "metadata": {},
     "output_type": "execute_result"
    }
   ],
   "source": [
    "\"A\".isupper()"
   ]
  },
  {
   "cell_type": "code",
   "execution_count": 96,
   "id": "41f57e35",
   "metadata": {},
   "outputs": [
    {
     "data": {
      "text/plain": [
       "False"
      ]
     },
     "execution_count": 96,
     "metadata": {},
     "output_type": "execute_result"
    }
   ],
   "source": [
    "\"A\".islower()"
   ]
  },
  {
   "cell_type": "code",
   "execution_count": 97,
   "id": "48d9d469",
   "metadata": {},
   "outputs": [
    {
     "data": {
      "text/plain": [
       "True"
      ]
     },
     "execution_count": 97,
     "metadata": {},
     "output_type": "execute_result"
    }
   ],
   "source": [
    "\"a\".islower()"
   ]
  },
  {
   "cell_type": "code",
   "execution_count": 99,
   "id": "0c49f9af",
   "metadata": {},
   "outputs": [
    {
     "data": {
      "text/plain": [
       "'\\nQuestion 6 -\\n1. You are given a list as input to a function.\\n2. Generate a string from the chr values of the integers in the list.\\n\\nINPUT = [65, 97, 68]\\nOUTPUT = \"AaD\"\\n\\nEXPLANATION - \\n\"A\" -> 65\\n\"a\" -> 97\\n\"D\" -> 68\\n'"
      ]
     },
     "execution_count": 99,
     "metadata": {},
     "output_type": "execute_result"
    }
   ],
   "source": [
    "'''\n",
    "Question 6 -\n",
    "1. You are given a list as input to a function.\n",
    "2. Generate a string from the chr values of the integers in the list.\n",
    "\n",
    "INPUT = [65, 97, 68]\n",
    "OUTPUT = \"AaD\"\n",
    "\n",
    "EXPLANATION - \n",
    "\"A\" -> 65\n",
    "\"a\" -> 97\n",
    "\"D\" -> 68\n",
    "'''"
   ]
  },
  {
   "cell_type": "code",
   "execution_count": 100,
   "id": "04065c53",
   "metadata": {},
   "outputs": [],
   "source": [
    "a = [65, 69, 80, 120, 110, 10, 100, 128516, 122342, 55]"
   ]
  },
  {
   "cell_type": "code",
   "execution_count": 101,
   "id": "b12a5b22",
   "metadata": {},
   "outputs": [],
   "source": [
    "def generate_string(a):\n",
    "    s = \"\"\n",
    "    \n",
    "    for i in a:\n",
    "        s += chr(i)\n",
    "    \n",
    "    return s"
   ]
  },
  {
   "cell_type": "code",
   "execution_count": 102,
   "id": "0a5f3680",
   "metadata": {},
   "outputs": [
    {
     "data": {
      "text/plain": [
       "'AEPxn\\nd😄\\U0001dde67'"
      ]
     },
     "execution_count": 102,
     "metadata": {},
     "output_type": "execute_result"
    }
   ],
   "source": [
    "generate_string(a)"
   ]
  },
  {
   "cell_type": "code",
   "execution_count": null,
   "id": "c29a3cf5",
   "metadata": {},
   "outputs": [],
   "source": [
    "chr()"
   ]
  }
 ],
 "metadata": {
  "kernelspec": {
   "display_name": "Python 3 (ipykernel)",
   "language": "python",
   "name": "python3"
  },
  "language_info": {
   "codemirror_mode": {
    "name": "ipython",
    "version": 3
   },
   "file_extension": ".py",
   "mimetype": "text/x-python",
   "name": "python",
   "nbconvert_exporter": "python",
   "pygments_lexer": "ipython3",
   "version": "3.9.5"
  }
 },
 "nbformat": 4,
 "nbformat_minor": 5
}
