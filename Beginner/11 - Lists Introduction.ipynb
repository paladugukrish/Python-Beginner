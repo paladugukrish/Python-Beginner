{
 "cells": [
  {
   "cell_type": "code",
   "execution_count": 1,
   "id": "e58acf93",
   "metadata": {},
   "outputs": [],
   "source": [
    "# create a list -> []\n",
    "runs_virat = [67, 54, 12, 34, 77, 89, 101]\n",
    "\n",
    "# there is no limit to how many values you can store in a list"
   ]
  },
  {
   "cell_type": "code",
   "execution_count": 2,
   "id": "87a33982",
   "metadata": {},
   "outputs": [
    {
     "data": {
      "text/plain": [
       "[67, 54, 12, 34, 77, 89, 101]"
      ]
     },
     "execution_count": 2,
     "metadata": {},
     "output_type": "execute_result"
    }
   ],
   "source": [
    "runs_virat"
   ]
  },
  {
   "cell_type": "code",
   "execution_count": 3,
   "id": "6816c948",
   "metadata": {},
   "outputs": [
    {
     "data": {
      "text/plain": [
       "list"
      ]
     },
     "execution_count": 3,
     "metadata": {},
     "output_type": "execute_result"
    }
   ],
   "source": [
    "type(runs_virat)"
   ]
  },
  {
   "cell_type": "code",
   "execution_count": 4,
   "id": "14804860",
   "metadata": {},
   "outputs": [],
   "source": [
    "# How do I access a value?"
   ]
  },
  {
   "cell_type": "code",
   "execution_count": 7,
   "id": "0dbec0c0",
   "metadata": {},
   "outputs": [],
   "source": [
    "# Values in lists are accessbile using indexes\n",
    "# Indexes start at 0"
   ]
  },
  {
   "cell_type": "code",
   "execution_count": 8,
   "id": "6065c702",
   "metadata": {},
   "outputs": [
    {
     "data": {
      "text/plain": [
       "12"
      ]
     },
     "execution_count": 8,
     "metadata": {},
     "output_type": "execute_result"
    }
   ],
   "source": [
    "runs_virat[2]"
   ]
  },
  {
   "cell_type": "code",
   "execution_count": 10,
   "id": "6150a91d",
   "metadata": {},
   "outputs": [
    {
     "data": {
      "text/plain": [
       "54"
      ]
     },
     "execution_count": 10,
     "metadata": {},
     "output_type": "execute_result"
    }
   ],
   "source": [
    "runs_virat[1] # runs scored in second match"
   ]
  },
  {
   "cell_type": "code",
   "execution_count": 11,
   "id": "7ef60a3c",
   "metadata": {},
   "outputs": [],
   "source": [
    "a = [4,-2,7,8,9,10,1]"
   ]
  },
  {
   "cell_type": "code",
   "execution_count": 12,
   "id": "9afa0d12",
   "metadata": {},
   "outputs": [
    {
     "data": {
      "text/plain": [
       "-2"
      ]
     },
     "execution_count": 12,
     "metadata": {},
     "output_type": "execute_result"
    }
   ],
   "source": [
    "a[1]"
   ]
  },
  {
   "cell_type": "code",
   "execution_count": 13,
   "id": "09c2e12b",
   "metadata": {},
   "outputs": [
    {
     "data": {
      "text/plain": [
       "7"
      ]
     },
     "execution_count": 13,
     "metadata": {},
     "output_type": "execute_result"
    }
   ],
   "source": [
    "len(runs_virat)"
   ]
  },
  {
   "cell_type": "code",
   "execution_count": 15,
   "id": "4bef4620",
   "metadata": {},
   "outputs": [],
   "source": [
    "# HOW WOULD YOU GET THE RUNS SCORED IN THE LAST MATCH?"
   ]
  },
  {
   "cell_type": "code",
   "execution_count": 17,
   "id": "c4b1bf7d",
   "metadata": {},
   "outputs": [
    {
     "data": {
      "text/plain": [
       "[67, 54, 12, 34, 77, 89, 101]"
      ]
     },
     "execution_count": 17,
     "metadata": {},
     "output_type": "execute_result"
    }
   ],
   "source": [
    "runs_virat"
   ]
  },
  {
   "cell_type": "code",
   "execution_count": 19,
   "id": "84300342",
   "metadata": {},
   "outputs": [],
   "source": [
    "n = len(runs_virat)"
   ]
  },
  {
   "cell_type": "code",
   "execution_count": 21,
   "id": "0089daab",
   "metadata": {},
   "outputs": [
    {
     "data": {
      "text/plain": [
       "101"
      ]
     },
     "execution_count": 21,
     "metadata": {},
     "output_type": "execute_result"
    }
   ],
   "source": [
    "runs_virat[n - 1]"
   ]
  },
  {
   "cell_type": "code",
   "execution_count": 22,
   "id": "d99dfff3",
   "metadata": {},
   "outputs": [
    {
     "data": {
      "text/plain": [
       "89"
      ]
     },
     "execution_count": 22,
     "metadata": {},
     "output_type": "execute_result"
    }
   ],
   "source": [
    "runs_virat[n - 2]"
   ]
  },
  {
   "cell_type": "code",
   "execution_count": 23,
   "id": "bd766edd",
   "metadata": {},
   "outputs": [],
   "source": [
    "# NEGATIVE INDEXING"
   ]
  },
  {
   "cell_type": "code",
   "execution_count": 24,
   "id": "7b8f78cd",
   "metadata": {},
   "outputs": [
    {
     "data": {
      "text/plain": [
       "101"
      ]
     },
     "execution_count": 24,
     "metadata": {},
     "output_type": "execute_result"
    }
   ],
   "source": [
    "runs_virat[-1]"
   ]
  },
  {
   "cell_type": "code",
   "execution_count": 25,
   "id": "a2c99e4f",
   "metadata": {},
   "outputs": [
    {
     "data": {
      "text/plain": [
       "89"
      ]
     },
     "execution_count": 25,
     "metadata": {},
     "output_type": "execute_result"
    }
   ],
   "source": [
    "runs_virat[-2]"
   ]
  },
  {
   "cell_type": "code",
   "execution_count": 26,
   "id": "fbe2d14a",
   "metadata": {},
   "outputs": [
    {
     "data": {
      "text/plain": [
       "77"
      ]
     },
     "execution_count": 26,
     "metadata": {},
     "output_type": "execute_result"
    }
   ],
   "source": [
    "runs_virat[-3]"
   ]
  },
  {
   "cell_type": "code",
   "execution_count": 27,
   "id": "ae9980bb",
   "metadata": {},
   "outputs": [
    {
     "data": {
      "text/plain": [
       "67"
      ]
     },
     "execution_count": 27,
     "metadata": {},
     "output_type": "execute_result"
    }
   ],
   "source": [
    "runs_virat[-n]"
   ]
  },
  {
   "cell_type": "code",
   "execution_count": 28,
   "id": "0d9ea40d",
   "metadata": {},
   "outputs": [
    {
     "ename": "IndexError",
     "evalue": "list index out of range",
     "output_type": "error",
     "traceback": [
      "\u001b[0;31m---------------------------------------------------------------------------\u001b[0m",
      "\u001b[0;31mIndexError\u001b[0m                                Traceback (most recent call last)",
      "\u001b[0;32m/var/folders/nn/c52y0d3j0gq59dpsswchkt2r0000gn/T/ipykernel_45132/4176513291.py\u001b[0m in \u001b[0;36m<module>\u001b[0;34m\u001b[0m\n\u001b[0;32m----> 1\u001b[0;31m \u001b[0mruns_virat\u001b[0m\u001b[0;34m[\u001b[0m\u001b[0;36m10000\u001b[0m\u001b[0;34m]\u001b[0m\u001b[0;34m\u001b[0m\u001b[0;34m\u001b[0m\u001b[0m\n\u001b[0m",
      "\u001b[0;31mIndexError\u001b[0m: list index out of range"
     ]
    }
   ],
   "source": [
    "runs_virat[10000]"
   ]
  },
  {
   "cell_type": "code",
   "execution_count": 29,
   "id": "ed4ffebe",
   "metadata": {},
   "outputs": [],
   "source": [
    "runs_virat = [67, 54, 12, 34, 77, 89, 101]"
   ]
  },
  {
   "cell_type": "code",
   "execution_count": 30,
   "id": "fc5d7823",
   "metadata": {},
   "outputs": [
    {
     "data": {
      "text/plain": [
       "'\\nQuestion 1 - \\nPrint total of the runs scored on odd numbered matches i.e. odd positions.\\n'"
      ]
     },
     "execution_count": 30,
     "metadata": {},
     "output_type": "execute_result"
    }
   ],
   "source": [
    "'''\n",
    "Question 1 - \n",
    "Print total of the runs scored on odd numbered matches i.e. odd positions.\n",
    "'''"
   ]
  },
  {
   "cell_type": "code",
   "execution_count": 31,
   "id": "6e404635",
   "metadata": {},
   "outputs": [
    {
     "name": "stdout",
     "output_type": "stream",
     "text": [
      "257\n"
     ]
    }
   ],
   "source": [
    "print(runs_virat[0] + runs_virat[2] + runs_virat[4] + runs_virat[6])"
   ]
  },
  {
   "cell_type": "code",
   "execution_count": 32,
   "id": "fa211a03",
   "metadata": {},
   "outputs": [],
   "source": [
    "# Methods -> Special Functions of Python Objects -> OOPS -> Intermediate"
   ]
  },
  {
   "cell_type": "code",
   "execution_count": 34,
   "id": "6576fb6e",
   "metadata": {},
   "outputs": [],
   "source": [
    "runs = [67, 54, 12, 34, 77, 89, 101]"
   ]
  },
  {
   "cell_type": "code",
   "execution_count": 33,
   "id": "ae69f8fc",
   "metadata": {},
   "outputs": [],
   "source": [
    "# Append"
   ]
  },
  {
   "cell_type": "code",
   "execution_count": 35,
   "id": "7e46a788",
   "metadata": {},
   "outputs": [],
   "source": [
    "runs.append(71)"
   ]
  },
  {
   "cell_type": "code",
   "execution_count": 36,
   "id": "c85fc62f",
   "metadata": {},
   "outputs": [
    {
     "data": {
      "text/plain": [
       "[67, 54, 12, 34, 77, 89, 101, 71]"
      ]
     },
     "execution_count": 36,
     "metadata": {},
     "output_type": "execute_result"
    }
   ],
   "source": [
    "runs"
   ]
  },
  {
   "cell_type": "code",
   "execution_count": 37,
   "id": "ca0ea1dd",
   "metadata": {},
   "outputs": [],
   "source": [
    "# Insert"
   ]
  },
  {
   "cell_type": "code",
   "execution_count": 38,
   "id": "25e6172c",
   "metadata": {},
   "outputs": [],
   "source": [
    "# list.insert(index, value)\n",
    "runs.insert(0, 55)"
   ]
  },
  {
   "cell_type": "code",
   "execution_count": 39,
   "id": "baba214b",
   "metadata": {},
   "outputs": [
    {
     "data": {
      "text/plain": [
       "[55, 67, 54, 12, 34, 77, 89, 101, 71]"
      ]
     },
     "execution_count": 39,
     "metadata": {},
     "output_type": "execute_result"
    }
   ],
   "source": [
    "runs"
   ]
  },
  {
   "cell_type": "code",
   "execution_count": 40,
   "id": "2a80bbe0",
   "metadata": {},
   "outputs": [],
   "source": [
    "# Extend"
   ]
  },
  {
   "cell_type": "code",
   "execution_count": 41,
   "id": "84398823",
   "metadata": {},
   "outputs": [],
   "source": [
    "a = [12, 34, 56]"
   ]
  },
  {
   "cell_type": "code",
   "execution_count": 42,
   "id": "15d0a6b8",
   "metadata": {},
   "outputs": [],
   "source": [
    "a.append([45, 67])"
   ]
  },
  {
   "cell_type": "code",
   "execution_count": 44,
   "id": "2f65fbfb",
   "metadata": {},
   "outputs": [
    {
     "data": {
      "text/plain": [
       "[12, 34, 56, [45, 67]]"
      ]
     },
     "execution_count": 44,
     "metadata": {},
     "output_type": "execute_result"
    }
   ],
   "source": [
    "a # nested list"
   ]
  },
  {
   "cell_type": "code",
   "execution_count": 45,
   "id": "76b6f665",
   "metadata": {},
   "outputs": [],
   "source": [
    "a = [12, 34, 56]"
   ]
  },
  {
   "cell_type": "code",
   "execution_count": 46,
   "id": "6e490fb1",
   "metadata": {},
   "outputs": [],
   "source": [
    "a.extend([45, 67])"
   ]
  },
  {
   "cell_type": "code",
   "execution_count": 47,
   "id": "3001e3db",
   "metadata": {},
   "outputs": [
    {
     "data": {
      "text/plain": [
       "[12, 34, 56, 45, 67]"
      ]
     },
     "execution_count": 47,
     "metadata": {},
     "output_type": "execute_result"
    }
   ],
   "source": [
    "a"
   ]
  },
  {
   "cell_type": "code",
   "execution_count": 49,
   "id": "66f896d9",
   "metadata": {},
   "outputs": [
    {
     "data": {
      "text/plain": [
       "'\\nAppend -> Add one value to the end\\nInsert -> Add a value at any index of choie\\nExtend -> Append multiple values at the end\\n'"
      ]
     },
     "execution_count": 49,
     "metadata": {},
     "output_type": "execute_result"
    }
   ],
   "source": [
    "'''\n",
    "Append -> Add one value to the end\n",
    "Insert -> Add a value at any index of choie\n",
    "Extend -> Append multiple values at the end\n",
    "'''"
   ]
  },
  {
   "cell_type": "code",
   "execution_count": 50,
   "id": "622a02f1",
   "metadata": {},
   "outputs": [
    {
     "data": {
      "text/plain": [
       "[55, 67, 54, 12, 34, 77, 89, 101, 71]"
      ]
     },
     "execution_count": 50,
     "metadata": {},
     "output_type": "execute_result"
    }
   ],
   "source": [
    "runs"
   ]
  },
  {
   "cell_type": "code",
   "execution_count": 53,
   "id": "d805b9a8",
   "metadata": {},
   "outputs": [],
   "source": [
    "runs = runs + [89, 102, 64] # this works exactly like extend"
   ]
  },
  {
   "cell_type": "code",
   "execution_count": 52,
   "id": "e23398c3",
   "metadata": {},
   "outputs": [
    {
     "data": {
      "text/plain": [
       "[55, 67, 54, 12, 34, 77, 89, 101, 71, 89, 102, 64]"
      ]
     },
     "execution_count": 52,
     "metadata": {},
     "output_type": "execute_result"
    }
   ],
   "source": [
    "runs"
   ]
  },
  {
   "cell_type": "code",
   "execution_count": 56,
   "id": "54f67257",
   "metadata": {},
   "outputs": [],
   "source": [
    "runs = runs + [45] # this works exactly like append"
   ]
  },
  {
   "cell_type": "code",
   "execution_count": 57,
   "id": "802b9c65",
   "metadata": {},
   "outputs": [
    {
     "data": {
      "text/plain": [
       "[55, 67, 54, 12, 34, 77, 89, 101, 71, 89, 102, 64, 89, 102, 64, 45, 45]"
      ]
     },
     "execution_count": 57,
     "metadata": {},
     "output_type": "execute_result"
    }
   ],
   "source": [
    "runs"
   ]
  },
  {
   "cell_type": "code",
   "execution_count": 58,
   "id": "2034188f",
   "metadata": {},
   "outputs": [],
   "source": [
    "runs = [1,2,3,4]"
   ]
  },
  {
   "cell_type": "code",
   "execution_count": 59,
   "id": "115b4d6b",
   "metadata": {},
   "outputs": [],
   "source": [
    "runs += [5,6]"
   ]
  },
  {
   "cell_type": "code",
   "execution_count": 60,
   "id": "27b0a536",
   "metadata": {},
   "outputs": [
    {
     "data": {
      "text/plain": [
       "[1, 2, 3, 4, 5, 6]"
      ]
     },
     "execution_count": 60,
     "metadata": {},
     "output_type": "execute_result"
    }
   ],
   "source": [
    "runs"
   ]
  },
  {
   "cell_type": "code",
   "execution_count": 61,
   "id": "0e97b6b9",
   "metadata": {},
   "outputs": [],
   "source": [
    "b = [1,2,3] + [4,5,6]"
   ]
  },
  {
   "cell_type": "code",
   "execution_count": 62,
   "id": "b550a854",
   "metadata": {},
   "outputs": [
    {
     "data": {
      "text/plain": [
       "[1, 2, 3, 4, 5, 6]"
      ]
     },
     "execution_count": 62,
     "metadata": {},
     "output_type": "execute_result"
    }
   ],
   "source": [
    "b"
   ]
  },
  {
   "cell_type": "code",
   "execution_count": 63,
   "id": "17429b67",
   "metadata": {},
   "outputs": [],
   "source": [
    "a = \"python\""
   ]
  },
  {
   "cell_type": "code",
   "execution_count": 64,
   "id": "ce677880",
   "metadata": {},
   "outputs": [
    {
     "name": "stdout",
     "output_type": "stream",
     "text": [
      "p\n",
      "y\n",
      "t\n",
      "h\n",
      "o\n",
      "n\n"
     ]
    }
   ],
   "source": [
    "for i in a:\n",
    "    print(i)"
   ]
  },
  {
   "cell_type": "code",
   "execution_count": 65,
   "id": "e8003d3a",
   "metadata": {},
   "outputs": [],
   "source": [
    "a = [4,5,6,7,8]"
   ]
  },
  {
   "cell_type": "code",
   "execution_count": 67,
   "id": "d65ee606",
   "metadata": {},
   "outputs": [
    {
     "name": "stdout",
     "output_type": "stream",
     "text": [
      "4\n",
      "5\n",
      "6\n",
      "7\n",
      "8\n"
     ]
    }
   ],
   "source": [
    "# i -> iterator - variable used to iterate\n",
    "# a -> iterable - data structure which we iterate on\n",
    "# print(i) -> iteration block - block of code which runs on each iteration\n",
    "for i in a:\n",
    "    print(i)"
   ]
  },
  {
   "cell_type": "code",
   "execution_count": 68,
   "id": "f76dfa5f",
   "metadata": {},
   "outputs": [],
   "source": [
    "n = len(a)"
   ]
  },
  {
   "cell_type": "code",
   "execution_count": 71,
   "id": "14937a62",
   "metadata": {},
   "outputs": [
    {
     "name": "stdout",
     "output_type": "stream",
     "text": [
      "4\n",
      "5\n",
      "6\n",
      "7\n",
      "8\n"
     ]
    }
   ],
   "source": [
    "for i in range(n):\n",
    "    print(a[i])"
   ]
  },
  {
   "cell_type": "code",
   "execution_count": 72,
   "id": "7fc41bc5",
   "metadata": {},
   "outputs": [
    {
     "name": "stdout",
     "output_type": "stream",
     "text": [
      "4\n",
      "5\n",
      "6\n",
      "7\n",
      "8\n"
     ]
    }
   ],
   "source": [
    "i = 0 \n",
    "\n",
    "while i < len(a):\n",
    "    print(a[i])\n",
    "    i += 1"
   ]
  },
  {
   "cell_type": "code",
   "execution_count": 74,
   "id": "0137dbe1",
   "metadata": {},
   "outputs": [],
   "source": [
    "a.extend([56])"
   ]
  },
  {
   "cell_type": "code",
   "execution_count": 75,
   "id": "19971959",
   "metadata": {},
   "outputs": [
    {
     "data": {
      "text/plain": [
       "[4, 5, 6, 7, 8, 56]"
      ]
     },
     "execution_count": 75,
     "metadata": {},
     "output_type": "execute_result"
    }
   ],
   "source": [
    "a"
   ]
  },
  {
   "cell_type": "code",
   "execution_count": 76,
   "id": "35220839",
   "metadata": {},
   "outputs": [],
   "source": [
    "value_to_be_added = [56, 78]"
   ]
  },
  {
   "cell_type": "code",
   "execution_count": 77,
   "id": "626ca70f",
   "metadata": {},
   "outputs": [],
   "source": [
    "a.extend(value_to_be_added)"
   ]
  },
  {
   "cell_type": "code",
   "execution_count": 78,
   "id": "1d24bf53",
   "metadata": {},
   "outputs": [
    {
     "data": {
      "text/plain": [
       "[4, 5, 6, 7, 8, 56, 56, 78]"
      ]
     },
     "execution_count": 78,
     "metadata": {},
     "output_type": "execute_result"
    }
   ],
   "source": [
    "a"
   ]
  },
  {
   "cell_type": "code",
   "execution_count": 86,
   "id": "84e5bb60",
   "metadata": {},
   "outputs": [
    {
     "data": {
      "text/plain": [
       "'\\nruns_virat = [67, 54, 12, 34, 77, 89, 101]\\nIn runs_virat -> Calculate, sum, avg, max and min runs.\\nWithout using any internal functions. You can use the length function.\\n'"
      ]
     },
     "execution_count": 86,
     "metadata": {},
     "output_type": "execute_result"
    }
   ],
   "source": [
    "'''\n",
    "Qustion 2 - \n",
    "runs_virat = [67, 54, 12, 34, 77, 89, 101]\n",
    "In runs_virat -> Calculate, sum, avg, max and min runs.\n",
    "Without using any internal functions. You can use the length function.\n",
    "'''"
   ]
  },
  {
   "cell_type": "code",
   "execution_count": 81,
   "id": "80374761",
   "metadata": {},
   "outputs": [
    {
     "data": {
      "text/plain": [
       "434"
      ]
     },
     "execution_count": 81,
     "metadata": {},
     "output_type": "execute_result"
    }
   ],
   "source": [
    "sum(runs_virat)"
   ]
  },
  {
   "cell_type": "code",
   "execution_count": 83,
   "id": "0142db94",
   "metadata": {},
   "outputs": [
    {
     "data": {
      "text/plain": [
       "101"
      ]
     },
     "execution_count": 83,
     "metadata": {},
     "output_type": "execute_result"
    }
   ],
   "source": [
    "max(runs_virat)"
   ]
  },
  {
   "cell_type": "code",
   "execution_count": 84,
   "id": "ab7f846c",
   "metadata": {},
   "outputs": [
    {
     "data": {
      "text/plain": [
       "12"
      ]
     },
     "execution_count": 84,
     "metadata": {},
     "output_type": "execute_result"
    }
   ],
   "source": [
    "min(runs_virat)"
   ]
  },
  {
   "cell_type": "code",
   "execution_count": 85,
   "id": "588ec1dc",
   "metadata": {},
   "outputs": [
    {
     "data": {
      "text/plain": [
       "62.0"
      ]
     },
     "execution_count": 85,
     "metadata": {},
     "output_type": "execute_result"
    }
   ],
   "source": [
    "sum(runs_virat)/len(runs_virat) "
   ]
  },
  {
   "cell_type": "code",
   "execution_count": 89,
   "id": "7b62df43",
   "metadata": {},
   "outputs": [],
   "source": [
    "# ```\n",
    "# your code here\n",
    "# ```"
   ]
  },
  {
   "cell_type": "code",
   "execution_count": 90,
   "id": "d827a868",
   "metadata": {},
   "outputs": [],
   "source": [
    "def custom_length(a):\n",
    "    n = 0\n",
    "    \n",
    "    for i in a:\n",
    "        n += 1\n",
    "        \n",
    "    return n"
   ]
  },
  {
   "cell_type": "code",
   "execution_count": 92,
   "id": "be01f315",
   "metadata": {},
   "outputs": [],
   "source": [
    "n = custom_length(runs_virat)"
   ]
  },
  {
   "cell_type": "code",
   "execution_count": 93,
   "id": "11fb4e57",
   "metadata": {},
   "outputs": [
    {
     "data": {
      "text/plain": [
       "7"
      ]
     },
     "execution_count": 93,
     "metadata": {},
     "output_type": "execute_result"
    }
   ],
   "source": [
    "n"
   ]
  },
  {
   "cell_type": "code",
   "execution_count": 96,
   "id": "223dfc8e",
   "metadata": {},
   "outputs": [],
   "source": [
    "sum_runs = 0\n",
    "\n",
    "for i in runs_virat:\n",
    "    sum_runs += i"
   ]
  },
  {
   "cell_type": "code",
   "execution_count": 97,
   "id": "5234e60d",
   "metadata": {},
   "outputs": [
    {
     "data": {
      "text/plain": [
       "434"
      ]
     },
     "execution_count": 97,
     "metadata": {},
     "output_type": "execute_result"
    }
   ],
   "source": [
    "sum_runs"
   ]
  },
  {
   "cell_type": "code",
   "execution_count": 98,
   "id": "e754a93f",
   "metadata": {},
   "outputs": [
    {
     "data": {
      "text/plain": [
       "62.0"
      ]
     },
     "execution_count": 98,
     "metadata": {},
     "output_type": "execute_result"
    }
   ],
   "source": [
    "sum_runs / n"
   ]
  },
  {
   "cell_type": "code",
   "execution_count": 101,
   "id": "400151cb",
   "metadata": {},
   "outputs": [],
   "source": [
    "max_runs = 0\n",
    "\n",
    "for i in runs_virat:\n",
    "    if i > max_runs:\n",
    "        max_runs = i"
   ]
  },
  {
   "cell_type": "code",
   "execution_count": 102,
   "id": "080bd7dd",
   "metadata": {},
   "outputs": [
    {
     "data": {
      "text/plain": [
       "101"
      ]
     },
     "execution_count": 102,
     "metadata": {},
     "output_type": "execute_result"
    }
   ],
   "source": [
    "max_runs"
   ]
  },
  {
   "cell_type": "code",
   "execution_count": 104,
   "id": "5cf0f95c",
   "metadata": {},
   "outputs": [],
   "source": [
    "min_runs = max_runs\n",
    "\n",
    "for i in runs_virat:\n",
    "    if i < min_runs:\n",
    "        min_runs = i"
   ]
  },
  {
   "cell_type": "code",
   "execution_count": 105,
   "id": "28d59b1f",
   "metadata": {},
   "outputs": [
    {
     "data": {
      "text/plain": [
       "12"
      ]
     },
     "execution_count": 105,
     "metadata": {},
     "output_type": "execute_result"
    }
   ],
   "source": [
    "min_runs"
   ]
  },
  {
   "cell_type": "code",
   "execution_count": 106,
   "id": "2248810e",
   "metadata": {},
   "outputs": [],
   "source": [
    "min_runs = runs_virat[0]\n",
    "\n",
    "for i in runs_virat:\n",
    "    if i < min_runs:\n",
    "        min_runs = i"
   ]
  },
  {
   "cell_type": "code",
   "execution_count": 107,
   "id": "1adfde2c",
   "metadata": {},
   "outputs": [
    {
     "data": {
      "text/plain": [
       "12"
      ]
     },
     "execution_count": 107,
     "metadata": {},
     "output_type": "execute_result"
    }
   ],
   "source": [
    "min_runs"
   ]
  },
  {
   "cell_type": "code",
   "execution_count": 110,
   "id": "6db0c0a3",
   "metadata": {},
   "outputs": [],
   "source": [
    "def max_runs(a):\n",
    "    max_runs = 0\n",
    "\n",
    "    for i in a:\n",
    "        if i > max_runs:\n",
    "            max_runs = i\n",
    "            \n",
    "    return max_runs"
   ]
  },
  {
   "cell_type": "code",
   "execution_count": 111,
   "id": "51bf32e5",
   "metadata": {},
   "outputs": [
    {
     "data": {
      "text/plain": [
       "101"
      ]
     },
     "execution_count": 111,
     "metadata": {},
     "output_type": "execute_result"
    }
   ],
   "source": [
    "max_runs(runs_virat)"
   ]
  },
  {
   "cell_type": "code",
   "execution_count": 112,
   "id": "0d2eb735",
   "metadata": {},
   "outputs": [
    {
     "data": {
      "text/plain": [
       "'\\nQuestion 3 -\\nCalculate average of runs scored by virat in all matches with an even index.\\n'"
      ]
     },
     "execution_count": 112,
     "metadata": {},
     "output_type": "execute_result"
    }
   ],
   "source": [
    "'''\n",
    "Question 3 -\n",
    "Calculate average of runs scored by virat in all matches with an even index.\n",
    "'''"
   ]
  },
  {
   "cell_type": "code",
   "execution_count": 127,
   "id": "39940b50",
   "metadata": {},
   "outputs": [],
   "source": [
    "sum_runs = 0\n",
    "count = 0\n",
    "\n",
    "for i in range(len(runs_virat)):\n",
    "    if i % 2 == 0:\n",
    "        sum_runs += runs_virat[i]\n",
    "        count += 1"
   ]
  },
  {
   "cell_type": "code",
   "execution_count": 128,
   "id": "274e63dc",
   "metadata": {},
   "outputs": [
    {
     "data": {
      "text/plain": [
       "4"
      ]
     },
     "execution_count": 128,
     "metadata": {},
     "output_type": "execute_result"
    }
   ],
   "source": [
    "count"
   ]
  },
  {
   "cell_type": "code",
   "execution_count": 129,
   "id": "2fbf6651",
   "metadata": {},
   "outputs": [
    {
     "data": {
      "text/plain": [
       "257"
      ]
     },
     "execution_count": 129,
     "metadata": {},
     "output_type": "execute_result"
    }
   ],
   "source": [
    "sum_runs"
   ]
  },
  {
   "cell_type": "code",
   "execution_count": 130,
   "id": "ad2832f3",
   "metadata": {},
   "outputs": [],
   "source": [
    "average_runs = sum_runs / count"
   ]
  },
  {
   "cell_type": "code",
   "execution_count": 131,
   "id": "ab40a240",
   "metadata": {},
   "outputs": [
    {
     "data": {
      "text/plain": [
       "64.25"
      ]
     },
     "execution_count": 131,
     "metadata": {},
     "output_type": "execute_result"
    }
   ],
   "source": [
    "average_runs"
   ]
  },
  {
   "cell_type": "code",
   "execution_count": 133,
   "id": "26dd58ff",
   "metadata": {
    "scrolled": true
   },
   "outputs": [
    {
     "data": {
      "text/plain": [
       "[4, 5, 6, 7, 8, 56, 56]"
      ]
     },
     "execution_count": 133,
     "metadata": {},
     "output_type": "execute_result"
    }
   ],
   "source": [
    "a"
   ]
  },
  {
   "cell_type": "code",
   "execution_count": 136,
   "id": "7a4f53ff",
   "metadata": {},
   "outputs": [
    {
     "data": {
      "text/plain": [
       "7"
      ]
     },
     "execution_count": 136,
     "metadata": {},
     "output_type": "execute_result"
    }
   ],
   "source": [
    "# Two ways to delete elements from a list\n",
    "a.pop(2) # pop elements using indexes"
   ]
  },
  {
   "cell_type": "code",
   "execution_count": 137,
   "id": "e5f9add7",
   "metadata": {},
   "outputs": [
    {
     "data": {
      "text/plain": [
       "[4, 5, 8, 56, 56]"
      ]
     },
     "execution_count": 137,
     "metadata": {},
     "output_type": "execute_result"
    }
   ],
   "source": [
    "a"
   ]
  },
  {
   "cell_type": "code",
   "execution_count": 138,
   "id": "9ada1f94",
   "metadata": {},
   "outputs": [
    {
     "data": {
      "text/plain": [
       "56"
      ]
     },
     "execution_count": 138,
     "metadata": {},
     "output_type": "execute_result"
    }
   ],
   "source": [
    "a.pop() # will pop the last element by default"
   ]
  },
  {
   "cell_type": "code",
   "execution_count": 139,
   "id": "a275433e",
   "metadata": {},
   "outputs": [
    {
     "data": {
      "text/plain": [
       "[4, 5, 8, 56]"
      ]
     },
     "execution_count": 139,
     "metadata": {},
     "output_type": "execute_result"
    }
   ],
   "source": [
    "a"
   ]
  },
  {
   "cell_type": "code",
   "execution_count": 145,
   "id": "e59a86c3",
   "metadata": {},
   "outputs": [],
   "source": [
    "a.remove(5) # remove the first occurence of a given element from the list"
   ]
  },
  {
   "cell_type": "code",
   "execution_count": 146,
   "id": "43d6e241",
   "metadata": {},
   "outputs": [
    {
     "data": {
      "text/plain": [
       "[4, 5, 6, 7, 8]"
      ]
     },
     "execution_count": 146,
     "metadata": {},
     "output_type": "execute_result"
    }
   ],
   "source": [
    "a"
   ]
  },
  {
   "cell_type": "code",
   "execution_count": 147,
   "id": "40c5e6f4",
   "metadata": {},
   "outputs": [],
   "source": [
    "a = [4,5,5,5,6,7,8]"
   ]
  },
  {
   "cell_type": "code",
   "execution_count": 148,
   "id": "e68a8fae",
   "metadata": {},
   "outputs": [],
   "source": [
    "a.remove(5)"
   ]
  },
  {
   "cell_type": "code",
   "execution_count": 149,
   "id": "b28c3fd4",
   "metadata": {},
   "outputs": [
    {
     "data": {
      "text/plain": [
       "[4, 5, 5, 6, 7, 8]"
      ]
     },
     "execution_count": 149,
     "metadata": {},
     "output_type": "execute_result"
    }
   ],
   "source": [
    "a"
   ]
  },
  {
   "cell_type": "code",
   "execution_count": 151,
   "id": "dbca2125",
   "metadata": {},
   "outputs": [],
   "source": [
    "a = [\"bipin\", 56, 89.9, True, [1,2,34]]\n",
    "# A list is a heterogeneous collection of values"
   ]
  },
  {
   "cell_type": "code",
   "execution_count": 156,
   "id": "eda82b89",
   "metadata": {},
   "outputs": [
    {
     "data": {
      "text/plain": [
       "[1, 2, 34]"
      ]
     },
     "execution_count": 156,
     "metadata": {},
     "output_type": "execute_result"
    }
   ],
   "source": [
    "a[4]"
   ]
  },
  {
   "cell_type": "code",
   "execution_count": 157,
   "id": "a13bb601",
   "metadata": {},
   "outputs": [
    {
     "name": "stdout",
     "output_type": "stream",
     "text": [
      "5\n",
      "6\n",
      "7\n",
      "8\n",
      "9\n"
     ]
    }
   ],
   "source": [
    "a = []\n",
    "\n",
    "for i in range(5):\n",
    "    value = input()\n",
    "    a.append(value)"
   ]
  },
  {
   "cell_type": "code",
   "execution_count": 158,
   "id": "381d7b46",
   "metadata": {},
   "outputs": [
    {
     "data": {
      "text/plain": [
       "['5', '6', '7', '8', '9']"
      ]
     },
     "execution_count": 158,
     "metadata": {},
     "output_type": "execute_result"
    }
   ],
   "source": [
    "a"
   ]
  },
  {
   "cell_type": "code",
   "execution_count": 159,
   "id": "9759fd74",
   "metadata": {},
   "outputs": [
    {
     "data": {
      "text/plain": [
       "'5 6 7 8 9 10 20 50'"
      ]
     },
     "execution_count": 159,
     "metadata": {},
     "output_type": "execute_result"
    }
   ],
   "source": [
    "\"5 6 7 8 9 10 20 50\""
   ]
  },
  {
   "cell_type": "code",
   "execution_count": 160,
   "id": "fbc6bf3b",
   "metadata": {},
   "outputs": [
    {
     "name": "stdout",
     "output_type": "stream",
     "text": [
      "5 6 7 8 9 10 20 50\n"
     ]
    }
   ],
   "source": [
    "value = input()"
   ]
  },
  {
   "cell_type": "code",
   "execution_count": 161,
   "id": "f564c3be",
   "metadata": {},
   "outputs": [
    {
     "data": {
      "text/plain": [
       "'5 6 7 8 9 10 20 50'"
      ]
     },
     "execution_count": 161,
     "metadata": {},
     "output_type": "execute_result"
    }
   ],
   "source": [
    "value"
   ]
  },
  {
   "cell_type": "code",
   "execution_count": 162,
   "id": "da78712f",
   "metadata": {},
   "outputs": [],
   "source": [
    "values = value.split()"
   ]
  },
  {
   "cell_type": "code",
   "execution_count": 163,
   "id": "c060e356",
   "metadata": {},
   "outputs": [
    {
     "data": {
      "text/plain": [
       "['5', '6', '7', '8', '9', '10', '20', '50']"
      ]
     },
     "execution_count": 163,
     "metadata": {},
     "output_type": "execute_result"
    }
   ],
   "source": [
    "values"
   ]
  },
  {
   "cell_type": "code",
   "execution_count": 164,
   "id": "674a8198",
   "metadata": {},
   "outputs": [],
   "source": [
    "for i in range(len(values)):\n",
    "    values[i] = int(values[i])"
   ]
  },
  {
   "cell_type": "code",
   "execution_count": 165,
   "id": "47fa5be9",
   "metadata": {},
   "outputs": [
    {
     "data": {
      "text/plain": [
       "[5, 6, 7, 8, 9, 10, 20, 50]"
      ]
     },
     "execution_count": 165,
     "metadata": {},
     "output_type": "execute_result"
    }
   ],
   "source": [
    "values"
   ]
  },
  {
   "cell_type": "code",
   "execution_count": 166,
   "id": "0e054562",
   "metadata": {},
   "outputs": [],
   "source": [
    "values[0] = 23"
   ]
  },
  {
   "cell_type": "code",
   "execution_count": 167,
   "id": "3f0df60e",
   "metadata": {},
   "outputs": [
    {
     "data": {
      "text/plain": [
       "[23, 6, 7, 8, 9, 10, 20, 50]"
      ]
     },
     "execution_count": 167,
     "metadata": {},
     "output_type": "execute_result"
    }
   ],
   "source": [
    "values"
   ]
  },
  {
   "cell_type": "code",
   "execution_count": null,
   "id": "29db1c4e",
   "metadata": {},
   "outputs": [],
   "source": []
  }
 ],
 "metadata": {
  "kernelspec": {
   "display_name": "Python 3 (ipykernel)",
   "language": "python",
   "name": "python3"
  },
  "language_info": {
   "codemirror_mode": {
    "name": "ipython",
    "version": 3
   },
   "file_extension": ".py",
   "mimetype": "text/x-python",
   "name": "python",
   "nbconvert_exporter": "python",
   "pygments_lexer": "ipython3",
   "version": "3.9.5"
  }
 },
 "nbformat": 4,
 "nbformat_minor": 5
}
