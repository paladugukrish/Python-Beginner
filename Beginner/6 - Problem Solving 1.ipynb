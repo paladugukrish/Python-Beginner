{
 "cells": [
  {
   "cell_type": "code",
   "execution_count": 2,
   "id": "2c09bf26",
   "metadata": {},
   "outputs": [
    {
     "name": "stdout",
     "output_type": "stream",
     "text": [
      "100\n",
      "5\n",
      "885.0\n"
     ]
    }
   ],
   "source": [
    "k = float(input())\n",
    "t = float(input())\n",
    "\n",
    "rate = 5 * t\n",
    "\n",
    "if k <= 10:\n",
    "    rate += k * 10\n",
    "elif k > 10 and k <= 50:\n",
    "    rate += 100 + (k - 10) * 9\n",
    "elif k > 50 and k <= 150:\n",
    "    rate += 460 + (k - 50) * 8\n",
    "else:\n",
    "    rate += 10 * 10 + 40 * 9 + 100 * 8 + (k - 150) * 6\n",
    "    \n",
    "print(rate)\n",
    "    \n",
    "# 100 -> 10*10 + 40*9 + 50 * 8"
   ]
  },
  {
   "cell_type": "code",
   "execution_count": 7,
   "id": "8bcfb056",
   "metadata": {},
   "outputs": [
    {
     "data": {
      "text/plain": [
       "'\\nQuestion 2 -\\nTake an integer input from user. This is the number of test cases. (count)\\nTake int for each count from the user.\\nPrint multiplication table of that integer.\\n'"
      ]
     },
     "execution_count": 7,
     "metadata": {},
     "output_type": "execute_result"
    }
   ],
   "source": [
    "'''\n",
    "Question 2 -\n",
    "Take an integer input from user. This is the number of test cases. (count)\n",
    "Take int for each count from the user.\n",
    "Print multiplication table of that integer.\n",
    "'''"
   ]
  },
  {
   "cell_type": "code",
   "execution_count": 4,
   "id": "0711bf6e",
   "metadata": {},
   "outputs": [
    {
     "name": "stdout",
     "output_type": "stream",
     "text": [
      "5\n",
      "Printing multiplication table of 5 !\n",
      "5 10 15 20 25 30 35 40 45 50 "
     ]
    }
   ],
   "source": [
    "n = int(input())\n",
    "\n",
    "print(\"Printing multiplication table of\", n, \"!\")\n",
    "for i in range(1,11):\n",
    "    print(n * i, end = \" \")"
   ]
  },
  {
   "cell_type": "code",
   "execution_count": 10,
   "id": "b2f98b07",
   "metadata": {},
   "outputs": [
    {
     "name": "stdout",
     "output_type": "stream",
     "text": [
      "2\n",
      "5\n",
      "Printing multiplication table of 5 !\n",
      "5 10 15 20 25 30 35 40 45 50 \n",
      "6\n",
      "Printing multiplication table of 6 !\n",
      "6 12 18 24 30 36 42 48 54 60 \n"
     ]
    }
   ],
   "source": [
    "count = int(input())\n",
    "\n",
    "for c in range(count):\n",
    "    n = int(input())\n",
    "\n",
    "    print(\"Printing multiplication table of\", n, \"!\")\n",
    "    for i in range(1,11):\n",
    "        print(n * i, end = \" \")\n",
    "    \n",
    "    print()"
   ]
  },
  {
   "cell_type": "code",
   "execution_count": 9,
   "id": "16d88be0",
   "metadata": {},
   "outputs": [
    {
     "data": {
      "text/plain": [
       "'\\nQuestion 3 -\\nTake an int input from the user.\\nPrint multiplication table of that integer.\\n\\nAsk the user whether he/she wants to continue for another number.\\nIf user inputs \"yes\" then do it again otherwise for any other input,\\nstop the code.\\n'"
      ]
     },
     "execution_count": 9,
     "metadata": {},
     "output_type": "execute_result"
    }
   ],
   "source": [
    "'''\n",
    "Question 3 -\n",
    "Take an int input from the user.\n",
    "Print multiplication table of that integer.\n",
    "\n",
    "Ask the user whether he/she wants to continue for another number.\n",
    "If user inputs \"yes\" then do it again otherwise for any other input,\n",
    "stop the code.\n",
    "'''"
   ]
  },
  {
   "cell_type": "code",
   "execution_count": 12,
   "id": "d4a15ff4",
   "metadata": {},
   "outputs": [
    {
     "name": "stdout",
     "output_type": "stream",
     "text": [
      "Enter the number - 5\n",
      "Printing multiplication table of 5 !\n",
      "5 10 15 20 25 30 35 40 45 50 \n",
      "Do you wish to continue? yes\n",
      "Enter the number - 6\n",
      "Printing multiplication table of 6 !\n",
      "6 12 18 24 30 36 42 48 54 60 \n",
      "Do you wish to continue? Yes\n",
      "Enter the number - 4\n",
      "Printing multiplication table of 4 !\n",
      "4 8 12 16 20 24 28 32 36 40 \n",
      "Do you wish to continue? no\n"
     ]
    }
   ],
   "source": [
    "cont = True\n",
    "\n",
    "while cont:\n",
    "    n = int(input(\"Enter the number - \"))\n",
    "\n",
    "    print(\"Printing multiplication table of\", n, \"!\")\n",
    "\n",
    "    for i in range(1,11):\n",
    "        print(n * i, end = \" \")\n",
    "\n",
    "    print()\n",
    "    \n",
    "    user_wish = input(\"Do you wish to continue? \")\n",
    "    \n",
    "    if user_wish.lower() != \"yes\":\n",
    "        cont = False"
   ]
  },
  {
   "cell_type": "code",
   "execution_count": 13,
   "id": "d64a33b6",
   "metadata": {},
   "outputs": [],
   "source": [
    "# 100 -> 1\n",
    "# 245 -> 11\n",
    "# 789 -> 24\n",
    "# 992 -> 20\n",
    "# 882 -> 18"
   ]
  },
  {
   "cell_type": "code",
   "execution_count": 14,
   "id": "05dad792",
   "metadata": {},
   "outputs": [],
   "source": [
    "n = 123456"
   ]
  },
  {
   "cell_type": "code",
   "execution_count": 15,
   "id": "e941b4b8",
   "metadata": {},
   "outputs": [
    {
     "data": {
      "text/plain": [
       "6"
      ]
     },
     "execution_count": 15,
     "metadata": {},
     "output_type": "execute_result"
    }
   ],
   "source": [
    "n % 10"
   ]
  },
  {
   "cell_type": "code",
   "execution_count": 16,
   "id": "5533221b",
   "metadata": {},
   "outputs": [
    {
     "data": {
      "text/plain": [
       "12345"
      ]
     },
     "execution_count": 16,
     "metadata": {},
     "output_type": "execute_result"
    }
   ],
   "source": [
    "n // 10"
   ]
  },
  {
   "cell_type": "code",
   "execution_count": 37,
   "id": "7b8f6edb",
   "metadata": {},
   "outputs": [],
   "source": [
    "n = 123456"
   ]
  },
  {
   "cell_type": "code",
   "execution_count": 41,
   "id": "3d8992ff",
   "metadata": {},
   "outputs": [
    {
     "data": {
      "text/plain": [
       "12345"
      ]
     },
     "execution_count": 41,
     "metadata": {},
     "output_type": "execute_result"
    }
   ],
   "source": [
    "n"
   ]
  },
  {
   "cell_type": "code",
   "execution_count": 38,
   "id": "9b859ad7",
   "metadata": {},
   "outputs": [],
   "source": [
    "sum = 0"
   ]
  },
  {
   "cell_type": "code",
   "execution_count": 39,
   "id": "d6a0d6fa",
   "metadata": {},
   "outputs": [],
   "source": [
    "last_digit = n % 10\n",
    "n = n // 10\n",
    "\n",
    "sum += last_digit"
   ]
  },
  {
   "cell_type": "code",
   "execution_count": 40,
   "id": "314fa1b4",
   "metadata": {},
   "outputs": [
    {
     "data": {
      "text/plain": [
       "6"
      ]
     },
     "execution_count": 40,
     "metadata": {},
     "output_type": "execute_result"
    }
   ],
   "source": [
    "sum"
   ]
  },
  {
   "cell_type": "code",
   "execution_count": 34,
   "id": "ef4bd44d",
   "metadata": {},
   "outputs": [
    {
     "data": {
      "text/plain": [
       "0"
      ]
     },
     "execution_count": 34,
     "metadata": {},
     "output_type": "execute_result"
    }
   ],
   "source": [
    "n"
   ]
  },
  {
   "cell_type": "code",
   "execution_count": 43,
   "id": "d839584d",
   "metadata": {},
   "outputs": [
    {
     "name": "stdout",
     "output_type": "stream",
     "text": [
      "Enter the number - 6\n",
      "Sum of digits of 6! \n",
      " 6\n",
      "Do you wish to continue? no\n"
     ]
    }
   ],
   "source": [
    "cont = True\n",
    "\n",
    "while cont:\n",
    "    n = int(input(\"Enter the number - \"))\n",
    "\n",
    "    print(\"Sum of digits of \", n, \"!\", sep = \"\", end = \" \")\n",
    "\n",
    "    # LOGIC FOR SUM OF DIGITS\n",
    "    sum_digits = 0\n",
    "    \n",
    "    while n > 0:\n",
    "        last_digit = n % 10\n",
    "        n = n // 10\n",
    "        \n",
    "        sum_digits += last_digit\n",
    "\n",
    "    print(\"\\n\", sum_digits)\n",
    "    \n",
    "    user_wish = input(\"Do you wish to continue? \")\n",
    "    \n",
    "    if user_wish.lower() != \"yes\":\n",
    "        cont = False"
   ]
  },
  {
   "cell_type": "code",
   "execution_count": 44,
   "id": "9251d51a",
   "metadata": {},
   "outputs": [
    {
     "name": "stdout",
     "output_type": "stream",
     "text": [
      "10\n",
      "3\n"
     ]
    }
   ],
   "source": [
    "a = int(input())\n",
    "b = int(input())\n",
    "\n",
    "q = 0\n",
    "r = 0"
   ]
  },
  {
   "cell_type": "code",
   "execution_count": 45,
   "id": "b2ff9532",
   "metadata": {},
   "outputs": [
    {
     "name": "stdout",
     "output_type": "stream",
     "text": [
      "3 0\n"
     ]
    }
   ],
   "source": [
    "# A\n",
    "while a > b:\n",
    "    a -= b\n",
    "    q += 1\n",
    "    \n",
    "print(q, r)"
   ]
  },
  {
   "cell_type": "code",
   "execution_count": 46,
   "id": "c8c83f71",
   "metadata": {},
   "outputs": [
    {
     "name": "stdout",
     "output_type": "stream",
     "text": [
      "3 3\n"
     ]
    }
   ],
   "source": [
    "# B\n",
    "while a >= b:\n",
    "    a -= b\n",
    "    q += 1\n",
    "    \n",
    "print(q, b)"
   ]
  },
  {
   "cell_type": "code",
   "execution_count": 47,
   "id": "b8b7c2bd",
   "metadata": {},
   "outputs": [
    {
     "name": "stdout",
     "output_type": "stream",
     "text": [
      "3 1\n"
     ]
    }
   ],
   "source": [
    "# C\n",
    "while a >= b:\n",
    "    a -= b\n",
    "    q += 1\n",
    "    \n",
    "print(q, a)"
   ]
  },
  {
   "cell_type": "code",
   "execution_count": 48,
   "id": "edf7ea42",
   "metadata": {},
   "outputs": [
    {
     "data": {
      "text/plain": [
       "'y'"
      ]
     },
     "execution_count": 48,
     "metadata": {},
     "output_type": "execute_result"
    }
   ],
   "source": [
    "\"y\" or \"Y\""
   ]
  },
  {
   "cell_type": "code",
   "execution_count": 49,
   "id": "54cbb13e",
   "metadata": {},
   "outputs": [
    {
     "ename": "KeyboardInterrupt",
     "evalue": "",
     "output_type": "error",
     "traceback": [
      "\u001b[0;31m---------------------------------------------------------------------------\u001b[0m",
      "\u001b[0;31mKeyboardInterrupt\u001b[0m                         Traceback (most recent call last)",
      "\u001b[0;32m/var/folders/nn/c52y0d3j0gq59dpsswchkt2r0000gn/T/ipykernel_94555/1777812896.py\u001b[0m in \u001b[0;36m<module>\u001b[0;34m\u001b[0m\n\u001b[1;32m      3\u001b[0m     \u001b[0;31m# LINE HERE\u001b[0m\u001b[0;34m\u001b[0m\u001b[0;34m\u001b[0m\u001b[0;34m\u001b[0m\u001b[0m\n\u001b[1;32m      4\u001b[0m \u001b[0;34m\u001b[0m\u001b[0m\n\u001b[0;32m----> 5\u001b[0;31m     \u001b[0;32mif\u001b[0m \u001b[0ma\u001b[0m \u001b[0;34m==\u001b[0m \u001b[0;36m5\u001b[0m\u001b[0;34m:\u001b[0m\u001b[0;34m\u001b[0m\u001b[0;34m\u001b[0m\u001b[0m\n\u001b[0m\u001b[1;32m      6\u001b[0m         \u001b[0;32mbreak\u001b[0m\u001b[0;34m\u001b[0m\u001b[0;34m\u001b[0m\u001b[0m\n",
      "\u001b[0;31mKeyboardInterrupt\u001b[0m: "
     ]
    }
   ],
   "source": [
    "a = 0\n",
    "while True:\n",
    "    # LINE HERE\n",
    "    \n",
    "    if a == 5:\n",
    "        break"
   ]
  },
  {
   "cell_type": "code",
   "execution_count": 51,
   "id": "4e42e089",
   "metadata": {},
   "outputs": [],
   "source": [
    "a = 0\n",
    "while True:\n",
    "    a = a + 1\n",
    "    a %= 5\n",
    "    a += 1\n",
    "    \n",
    "    if a == 5: \n",
    "        break"
   ]
  },
  {
   "cell_type": "code",
   "execution_count": 54,
   "id": "7db8ec4e",
   "metadata": {},
   "outputs": [
    {
     "name": "stdout",
     "output_type": "stream",
     "text": [
      "0\n",
      "1\n",
      "2\n",
      "3\n",
      "4\n"
     ]
    }
   ],
   "source": [
    "for i in range(5):\n",
    "    if i == 3:\n",
    "        pass\n",
    "    \n",
    "    print(i)"
   ]
  },
  {
   "cell_type": "code",
   "execution_count": 58,
   "id": "722a2221",
   "metadata": {},
   "outputs": [],
   "source": [
    "if True:\n",
    "    pass"
   ]
  },
  {
   "cell_type": "code",
   "execution_count": 59,
   "id": "db55a786",
   "metadata": {},
   "outputs": [
    {
     "name": "stdout",
     "output_type": "stream",
     "text": [
      "0\n",
      "1\n",
      "2\n",
      "4\n"
     ]
    }
   ],
   "source": [
    "for i in range(5):\n",
    "    if i == 3:\n",
    "        continue\n",
    "    \n",
    "    print(i)"
   ]
  },
  {
   "cell_type": "code",
   "execution_count": 60,
   "id": "b6325710",
   "metadata": {},
   "outputs": [
    {
     "name": "stdout",
     "output_type": "stream",
     "text": [
      "0\n",
      "1\n",
      "2\n"
     ]
    }
   ],
   "source": [
    "for i in range(5):\n",
    "    if i == 3:\n",
    "        break\n",
    "    \n",
    "    print(i)"
   ]
  },
  {
   "cell_type": "code",
   "execution_count": 61,
   "id": "832650bc",
   "metadata": {},
   "outputs": [],
   "source": [
    "import math"
   ]
  },
  {
   "cell_type": "code",
   "execution_count": 64,
   "id": "58eceb3e",
   "metadata": {},
   "outputs": [
    {
     "data": {
      "text/plain": [
       "13.287712379549449"
      ]
     },
     "execution_count": 64,
     "metadata": {},
     "output_type": "execute_result"
    }
   ],
   "source": [
    "math.log2(10000)"
   ]
  },
  {
   "cell_type": "code",
   "execution_count": 65,
   "id": "9754a8a6",
   "metadata": {},
   "outputs": [
    {
     "data": {
      "text/plain": [
       "True"
      ]
     },
     "execution_count": 65,
     "metadata": {},
     "output_type": "execute_result"
    }
   ],
   "source": [
    "10 ** 3 == 1000"
   ]
  },
  {
   "cell_type": "code",
   "execution_count": 67,
   "id": "0fe658bc",
   "metadata": {},
   "outputs": [
    {
     "data": {
      "text/plain": [
       "True"
      ]
     },
     "execution_count": 67,
     "metadata": {},
     "output_type": "execute_result"
    }
   ],
   "source": [
    "math.log10(1000) == 3"
   ]
  },
  {
   "cell_type": "code",
   "execution_count": 70,
   "id": "50123270",
   "metadata": {},
   "outputs": [
    {
     "name": "stdout",
     "output_type": "stream",
     "text": [
      "0 2 4 "
     ]
    }
   ],
   "source": [
    "i=0\n",
    "while i<=5:\n",
    "    \n",
    "    if i%2:\n",
    "        pass\n",
    "    else:\n",
    "        print(i, end=\" \")\n",
    "    \n",
    "    i+=1"
   ]
  },
  {
   "cell_type": "code",
   "execution_count": 71,
   "id": "816681fb",
   "metadata": {},
   "outputs": [
    {
     "data": {
      "text/plain": [
       "True"
      ]
     },
     "execution_count": 71,
     "metadata": {},
     "output_type": "execute_result"
    }
   ],
   "source": [
    "bool(4567890)"
   ]
  },
  {
   "cell_type": "code",
   "execution_count": 72,
   "id": "927b4d7a",
   "metadata": {},
   "outputs": [
    {
     "data": {
      "text/plain": [
       "True"
      ]
     },
     "execution_count": 72,
     "metadata": {},
     "output_type": "execute_result"
    }
   ],
   "source": [
    "bool(\"asdgahsgdfjhag\")"
   ]
  },
  {
   "cell_type": "code",
   "execution_count": 73,
   "id": "6498368a",
   "metadata": {},
   "outputs": [
    {
     "data": {
      "text/plain": [
       "False"
      ]
     },
     "execution_count": 73,
     "metadata": {},
     "output_type": "execute_result"
    }
   ],
   "source": [
    "bool(0)"
   ]
  },
  {
   "cell_type": "code",
   "execution_count": 74,
   "id": "5c62e6f8",
   "metadata": {},
   "outputs": [
    {
     "data": {
      "text/plain": [
       "False"
      ]
     },
     "execution_count": 74,
     "metadata": {},
     "output_type": "execute_result"
    }
   ],
   "source": [
    "bool(\"\")"
   ]
  },
  {
   "cell_type": "code",
   "execution_count": 82,
   "id": "ff0ebaae",
   "metadata": {},
   "outputs": [
    {
     "name": "stdout",
     "output_type": "stream",
     "text": [
      "0\n"
     ]
    }
   ],
   "source": [
    "x = bool(input())"
   ]
  },
  {
   "cell_type": "code",
   "execution_count": 83,
   "id": "f3d07a8b",
   "metadata": {},
   "outputs": [
    {
     "data": {
      "text/plain": [
       "True"
      ]
     },
     "execution_count": 83,
     "metadata": {},
     "output_type": "execute_result"
    }
   ],
   "source": [
    "x"
   ]
  },
  {
   "cell_type": "code",
   "execution_count": 84,
   "id": "1d315aba",
   "metadata": {},
   "outputs": [
    {
     "data": {
      "text/plain": [
       "True"
      ]
     },
     "execution_count": 84,
     "metadata": {},
     "output_type": "execute_result"
    }
   ],
   "source": [
    "bool(\"0\")"
   ]
  },
  {
   "cell_type": "code",
   "execution_count": 85,
   "id": "d6ee260d",
   "metadata": {},
   "outputs": [
    {
     "data": {
      "text/plain": [
       "True"
      ]
     },
     "execution_count": 85,
     "metadata": {},
     "output_type": "execute_result"
    }
   ],
   "source": [
    "bool(\"1\")"
   ]
  },
  {
   "cell_type": "code",
   "execution_count": 86,
   "id": "4d166b2b",
   "metadata": {},
   "outputs": [
    {
     "data": {
      "text/plain": [
       "True"
      ]
     },
     "execution_count": 86,
     "metadata": {},
     "output_type": "execute_result"
    }
   ],
   "source": [
    "bool(1)"
   ]
  },
  {
   "cell_type": "code",
   "execution_count": 87,
   "id": "7d399ec2",
   "metadata": {},
   "outputs": [
    {
     "data": {
      "text/plain": [
       "False"
      ]
     },
     "execution_count": 87,
     "metadata": {},
     "output_type": "execute_result"
    }
   ],
   "source": [
    "bool(0)"
   ]
  },
  {
   "cell_type": "code",
   "execution_count": 89,
   "id": "7a337c94",
   "metadata": {},
   "outputs": [
    {
     "name": "stdout",
     "output_type": "stream",
     "text": [
      "0\n"
     ]
    },
    {
     "data": {
      "text/plain": [
       "False"
      ]
     },
     "execution_count": 89,
     "metadata": {},
     "output_type": "execute_result"
    }
   ],
   "source": [
    "bool(int(input()))"
   ]
  },
  {
   "cell_type": "code",
   "execution_count": 90,
   "id": "d3e5ed8d",
   "metadata": {},
   "outputs": [
    {
     "name": "stdout",
     "output_type": "stream",
     "text": [
      "0\n"
     ]
    },
    {
     "data": {
      "text/plain": [
       "True"
      ]
     },
     "execution_count": 90,
     "metadata": {},
     "output_type": "execute_result"
    }
   ],
   "source": [
    "bool(input())"
   ]
  },
  {
   "cell_type": "code",
   "execution_count": null,
   "id": "10258ec1",
   "metadata": {},
   "outputs": [],
   "source": []
  }
 ],
 "metadata": {
  "kernelspec": {
   "display_name": "Python 3 (ipykernel)",
   "language": "python",
   "name": "python3"
  },
  "language_info": {
   "codemirror_mode": {
    "name": "ipython",
    "version": 3
   },
   "file_extension": ".py",
   "mimetype": "text/x-python",
   "name": "python",
   "nbconvert_exporter": "python",
   "pygments_lexer": "ipython3",
   "version": "3.9.5"
  }
 },
 "nbformat": 4,
 "nbformat_minor": 5
}
