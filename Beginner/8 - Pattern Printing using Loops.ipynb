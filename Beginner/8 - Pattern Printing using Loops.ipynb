{
 "cells": [
  {
   "cell_type": "code",
   "execution_count": 1,
   "id": "e85a1fbe",
   "metadata": {},
   "outputs": [
    {
     "data": {
      "text/plain": [
       "'\\nQuestion 1 - \\nPrint the following pattern - \\n*\\n**\\n***\\n****\\n*****\\nInput provided will be number of rows.\\n'"
      ]
     },
     "execution_count": 1,
     "metadata": {},
     "output_type": "execute_result"
    }
   ],
   "source": [
    "'''\n",
    "Question 1 - \n",
    "Print the following pattern - \n",
    "*\n",
    "**\n",
    "***\n",
    "****\n",
    "*****\n",
    "Input provided will be number of rows.\n",
    "'''"
   ]
  },
  {
   "cell_type": "code",
   "execution_count": 2,
   "id": "28d75d28",
   "metadata": {},
   "outputs": [
    {
     "data": {
      "text/plain": [
       "'randomrandomrandom'"
      ]
     },
     "execution_count": 2,
     "metadata": {},
     "output_type": "execute_result"
    }
   ],
   "source": [
    "\"random\"*3"
   ]
  },
  {
   "cell_type": "code",
   "execution_count": 7,
   "id": "99154ec9",
   "metadata": {},
   "outputs": [
    {
     "name": "stdout",
     "output_type": "stream",
     "text": [
      "5\n",
      "*\n",
      "**\n",
      "***\n",
      "****\n",
      "*****\n"
     ]
    }
   ],
   "source": [
    "n = int(input())\n",
    "\n",
    "for i in range(1, n + 1):\n",
    "    print(\"*\" * i)"
   ]
  },
  {
   "cell_type": "code",
   "execution_count": 9,
   "id": "5b6c3c03",
   "metadata": {},
   "outputs": [
    {
     "name": "stdout",
     "output_type": "stream",
     "text": [
      "5\n",
      "*\n",
      "**\n",
      "***\n",
      "****\n",
      "*****\n"
     ]
    }
   ],
   "source": [
    "n = int(input())\n",
    "\n",
    "for i in range(n):\n",
    "    for j in range(i + 1):\n",
    "        print(\"*\", end = \"\")\n",
    "        \n",
    "    print()"
   ]
  },
  {
   "cell_type": "code",
   "execution_count": 13,
   "id": "829fda33",
   "metadata": {
    "scrolled": true
   },
   "outputs": [
    {
     "data": {
      "text/plain": [
       "'\\nQuestion 2 - \\nPrint the following pattern - \\n1\\n12\\n123\\n1234\\n12345\\nInput provided will be number of rows.\\n'"
      ]
     },
     "execution_count": 13,
     "metadata": {},
     "output_type": "execute_result"
    }
   ],
   "source": [
    "'''\n",
    "Question 2 - \n",
    "Print the following pattern - \n",
    "1\n",
    "12\n",
    "123\n",
    "1234\n",
    "12345\n",
    "Input provided will be number of rows.\n",
    "'''"
   ]
  },
  {
   "cell_type": "code",
   "execution_count": 14,
   "id": "911b5807",
   "metadata": {},
   "outputs": [
    {
     "name": "stdout",
     "output_type": "stream",
     "text": [
      "5\n",
      "1\n",
      "12\n",
      "123\n",
      "1234\n",
      "12345\n"
     ]
    }
   ],
   "source": [
    "n = int(input())\n",
    "\n",
    "for i in range(1, n + 1):\n",
    "    for j in range(1, i + 1):\n",
    "        print(j, end = \"\")\n",
    "        \n",
    "    print()"
   ]
  },
  {
   "cell_type": "code",
   "execution_count": 16,
   "id": "8da79708",
   "metadata": {},
   "outputs": [
    {
     "data": {
      "text/plain": [
       "'\\nQuestion 3 - \\nPrint the following pattern - \\n*\\n*2\\n*2*\\n*2*4\\n*2*4*\\n*2*4*6\\nInput provided will be number of rows.\\n'"
      ]
     },
     "execution_count": 16,
     "metadata": {},
     "output_type": "execute_result"
    }
   ],
   "source": [
    "'''\n",
    "Question 3 - \n",
    "Print the following pattern - \n",
    "*\n",
    "*2\n",
    "*2*\n",
    "*2*4\n",
    "*2*4*\n",
    "*2*4*6\n",
    "Input provided will be number of rows.\n",
    "'''"
   ]
  },
  {
   "cell_type": "code",
   "execution_count": 18,
   "id": "fe07b5a1",
   "metadata": {},
   "outputs": [
    {
     "name": "stdout",
     "output_type": "stream",
     "text": [
      "10\n",
      "*\n",
      "*2\n",
      "*2*\n",
      "*2*4\n",
      "*2*4*\n",
      "*2*4*6\n",
      "*2*4*6*\n",
      "*2*4*6*8\n",
      "*2*4*6*8*\n",
      "*2*4*6*8*10\n"
     ]
    }
   ],
   "source": [
    "n = int(input())\n",
    "\n",
    "for i in range(1, n + 1):\n",
    "    for j in range(1, i + 1):\n",
    "        if j % 2 == 1:\n",
    "            print(\"*\", end = \"\")\n",
    "        else:\n",
    "            print(j, end = \"\")\n",
    "        \n",
    "    print()"
   ]
  },
  {
   "cell_type": "code",
   "execution_count": 19,
   "id": "1dceab7a",
   "metadata": {},
   "outputs": [
    {
     "data": {
      "text/plain": [
       "'\\nQuestion 4 - \\nPrint the following pattern - \\n*****\\n****\\n***\\n**\\n*\\nInput provided will be number of rows.\\n'"
      ]
     },
     "execution_count": 19,
     "metadata": {},
     "output_type": "execute_result"
    }
   ],
   "source": [
    "'''\n",
    "Question 4 - \n",
    "Print the following pattern - \n",
    "*****\n",
    "****\n",
    "***\n",
    "**\n",
    "*\n",
    "Input provided will be number of rows.\n",
    "'''"
   ]
  },
  {
   "cell_type": "code",
   "execution_count": 20,
   "id": "d30d8505",
   "metadata": {},
   "outputs": [
    {
     "name": "stdout",
     "output_type": "stream",
     "text": [
      "5\n",
      "*****\n",
      "****\n",
      "***\n",
      "**\n",
      "*\n"
     ]
    }
   ],
   "source": [
    "n = int(input())\n",
    "\n",
    "for i in range(n):\n",
    "    for j in range(n-i):\n",
    "        print(\"*\", end = \"\")\n",
    "        \n",
    "    print()"
   ]
  },
  {
   "cell_type": "code",
   "execution_count": 21,
   "id": "fedd31b8",
   "metadata": {},
   "outputs": [
    {
     "name": "stdout",
     "output_type": "stream",
     "text": [
      "5\n",
      "*****\n",
      "****\n",
      "***\n",
      "**\n",
      "*\n"
     ]
    }
   ],
   "source": [
    "n = int(input())\n",
    "\n",
    "for i in range(n):\n",
    "    print(\"*\" * (n - i))"
   ]
  },
  {
   "cell_type": "code",
   "execution_count": 22,
   "id": "118d353d",
   "metadata": {},
   "outputs": [
    {
     "data": {
      "text/plain": [
       "'\\nQuestion 5 - \\nPrint the following pattern - \\n    *\\n   **\\n  ***\\n ****\\n*****\\nInput provided will be number of rows.\\n'"
      ]
     },
     "execution_count": 22,
     "metadata": {},
     "output_type": "execute_result"
    }
   ],
   "source": [
    "'''\n",
    "Question 5 - \n",
    "Print the following pattern - \n",
    "    *\n",
    "   **\n",
    "  ***\n",
    " ****\n",
    "*****\n",
    "Input provided will be number of rows.\n",
    "'''"
   ]
  },
  {
   "cell_type": "code",
   "execution_count": 24,
   "id": "b359cf0e",
   "metadata": {},
   "outputs": [
    {
     "name": "stdout",
     "output_type": "stream",
     "text": [
      "6\n",
      "     *\n",
      "    **\n",
      "   ***\n",
      "  ****\n",
      " *****\n",
      "******\n"
     ]
    }
   ],
   "source": [
    "n = int(input())\n",
    "\n",
    "for i in range(n):\n",
    "    for j in range(n-i-1):\n",
    "        print(\" \", end = \"\")\n",
    "        \n",
    "    for k in range(i+1):\n",
    "        print(\"*\", end = \"\")\n",
    "        \n",
    "    print()\n",
    "    \n",
    "# HOMEWORK\n",
    "# Try to optimize this using the string multiplication syntax"
   ]
  },
  {
   "cell_type": "code",
   "execution_count": 28,
   "id": "80448dd2",
   "metadata": {},
   "outputs": [
    {
     "data": {
      "text/plain": [
       "'\\nQuestion 5 -\\nTake a name as input from the user. Print the following pattern using that name.\\n\\nINPUT - BIPIN\\nOUTPUT - \\nB****\\n*I***\\n**P**\\n***I*\\n****N\\n'"
      ]
     },
     "execution_count": 28,
     "metadata": {},
     "output_type": "execute_result"
    }
   ],
   "source": [
    "'''\n",
    "Question 5 -\n",
    "Take a name as input from the user. Print the following pattern using that name.\n",
    "\n",
    "INPUT - BIPIN\n",
    "OUTPUT - \n",
    "B****\n",
    "*I***\n",
    "**P**\n",
    "***I*\n",
    "****N\n",
    "'''"
   ]
  },
  {
   "cell_type": "code",
   "execution_count": 29,
   "id": "cbd67356",
   "metadata": {},
   "outputs": [
    {
     "data": {
      "text/plain": [
       "13"
      ]
     },
     "execution_count": 29,
     "metadata": {},
     "output_type": "execute_result"
    }
   ],
   "source": [
    "len(\"random string\")"
   ]
  },
  {
   "cell_type": "code",
   "execution_count": 34,
   "id": "e24cd5d3",
   "metadata": {},
   "outputs": [],
   "source": [
    "random = \"BIPIN\""
   ]
  },
  {
   "cell_type": "code",
   "execution_count": 35,
   "id": "ef985c31",
   "metadata": {},
   "outputs": [
    {
     "data": {
      "text/plain": [
       "'B'"
      ]
     },
     "execution_count": 35,
     "metadata": {},
     "output_type": "execute_result"
    }
   ],
   "source": [
    "random[0]"
   ]
  },
  {
   "cell_type": "code",
   "execution_count": 36,
   "id": "b6740480",
   "metadata": {},
   "outputs": [
    {
     "data": {
      "text/plain": [
       "'I'"
      ]
     },
     "execution_count": 36,
     "metadata": {},
     "output_type": "execute_result"
    }
   ],
   "source": [
    "random[1]"
   ]
  },
  {
   "cell_type": "code",
   "execution_count": 37,
   "id": "97ea1eba",
   "metadata": {},
   "outputs": [
    {
     "data": {
      "text/plain": [
       "'P'"
      ]
     },
     "execution_count": 37,
     "metadata": {},
     "output_type": "execute_result"
    }
   ],
   "source": [
    "random[2]"
   ]
  },
  {
   "cell_type": "code",
   "execution_count": 41,
   "id": "0a23a3c7",
   "metadata": {},
   "outputs": [
    {
     "name": "stdout",
     "output_type": "stream",
     "text": [
      "ABRACADABRA\n",
      "A**********\n",
      "*B*********\n",
      "**R********\n",
      "***A*******\n",
      "****C******\n",
      "*****A*****\n",
      "******D****\n",
      "*******A***\n",
      "********B**\n",
      "*********R*\n",
      "**********A\n"
     ]
    }
   ],
   "source": [
    "name = input()\n",
    "\n",
    "n = len(name)\n",
    "\n",
    "for i in range(n):\n",
    "    for j in range(n):\n",
    "        if i == j:\n",
    "            print(name[i], end = \"\")\n",
    "        else:\n",
    "            print(\"*\", end = \"\")\n",
    "    \n",
    "    print()"
   ]
  },
  {
   "cell_type": "code",
   "execution_count": null,
   "id": "276a1ace",
   "metadata": {},
   "outputs": [],
   "source": []
  }
 ],
 "metadata": {
  "kernelspec": {
   "display_name": "Python 3 (ipykernel)",
   "language": "python",
   "name": "python3"
  },
  "language_info": {
   "codemirror_mode": {
    "name": "ipython",
    "version": 3
   },
   "file_extension": ".py",
   "mimetype": "text/x-python",
   "name": "python",
   "nbconvert_exporter": "python",
   "pygments_lexer": "ipython3",
   "version": "3.9.5"
  }
 },
 "nbformat": 4,
 "nbformat_minor": 5
}
