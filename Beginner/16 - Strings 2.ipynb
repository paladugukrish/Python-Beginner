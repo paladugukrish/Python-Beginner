{
 "cells": [
  {
   "cell_type": "code",
   "execution_count": 70,
   "id": "b587355a",
   "metadata": {},
   "outputs": [],
   "source": [
    "# 1. SPLIT"
   ]
  },
  {
   "cell_type": "code",
   "execution_count": 71,
   "id": "5137b144",
   "metadata": {},
   "outputs": [],
   "source": [
    "a = \"this is a long string of words!\""
   ]
  },
  {
   "cell_type": "code",
   "execution_count": 6,
   "id": "33100658",
   "metadata": {},
   "outputs": [
    {
     "data": {
      "text/plain": [
       "['this', 'is', 'a', 'long', 'string', 'of', 'words!']"
      ]
     },
     "execution_count": 6,
     "metadata": {},
     "output_type": "execute_result"
    }
   ],
   "source": [
    "a.split(\" \") # any delimiter can be used - what to split by?"
   ]
  },
  {
   "cell_type": "code",
   "execution_count": 7,
   "id": "126f40cd",
   "metadata": {},
   "outputs": [],
   "source": [
    "a = \"this+is+random\""
   ]
  },
  {
   "cell_type": "code",
   "execution_count": 9,
   "id": "3fa94348",
   "metadata": {},
   "outputs": [
    {
     "data": {
      "text/plain": [
       "['this', 'is', 'random']"
      ]
     },
     "execution_count": 9,
     "metadata": {},
     "output_type": "execute_result"
    }
   ],
   "source": [
    "a.split(\"+\") # output will be a list of all splitted elements"
   ]
  },
  {
   "cell_type": "code",
   "execution_count": 10,
   "id": "eebb1448",
   "metadata": {},
   "outputs": [],
   "source": [
    "a = \"this is a random string with various S!\""
   ]
  },
  {
   "cell_type": "code",
   "execution_count": 11,
   "id": "b1e448f1",
   "metadata": {},
   "outputs": [
    {
     "data": {
      "text/plain": [
       "['thi', ' i', ' a random ', 'tring with variou', ' S!']"
      ]
     },
     "execution_count": 11,
     "metadata": {},
     "output_type": "execute_result"
    }
   ],
   "source": [
    "a.split(\"s\")"
   ]
  },
  {
   "cell_type": "code",
   "execution_count": 17,
   "id": "8800366c",
   "metadata": {},
   "outputs": [],
   "source": [
    "a = \"ThisRANDOMisRANDOMsomethingRANDOMweird!\""
   ]
  },
  {
   "cell_type": "code",
   "execution_count": 18,
   "id": "3f910c7b",
   "metadata": {},
   "outputs": [],
   "source": [
    "random = a.split(\"RANDOM\")"
   ]
  },
  {
   "cell_type": "code",
   "execution_count": 19,
   "id": "e6bdd272",
   "metadata": {},
   "outputs": [
    {
     "data": {
      "text/plain": [
       "['This', 'is', 'something', 'weird!']"
      ]
     },
     "execution_count": 19,
     "metadata": {},
     "output_type": "execute_result"
    }
   ],
   "source": [
    "random"
   ]
  },
  {
   "cell_type": "code",
   "execution_count": 14,
   "id": "128eef07",
   "metadata": {},
   "outputs": [],
   "source": [
    "# 2. JOIN"
   ]
  },
  {
   "cell_type": "code",
   "execution_count": 21,
   "id": "2ff99a8f",
   "metadata": {},
   "outputs": [],
   "source": [
    "a = [\"this\", \"is\", \"a\", \"list\", \"of\", \"strings!\"]"
   ]
  },
  {
   "cell_type": "code",
   "execution_count": 22,
   "id": "726fba4f",
   "metadata": {},
   "outputs": [
    {
     "data": {
      "text/plain": [
       "'this is a list of strings!'"
      ]
     },
     "execution_count": 22,
     "metadata": {},
     "output_type": "execute_result"
    }
   ],
   "source": [
    "\" \".join(a) # \"delimiter\".join(list_of_strings)"
   ]
  },
  {
   "cell_type": "code",
   "execution_count": 23,
   "id": "c2c1e6d0",
   "metadata": {},
   "outputs": [
    {
     "data": {
      "text/plain": [
       "'this+is+a+list+of+strings!'"
      ]
     },
     "execution_count": 23,
     "metadata": {},
     "output_type": "execute_result"
    }
   ],
   "source": [
    "\"+\".join(a)"
   ]
  },
  {
   "cell_type": "code",
   "execution_count": 24,
   "id": "25317f4f",
   "metadata": {},
   "outputs": [
    {
     "data": {
      "text/plain": [
       "'thisRANDOMisRANDOMaRANDOMlistRANDOMofRANDOMstrings!'"
      ]
     },
     "execution_count": 24,
     "metadata": {},
     "output_type": "execute_result"
    }
   ],
   "source": [
    "\"RANDOM\".join(a)"
   ]
  },
  {
   "cell_type": "code",
   "execution_count": 25,
   "id": "b8190f70",
   "metadata": {},
   "outputs": [],
   "source": [
    "a = [\"random\", 23, True, 5.6]"
   ]
  },
  {
   "cell_type": "code",
   "execution_count": 26,
   "id": "47d0141c",
   "metadata": {},
   "outputs": [
    {
     "ename": "TypeError",
     "evalue": "sequence item 1: expected str instance, int found",
     "output_type": "error",
     "traceback": [
      "\u001b[0;31m---------------------------------------------------------------------------\u001b[0m",
      "\u001b[0;31mTypeError\u001b[0m                                 Traceback (most recent call last)",
      "\u001b[0;32m/var/folders/nn/c52y0d3j0gq59dpsswchkt2r0000gn/T/ipykernel_166/1781443001.py\u001b[0m in \u001b[0;36m<module>\u001b[0;34m\u001b[0m\n\u001b[0;32m----> 1\u001b[0;31m \u001b[0;34m\" \"\u001b[0m\u001b[0;34m.\u001b[0m\u001b[0mjoin\u001b[0m\u001b[0;34m(\u001b[0m\u001b[0ma\u001b[0m\u001b[0;34m)\u001b[0m\u001b[0;34m\u001b[0m\u001b[0;34m\u001b[0m\u001b[0m\n\u001b[0m",
      "\u001b[0;31mTypeError\u001b[0m: sequence item 1: expected str instance, int found"
     ]
    }
   ],
   "source": [
    "\" \".join(a)"
   ]
  },
  {
   "cell_type": "code",
   "execution_count": 29,
   "id": "72b7ff01",
   "metadata": {},
   "outputs": [],
   "source": [
    "a = \"thisistheoriginalstring\""
   ]
  },
  {
   "cell_type": "code",
   "execution_count": 28,
   "id": "889bb49b",
   "metadata": {},
   "outputs": [
    {
     "data": {
      "text/plain": [
       "['thisistheoriginalstring']"
      ]
     },
     "execution_count": 28,
     "metadata": {},
     "output_type": "execute_result"
    }
   ],
   "source": [
    "a.split(\" \")"
   ]
  },
  {
   "cell_type": "code",
   "execution_count": 30,
   "id": "f2f4063a",
   "metadata": {},
   "outputs": [
    {
     "ename": "ValueError",
     "evalue": "empty separator",
     "output_type": "error",
     "traceback": [
      "\u001b[0;31m---------------------------------------------------------------------------\u001b[0m",
      "\u001b[0;31mValueError\u001b[0m                                Traceback (most recent call last)",
      "\u001b[0;32m/var/folders/nn/c52y0d3j0gq59dpsswchkt2r0000gn/T/ipykernel_166/1184299007.py\u001b[0m in \u001b[0;36m<module>\u001b[0;34m\u001b[0m\n\u001b[0;32m----> 1\u001b[0;31m \u001b[0ma\u001b[0m\u001b[0;34m.\u001b[0m\u001b[0msplit\u001b[0m\u001b[0;34m(\u001b[0m\u001b[0;34m\"\"\u001b[0m\u001b[0;34m)\u001b[0m\u001b[0;34m\u001b[0m\u001b[0;34m\u001b[0m\u001b[0m\n\u001b[0m",
      "\u001b[0;31mValueError\u001b[0m: empty separator"
     ]
    }
   ],
   "source": [
    "a.split(\"\")"
   ]
  },
  {
   "cell_type": "code",
   "execution_count": 31,
   "id": "02a3561f",
   "metadata": {},
   "outputs": [],
   "source": [
    "# 3. Find"
   ]
  },
  {
   "cell_type": "code",
   "execution_count": 33,
   "id": "58c65c9c",
   "metadata": {},
   "outputs": [
    {
     "data": {
      "text/plain": [
       "8"
      ]
     },
     "execution_count": 33,
     "metadata": {},
     "output_type": "execute_result"
    }
   ],
   "source": [
    "\"this is a random string\".find(\"a\")\n",
    "# returns index of the first instance of the given substring"
   ]
  },
  {
   "cell_type": "code",
   "execution_count": 43,
   "id": "c5ecfa3c",
   "metadata": {},
   "outputs": [
    {
     "data": {
      "text/plain": [
       "10"
      ]
     },
     "execution_count": 43,
     "metadata": {},
     "output_type": "execute_result"
    }
   ],
   "source": [
    "\"this is a random string randomest!\".find(\"random\")\n",
    "# gives you the starting index of the substring"
   ]
  },
  {
   "cell_type": "code",
   "execution_count": 37,
   "id": "4d1eb325",
   "metadata": {},
   "outputs": [
    {
     "data": {
      "text/plain": [
       "-1"
      ]
     },
     "execution_count": 37,
     "metadata": {},
     "output_type": "execute_result"
    }
   ],
   "source": [
    "\"this is a random string\".find(\"DOES NOT EXIST\")\n",
    "# -1 means this substring does not exist within the string"
   ]
  },
  {
   "cell_type": "code",
   "execution_count": 44,
   "id": "719ea9cc",
   "metadata": {},
   "outputs": [
    {
     "data": {
      "text/plain": [
       "2"
      ]
     },
     "execution_count": 44,
     "metadata": {},
     "output_type": "execute_result"
    }
   ],
   "source": [
    "\"this is a random string randomest!\".find(\"is\")"
   ]
  },
  {
   "cell_type": "code",
   "execution_count": 45,
   "id": "138aaa7c",
   "metadata": {},
   "outputs": [],
   "source": [
    "# 4. REPLACE"
   ]
  },
  {
   "cell_type": "code",
   "execution_count": 46,
   "id": "f9feb9bc",
   "metadata": {},
   "outputs": [],
   "source": [
    "a = \"this is a string random with random very much random!\""
   ]
  },
  {
   "cell_type": "code",
   "execution_count": 47,
   "id": "8ad31328",
   "metadata": {},
   "outputs": [],
   "source": [
    "a_replaced = a.replace(\"random\", \"SUPER RANDOM\")"
   ]
  },
  {
   "cell_type": "code",
   "execution_count": 48,
   "id": "b14f8391",
   "metadata": {},
   "outputs": [
    {
     "data": {
      "text/plain": [
       "'this is a string SUPER RANDOM with SUPER RANDOM very much SUPER RANDOM!'"
      ]
     },
     "execution_count": 48,
     "metadata": {},
     "output_type": "execute_result"
    }
   ],
   "source": [
    "a_replaced"
   ]
  },
  {
   "cell_type": "code",
   "execution_count": 49,
   "id": "e0f1ab4c",
   "metadata": {},
   "outputs": [],
   "source": [
    "a_replaced = a.replace(\" \", \",\")"
   ]
  },
  {
   "cell_type": "code",
   "execution_count": 50,
   "id": "00e37606",
   "metadata": {},
   "outputs": [
    {
     "data": {
      "text/plain": [
       "'this,is,a,string,random,with,random,very,much,random!'"
      ]
     },
     "execution_count": 50,
     "metadata": {},
     "output_type": "execute_result"
    }
   ],
   "source": [
    "a_replaced"
   ]
  },
  {
   "cell_type": "code",
   "execution_count": 53,
   "id": "7e58b3c6",
   "metadata": {},
   "outputs": [
    {
     "data": {
      "text/plain": [
       "'\\nQuestion 1 - \\n1. Take a string as input.\\n2. Convert that string to lower case without using any internal function.\\n\\nNote - You can use chr and ord :)\\n\"A\" (65) -> \"a\" (97) difference of 32\\n'"
      ]
     },
     "execution_count": 53,
     "metadata": {},
     "output_type": "execute_result"
    }
   ],
   "source": [
    "'''\n",
    "Question 1 - \n",
    "1. Take a string as input.\n",
    "2. Convert that string to lower case without using any internal function.\n",
    "\n",
    "Note - You can use chr and ord :)\n",
    "\"A\" (65) -> \"a\" (97) difference of 32\n",
    "'''"
   ]
  },
  {
   "cell_type": "code",
   "execution_count": 54,
   "id": "c25a3190",
   "metadata": {},
   "outputs": [],
   "source": [
    "def custom_lower(a):\n",
    "    result = \"\"\n",
    "    \n",
    "    for i in a:\n",
    "        order = ord(i)\n",
    "        order += 32\n",
    "        result += chr(order)\n",
    "        \n",
    "    return result"
   ]
  },
  {
   "cell_type": "code",
   "execution_count": 55,
   "id": "3f9eddca",
   "metadata": {},
   "outputs": [
    {
     "data": {
      "text/plain": [
       "'t\\x88\\x89\\x93@\\x89s@\\x81@st\\x92\\x89ng'"
      ]
     },
     "execution_count": 55,
     "metadata": {},
     "output_type": "execute_result"
    }
   ],
   "source": [
    "custom_lower(\"This iS a STriNG\")"
   ]
  },
  {
   "cell_type": "code",
   "execution_count": 58,
   "id": "ae625fe5",
   "metadata": {},
   "outputs": [],
   "source": [
    "def custom_lower(a):\n",
    "    result = \"\"\n",
    "    \n",
    "    for i in a:\n",
    "        if ord(i) >= 65 and ord(i) <= 90:\n",
    "            order = ord(i)\n",
    "            order += 32\n",
    "            result += chr(order)\n",
    "        else:\n",
    "            result += i\n",
    "        \n",
    "    return result"
   ]
  },
  {
   "cell_type": "code",
   "execution_count": 59,
   "id": "00d71864",
   "metadata": {},
   "outputs": [
    {
     "data": {
      "text/plain": [
       "'this is a string!'"
      ]
     },
     "execution_count": 59,
     "metadata": {},
     "output_type": "execute_result"
    }
   ],
   "source": [
    "custom_lower(\"This iS a STriNG!\")"
   ]
  },
  {
   "cell_type": "code",
   "execution_count": 61,
   "id": "99cc334f",
   "metadata": {},
   "outputs": [
    {
     "data": {
      "text/plain": [
       "True"
      ]
     },
     "execution_count": 61,
     "metadata": {},
     "output_type": "execute_result"
    }
   ],
   "source": [
    "5 in range(4,8) # this can also work to check for a number in a range"
   ]
  },
  {
   "cell_type": "code",
   "execution_count": 62,
   "id": "e8e018de",
   "metadata": {},
   "outputs": [
    {
     "data": {
      "text/plain": [
       "90"
      ]
     },
     "execution_count": 62,
     "metadata": {},
     "output_type": "execute_result"
    }
   ],
   "source": [
    "ord(\"Z\")"
   ]
  },
  {
   "cell_type": "code",
   "execution_count": 63,
   "id": "82feac6b",
   "metadata": {},
   "outputs": [],
   "source": [
    "# 5. MEMBERSHIP OPERATOR"
   ]
  },
  {
   "cell_type": "code",
   "execution_count": 64,
   "id": "050891c0",
   "metadata": {},
   "outputs": [
    {
     "data": {
      "text/plain": [
       "True"
      ]
     },
     "execution_count": 64,
     "metadata": {},
     "output_type": "execute_result"
    }
   ],
   "source": [
    "5 in [4,5,6,7]"
   ]
  },
  {
   "cell_type": "code",
   "execution_count": 67,
   "id": "b32ecf75",
   "metadata": {},
   "outputs": [
    {
     "data": {
      "text/plain": [
       "True"
      ]
     },
     "execution_count": 67,
     "metadata": {},
     "output_type": "execute_result"
    }
   ],
   "source": [
    "\"amazing\" in \"the amazing bipin kalra! XD\""
   ]
  },
  {
   "cell_type": "code",
   "execution_count": 68,
   "id": "c02584b8",
   "metadata": {},
   "outputs": [
    {
     "data": {
      "text/plain": [
       "False"
      ]
     },
     "execution_count": 68,
     "metadata": {},
     "output_type": "execute_result"
    }
   ],
   "source": [
    "\"amazing\" in \"the AMAzing bipin kalra! XD\""
   ]
  },
  {
   "cell_type": "code",
   "execution_count": 69,
   "id": "e1f7e1b7",
   "metadata": {},
   "outputs": [
    {
     "data": {
      "text/plain": [
       "True"
      ]
     },
     "execution_count": 69,
     "metadata": {},
     "output_type": "execute_result"
    }
   ],
   "source": [
    "\"amazing\" in \"youallareamazing!\""
   ]
  },
  {
   "cell_type": "code",
   "execution_count": 72,
   "id": "ddb1eda9",
   "metadata": {},
   "outputs": [],
   "source": [
    "# 6. SOME MORE INTERESTING FUNCTIONS"
   ]
  },
  {
   "cell_type": "code",
   "execution_count": 73,
   "id": "96eb1bf8",
   "metadata": {},
   "outputs": [
    {
     "data": {
      "text/plain": [
       "True"
      ]
     },
     "execution_count": 73,
     "metadata": {},
     "output_type": "execute_result"
    }
   ],
   "source": [
    "\"6\".isdigit() # true if digit otherwise false"
   ]
  },
  {
   "cell_type": "code",
   "execution_count": 74,
   "id": "7db46f99",
   "metadata": {},
   "outputs": [
    {
     "data": {
      "text/plain": [
       "True"
      ]
     },
     "execution_count": 74,
     "metadata": {},
     "output_type": "execute_result"
    }
   ],
   "source": [
    "\"5678345678\".isdigit()"
   ]
  },
  {
   "cell_type": "code",
   "execution_count": 75,
   "id": "54eb1023",
   "metadata": {},
   "outputs": [
    {
     "data": {
      "text/plain": [
       "False"
      ]
     },
     "execution_count": 75,
     "metadata": {},
     "output_type": "execute_result"
    }
   ],
   "source": [
    "\"3456789abdgsdjfhdsjfgh\".isdigit()"
   ]
  },
  {
   "cell_type": "code",
   "execution_count": 76,
   "id": "8bc43e91",
   "metadata": {},
   "outputs": [
    {
     "data": {
      "text/plain": [
       "False"
      ]
     },
     "execution_count": 76,
     "metadata": {},
     "output_type": "execute_result"
    }
   ],
   "source": [
    "\"45.67\".isdigit()"
   ]
  },
  {
   "cell_type": "code",
   "execution_count": 78,
   "id": "f80e87ea",
   "metadata": {},
   "outputs": [
    {
     "data": {
      "text/plain": [
       "True"
      ]
     },
     "execution_count": 78,
     "metadata": {},
     "output_type": "execute_result"
    }
   ],
   "source": [
    "\"a\".isalpha() # true if all alphabets else false"
   ]
  },
  {
   "cell_type": "code",
   "execution_count": 79,
   "id": "d30b624b",
   "metadata": {},
   "outputs": [
    {
     "data": {
      "text/plain": [
       "True"
      ]
     },
     "execution_count": 79,
     "metadata": {},
     "output_type": "execute_result"
    }
   ],
   "source": [
    "\"hfsdjhfgshfAAFGAFGAHJVA\".isalpha()"
   ]
  },
  {
   "cell_type": "code",
   "execution_count": 80,
   "id": "e6caff20",
   "metadata": {},
   "outputs": [
    {
     "data": {
      "text/plain": [
       "False"
      ]
     },
     "execution_count": 80,
     "metadata": {},
     "output_type": "execute_result"
    }
   ],
   "source": [
    "\"zxgfsjdhfg562536\".isalpha()"
   ]
  },
  {
   "cell_type": "code",
   "execution_count": 81,
   "id": "3e159d89",
   "metadata": {},
   "outputs": [
    {
     "data": {
      "text/plain": [
       "False"
      ]
     },
     "execution_count": 81,
     "metadata": {},
     "output_type": "execute_result"
    }
   ],
   "source": [
    "\"hgfhsd{ty}\".isalpha()"
   ]
  },
  {
   "cell_type": "code",
   "execution_count": 83,
   "id": "56b470b7",
   "metadata": {},
   "outputs": [
    {
     "data": {
      "text/plain": [
       "False"
      ]
     },
     "execution_count": 83,
     "metadata": {},
     "output_type": "execute_result"
    }
   ],
   "source": [
    "\"A\".islower() # true if lower case else false"
   ]
  },
  {
   "cell_type": "code",
   "execution_count": 84,
   "id": "e69b149d",
   "metadata": {},
   "outputs": [
    {
     "data": {
      "text/plain": [
       "True"
      ]
     },
     "execution_count": 84,
     "metadata": {},
     "output_type": "execute_result"
    }
   ],
   "source": [
    "\"a\".islower()"
   ]
  },
  {
   "cell_type": "code",
   "execution_count": 85,
   "id": "f7522a9d",
   "metadata": {},
   "outputs": [
    {
     "data": {
      "text/plain": [
       "True"
      ]
     },
     "execution_count": 85,
     "metadata": {},
     "output_type": "execute_result"
    }
   ],
   "source": [
    "\"agsdhagsdyag\".islower()"
   ]
  },
  {
   "cell_type": "code",
   "execution_count": 86,
   "id": "e041e2c0",
   "metadata": {},
   "outputs": [
    {
     "data": {
      "text/plain": [
       "True"
      ]
     },
     "execution_count": 86,
     "metadata": {},
     "output_type": "execute_result"
    }
   ],
   "source": [
    "\"A\".isupper()"
   ]
  },
  {
   "cell_type": "code",
   "execution_count": 87,
   "id": "b3c34bf6",
   "metadata": {},
   "outputs": [
    {
     "data": {
      "text/plain": [
       "False"
      ]
     },
     "execution_count": 87,
     "metadata": {},
     "output_type": "execute_result"
    }
   ],
   "source": [
    "\"a\".isupper()"
   ]
  },
  {
   "cell_type": "code",
   "execution_count": 88,
   "id": "a0248447",
   "metadata": {},
   "outputs": [
    {
     "data": {
      "text/plain": [
       "False"
      ]
     },
     "execution_count": 88,
     "metadata": {},
     "output_type": "execute_result"
    }
   ],
   "source": [
    "\"67\".islower()"
   ]
  },
  {
   "cell_type": "code",
   "execution_count": 89,
   "id": "e5912f2f",
   "metadata": {},
   "outputs": [
    {
     "data": {
      "text/plain": [
       "False"
      ]
     },
     "execution_count": 89,
     "metadata": {},
     "output_type": "execute_result"
    }
   ],
   "source": [
    "\"67\".isupper()"
   ]
  },
  {
   "cell_type": "code",
   "execution_count": 90,
   "id": "d0f6405b",
   "metadata": {},
   "outputs": [
    {
     "data": {
      "text/plain": [
       "False"
      ]
     },
     "execution_count": 90,
     "metadata": {},
     "output_type": "execute_result"
    }
   ],
   "source": [
    "\" \".islower()"
   ]
  },
  {
   "cell_type": "code",
   "execution_count": 91,
   "id": "b2e63cd8",
   "metadata": {},
   "outputs": [
    {
     "data": {
      "text/plain": [
       "'\\nQuestion 2 - \\n1. Create a isalphanumeric function.\\n2. True if all characters are alphanumeric else false.\\n'"
      ]
     },
     "execution_count": 91,
     "metadata": {},
     "output_type": "execute_result"
    }
   ],
   "source": [
    "'''\n",
    "Question 2 - \n",
    "1. Create a isalphanumeric function.\n",
    "2. True if all characters are alphanumeric else false.\n",
    "'''"
   ]
  },
  {
   "cell_type": "code",
   "execution_count": 94,
   "id": "b5e4b99e",
   "metadata": {},
   "outputs": [
    {
     "data": {
      "text/plain": [
       "57"
      ]
     },
     "execution_count": 94,
     "metadata": {},
     "output_type": "execute_result"
    }
   ],
   "source": [
    "ord(\"9\")"
   ]
  },
  {
   "cell_type": "code",
   "execution_count": 95,
   "id": "7e721163",
   "metadata": {},
   "outputs": [],
   "source": [
    "a = \"abc1322131283687\"\n",
    "\n",
    "def isalphanum(a):\n",
    "    for i in a:\n",
    "        if not (ord(i) in range(65, 91) or ord(i) in range(97, 123) or ord(i) in range(48, 58)):\n",
    "            return False\n",
    "        \n",
    "    return True"
   ]
  },
  {
   "cell_type": "code",
   "execution_count": 97,
   "id": "1e078b7c",
   "metadata": {},
   "outputs": [
    {
     "data": {
      "text/plain": [
       "True"
      ]
     },
     "execution_count": 97,
     "metadata": {},
     "output_type": "execute_result"
    }
   ],
   "source": [
    "isalphanum(a)"
   ]
  },
  {
   "cell_type": "code",
   "execution_count": 104,
   "id": "0fe307e3",
   "metadata": {},
   "outputs": [
    {
     "data": {
      "text/plain": [
       "False"
      ]
     },
     "execution_count": 104,
     "metadata": {},
     "output_type": "execute_result"
    }
   ],
   "source": [
    "isalphanum(\"hsdfgsh  \")"
   ]
  },
  {
   "cell_type": "code",
   "execution_count": 99,
   "id": "1ff5370e",
   "metadata": {},
   "outputs": [
    {
     "data": {
      "text/plain": [
       "True"
      ]
     },
     "execution_count": 99,
     "metadata": {},
     "output_type": "execute_result"
    }
   ],
   "source": [
    "\" \".isspace()"
   ]
  },
  {
   "cell_type": "code",
   "execution_count": 100,
   "id": "80c1163d",
   "metadata": {},
   "outputs": [
    {
     "data": {
      "text/plain": [
       "False"
      ]
     },
     "execution_count": 100,
     "metadata": {},
     "output_type": "execute_result"
    }
   ],
   "source": [
    "\"7364\".isspace()"
   ]
  },
  {
   "cell_type": "code",
   "execution_count": 101,
   "id": "13d802c2",
   "metadata": {
    "scrolled": true
   },
   "outputs": [
    {
     "data": {
      "text/plain": [
       "False"
      ]
     },
     "execution_count": 101,
     "metadata": {},
     "output_type": "execute_result"
    }
   ],
   "source": [
    "\"this has a space\".isspace()"
   ]
  },
  {
   "cell_type": "code",
   "execution_count": 107,
   "id": "39715cf5",
   "metadata": {},
   "outputs": [
    {
     "data": {
      "text/plain": [
       "'\\nQuestion 3 - \\n1. Take a string as input.\\n2. Replace all spaces with underscore. You can use isspace.\\n'"
      ]
     },
     "execution_count": 107,
     "metadata": {},
     "output_type": "execute_result"
    }
   ],
   "source": [
    "'''\n",
    "Question 3 - \n",
    "1. Take a string as input.\n",
    "2. Replace all spaces with underscore. You can use isspace.\n",
    "'''"
   ]
  },
  {
   "cell_type": "code",
   "execution_count": 106,
   "id": "227dbfbb",
   "metadata": {},
   "outputs": [
    {
     "data": {
      "text/plain": [
       "32"
      ]
     },
     "execution_count": 106,
     "metadata": {},
     "output_type": "execute_result"
    }
   ],
   "source": [
    "ord(\" \")"
   ]
  },
  {
   "cell_type": "code",
   "execution_count": 112,
   "id": "0cd5ac63",
   "metadata": {},
   "outputs": [],
   "source": [
    "def change_to_underscore(a):\n",
    "    result = \"\"\n",
    "    \n",
    "    for i in a:\n",
    "        if i == \" \":\n",
    "            result += \"_\"\n",
    "        else:\n",
    "            result += i\n",
    "            \n",
    "    return result"
   ]
  },
  {
   "cell_type": "code",
   "execution_count": 113,
   "id": "731a430a",
   "metadata": {
    "scrolled": true
   },
   "outputs": [
    {
     "data": {
      "text/plain": [
       "'this_is_a_string_to_be_changed_to_underscore!'"
      ]
     },
     "execution_count": 113,
     "metadata": {},
     "output_type": "execute_result"
    }
   ],
   "source": [
    "change_to_underscore(\"this is a string to be changed to underscore!\")"
   ]
  },
  {
   "cell_type": "markdown",
   "id": "40405f8f",
   "metadata": {},
   "source": [
    "# Glossary of string methods\n",
    "\n",
    "1. __split__ -> `\"this is a string\".split(\" \")` -> string to a list\n",
    "\n",
    "2. __join__ -> `\" \".join([\"list\", \"of\", \"strings\"])` -> list of strings to a string\n",
    "\n",
    "3. __replace__ -> `\"this is a string\".replace(\" \", \"_\")` -> replaces all occurences of the first character by the second character. __IMP__ - _CREATES A NEW STRING_\n",
    "\n",
    "4. __find__ -> `\"this is a string\".find(\" a \")` -> Finds the exact sequence or substring in the original string and returns the starting index of that substring.\n",
    "\n",
    "5. __count__ -> `\"this is a string\".count(\"a\")` -> Counts the number of times a character or substring is present within a string\n",
    "\n",
    "6. __isdigit__ -> True if content inside the string is only digits.\n",
    "7. __isalpha__ -> True if content inside the string is only alphabets.\n",
    "8. __islower__ / __isupper__ -> True if content inside the string is all lower case / all upper case\n",
    "9. __isspace__ -> True if the character is a space\n",
    "10. __lower__ / __upper__ -> Converts a string to lowercase / uppercase\n",
    "\n",
    "__Special Mention__\n",
    "- `\"random\" in \"this is random!\"` -> MEMBERSHIP OPERATOR - True if operand1 is present inside operand2."
   ]
  },
  {
   "cell_type": "code",
   "execution_count": 114,
   "id": "887c27c8",
   "metadata": {},
   "outputs": [],
   "source": [
    "# Escape Characters"
   ]
  },
  {
   "cell_type": "code",
   "execution_count": 116,
   "id": "9c37fe15",
   "metadata": {},
   "outputs": [],
   "source": [
    "a = \"abc is a \\\"random person\\\" inside double quotes\""
   ]
  },
  {
   "cell_type": "code",
   "execution_count": 117,
   "id": "39031066",
   "metadata": {},
   "outputs": [
    {
     "data": {
      "text/plain": [
       "'abc is a \"random person\" inside double quotes'"
      ]
     },
     "execution_count": 117,
     "metadata": {},
     "output_type": "execute_result"
    }
   ],
   "source": [
    "a"
   ]
  },
  {
   "cell_type": "code",
   "execution_count": 118,
   "id": "e0bab7c6",
   "metadata": {},
   "outputs": [
    {
     "ename": "TypeError",
     "evalue": "'str' object does not support item assignment",
     "output_type": "error",
     "traceback": [
      "\u001b[0;31m---------------------------------------------------------------------------\u001b[0m",
      "\u001b[0;31mTypeError\u001b[0m                                 Traceback (most recent call last)",
      "\u001b[0;32m/var/folders/nn/c52y0d3j0gq59dpsswchkt2r0000gn/T/ipykernel_166/2150085843.py\u001b[0m in \u001b[0;36m<module>\u001b[0;34m\u001b[0m\n\u001b[0;32m----> 1\u001b[0;31m \u001b[0ma\u001b[0m\u001b[0;34m[\u001b[0m\u001b[0;36m5\u001b[0m\u001b[0;34m]\u001b[0m \u001b[0;34m=\u001b[0m \u001b[0;34m\"s\"\u001b[0m\u001b[0;34m\u001b[0m\u001b[0;34m\u001b[0m\u001b[0m\n\u001b[0m",
      "\u001b[0;31mTypeError\u001b[0m: 'str' object does not support item assignment"
     ]
    }
   ],
   "source": [
    "a[5] = \"s\""
   ]
  },
  {
   "cell_type": "code",
   "execution_count": 123,
   "id": "d8c50678",
   "metadata": {},
   "outputs": [],
   "source": [
    "a = \"normal string\""
   ]
  },
  {
   "cell_type": "code",
   "execution_count": 124,
   "id": "b6e1673f",
   "metadata": {},
   "outputs": [],
   "source": [
    "# replace character at index 5 with \"x\""
   ]
  },
  {
   "cell_type": "code",
   "execution_count": 125,
   "id": "3bc32f16",
   "metadata": {},
   "outputs": [],
   "source": [
    "result = a[:5] + \"x\" + a[6:]"
   ]
  },
  {
   "cell_type": "code",
   "execution_count": 126,
   "id": "058da483",
   "metadata": {},
   "outputs": [
    {
     "data": {
      "text/plain": [
       "'normax string'"
      ]
     },
     "execution_count": 126,
     "metadata": {},
     "output_type": "execute_result"
    }
   ],
   "source": [
    "result"
   ]
  },
  {
   "cell_type": "code",
   "execution_count": null,
   "id": "93a2aca0",
   "metadata": {},
   "outputs": [],
   "source": []
  }
 ],
 "metadata": {
  "kernelspec": {
   "display_name": "Python 3 (ipykernel)",
   "language": "python",
   "name": "python3"
  },
  "language_info": {
   "codemirror_mode": {
    "name": "ipython",
    "version": 3
   },
   "file_extension": ".py",
   "mimetype": "text/x-python",
   "name": "python",
   "nbconvert_exporter": "python",
   "pygments_lexer": "ipython3",
   "version": "3.9.5"
  }
 },
 "nbformat": 4,
 "nbformat_minor": 5
}
