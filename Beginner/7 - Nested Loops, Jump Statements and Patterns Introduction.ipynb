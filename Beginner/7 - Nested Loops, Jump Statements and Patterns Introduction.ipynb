{
 "cells": [
  {
   "cell_type": "code",
   "execution_count": 1,
   "id": "726383de",
   "metadata": {},
   "outputs": [],
   "source": [
    "# JUMP STATEMENTS"
   ]
  },
  {
   "cell_type": "code",
   "execution_count": 2,
   "id": "dc379305",
   "metadata": {},
   "outputs": [
    {
     "name": "stdout",
     "output_type": "stream",
     "text": [
      "0\n",
      "1\n",
      "2\n",
      "3\n",
      "4\n"
     ]
    }
   ],
   "source": [
    "for i in range(5):\n",
    "    if i == 3:\n",
    "        pass # empty statement in python -> Does nothing\n",
    "    \n",
    "    print(i)"
   ]
  },
  {
   "cell_type": "code",
   "execution_count": 10,
   "id": "2f238ad9",
   "metadata": {},
   "outputs": [],
   "source": [
    "if True:\n",
    "    pass"
   ]
  },
  {
   "cell_type": "code",
   "execution_count": 8,
   "id": "cbea4e17",
   "metadata": {},
   "outputs": [
    {
     "name": "stdout",
     "output_type": "stream",
     "text": [
      "0\n",
      "1\n",
      "2\n",
      "4\n"
     ]
    }
   ],
   "source": [
    "for i in range(5):\n",
    "    if i == 3:\n",
    "        continue # continue to the next iteration -> skip rest of the current iteration\n",
    "    \n",
    "    print(i)"
   ]
  },
  {
   "cell_type": "code",
   "execution_count": 12,
   "id": "a7f28bd0",
   "metadata": {},
   "outputs": [
    {
     "name": "stdout",
     "output_type": "stream",
     "text": [
      "0\n",
      "1\n",
      "2\n"
     ]
    }
   ],
   "source": [
    "for i in range(5):\n",
    "    if i == 3:\n",
    "        break # breaks the loop\n",
    "    \n",
    "    print(i)"
   ]
  },
  {
   "cell_type": "code",
   "execution_count": 13,
   "id": "4611c2a5",
   "metadata": {},
   "outputs": [
    {
     "data": {
      "text/plain": [
       "'\\nQuestion 1 - \\nWrite a loop to print the following numbers -> 1,4,7,10,13,16\\n'"
      ]
     },
     "execution_count": 13,
     "metadata": {},
     "output_type": "execute_result"
    }
   ],
   "source": [
    "'''\n",
    "Question 1 - \n",
    "Write a loop to print the following numbers -> 1,4,7,10,13,16\n",
    "'''"
   ]
  },
  {
   "cell_type": "code",
   "execution_count": 16,
   "id": "0cc56ba1",
   "metadata": {},
   "outputs": [
    {
     "name": "stdout",
     "output_type": "stream",
     "text": [
      "1, 4, 7, 10, 13, 16, "
     ]
    }
   ],
   "source": [
    "for i in range(1,17,3):\n",
    "    print(i, end = \", \")"
   ]
  },
  {
   "cell_type": "code",
   "execution_count": 17,
   "id": "2be81aea",
   "metadata": {},
   "outputs": [
    {
     "name": "stdout",
     "output_type": "stream",
     "text": [
      "1, 4, 7, 10, 13, 16"
     ]
    }
   ],
   "source": [
    "for i in range(1,17,3):\n",
    "    if i == 16:\n",
    "        print(i, end = \"\")\n",
    "    else:\n",
    "        print(i, end = \", \")"
   ]
  },
  {
   "cell_type": "code",
   "execution_count": 18,
   "id": "70517769",
   "metadata": {},
   "outputs": [
    {
     "data": {
      "text/plain": [
       "'\\nQuestion 2 - \\nWrite a loop to print the following numbers - \\n1,1,3,7,13,21,31,43\\n'"
      ]
     },
     "execution_count": 18,
     "metadata": {},
     "output_type": "execute_result"
    }
   ],
   "source": [
    "'''\n",
    "Question 2 - \n",
    "Write a loop to print the following numbers - \n",
    "1,1,3,7,13,21,31,43\n",
    "'''"
   ]
  },
  {
   "cell_type": "code",
   "execution_count": 19,
   "id": "ee64cd8f",
   "metadata": {},
   "outputs": [],
   "source": [
    "# Differences -> 2,4,6,8,10"
   ]
  },
  {
   "cell_type": "code",
   "execution_count": 22,
   "id": "069e759f",
   "metadata": {},
   "outputs": [
    {
     "name": "stdout",
     "output_type": "stream",
     "text": [
      "1, 1, 3, 7, 13, 21, 31, 43, "
     ]
    }
   ],
   "source": [
    "number = 1\n",
    "i = 0\n",
    "\n",
    "while number <= 43:\n",
    "    print(number, end = \", \")\n",
    "    \n",
    "    number = number + 2 * i\n",
    "    i += 1"
   ]
  },
  {
   "cell_type": "code",
   "execution_count": 23,
   "id": "631e421d",
   "metadata": {},
   "outputs": [
    {
     "data": {
      "text/plain": [
       "'\\nQuestion 3 -\\nWrite a program that continuously asks the user to provide an input number.\\nThe program should stop only when the user provides 5.\\nOnce the user provides 5. The program should print the number of times an input was provided.\\nAssume that user always provides a number!\\n'"
      ]
     },
     "execution_count": 23,
     "metadata": {},
     "output_type": "execute_result"
    }
   ],
   "source": [
    "'''\n",
    "Question 3 -\n",
    "Write a program that continuously asks the user to provide an input number.\n",
    "The program should stop only when the user provides 5.\n",
    "Once the user provides 5. The program should print the number of times an input was provided.\n",
    "Assume that user always provides a number!\n",
    "'''"
   ]
  },
  {
   "cell_type": "code",
   "execution_count": 25,
   "id": "43dcfbd8",
   "metadata": {},
   "outputs": [
    {
     "name": "stdout",
     "output_type": "stream",
     "text": [
      "7\n",
      "8\n",
      "9\n",
      "10\n",
      "15\n",
      "14\n",
      "45\n",
      "67\n",
      "89\n",
      "101\n",
      "34\n",
      "2\n",
      "5\n",
      "You provided 13 inputs!\n"
     ]
    }
   ],
   "source": [
    "count = 0\n",
    "\n",
    "while True:\n",
    "    number = int(input())\n",
    "    count += 1\n",
    "    \n",
    "    if number == 5:\n",
    "        break\n",
    "        \n",
    "print(\"You provided\", count, \"inputs!\")"
   ]
  },
  {
   "cell_type": "code",
   "execution_count": 27,
   "id": "d910c09e",
   "metadata": {},
   "outputs": [
    {
     "name": "stdout",
     "output_type": "stream",
     "text": [
      "i -> 0 , j -> 0\n",
      "i -> 0 , j -> 1\n",
      "i -> 0 , j -> 2\n",
      "i -> 0 , j -> 3\n",
      "i -> 1 , j -> 0\n",
      "i -> 1 , j -> 1\n",
      "i -> 1 , j -> 2\n",
      "i -> 1 , j -> 3\n",
      "i -> 2 , j -> 0\n",
      "i -> 2 , j -> 1\n",
      "i -> 2 , j -> 2\n",
      "i -> 2 , j -> 3\n"
     ]
    }
   ],
   "source": [
    "for i in range(3):\n",
    "    for j in range(4):\n",
    "        print(\"i ->\", i, \", j ->\", j)"
   ]
  },
  {
   "cell_type": "code",
   "execution_count": 28,
   "id": "6945e9f1",
   "metadata": {},
   "outputs": [
    {
     "data": {
      "text/plain": [
       "'\\nQuestion 4 - \\nWrite a program to print NxN matrix of \"*\"\\n\\nInput - 3\\nOutput - \\n***\\n***\\n***\\n'"
      ]
     },
     "execution_count": 28,
     "metadata": {},
     "output_type": "execute_result"
    }
   ],
   "source": [
    "'''\n",
    "Question 4 - \n",
    "Write a program to print NxN matrix of \"*\"\n",
    "\n",
    "Input - 3\n",
    "Output - \n",
    "***\n",
    "***\n",
    "***\n",
    "'''"
   ]
  },
  {
   "cell_type": "code",
   "execution_count": 30,
   "id": "5766b8e0",
   "metadata": {},
   "outputs": [
    {
     "name": "stdout",
     "output_type": "stream",
     "text": [
      "3\n",
      "***\n",
      "***\n",
      "***\n"
     ]
    }
   ],
   "source": [
    "n = int(input())\n",
    "\n",
    "for i in range(1,n + 1):\n",
    "    print(\"*\"*n)"
   ]
  },
  {
   "cell_type": "code",
   "execution_count": 32,
   "id": "90c8efb1",
   "metadata": {},
   "outputs": [
    {
     "name": "stdout",
     "output_type": "stream",
     "text": [
      "4\n",
      "****\n",
      "****\n",
      "****\n",
      "****\n"
     ]
    }
   ],
   "source": [
    "n = int(input())\n",
    "\n",
    "for i in range(n):\n",
    "    for j in range(n):\n",
    "        print(\"*\", end = \"\")\n",
    "        \n",
    "    print()"
   ]
  },
  {
   "cell_type": "code",
   "execution_count": 33,
   "id": "51123b12",
   "metadata": {},
   "outputs": [
    {
     "data": {
      "text/plain": [
       "'\\nQuestion 5 - \\nWrite a program to print a multiplication table till an input N.\\n\\nInput - 3\\n\\nOutput - \\n1 2 3 4 5 6 7 8 9 10\\n2 4 6 8 10 12 14 16 18 20\\n3 6 9 12 15 18 21 24 27 30\\n'"
      ]
     },
     "execution_count": 33,
     "metadata": {},
     "output_type": "execute_result"
    }
   ],
   "source": [
    "'''\n",
    "Question 5 - \n",
    "Write a program to print a multiplication table till an input N.\n",
    "\n",
    "Input - 3\n",
    "\n",
    "Output - \n",
    "1 2 3 4 5 6 7 8 9 10\n",
    "2 4 6 8 10 12 14 16 18 20\n",
    "3 6 9 12 15 18 21 24 27 30\n",
    "'''"
   ]
  },
  {
   "cell_type": "code",
   "execution_count": 34,
   "id": "98353553",
   "metadata": {},
   "outputs": [
    {
     "name": "stdout",
     "output_type": "stream",
     "text": [
      "4\n",
      "1 2 3 4 5 6 7 8 9 10 \n",
      "2 4 6 8 10 12 14 16 18 20 \n",
      "3 6 9 12 15 18 21 24 27 30 \n",
      "4 8 12 16 20 24 28 32 36 40 \n"
     ]
    }
   ],
   "source": [
    "number = int(input())\n",
    "\n",
    "for i in range(1, number + 1):\n",
    "    for j in range(1, 11):\n",
    "        print(i*j, end = \" \")\n",
    "    \n",
    "    print()"
   ]
  },
  {
   "cell_type": "code",
   "execution_count": 41,
   "id": "38ae9947",
   "metadata": {},
   "outputs": [
    {
     "data": {
      "text/plain": [
       "'\\nQuestion 5 -\\nGCD ->\\nGiven two integer inputs, write a program to calculate GCD.\\n\\nInput - 16 24\\nOutput - 8\\n'"
      ]
     },
     "execution_count": 41,
     "metadata": {},
     "output_type": "execute_result"
    }
   ],
   "source": [
    "'''\n",
    "Question 5 -\n",
    "GCD ->\n",
    "Given two integer inputs, write a program to calculate GCD.\n",
    "\n",
    "Input - 16 24\n",
    "Output - 8\n",
    "'''"
   ]
  },
  {
   "cell_type": "code",
   "execution_count": 36,
   "id": "62252c71",
   "metadata": {},
   "outputs": [],
   "source": [
    "# A, B -> GDC(A, B) <= MIN(A, B)"
   ]
  },
  {
   "cell_type": "code",
   "execution_count": 39,
   "id": "06162daf",
   "metadata": {},
   "outputs": [
    {
     "name": "stdout",
     "output_type": "stream",
     "text": [
      "24\n",
      "32\n",
      "8\n"
     ]
    }
   ],
   "source": [
    "A = int(input())\n",
    "B = int(input())\n",
    "\n",
    "MIN = min(A, B)\n",
    "\n",
    "for x in range(MIN, 0, -1):\n",
    "    if A % x == 0 and B % x == 0:\n",
    "        print(x)\n",
    "        break"
   ]
  },
  {
   "cell_type": "code",
   "execution_count": 42,
   "id": "65be1c7f",
   "metadata": {},
   "outputs": [
    {
     "data": {
      "text/plain": [
       "'\\nQuestion 6 - \\nLCM ->\\nGiven two integer inputs, write a program to calculate the LCM.\\n\\nInput - 6 8\\nOutput - 24\\n'"
      ]
     },
     "execution_count": 42,
     "metadata": {},
     "output_type": "execute_result"
    }
   ],
   "source": [
    "'''\n",
    "Question 6 - \n",
    "LCM ->\n",
    "Given two integer inputs, write a program to calculate the LCM.\n",
    "\n",
    "Input - 6 8\n",
    "Output - 24\n",
    "'''"
   ]
  },
  {
   "cell_type": "code",
   "execution_count": 43,
   "id": "801f187d",
   "metadata": {},
   "outputs": [],
   "source": [
    "# A, B -> LCM(A, B) >= MAX(A, B)"
   ]
  },
  {
   "cell_type": "code",
   "execution_count": 49,
   "id": "ae67ee73",
   "metadata": {},
   "outputs": [
    {
     "name": "stdout",
     "output_type": "stream",
     "text": [
      "7\n",
      "8\n",
      "56\n"
     ]
    }
   ],
   "source": [
    "A = int(input())\n",
    "B = int(input())\n",
    "\n",
    "MAX = max(A, B)\n",
    "X = MAX\n",
    "\n",
    "while True:\n",
    "    if X % A == 0 and X % B == 0:\n",
    "        print(X)\n",
    "        break\n",
    "        \n",
    "    X += MAX"
   ]
  },
  {
   "cell_type": "code",
   "execution_count": 50,
   "id": "ec66b1bd",
   "metadata": {},
   "outputs": [
    {
     "data": {
      "text/plain": [
       "'\\nQuestion 7 - \\nPrint the following pattern -\\n*\\n**\\n***\\n****\\n*****\\nInput provided will be number of rows to be printed.\\n'"
      ]
     },
     "execution_count": 50,
     "metadata": {},
     "output_type": "execute_result"
    }
   ],
   "source": [
    "'''\n",
    "Question 7 - \n",
    "Print the following pattern -\n",
    "*\n",
    "**\n",
    "***\n",
    "****\n",
    "*****\n",
    "Input provided will be number of rows to be printed.\n",
    "'''"
   ]
  },
  {
   "cell_type": "code",
   "execution_count": 51,
   "id": "50d5d5cd",
   "metadata": {},
   "outputs": [
    {
     "name": "stdout",
     "output_type": "stream",
     "text": [
      "5\n",
      "*\n",
      "**\n",
      "***\n",
      "****\n",
      "*****\n"
     ]
    }
   ],
   "source": [
    "n = int(input())\n",
    "\n",
    "for i in range(1, n + 1):\n",
    "    print(\"*\" * i)"
   ]
  },
  {
   "cell_type": "code",
   "execution_count": 56,
   "id": "a9dbc915",
   "metadata": {},
   "outputs": [
    {
     "name": "stdout",
     "output_type": "stream",
     "text": [
      "5\n",
      "*\n",
      "**\n",
      "***\n",
      "****\n",
      "*****\n"
     ]
    }
   ],
   "source": [
    "n = int(input())\n",
    "\n",
    "for i in range(n):\n",
    "    for j in range(i + 1):\n",
    "        print(\"*\", end = \"\")\n",
    "    \n",
    "    print()"
   ]
  },
  {
   "cell_type": "code",
   "execution_count": 59,
   "id": "3eed380d",
   "metadata": {},
   "outputs": [
    {
     "name": "stdout",
     "output_type": "stream",
     "text": [
      "78\n",
      "2\n",
      "3\n",
      "6\n",
      "13\n",
      "26\n",
      "7\n"
     ]
    }
   ],
   "source": [
    "n = int(input())\n",
    "\n",
    "divisors = 2\n",
    "\n",
    "for i in range(2, (n + 1)//2):\n",
    "    if n % i == 0:\n",
    "        divisors += 1\n",
    "        print(i)\n",
    "        \n",
    "print(divisors)"
   ]
  },
  {
   "cell_type": "code",
   "execution_count": 60,
   "id": "e55d5f83",
   "metadata": {},
   "outputs": [
    {
     "ename": "IndentationError",
     "evalue": "expected an indented block (121315585.py, line 8)",
     "output_type": "error",
     "traceback": [
      "\u001b[0;36m  File \u001b[0;32m\"/var/folders/nn/c52y0d3j0gq59dpsswchkt2r0000gn/T/ipykernel_1099/121315585.py\"\u001b[0;36m, line \u001b[0;32m8\u001b[0m\n\u001b[0;31m    # PLEASE IGNORE.\u001b[0m\n\u001b[0m                    ^\u001b[0m\n\u001b[0;31mIndentationError\u001b[0m\u001b[0;31m:\u001b[0m expected an indented block\n"
     ]
    }
   ],
   "source": [
    "n = 8\n",
    "while n >= 0:\n",
    "    n -= 2\n",
    "    if n%2 == 0:\n",
    "        continue\n",
    "    print(n, end = \" \")\n",
    "else:\n",
    "    # PLEASE IGNORE."
   ]
  },
  {
   "cell_type": "code",
   "execution_count": null,
   "id": "38213680",
   "metadata": {},
   "outputs": [],
   "source": []
  }
 ],
 "metadata": {
  "kernelspec": {
   "display_name": "Python 3 (ipykernel)",
   "language": "python",
   "name": "python3"
  },
  "language_info": {
   "codemirror_mode": {
    "name": "ipython",
    "version": 3
   },
   "file_extension": ".py",
   "mimetype": "text/x-python",
   "name": "python",
   "nbconvert_exporter": "python",
   "pygments_lexer": "ipython3",
   "version": "3.9.5"
  }
 },
 "nbformat": 4,
 "nbformat_minor": 5
}
