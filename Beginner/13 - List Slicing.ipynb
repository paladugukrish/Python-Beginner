{
 "cells": [
  {
   "cell_type": "code",
   "execution_count": 1,
   "id": "ef486920",
   "metadata": {},
   "outputs": [],
   "source": [
    "runs = [62, 85, 71, 10, 12, 101, 122, 99, 81, 55]"
   ]
  },
  {
   "cell_type": "code",
   "execution_count": 2,
   "id": "cdcec752",
   "metadata": {},
   "outputs": [
    {
     "data": {
      "text/plain": [
       "[62, 85, 71, 10, 12, 101, 122, 99, 81, 55]"
      ]
     },
     "execution_count": 2,
     "metadata": {},
     "output_type": "execute_result"
    }
   ],
   "source": [
    "runs"
   ]
  },
  {
   "cell_type": "code",
   "execution_count": 3,
   "id": "a5240eef",
   "metadata": {},
   "outputs": [
    {
     "data": {
      "text/plain": [
       "'\\nQuestion 1 - \\nGiven a list of all runs, oprint runs made in odd numbered matches.\\n'"
      ]
     },
     "execution_count": 3,
     "metadata": {},
     "output_type": "execute_result"
    }
   ],
   "source": [
    "'''\n",
    "Question 1 - \n",
    "Given a list of all runs, oprint runs made in odd numbered matches.\n",
    "'''"
   ]
  },
  {
   "cell_type": "code",
   "execution_count": 4,
   "id": "b718202f",
   "metadata": {},
   "outputs": [
    {
     "name": "stdout",
     "output_type": "stream",
     "text": [
      "62 71 12 122 81 "
     ]
    }
   ],
   "source": [
    "for i in range(len(runs)):\n",
    "    if i % 2 == 0:\n",
    "        print(runs[i], end = \" \")"
   ]
  },
  {
   "cell_type": "code",
   "execution_count": 7,
   "id": "79c4e47a",
   "metadata": {},
   "outputs": [
    {
     "name": "stdout",
     "output_type": "stream",
     "text": [
      "62 71 12 122 81 "
     ]
    }
   ],
   "source": [
    "for i in range(0, len(runs), 2):\n",
    "    print(runs[i], end = \" \")"
   ]
  },
  {
   "cell_type": "code",
   "execution_count": 10,
   "id": "a8265fff",
   "metadata": {},
   "outputs": [
    {
     "name": "stdout",
     "output_type": "stream",
     "text": [
      "62,71,12,122,81"
     ]
    }
   ],
   "source": [
    "for i in range(0, len(runs), 2):\n",
    "    if i == len(runs) - 1 or i == len(runs) - 2:\n",
    "        print(runs[i], end = \"\")\n",
    "    else:\n",
    "        print(runs[i], end = \",\")"
   ]
  },
  {
   "cell_type": "code",
   "execution_count": 11,
   "id": "036abb2f",
   "metadata": {},
   "outputs": [
    {
     "name": "stdout",
     "output_type": "stream",
     "text": [
      "45,56,71,85,89\n"
     ]
    }
   ],
   "source": [
    "print(45, 56, 71, 85, 89, sep = \",\")"
   ]
  },
  {
   "cell_type": "code",
   "execution_count": 18,
   "id": "1a9eb242",
   "metadata": {},
   "outputs": [],
   "source": [
    "result = []\n",
    "for i in range(0, len(runs), 2):\n",
    "    result.append(str(runs[i]))"
   ]
  },
  {
   "cell_type": "code",
   "execution_count": 19,
   "id": "2478c7e3",
   "metadata": {},
   "outputs": [
    {
     "data": {
      "text/plain": [
       "['62', '71', '12', '122', '81']"
      ]
     },
     "execution_count": 19,
     "metadata": {},
     "output_type": "execute_result"
    }
   ],
   "source": [
    "result"
   ]
  },
  {
   "cell_type": "code",
   "execution_count": 20,
   "id": "dc199902",
   "metadata": {},
   "outputs": [
    {
     "data": {
      "text/plain": [
       "'62,71,12,122,81'"
      ]
     },
     "execution_count": 20,
     "metadata": {},
     "output_type": "execute_result"
    }
   ],
   "source": [
    "\",\".join(result)"
   ]
  },
  {
   "cell_type": "code",
   "execution_count": 21,
   "id": "7ef4ef62",
   "metadata": {},
   "outputs": [
    {
     "name": "stdout",
     "output_type": "stream",
     "text": [
      "62,71,12,122,81\n"
     ]
    }
   ],
   "source": [
    "print(\",\".join(result))"
   ]
  },
  {
   "cell_type": "code",
   "execution_count": 23,
   "id": "bcf80aaf",
   "metadata": {},
   "outputs": [
    {
     "data": {
      "text/plain": [
       "'\\nQuestion 2 - \\nGiven a list of all runs, make a new list of runs made in odd numbered matches.\\n'"
      ]
     },
     "execution_count": 23,
     "metadata": {},
     "output_type": "execute_result"
    }
   ],
   "source": [
    "'''\n",
    "Question 2 - \n",
    "Given a list of all runs, make a new list of runs made in odd numbered matches.\n",
    "'''"
   ]
  },
  {
   "cell_type": "code",
   "execution_count": 26,
   "id": "94fd4c45",
   "metadata": {},
   "outputs": [],
   "source": [
    "result = []\n",
    "for i in range(0, len(runs), 2):\n",
    "    result.append(runs[i])"
   ]
  },
  {
   "cell_type": "code",
   "execution_count": 27,
   "id": "834d89aa",
   "metadata": {},
   "outputs": [
    {
     "data": {
      "text/plain": [
       "[62, 71, 12, 122, 81]"
      ]
     },
     "execution_count": 27,
     "metadata": {},
     "output_type": "execute_result"
    }
   ],
   "source": [
    "result"
   ]
  },
  {
   "cell_type": "code",
   "execution_count": 28,
   "id": "9c5dc48e",
   "metadata": {},
   "outputs": [
    {
     "data": {
      "text/plain": [
       "'\\nQuestion 3 - \\nCreate a list of runs made in the last 5 matches.\\n'"
      ]
     },
     "execution_count": 28,
     "metadata": {},
     "output_type": "execute_result"
    }
   ],
   "source": [
    "'''\n",
    "Question 3 - \n",
    "Create a list of runs made in the last 5 matches.\n",
    "'''"
   ]
  },
  {
   "cell_type": "code",
   "execution_count": 29,
   "id": "a45b97b3",
   "metadata": {},
   "outputs": [
    {
     "name": "stdout",
     "output_type": "stream",
     "text": [
      "101\n",
      "122\n",
      "99\n",
      "81\n",
      "55\n"
     ]
    }
   ],
   "source": [
    "for i in range(len(runs) - 5, len(runs)):\n",
    "    print(runs[i])"
   ]
  },
  {
   "cell_type": "code",
   "execution_count": 33,
   "id": "9400a6e5",
   "metadata": {
    "scrolled": true
   },
   "outputs": [
    {
     "name": "stdout",
     "output_type": "stream",
     "text": [
      "55\n",
      "81\n",
      "99\n",
      "122\n",
      "101\n"
     ]
    }
   ],
   "source": [
    "for i in range(len(runs)-1, len(runs)-6, -1):\n",
    "    print(runs[i])"
   ]
  },
  {
   "cell_type": "code",
   "execution_count": 34,
   "id": "158a747a",
   "metadata": {},
   "outputs": [
    {
     "data": {
      "text/plain": [
       "'\\nQuestion 4 - \\nCreate a list of runs made in the first 3 matches.\\n'"
      ]
     },
     "execution_count": 34,
     "metadata": {},
     "output_type": "execute_result"
    }
   ],
   "source": [
    "'''\n",
    "Question 4 - \n",
    "Create a list of runs made in the first 3 matches.\n",
    "'''"
   ]
  },
  {
   "cell_type": "code",
   "execution_count": 35,
   "id": "040c874e",
   "metadata": {},
   "outputs": [
    {
     "name": "stdout",
     "output_type": "stream",
     "text": [
      "62\n",
      "85\n",
      "71\n"
     ]
    }
   ],
   "source": [
    "for i in range(3):\n",
    "    print(runs[i])"
   ]
  },
  {
   "cell_type": "code",
   "execution_count": 36,
   "id": "32d50f27",
   "metadata": {},
   "outputs": [
    {
     "name": "stdout",
     "output_type": "stream",
     "text": [
      "55\n",
      "81\n",
      "99\n",
      "122\n",
      "101\n",
      "12\n",
      "10\n",
      "71\n",
      "85\n",
      "62\n"
     ]
    }
   ],
   "source": [
    "for i in range(len(runs)-1, -1, -1):\n",
    "    print(runs[i])"
   ]
  },
  {
   "cell_type": "code",
   "execution_count": 37,
   "id": "09074eb1",
   "metadata": {},
   "outputs": [
    {
     "data": {
      "text/plain": [
       "'\\nQuestion 5 - \\nCreate a list of runs made from the third match to the 7th match. Both included.\\n'"
      ]
     },
     "execution_count": 37,
     "metadata": {},
     "output_type": "execute_result"
    }
   ],
   "source": [
    "'''\n",
    "Question 5 - \n",
    "Create a list of runs made from the third match to the 7th match. Both included.\n",
    "'''"
   ]
  },
  {
   "cell_type": "code",
   "execution_count": 38,
   "id": "0226d28a",
   "metadata": {},
   "outputs": [
    {
     "name": "stdout",
     "output_type": "stream",
     "text": [
      "71\n",
      "10\n",
      "12\n",
      "101\n",
      "122\n"
     ]
    }
   ],
   "source": [
    "for i in range(2,7):\n",
    "    print(runs[i])"
   ]
  },
  {
   "cell_type": "code",
   "execution_count": 39,
   "id": "882c8459",
   "metadata": {},
   "outputs": [
    {
     "name": "stdout",
     "output_type": "stream",
     "text": [
      "71\n",
      "10\n",
      "12\n",
      "101\n",
      "122\n"
     ]
    }
   ],
   "source": [
    "for i in range(len(runs)):\n",
    "    if i >=2 and i <=6:\n",
    "        print(runs[i])"
   ]
  },
  {
   "cell_type": "code",
   "execution_count": 41,
   "id": "e8897daa",
   "metadata": {},
   "outputs": [
    {
     "name": "stdout",
     "output_type": "stream",
     "text": [
      "71\n",
      "10\n",
      "12\n",
      "101\n",
      "122\n"
     ]
    }
   ],
   "source": [
    "i = 0\n",
    "\n",
    "while True:\n",
    "    if i == 7:\n",
    "        break\n",
    "    elif i >= 2:\n",
    "        print(runs[i])\n",
    "        \n",
    "    i += 1"
   ]
  },
  {
   "cell_type": "code",
   "execution_count": 42,
   "id": "d670daa1",
   "metadata": {},
   "outputs": [
    {
     "data": {
      "text/plain": [
       "[101, 122, 99, 81, 55]"
      ]
     },
     "execution_count": 42,
     "metadata": {},
     "output_type": "execute_result"
    }
   ],
   "source": [
    "runs[len(runs)-5:len(runs)]"
   ]
  },
  {
   "cell_type": "code",
   "execution_count": 43,
   "id": "e41d8f16",
   "metadata": {},
   "outputs": [
    {
     "data": {
      "text/plain": [
       "[62, 85, 71]"
      ]
     },
     "execution_count": 43,
     "metadata": {},
     "output_type": "execute_result"
    }
   ],
   "source": [
    "runs[0:3]"
   ]
  },
  {
   "cell_type": "code",
   "execution_count": 44,
   "id": "340428e3",
   "metadata": {},
   "outputs": [
    {
     "data": {
      "text/plain": [
       "[71, 10, 12, 101, 122]"
      ]
     },
     "execution_count": 44,
     "metadata": {},
     "output_type": "execute_result"
    }
   ],
   "source": [
    "runs[2:7]"
   ]
  },
  {
   "cell_type": "code",
   "execution_count": 46,
   "id": "e5f497bf",
   "metadata": {},
   "outputs": [
    {
     "data": {
      "text/plain": [
       "[62, 85, 71]"
      ]
     },
     "execution_count": 46,
     "metadata": {},
     "output_type": "execute_result"
    }
   ],
   "source": [
    "runs[:3] # automatically assumes start value to be zero"
   ]
  },
  {
   "cell_type": "code",
   "execution_count": 47,
   "id": "e2f8ea59",
   "metadata": {},
   "outputs": [
    {
     "data": {
      "text/plain": [
       "[10, 12, 101, 122, 99, 81, 55]"
      ]
     },
     "execution_count": 47,
     "metadata": {},
     "output_type": "execute_result"
    }
   ],
   "source": [
    "runs[3:] # automatically assumes end value to be len(runs)"
   ]
  },
  {
   "cell_type": "code",
   "execution_count": 48,
   "id": "6326b4cd",
   "metadata": {},
   "outputs": [
    {
     "data": {
      "text/plain": [
       "[]"
      ]
     },
     "execution_count": 48,
     "metadata": {},
     "output_type": "execute_result"
    }
   ],
   "source": [
    "runs[200:300]"
   ]
  },
  {
   "cell_type": "code",
   "execution_count": 49,
   "id": "037ed2eb",
   "metadata": {},
   "outputs": [
    {
     "data": {
      "text/plain": [
       "[71, 10, 12, 101, 122, 99, 81, 55]"
      ]
     },
     "execution_count": 49,
     "metadata": {},
     "output_type": "execute_result"
    }
   ],
   "source": [
    "runs[2:400]"
   ]
  },
  {
   "cell_type": "code",
   "execution_count": 51,
   "id": "23121f1b",
   "metadata": {},
   "outputs": [
    {
     "ename": "IndexError",
     "evalue": "list index out of range",
     "output_type": "error",
     "traceback": [
      "\u001b[0;31m---------------------------------------------------------------------------\u001b[0m",
      "\u001b[0;31mIndexError\u001b[0m                                Traceback (most recent call last)",
      "\u001b[0;32m/var/folders/nn/c52y0d3j0gq59dpsswchkt2r0000gn/T/ipykernel_61536/2522517950.py\u001b[0m in \u001b[0;36m<module>\u001b[0;34m\u001b[0m\n\u001b[0;32m----> 1\u001b[0;31m \u001b[0mruns\u001b[0m\u001b[0;34m[\u001b[0m\u001b[0;36m400\u001b[0m\u001b[0;34m]\u001b[0m \u001b[0;31m# list index out of range errors are automatically handled in list slicing\u001b[0m\u001b[0;34m\u001b[0m\u001b[0;34m\u001b[0m\u001b[0m\n\u001b[0m",
      "\u001b[0;31mIndexError\u001b[0m: list index out of range"
     ]
    }
   ],
   "source": [
    "runs[400] # list index out of range errors are automatically handled in list slicing"
   ]
  },
  {
   "cell_type": "code",
   "execution_count": 55,
   "id": "2b53eda1",
   "metadata": {},
   "outputs": [
    {
     "data": {
      "text/plain": [
       "[62, 71, 12, 122, 81]"
      ]
     },
     "execution_count": 55,
     "metadata": {},
     "output_type": "execute_result"
    }
   ],
   "source": [
    "runs[0:len(runs):2]"
   ]
  },
  {
   "cell_type": "code",
   "execution_count": 56,
   "id": "e8eb5a3d",
   "metadata": {},
   "outputs": [
    {
     "data": {
      "text/plain": [
       "[62, 71, 12, 122, 81]"
      ]
     },
     "execution_count": 56,
     "metadata": {},
     "output_type": "execute_result"
    }
   ],
   "source": [
    "runs[:len(runs):2]"
   ]
  },
  {
   "cell_type": "code",
   "execution_count": 57,
   "id": "e336757a",
   "metadata": {},
   "outputs": [
    {
     "data": {
      "text/plain": [
       "[62, 71, 12, 122, 81]"
      ]
     },
     "execution_count": 57,
     "metadata": {},
     "output_type": "execute_result"
    }
   ],
   "source": [
    "runs[::2]"
   ]
  },
  {
   "cell_type": "code",
   "execution_count": 58,
   "id": "b161cdc5",
   "metadata": {},
   "outputs": [
    {
     "data": {
      "text/plain": [
       "[85, 10, 101, 99, 55]"
      ]
     },
     "execution_count": 58,
     "metadata": {},
     "output_type": "execute_result"
    }
   ],
   "source": [
    "runs[1::2]"
   ]
  },
  {
   "cell_type": "code",
   "execution_count": 59,
   "id": "90afbd1d",
   "metadata": {},
   "outputs": [
    {
     "data": {
      "text/plain": [
       "[]"
      ]
     },
     "execution_count": 59,
     "metadata": {},
     "output_type": "execute_result"
    }
   ],
   "source": [
    "runs[5:0]"
   ]
  },
  {
   "cell_type": "code",
   "execution_count": 60,
   "id": "782e863f",
   "metadata": {},
   "outputs": [
    {
     "data": {
      "text/plain": [
       "[62, 85, 71, 10, 12, 101, 122, 99, 81, 55]"
      ]
     },
     "execution_count": 60,
     "metadata": {},
     "output_type": "execute_result"
    }
   ],
   "source": [
    "runs[:]"
   ]
  },
  {
   "cell_type": "code",
   "execution_count": 66,
   "id": "f0dd1ba2",
   "metadata": {},
   "outputs": [
    {
     "data": {
      "text/plain": [
       "[101, 12, 10, 71, 85]"
      ]
     },
     "execution_count": 66,
     "metadata": {},
     "output_type": "execute_result"
    }
   ],
   "source": [
    "runs[5:0:-1] # Negative step size"
   ]
  },
  {
   "cell_type": "raw",
   "id": "452c4e3b",
   "metadata": {},
   "source": [
    "runs[:]"
   ]
  },
  {
   "cell_type": "code",
   "execution_count": 64,
   "id": "c480d9bf",
   "metadata": {},
   "outputs": [
    {
     "data": {
      "text/plain": [
       "[62, 85, 71, 10, 12, 101, 122, 99, 81, 55]"
      ]
     },
     "execution_count": 64,
     "metadata": {},
     "output_type": "execute_result"
    }
   ],
   "source": [
    "runs[::]"
   ]
  },
  {
   "cell_type": "code",
   "execution_count": 67,
   "id": "8857211a",
   "metadata": {},
   "outputs": [
    {
     "data": {
      "text/plain": [
       "[81, 99, 122]"
      ]
     },
     "execution_count": 67,
     "metadata": {},
     "output_type": "execute_result"
    }
   ],
   "source": [
    "runs[-2:-5:-1]"
   ]
  },
  {
   "cell_type": "code",
   "execution_count": 68,
   "id": "bde66eb7",
   "metadata": {},
   "outputs": [
    {
     "data": {
      "text/plain": [
       "[101, 122, 99]"
      ]
     },
     "execution_count": 68,
     "metadata": {},
     "output_type": "execute_result"
    }
   ],
   "source": [
    "runs[-5:-2]"
   ]
  },
  {
   "cell_type": "code",
   "execution_count": 69,
   "id": "365045ed",
   "metadata": {},
   "outputs": [
    {
     "data": {
      "text/plain": [
       "'\\nDefault values - \\n1. When jump / step size is positive - \\n    - start = 0\\n    - end = len(runs)\\n2. When jump / step size is negative - \\n    - start = len(runs) - 1\\n    - end = covers first element (SPECIAL CASE)\\n'"
      ]
     },
     "execution_count": 69,
     "metadata": {},
     "output_type": "execute_result"
    }
   ],
   "source": [
    "'''\n",
    "Default values - \n",
    "1. When jump / step size is positive - \n",
    "    - start = 0\n",
    "    - end = len(runs)\n",
    "2. When jump / step size is negative - \n",
    "    - start = len(runs) - 1\n",
    "    - end = covers first element (SPECIAL CASE)\n",
    "'''"
   ]
  },
  {
   "cell_type": "code",
   "execution_count": 70,
   "id": "5bd42e63",
   "metadata": {},
   "outputs": [
    {
     "data": {
      "text/plain": [
       "[62, 85, 71, 10, 12, 101, 122, 99, 81, 55]"
      ]
     },
     "execution_count": 70,
     "metadata": {},
     "output_type": "execute_result"
    }
   ],
   "source": [
    "runs[::]"
   ]
  },
  {
   "cell_type": "code",
   "execution_count": 72,
   "id": "70e64360",
   "metadata": {},
   "outputs": [
    {
     "data": {
      "text/plain": [
       "[55, 81, 99, 122, 101, 12, 10, 71, 85, 62]"
      ]
     },
     "execution_count": 72,
     "metadata": {},
     "output_type": "execute_result"
    }
   ],
   "source": [
    "runs[::-1] # reverse a list"
   ]
  },
  {
   "cell_type": "code",
   "execution_count": 73,
   "id": "3b09e37a",
   "metadata": {},
   "outputs": [
    {
     "data": {
      "text/plain": [
       "[101, 12, 10, 71, 85, 62]"
      ]
     },
     "execution_count": 73,
     "metadata": {},
     "output_type": "execute_result"
    }
   ],
   "source": [
    "runs[-5::-1]"
   ]
  },
  {
   "cell_type": "code",
   "execution_count": 76,
   "id": "0f01ca89",
   "metadata": {},
   "outputs": [],
   "source": [
    "a = [10,20,30,40,50,60,70,80,90,100]"
   ]
  },
  {
   "cell_type": "code",
   "execution_count": 74,
   "id": "c52dcab7",
   "metadata": {},
   "outputs": [
    {
     "data": {
      "text/plain": [
       "'\\nQuestion 6 - \\na = [10,20,30,40,50,60,70,80,90,100]\\n\\n1. a[3:5]\\n2. a[:8]\\n3. a[:]\\n4. a[7:]\\n5. a[-2:-5:-1]\\n6. a[-2:-7]\\n7. a[:-5]\\n8. a[-2:]\\n9. a[-8:5]\\n10. a[-8:5:-1]\\n'"
      ]
     },
     "execution_count": 74,
     "metadata": {},
     "output_type": "execute_result"
    }
   ],
   "source": [
    "'''\n",
    "Question 6 - \n",
    "a = [10,20,30,40,50,60,70,80,90,100]\n",
    "\n",
    "1. a[3:5]\n",
    "2. a[:8]\n",
    "3. a[:]\n",
    "4. a[7:]\n",
    "5. a[-2:-5:-1]\n",
    "6. a[-2:-7]\n",
    "7. a[:-5]\n",
    "8. a[-2:]\n",
    "9. a[-8:5]\n",
    "10. a[-8:5:-1]\n",
    "'''"
   ]
  },
  {
   "cell_type": "code",
   "execution_count": 77,
   "id": "c64a10b5",
   "metadata": {},
   "outputs": [
    {
     "data": {
      "text/plain": [
       "[40, 50]"
      ]
     },
     "execution_count": 77,
     "metadata": {},
     "output_type": "execute_result"
    }
   ],
   "source": [
    "# a = [10,20,30,40,50,60,70,80,90,100]\n",
    "a[3:5]"
   ]
  },
  {
   "cell_type": "code",
   "execution_count": 78,
   "id": "b64c096a",
   "metadata": {},
   "outputs": [
    {
     "data": {
      "text/plain": [
       "[10, 20, 30, 40, 50, 60, 70, 80]"
      ]
     },
     "execution_count": 78,
     "metadata": {},
     "output_type": "execute_result"
    }
   ],
   "source": [
    "# a = [10,20,30,40,50,60,70,80,90,100]\n",
    "a[:8]"
   ]
  },
  {
   "cell_type": "code",
   "execution_count": 79,
   "id": "16765a34",
   "metadata": {},
   "outputs": [
    {
     "data": {
      "text/plain": [
       "[10, 20, 30, 40, 50, 60, 70, 80, 90, 100]"
      ]
     },
     "execution_count": 79,
     "metadata": {},
     "output_type": "execute_result"
    }
   ],
   "source": [
    "# a = [10,20,30,40,50,60,70,80,90,100]\n",
    "a[:]"
   ]
  },
  {
   "cell_type": "code",
   "execution_count": 80,
   "id": "21824c84",
   "metadata": {},
   "outputs": [
    {
     "data": {
      "text/plain": [
       "[80, 90, 100]"
      ]
     },
     "execution_count": 80,
     "metadata": {},
     "output_type": "execute_result"
    }
   ],
   "source": [
    "# a = [10,20,30,40,50,60,70,80,90,100]\n",
    "a[7:]"
   ]
  },
  {
   "cell_type": "code",
   "execution_count": 81,
   "id": "e0b6667d",
   "metadata": {},
   "outputs": [
    {
     "data": {
      "text/plain": [
       "[90, 80, 70]"
      ]
     },
     "execution_count": 81,
     "metadata": {},
     "output_type": "execute_result"
    }
   ],
   "source": [
    "# a = [10,20,30,40,50,60,70,80,90,100]\n",
    "a[-2:-5:-1]"
   ]
  },
  {
   "cell_type": "code",
   "execution_count": 82,
   "id": "d7ea1a86",
   "metadata": {},
   "outputs": [
    {
     "data": {
      "text/plain": [
       "[]"
      ]
     },
     "execution_count": 82,
     "metadata": {},
     "output_type": "execute_result"
    }
   ],
   "source": [
    "# a = [10,20,30,40,50,60,70,80,90,100]\n",
    "a[-2:-7] # by default jump is postive 1"
   ]
  },
  {
   "cell_type": "code",
   "execution_count": 83,
   "id": "f7b7a628",
   "metadata": {},
   "outputs": [
    {
     "data": {
      "text/plain": [
       "[10, 20, 30, 40, 50]"
      ]
     },
     "execution_count": 83,
     "metadata": {},
     "output_type": "execute_result"
    }
   ],
   "source": [
    "# a = [10,20,30,40,50,60,70,80,90,100]\n",
    "a[:-5]"
   ]
  },
  {
   "cell_type": "code",
   "execution_count": 84,
   "id": "8c4f2377",
   "metadata": {},
   "outputs": [
    {
     "data": {
      "text/plain": [
       "[90, 100]"
      ]
     },
     "execution_count": 84,
     "metadata": {},
     "output_type": "execute_result"
    }
   ],
   "source": [
    "# a = [10,20,30,40,50,60,70,80,90,100]\n",
    "a[-2:]"
   ]
  },
  {
   "cell_type": "code",
   "execution_count": 85,
   "id": "84a79653",
   "metadata": {},
   "outputs": [
    {
     "data": {
      "text/plain": [
       "[30, 40, 50]"
      ]
     },
     "execution_count": 85,
     "metadata": {},
     "output_type": "execute_result"
    }
   ],
   "source": [
    "# a = [10,20,30,40,50,60,70,80,90,100]\n",
    "a[-8:5]"
   ]
  },
  {
   "cell_type": "code",
   "execution_count": 86,
   "id": "80170ff4",
   "metadata": {},
   "outputs": [
    {
     "data": {
      "text/plain": [
       "[]"
      ]
     },
     "execution_count": 86,
     "metadata": {},
     "output_type": "execute_result"
    }
   ],
   "source": [
    "# a = [10,20,30,40,50,60,70,80,90,100]\n",
    "a[-8:5:-1]"
   ]
  },
  {
   "cell_type": "code",
   "execution_count": 88,
   "id": "e18041f5",
   "metadata": {},
   "outputs": [
    {
     "ename": "IndexError",
     "evalue": "list index out of range",
     "output_type": "error",
     "traceback": [
      "\u001b[0;31m---------------------------------------------------------------------------\u001b[0m",
      "\u001b[0;31mIndexError\u001b[0m                                Traceback (most recent call last)",
      "\u001b[0;32m/var/folders/nn/c52y0d3j0gq59dpsswchkt2r0000gn/T/ipykernel_61536/932383754.py\u001b[0m in \u001b[0;36m<module>\u001b[0;34m\u001b[0m\n\u001b[0;32m----> 1\u001b[0;31m \u001b[0ma\u001b[0m\u001b[0;34m[\u001b[0m\u001b[0ma\u001b[0m\u001b[0;34m[\u001b[0m\u001b[0;36m100\u001b[0m\u001b[0;34m]\u001b[0m\u001b[0;34m]\u001b[0m\u001b[0;34m\u001b[0m\u001b[0;34m\u001b[0m\u001b[0m\n\u001b[0m",
      "\u001b[0;31mIndexError\u001b[0m: list index out of range"
     ]
    }
   ],
   "source": [
    "a[a[100]]"
   ]
  },
  {
   "cell_type": "code",
   "execution_count": 89,
   "id": "a84f1e51",
   "metadata": {},
   "outputs": [
    {
     "data": {
      "text/plain": [
       "1"
      ]
     },
     "execution_count": 89,
     "metadata": {},
     "output_type": "execute_result"
    }
   ],
   "source": [
    "a.index(20)"
   ]
  },
  {
   "cell_type": "code",
   "execution_count": null,
   "id": "3e864ac0",
   "metadata": {},
   "outputs": [],
   "source": []
  }
 ],
 "metadata": {
  "kernelspec": {
   "display_name": "Python 3 (ipykernel)",
   "language": "python",
   "name": "python3"
  },
  "language_info": {
   "codemirror_mode": {
    "name": "ipython",
    "version": 3
   },
   "file_extension": ".py",
   "mimetype": "text/x-python",
   "name": "python",
   "nbconvert_exporter": "python",
   "pygments_lexer": "ipython3",
   "version": "3.9.5"
  }
 },
 "nbformat": 4,
 "nbformat_minor": 5
}
