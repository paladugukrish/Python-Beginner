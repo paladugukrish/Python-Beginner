{
 "cells": [
  {
   "cell_type": "code",
   "execution_count": 1,
   "id": "f2548d56",
   "metadata": {},
   "outputs": [],
   "source": [
    "a = {\n",
    "    \"tag1\" : \"value1\",\n",
    "    \"tag2\" : \"value2\"\n",
    "}"
   ]
  },
  {
   "cell_type": "code",
   "execution_count": 6,
   "id": "73f5e51d",
   "metadata": {},
   "outputs": [],
   "source": [
    "# Approach 1 -> List of tuples\n",
    "state_wise_data = [(\"Delhi\", 20), (\"Haryana\", 35), (\"UP\", 100)]"
   ]
  },
  {
   "cell_type": "code",
   "execution_count": 7,
   "id": "53611dc8",
   "metadata": {},
   "outputs": [
    {
     "data": {
      "text/plain": [
       "('UP', 100)"
      ]
     },
     "execution_count": 7,
     "metadata": {},
     "output_type": "execute_result"
    }
   ],
   "source": [
    "state_wise_data[2]"
   ]
  },
  {
   "cell_type": "code",
   "execution_count": 11,
   "id": "b787b925",
   "metadata": {},
   "outputs": [],
   "source": [
    "# Approach 2 -> Dictionary\n",
    "state_wise_data = {\n",
    "    \"Delhi\": 20,\n",
    "    \"Haryana\": 35,\n",
    "    \"UP\": 100\n",
    "}"
   ]
  },
  {
   "cell_type": "code",
   "execution_count": 12,
   "id": "51e5b911",
   "metadata": {},
   "outputs": [
    {
     "data": {
      "text/plain": [
       "20"
      ]
     },
     "execution_count": 12,
     "metadata": {},
     "output_type": "execute_result"
    }
   ],
   "source": [
    "state_wise_data[\"Delhi\"]"
   ]
  },
  {
   "cell_type": "code",
   "execution_count": 13,
   "id": "b0e7cf6c",
   "metadata": {},
   "outputs": [
    {
     "data": {
      "text/plain": [
       "100"
      ]
     },
     "execution_count": 13,
     "metadata": {},
     "output_type": "execute_result"
    }
   ],
   "source": [
    "state_wise_data[\"UP\"]"
   ]
  },
  {
   "cell_type": "code",
   "execution_count": 15,
   "id": "c8fe6caf",
   "metadata": {},
   "outputs": [
    {
     "ename": "KeyError",
     "evalue": "0",
     "output_type": "error",
     "traceback": [
      "\u001b[0;31m---------------------------------------------------------------------------\u001b[0m",
      "\u001b[0;31mKeyError\u001b[0m                                  Traceback (most recent call last)",
      "\u001b[0;32m/var/folders/nn/c52y0d3j0gq59dpsswchkt2r0000gn/T/ipykernel_18497/1072597350.py\u001b[0m in \u001b[0;36m<module>\u001b[0;34m\u001b[0m\n\u001b[0;32m----> 1\u001b[0;31m \u001b[0mstate_wise_data\u001b[0m\u001b[0;34m[\u001b[0m\u001b[0;36m0\u001b[0m\u001b[0;34m]\u001b[0m \u001b[0;31m# numerical indexes do not exist in a dictionary\u001b[0m\u001b[0;34m\u001b[0m\u001b[0;34m\u001b[0m\u001b[0m\n\u001b[0m",
      "\u001b[0;31mKeyError\u001b[0m: 0"
     ]
    }
   ],
   "source": [
    "state_wise_data[0] # numerical indexes do not exist in a dictionary"
   ]
  },
  {
   "cell_type": "code",
   "execution_count": 17,
   "id": "f8248b77",
   "metadata": {},
   "outputs": [
    {
     "ename": "AttributeError",
     "evalue": "'dict' object has no attribute 'Delhi'",
     "output_type": "error",
     "traceback": [
      "\u001b[0;31m---------------------------------------------------------------------------\u001b[0m",
      "\u001b[0;31mAttributeError\u001b[0m                            Traceback (most recent call last)",
      "\u001b[0;32m/var/folders/nn/c52y0d3j0gq59dpsswchkt2r0000gn/T/ipykernel_18497/561066079.py\u001b[0m in \u001b[0;36m<module>\u001b[0;34m\u001b[0m\n\u001b[0;32m----> 1\u001b[0;31m \u001b[0mstate_wise_data\u001b[0m\u001b[0;34m.\u001b[0m\u001b[0mDelhi\u001b[0m \u001b[0;31m# does not work\u001b[0m\u001b[0;34m\u001b[0m\u001b[0;34m\u001b[0m\u001b[0m\n\u001b[0m",
      "\u001b[0;31mAttributeError\u001b[0m: 'dict' object has no attribute 'Delhi'"
     ]
    }
   ],
   "source": [
    "state_wise_data.Delhi # does not work"
   ]
  },
  {
   "cell_type": "code",
   "execution_count": 18,
   "id": "6cec934d",
   "metadata": {},
   "outputs": [
    {
     "data": {
      "text/plain": [
       "{'Delhi': 20, 'Haryana': 35, 'UP': 100}"
      ]
     },
     "execution_count": 18,
     "metadata": {},
     "output_type": "execute_result"
    }
   ],
   "source": [
    "state_wise_data"
   ]
  },
  {
   "cell_type": "code",
   "execution_count": 19,
   "id": "b482d536",
   "metadata": {},
   "outputs": [
    {
     "data": {
      "text/plain": [
       "'\\nBefore Python 3.7 -> Dictionaries were unordered.\\nAfter Python 3.7 -> Dictionaries are ordered internally but still not indexable using 0 based indexing.\\n'"
      ]
     },
     "execution_count": 19,
     "metadata": {},
     "output_type": "execute_result"
    }
   ],
   "source": [
    "'''\n",
    "Before Python 3.7 -> Dictionaries were unordered.\n",
    "After Python 3.7 -> Dictionaries are ordered internally but still not indexable using 0 based indexing.\n",
    "'''"
   ]
  },
  {
   "cell_type": "code",
   "execution_count": 20,
   "id": "7fe2eff8",
   "metadata": {},
   "outputs": [],
   "source": [
    "a = {}"
   ]
  },
  {
   "cell_type": "code",
   "execution_count": 21,
   "id": "c4e59fd6",
   "metadata": {},
   "outputs": [
    {
     "data": {
      "text/plain": [
       "dict"
      ]
     },
     "execution_count": 21,
     "metadata": {},
     "output_type": "execute_result"
    }
   ],
   "source": [
    "type(a)"
   ]
  },
  {
   "cell_type": "code",
   "execution_count": 31,
   "id": "7c2c8f2b",
   "metadata": {},
   "outputs": [],
   "source": [
    "a = {\n",
    "    \"Delhi\": 20,\n",
    "    \"Haryana\": 35,\n",
    "    \"UP\": 100\n",
    "}"
   ]
  },
  {
   "cell_type": "code",
   "execution_count": 25,
   "id": "f3726c9c",
   "metadata": {},
   "outputs": [],
   "source": [
    "a[\"Maharashtra\"] = 75\n",
    "# we can add new key value pairs to the dictionary"
   ]
  },
  {
   "cell_type": "code",
   "execution_count": 26,
   "id": "7993b8d6",
   "metadata": {},
   "outputs": [
    {
     "data": {
      "text/plain": [
       "{'Delhi': 20, 'Haryana': 35, 'UP': 100, 'Maharashtra': 75}"
      ]
     },
     "execution_count": 26,
     "metadata": {},
     "output_type": "execute_result"
    }
   ],
   "source": [
    "a"
   ]
  },
  {
   "cell_type": "code",
   "execution_count": 29,
   "id": "0d2f34d7",
   "metadata": {},
   "outputs": [],
   "source": [
    "a[\"delhi\"] = 30\n",
    "# keys follow the same principle of case sentitivity in Python"
   ]
  },
  {
   "cell_type": "code",
   "execution_count": 30,
   "id": "9a9ef861",
   "metadata": {},
   "outputs": [
    {
     "data": {
      "text/plain": [
       "{'Delhi': 20, 'Haryana': 35, 'UP': 100, 'Maharashtra': 75, 'delhi': 30}"
      ]
     },
     "execution_count": 30,
     "metadata": {},
     "output_type": "execute_result"
    }
   ],
   "source": [
    "a"
   ]
  },
  {
   "cell_type": "code",
   "execution_count": 33,
   "id": "127d3c1d",
   "metadata": {},
   "outputs": [],
   "source": [
    "a = {\n",
    "    \"Delhi\": 20,\n",
    "    \"Haryana\": 35,\n",
    "    \"UP\": 100\n",
    "}"
   ]
  },
  {
   "cell_type": "code",
   "execution_count": 36,
   "id": "4972c5a7",
   "metadata": {},
   "outputs": [],
   "source": [
    "a[\"Delhi\"] = 25\n",
    "# Old key value pairs can be updated"
   ]
  },
  {
   "cell_type": "code",
   "execution_count": 35,
   "id": "147b5157",
   "metadata": {},
   "outputs": [
    {
     "data": {
      "text/plain": [
       "{'Delhi': 25, 'Haryana': 35, 'UP': 100}"
      ]
     },
     "execution_count": 35,
     "metadata": {},
     "output_type": "execute_result"
    }
   ],
   "source": [
    "a"
   ]
  },
  {
   "cell_type": "code",
   "execution_count": 37,
   "id": "da867475",
   "metadata": {},
   "outputs": [],
   "source": [
    "# Heterogeneity in a dictionary\n",
    "# Keys -> Strings\n",
    "# VALUES -> We can have any python object"
   ]
  },
  {
   "cell_type": "code",
   "execution_count": 38,
   "id": "de8fc321",
   "metadata": {},
   "outputs": [],
   "source": [
    "Avenger = {\n",
    "    \"name\" : \"Thor\",\n",
    "    \"age\" : 1500,\n",
    "    \"weapon\" : [\"stormbreaker\", \"mjolnir\"]\n",
    "}"
   ]
  },
  {
   "cell_type": "code",
   "execution_count": 39,
   "id": "0d079404",
   "metadata": {},
   "outputs": [],
   "source": [
    "# adding values and updating values together"
   ]
  },
  {
   "cell_type": "code",
   "execution_count": 40,
   "id": "beeac396",
   "metadata": {},
   "outputs": [],
   "source": [
    "Avenger.update({\n",
    "    \"name\" : \"Thor Odinson\",\n",
    "    \"weapon\" : [\"stormbreaker\"],\n",
    "    \"strongest?\" : True,\n",
    "    \"eyes\" : 1\n",
    "})"
   ]
  },
  {
   "cell_type": "code",
   "execution_count": 41,
   "id": "daa8ed97",
   "metadata": {},
   "outputs": [
    {
     "data": {
      "text/plain": [
       "{'name': 'Thor Odinson',\n",
       " 'age': 1500,\n",
       " 'weapon': ['stormbreaker'],\n",
       " 'strongest?': True,\n",
       " 'eyes': 1}"
      ]
     },
     "execution_count": 41,
     "metadata": {},
     "output_type": "execute_result"
    }
   ],
   "source": [
    "Avenger"
   ]
  },
  {
   "cell_type": "code",
   "execution_count": 42,
   "id": "68e8c216",
   "metadata": {},
   "outputs": [],
   "source": [
    "random = {\n",
    "    \"a\" : 1,\n",
    "    \"b\" : 2,\n",
    "    \"c\" : 3,\n",
    "    \"d\" : None\n",
    "}"
   ]
  },
  {
   "cell_type": "code",
   "execution_count": 43,
   "id": "9f0d939e",
   "metadata": {},
   "outputs": [
    {
     "data": {
      "text/plain": [
       "2"
      ]
     },
     "execution_count": 43,
     "metadata": {},
     "output_type": "execute_result"
    }
   ],
   "source": [
    "random[\"b\"]"
   ]
  },
  {
   "cell_type": "code",
   "execution_count": 46,
   "id": "efa7948d",
   "metadata": {},
   "outputs": [
    {
     "ename": "KeyError",
     "evalue": "'e'",
     "output_type": "error",
     "traceback": [
      "\u001b[0;31m---------------------------------------------------------------------------\u001b[0m",
      "\u001b[0;31mKeyError\u001b[0m                                  Traceback (most recent call last)",
      "\u001b[0;32m/var/folders/nn/c52y0d3j0gq59dpsswchkt2r0000gn/T/ipykernel_18497/749887109.py\u001b[0m in \u001b[0;36m<module>\u001b[0;34m\u001b[0m\n\u001b[0;32m----> 1\u001b[0;31m \u001b[0mresult\u001b[0m \u001b[0;34m=\u001b[0m \u001b[0mrandom\u001b[0m\u001b[0;34m[\u001b[0m\u001b[0;34m\"e\"\u001b[0m\u001b[0;34m]\u001b[0m \u001b[0;31m# keyerror in case key is not present\u001b[0m\u001b[0;34m\u001b[0m\u001b[0;34m\u001b[0m\u001b[0m\n\u001b[0m",
      "\u001b[0;31mKeyError\u001b[0m: 'e'"
     ]
    }
   ],
   "source": [
    "result = random[\"e\"] # keyerror in case key is not present"
   ]
  },
  {
   "cell_type": "code",
   "execution_count": 47,
   "id": "1a8c0e30",
   "metadata": {},
   "outputs": [],
   "source": [
    "result = random.get(\"e\")"
   ]
  },
  {
   "cell_type": "code",
   "execution_count": 48,
   "id": "db1a9d89",
   "metadata": {},
   "outputs": [
    {
     "name": "stdout",
     "output_type": "stream",
     "text": [
      "None\n"
     ]
    }
   ],
   "source": [
    "print(result)"
   ]
  },
  {
   "cell_type": "code",
   "execution_count": 49,
   "id": "2a7b311c",
   "metadata": {},
   "outputs": [],
   "source": [
    "result = random.get(\"e\", \"Not Found!\")\n",
    "# This default value will be returned in case the key is not present"
   ]
  },
  {
   "cell_type": "code",
   "execution_count": 50,
   "id": "eadd2ca5",
   "metadata": {},
   "outputs": [
    {
     "data": {
      "text/plain": [
       "'Not Found!'"
      ]
     },
     "execution_count": 50,
     "metadata": {},
     "output_type": "execute_result"
    }
   ],
   "source": [
    "result"
   ]
  },
  {
   "cell_type": "code",
   "execution_count": 52,
   "id": "e6db97ac",
   "metadata": {},
   "outputs": [
    {
     "data": {
      "text/plain": [
       "2"
      ]
     },
     "execution_count": 52,
     "metadata": {},
     "output_type": "execute_result"
    }
   ],
   "source": [
    "random.get(\"b\")"
   ]
  },
  {
   "cell_type": "code",
   "execution_count": 53,
   "id": "af64ec40",
   "metadata": {},
   "outputs": [],
   "source": [
    "a = \"string\""
   ]
  },
  {
   "cell_type": "code",
   "execution_count": 54,
   "id": "f7931508",
   "metadata": {},
   "outputs": [
    {
     "data": {
      "text/plain": [
       "'string'"
      ]
     },
     "execution_count": 54,
     "metadata": {},
     "output_type": "execute_result"
    }
   ],
   "source": [
    "a"
   ]
  },
  {
   "cell_type": "code",
   "execution_count": 55,
   "id": "f2d80e33",
   "metadata": {},
   "outputs": [
    {
     "data": {
      "text/plain": [
       "{'name': 'Thor Odinson',\n",
       " 'age': 1500,\n",
       " 'weapon': ['stormbreaker'],\n",
       " 'strongest?': True,\n",
       " 'eyes': 1}"
      ]
     },
     "execution_count": 55,
     "metadata": {},
     "output_type": "execute_result"
    }
   ],
   "source": [
    "Avenger"
   ]
  },
  {
   "cell_type": "code",
   "execution_count": 57,
   "id": "64441e3e",
   "metadata": {},
   "outputs": [],
   "source": [
    "Avenger[\"weapon\"].append(\"mjolnir\")"
   ]
  },
  {
   "cell_type": "code",
   "execution_count": 58,
   "id": "7131812d",
   "metadata": {},
   "outputs": [
    {
     "data": {
      "text/plain": [
       "{'name': 'Thor Odinson',\n",
       " 'age': 1500,\n",
       " 'weapon': ['stormbreaker', 'mjolnir'],\n",
       " 'strongest?': True,\n",
       " 'eyes': 1}"
      ]
     },
     "execution_count": 58,
     "metadata": {},
     "output_type": "execute_result"
    }
   ],
   "source": [
    "Avenger"
   ]
  },
  {
   "cell_type": "code",
   "execution_count": 59,
   "id": "0cb8b14d",
   "metadata": {},
   "outputs": [
    {
     "data": {
      "text/plain": [
       "{'a': 1, 'b': 2, 'c': 3, 'd': None}"
      ]
     },
     "execution_count": 59,
     "metadata": {},
     "output_type": "execute_result"
    }
   ],
   "source": [
    "random"
   ]
  },
  {
   "cell_type": "code",
   "execution_count": 60,
   "id": "34fac1c3",
   "metadata": {},
   "outputs": [],
   "source": [
    "random.pop(\"d\")\n",
    "# takes a key as input to delete a key value pair"
   ]
  },
  {
   "cell_type": "code",
   "execution_count": 61,
   "id": "28bbaea5",
   "metadata": {},
   "outputs": [
    {
     "data": {
      "text/plain": [
       "{'a': 1, 'b': 2, 'c': 3}"
      ]
     },
     "execution_count": 61,
     "metadata": {},
     "output_type": "execute_result"
    }
   ],
   "source": [
    "random"
   ]
  },
  {
   "cell_type": "code",
   "execution_count": 62,
   "id": "7dd21718",
   "metadata": {},
   "outputs": [
    {
     "data": {
      "text/plain": [
       "2"
      ]
     },
     "execution_count": 62,
     "metadata": {},
     "output_type": "execute_result"
    }
   ],
   "source": [
    "random.pop(\"b\")"
   ]
  },
  {
   "cell_type": "code",
   "execution_count": 63,
   "id": "2c2c2dd3",
   "metadata": {},
   "outputs": [
    {
     "data": {
      "text/plain": [
       "{'a': 1, 'c': 3}"
      ]
     },
     "execution_count": 63,
     "metadata": {},
     "output_type": "execute_result"
    }
   ],
   "source": [
    "random"
   ]
  },
  {
   "cell_type": "code",
   "execution_count": 64,
   "id": "656c17f5",
   "metadata": {},
   "outputs": [],
   "source": [
    "# KEYS DICTIONARY ARE SUPPOSED TO BE UNIQUE"
   ]
  },
  {
   "cell_type": "code",
   "execution_count": 65,
   "id": "c131cc09",
   "metadata": {},
   "outputs": [],
   "source": [
    "a = {\n",
    "    \"a\" : 3\n",
    "}"
   ]
  },
  {
   "cell_type": "code",
   "execution_count": 66,
   "id": "cee79383",
   "metadata": {},
   "outputs": [],
   "source": [
    "a[\"a\"] = 4"
   ]
  },
  {
   "cell_type": "code",
   "execution_count": 67,
   "id": "034c09bb",
   "metadata": {},
   "outputs": [
    {
     "data": {
      "text/plain": [
       "{'a': 4}"
      ]
     },
     "execution_count": 67,
     "metadata": {},
     "output_type": "execute_result"
    }
   ],
   "source": [
    "a"
   ]
  },
  {
   "cell_type": "code",
   "execution_count": 68,
   "id": "ff9a75a2",
   "metadata": {},
   "outputs": [
    {
     "data": {
      "text/plain": [
       "{'a': 1, 'c': 3}"
      ]
     },
     "execution_count": 68,
     "metadata": {},
     "output_type": "execute_result"
    }
   ],
   "source": [
    "random"
   ]
  },
  {
   "cell_type": "code",
   "execution_count": 69,
   "id": "9a70afd1",
   "metadata": {},
   "outputs": [
    {
     "ename": "TypeError",
     "evalue": "pop expected at least 1 argument, got 0",
     "output_type": "error",
     "traceback": [
      "\u001b[0;31m---------------------------------------------------------------------------\u001b[0m",
      "\u001b[0;31mTypeError\u001b[0m                                 Traceback (most recent call last)",
      "\u001b[0;32m/var/folders/nn/c52y0d3j0gq59dpsswchkt2r0000gn/T/ipykernel_18497/1396421673.py\u001b[0m in \u001b[0;36m<module>\u001b[0;34m\u001b[0m\n\u001b[0;32m----> 1\u001b[0;31m \u001b[0mrandom\u001b[0m\u001b[0;34m.\u001b[0m\u001b[0mpop\u001b[0m\u001b[0;34m(\u001b[0m\u001b[0;34m)\u001b[0m\u001b[0;34m\u001b[0m\u001b[0;34m\u001b[0m\u001b[0m\n\u001b[0m",
      "\u001b[0;31mTypeError\u001b[0m: pop expected at least 1 argument, got 0"
     ]
    }
   ],
   "source": [
    "random.pop()"
   ]
  },
  {
   "cell_type": "code",
   "execution_count": 72,
   "id": "ddf24dec",
   "metadata": {},
   "outputs": [
    {
     "data": {
      "text/plain": [
       "'\\nQuestion 1 - \\nGiven two dictionaries A and B, Write a python program to merge these dictionaries.\\n\\nExample -\\nA = {\\n    \"a\" : 4,\\n    \"b\" : 5,\\n    \"c\" : 6\\n}\\n\\nB = {\\n    \"b\" : 1,\\n    \"d\" : 20\\n}\\n\\nResult = {\\n    \"a\" : 4,\\n    \"b\" : 1,\\n    \"c\" : 6,\\n    \"d\" : 20\\n}\\n'"
      ]
     },
     "execution_count": 72,
     "metadata": {},
     "output_type": "execute_result"
    }
   ],
   "source": [
    "'''\n",
    "Question 1 - \n",
    "Given two dictionaries A and B, Write a python program to merge these dictionaries.\n",
    "\n",
    "Example -\n",
    "A = {\n",
    "    \"a\" : 4,\n",
    "    \"b\" : 5,\n",
    "    \"c\" : 6\n",
    "}\n",
    "\n",
    "B = {\n",
    "    \"b\" : 1,\n",
    "    \"d\" : 20\n",
    "}\n",
    "\n",
    "Result = {\n",
    "    \"a\" : 4,\n",
    "    \"b\" : 1,\n",
    "    \"c\" : 6,\n",
    "    \"d\" : 20\n",
    "}\n",
    "'''"
   ]
  },
  {
   "cell_type": "code",
   "execution_count": 76,
   "id": "ba3f177e",
   "metadata": {},
   "outputs": [],
   "source": [
    "A = {\n",
    "    \"a\" : 4,\n",
    "    \"b\" : 5,\n",
    "    \"c\" : 6\n",
    "}\n",
    "\n",
    "B = {\n",
    "    \"b\" : 1,\n",
    "    \"d\" : 20\n",
    "}"
   ]
  },
  {
   "cell_type": "code",
   "execution_count": 77,
   "id": "0945c98a",
   "metadata": {},
   "outputs": [],
   "source": [
    "A.update(B)"
   ]
  },
  {
   "cell_type": "code",
   "execution_count": 78,
   "id": "83d9094f",
   "metadata": {},
   "outputs": [
    {
     "data": {
      "text/plain": [
       "{'a': 4, 'b': 1, 'c': 6, 'd': 20}"
      ]
     },
     "execution_count": 78,
     "metadata": {},
     "output_type": "execute_result"
    }
   ],
   "source": [
    "A"
   ]
  },
  {
   "cell_type": "code",
   "execution_count": 79,
   "id": "770aa0ff",
   "metadata": {},
   "outputs": [],
   "source": [
    "# ITERATION IN A DICTIONARY"
   ]
  },
  {
   "cell_type": "code",
   "execution_count": 99,
   "id": "1585d6ef",
   "metadata": {},
   "outputs": [],
   "source": [
    "a = Avenger"
   ]
  },
  {
   "cell_type": "code",
   "execution_count": 82,
   "id": "e0fcfb81",
   "metadata": {},
   "outputs": [
    {
     "data": {
      "text/plain": [
       "{'name': 'Thor Odinson',\n",
       " 'age': 1500,\n",
       " 'weapon': ['stormbreaker', 'mjolnir'],\n",
       " 'strongest?': True,\n",
       " 'eyes': 1}"
      ]
     },
     "execution_count": 82,
     "metadata": {},
     "output_type": "execute_result"
    }
   ],
   "source": [
    "a"
   ]
  },
  {
   "cell_type": "code",
   "execution_count": 84,
   "id": "65681212",
   "metadata": {},
   "outputs": [
    {
     "name": "stdout",
     "output_type": "stream",
     "text": [
      "name\n",
      "age\n",
      "weapon\n",
      "strongest?\n",
      "eyes\n"
     ]
    }
   ],
   "source": [
    "for i in a: # traversal over the keys\n",
    "    print(i)"
   ]
  },
  {
   "cell_type": "code",
   "execution_count": 85,
   "id": "34dd277d",
   "metadata": {},
   "outputs": [
    {
     "name": "stdout",
     "output_type": "stream",
     "text": [
      "Thor Odinson\n",
      "1500\n",
      "['stormbreaker', 'mjolnir']\n",
      "True\n",
      "1\n"
     ]
    }
   ],
   "source": [
    "for i in a: # traversal over the values\n",
    "    print(a[i])"
   ]
  },
  {
   "cell_type": "code",
   "execution_count": 87,
   "id": "79b08d1b",
   "metadata": {},
   "outputs": [
    {
     "name": "stdout",
     "output_type": "stream",
     "text": [
      "name -> Thor Odinson\n",
      "age -> 1500\n",
      "weapon -> ['stormbreaker', 'mjolnir']\n",
      "strongest? -> True\n",
      "eyes -> 1\n"
     ]
    }
   ],
   "source": [
    "for i in a: # traveral over the entire key value pair\n",
    "    print(f\"{i} -> {a[i]}\")"
   ]
  },
  {
   "cell_type": "code",
   "execution_count": 88,
   "id": "9f725ab7",
   "metadata": {},
   "outputs": [
    {
     "name": "stdout",
     "output_type": "stream",
     "text": [
      "name\n",
      "age\n",
      "weapon\n",
      "strongest?\n",
      "eyes\n"
     ]
    }
   ],
   "source": [
    "for i in a.keys():\n",
    "    print(i)"
   ]
  },
  {
   "cell_type": "code",
   "execution_count": 89,
   "id": "6c39d51e",
   "metadata": {},
   "outputs": [
    {
     "data": {
      "text/plain": [
       "['name', 'age', 'weapon', 'strongest?', 'eyes']"
      ]
     },
     "execution_count": 89,
     "metadata": {},
     "output_type": "execute_result"
    }
   ],
   "source": [
    "list(a.keys())"
   ]
  },
  {
   "cell_type": "code",
   "execution_count": 90,
   "id": "027e0df8",
   "metadata": {},
   "outputs": [
    {
     "name": "stdout",
     "output_type": "stream",
     "text": [
      "Thor Odinson\n",
      "1500\n",
      "['stormbreaker', 'mjolnir']\n",
      "True\n",
      "1\n"
     ]
    }
   ],
   "source": [
    "for i in a.values():\n",
    "    print(i)"
   ]
  },
  {
   "cell_type": "code",
   "execution_count": 91,
   "id": "b16c2a6c",
   "metadata": {},
   "outputs": [
    {
     "data": {
      "text/plain": [
       "['Thor Odinson', 1500, ['stormbreaker', 'mjolnir'], True, 1]"
      ]
     },
     "execution_count": 91,
     "metadata": {},
     "output_type": "execute_result"
    }
   ],
   "source": [
    "list(a.values())"
   ]
  },
  {
   "cell_type": "code",
   "execution_count": 92,
   "id": "a46b7767",
   "metadata": {},
   "outputs": [
    {
     "name": "stdout",
     "output_type": "stream",
     "text": [
      "('name', 'Thor Odinson')\n",
      "('age', 1500)\n",
      "('weapon', ['stormbreaker', 'mjolnir'])\n",
      "('strongest?', True)\n",
      "('eyes', 1)\n"
     ]
    }
   ],
   "source": [
    "for i in a.items():\n",
    "    print(i)"
   ]
  },
  {
   "cell_type": "code",
   "execution_count": 93,
   "id": "5234240a",
   "metadata": {},
   "outputs": [
    {
     "data": {
      "text/plain": [
       "[('name', 'Thor Odinson'),\n",
       " ('age', 1500),\n",
       " ('weapon', ['stormbreaker', 'mjolnir']),\n",
       " ('strongest?', True),\n",
       " ('eyes', 1)]"
      ]
     },
     "execution_count": 93,
     "metadata": {},
     "output_type": "execute_result"
    }
   ],
   "source": [
    "list(a.items())"
   ]
  },
  {
   "cell_type": "code",
   "execution_count": 95,
   "id": "1bcab90d",
   "metadata": {},
   "outputs": [
    {
     "name": "stdout",
     "output_type": "stream",
     "text": [
      "name -> Thor Odinson\n",
      "age -> 1500\n",
      "weapon -> ['stormbreaker', 'mjolnir']\n",
      "strongest? -> True\n",
      "eyes -> 1\n"
     ]
    }
   ],
   "source": [
    "for key, value in a.items():\n",
    "    print(f\"{key} -> {value}\")\n",
    "    \n",
    "# for i in a:\n",
    "#     print(f\"{i} -> {a[i]}\")"
   ]
  },
  {
   "cell_type": "code",
   "execution_count": 96,
   "id": "3dc9456e",
   "metadata": {},
   "outputs": [],
   "source": [
    "a = [1,2,3,4,5]"
   ]
  },
  {
   "cell_type": "code",
   "execution_count": 97,
   "id": "0f106d1e",
   "metadata": {},
   "outputs": [
    {
     "data": {
      "text/plain": [
       "False"
      ]
     },
     "execution_count": 97,
     "metadata": {},
     "output_type": "execute_result"
    }
   ],
   "source": [
    "6 in a"
   ]
  },
  {
   "cell_type": "code",
   "execution_count": 100,
   "id": "0b8b6556",
   "metadata": {},
   "outputs": [
    {
     "data": {
      "text/plain": [
       "False"
      ]
     },
     "execution_count": 100,
     "metadata": {},
     "output_type": "execute_result"
    }
   ],
   "source": [
    "\"battle\" in a.keys()"
   ]
  },
  {
   "cell_type": "code",
   "execution_count": 101,
   "id": "736bb2ab",
   "metadata": {},
   "outputs": [
    {
     "data": {
      "text/plain": [
       "True"
      ]
     },
     "execution_count": 101,
     "metadata": {},
     "output_type": "execute_result"
    }
   ],
   "source": [
    "\"eyes\" in a.keys()"
   ]
  },
  {
   "cell_type": "code",
   "execution_count": 103,
   "id": "b3e01267",
   "metadata": {},
   "outputs": [
    {
     "data": {
      "text/plain": [
       "'\\nQuestion 2 - \\n1. Take a string as input.\\n2. Create a dictionary acc to the following criteria - \\n- There will be one key value pair for each unique character - \\n- Key will be character and value will be the count of character inside the string\\n\\nINPUT - \"rrsssstttt\"\\nOUTPUT -\\n{\\n    \"r\": 2,\\n    \"s\": 4,\\n    \"t\": 4\\n}\\n'"
      ]
     },
     "execution_count": 103,
     "metadata": {},
     "output_type": "execute_result"
    }
   ],
   "source": [
    "'''\n",
    "Question 2 - \n",
    "1. Take a string as input.\n",
    "2. Create a dictionary acc to the following criteria - \n",
    "- There will be one key value pair for each unique character - \n",
    "- Key will be character and value will be the count of character inside the string\n",
    "\n",
    "INPUT - \"rrsssstttt\"\n",
    "OUTPUT -\n",
    "{\n",
    "    \"r\": 2,\n",
    "    \"s\": 4,\n",
    "    \"t\": 4\n",
    "}\n",
    "'''"
   ]
  },
  {
   "cell_type": "code",
   "execution_count": 104,
   "id": "09f4f81c",
   "metadata": {},
   "outputs": [],
   "source": [
    "a = \"bipin kalra is a weeb!\""
   ]
  },
  {
   "cell_type": "code",
   "execution_count": 105,
   "id": "e72691b7",
   "metadata": {},
   "outputs": [
    {
     "data": {
      "text/plain": [
       "'bipin kalra is a weeb!'"
      ]
     },
     "execution_count": 105,
     "metadata": {},
     "output_type": "execute_result"
    }
   ],
   "source": [
    "a"
   ]
  },
  {
   "cell_type": "code",
   "execution_count": 106,
   "id": "c789a234",
   "metadata": {},
   "outputs": [
    {
     "data": {
      "text/plain": [
       "{' ', '!', 'a', 'b', 'e', 'i', 'k', 'l', 'n', 'p', 'r', 's', 'w'}"
      ]
     },
     "execution_count": 106,
     "metadata": {},
     "output_type": "execute_result"
    }
   ],
   "source": [
    "set(a)"
   ]
  },
  {
   "cell_type": "code",
   "execution_count": 107,
   "id": "5b6f484d",
   "metadata": {},
   "outputs": [],
   "source": [
    "result = {}\n",
    "\n",
    "for i in set(a):\n",
    "    result[i] = a.count(i)"
   ]
  },
  {
   "cell_type": "code",
   "execution_count": 108,
   "id": "d8dcbcda",
   "metadata": {},
   "outputs": [
    {
     "data": {
      "text/plain": [
       "{'e': 2,\n",
       " '!': 1,\n",
       " 'i': 3,\n",
       " 'k': 1,\n",
       " 's': 1,\n",
       " 'w': 1,\n",
       " 'p': 1,\n",
       " 'b': 2,\n",
       " ' ': 4,\n",
       " 'l': 1,\n",
       " 'n': 1,\n",
       " 'r': 1,\n",
       " 'a': 3}"
      ]
     },
     "execution_count": 108,
     "metadata": {},
     "output_type": "execute_result"
    }
   ],
   "source": [
    "result"
   ]
  },
  {
   "cell_type": "code",
   "execution_count": 109,
   "id": "f7b4e5df",
   "metadata": {},
   "outputs": [],
   "source": [
    "a = \"hfesfghjsdgf\""
   ]
  },
  {
   "cell_type": "code",
   "execution_count": 110,
   "id": "89c4158c",
   "metadata": {},
   "outputs": [
    {
     "data": {
      "text/plain": [
       "{'d', 'e', 'f', 'g', 'h', 'j', 's'}"
      ]
     },
     "execution_count": 110,
     "metadata": {},
     "output_type": "execute_result"
    }
   ],
   "source": [
    "set(a)"
   ]
  },
  {
   "cell_type": "code",
   "execution_count": 111,
   "id": "4185da86",
   "metadata": {},
   "outputs": [],
   "source": [
    "# Mutable (Can be changed) -> Lists, Sets and Dictionaries\n",
    "# Immutable (Can't be changed) -> Int, Float, Boolean, String, Tuples"
   ]
  },
  {
   "cell_type": "code",
   "execution_count": 112,
   "id": "5760bf18",
   "metadata": {},
   "outputs": [
    {
     "data": {
      "text/plain": [
       "{'keys -> ANY IMMUTABLE DATA STRUCTURE': 'values -> ANY MUTABLE OR IMMUNTABLE DATA STRUCTURE'}"
      ]
     },
     "execution_count": 112,
     "metadata": {},
     "output_type": "execute_result"
    }
   ],
   "source": [
    "{\n",
    "    \"keys -> ANY IMMUTABLE DATA STRUCTURE\": \"values -> ANY MUTABLE OR IMMUNTABLE DATA STRUCTURE\"\n",
    "}"
   ]
  },
  {
   "cell_type": "code",
   "execution_count": 113,
   "id": "4c4fd452",
   "metadata": {},
   "outputs": [],
   "source": [
    "random = {\n",
    "    \"key1\" : [4,45,67],\n",
    "    \"key2\" : {\n",
    "        (1,2,3): 45\n",
    "    },\n",
    "    45: \"value3\",\n",
    "    45.67: \"value4\",\n",
    "    True: \"value5\"\n",
    "}"
   ]
  },
  {
   "cell_type": "code",
   "execution_count": 114,
   "id": "58e12962",
   "metadata": {},
   "outputs": [
    {
     "ename": "TypeError",
     "evalue": "unhashable type: 'list'",
     "output_type": "error",
     "traceback": [
      "\u001b[0;31m---------------------------------------------------------------------------\u001b[0m",
      "\u001b[0;31mTypeError\u001b[0m                                 Traceback (most recent call last)",
      "\u001b[0;32m/var/folders/nn/c52y0d3j0gq59dpsswchkt2r0000gn/T/ipykernel_18497/3173440445.py\u001b[0m in \u001b[0;36m<module>\u001b[0;34m\u001b[0m\n\u001b[0;32m----> 1\u001b[0;31m random = {\n\u001b[0m\u001b[1;32m      2\u001b[0m     \u001b[0;34m\"key1\"\u001b[0m \u001b[0;34m:\u001b[0m \u001b[0;34m[\u001b[0m\u001b[0;36m4\u001b[0m\u001b[0;34m,\u001b[0m\u001b[0;36m45\u001b[0m\u001b[0;34m,\u001b[0m\u001b[0;36m67\u001b[0m\u001b[0;34m]\u001b[0m\u001b[0;34m,\u001b[0m\u001b[0;34m\u001b[0m\u001b[0;34m\u001b[0m\u001b[0m\n\u001b[1;32m      3\u001b[0m     \"key2\" : {\n\u001b[1;32m      4\u001b[0m         \u001b[0;34m(\u001b[0m\u001b[0;36m1\u001b[0m\u001b[0;34m,\u001b[0m\u001b[0;36m2\u001b[0m\u001b[0;34m,\u001b[0m\u001b[0;36m3\u001b[0m\u001b[0;34m)\u001b[0m\u001b[0;34m:\u001b[0m \u001b[0;36m45\u001b[0m\u001b[0;34m\u001b[0m\u001b[0;34m\u001b[0m\u001b[0m\n\u001b[1;32m      5\u001b[0m     },\n",
      "\u001b[0;31mTypeError\u001b[0m: unhashable type: 'list'"
     ]
    }
   ],
   "source": [
    "random = {\n",
    "    \"key1\" : [4,45,67],\n",
    "    \"key2\" : {\n",
    "        (1,2,3): 45\n",
    "    },\n",
    "    45: \"value3\",\n",
    "    45.67: \"value4\",\n",
    "    True: \"value5\",\n",
    "    [6,7,8]: \"value6\"\n",
    "}"
   ]
  },
  {
   "cell_type": "code",
   "execution_count": 115,
   "id": "e77880f6",
   "metadata": {},
   "outputs": [],
   "source": [
    "# WE WILL LEARN MORE ABOUT THIS IN 2 INTERMEDIATE LECTURES ->\n",
    "# 1. Python Refresher 1 -> Mutable vs Immutable\n",
    "# 2. Hashing -> Why Sets and Dictionaries give this erro"
   ]
  },
  {
   "cell_type": "code",
   "execution_count": 116,
   "id": "aa6a9f44",
   "metadata": {},
   "outputs": [
    {
     "data": {
      "text/plain": [
       "'hfesfghjsdgf'"
      ]
     },
     "execution_count": 116,
     "metadata": {},
     "output_type": "execute_result"
    }
   ],
   "source": [
    "a"
   ]
  },
  {
   "cell_type": "code",
   "execution_count": 117,
   "id": "af21d40b",
   "metadata": {},
   "outputs": [],
   "source": [
    "a = {\n",
    "    \"a\": 1,\n",
    "    \"b\": 2\n",
    "}"
   ]
  },
  {
   "cell_type": "code",
   "execution_count": 118,
   "id": "59062d98",
   "metadata": {},
   "outputs": [
    {
     "data": {
      "text/plain": [
       "('a', 'b')"
      ]
     },
     "execution_count": 118,
     "metadata": {},
     "output_type": "execute_result"
    }
   ],
   "source": [
    "tuple(a)"
   ]
  },
  {
   "cell_type": "code",
   "execution_count": 119,
   "id": "a6680ce2",
   "metadata": {},
   "outputs": [
    {
     "data": {
      "text/plain": [
       "['a', 'b']"
      ]
     },
     "execution_count": 119,
     "metadata": {},
     "output_type": "execute_result"
    }
   ],
   "source": [
    "list(a)"
   ]
  },
  {
   "cell_type": "code",
   "execution_count": 120,
   "id": "7d7b6f0a",
   "metadata": {},
   "outputs": [],
   "source": [
    "a = [(\"a\", 1), (\"b\", 2)]"
   ]
  },
  {
   "cell_type": "code",
   "execution_count": 121,
   "id": "1d0b4040",
   "metadata": {},
   "outputs": [
    {
     "data": {
      "text/plain": [
       "{'a': 1, 'b': 2}"
      ]
     },
     "execution_count": 121,
     "metadata": {},
     "output_type": "execute_result"
    }
   ],
   "source": [
    "dict(a)"
   ]
  },
  {
   "cell_type": "code",
   "execution_count": 122,
   "id": "b10a5d9d",
   "metadata": {},
   "outputs": [],
   "source": [
    "a = (1,2,3)"
   ]
  },
  {
   "cell_type": "code",
   "execution_count": 123,
   "id": "fe1b08a9",
   "metadata": {},
   "outputs": [
    {
     "ename": "TypeError",
     "evalue": "cannot convert dictionary update sequence element #0 to a sequence",
     "output_type": "error",
     "traceback": [
      "\u001b[0;31m---------------------------------------------------------------------------\u001b[0m",
      "\u001b[0;31mTypeError\u001b[0m                                 Traceback (most recent call last)",
      "\u001b[0;32m/var/folders/nn/c52y0d3j0gq59dpsswchkt2r0000gn/T/ipykernel_18497/2506679463.py\u001b[0m in \u001b[0;36m<module>\u001b[0;34m\u001b[0m\n\u001b[0;32m----> 1\u001b[0;31m \u001b[0mdict\u001b[0m\u001b[0;34m(\u001b[0m\u001b[0ma\u001b[0m\u001b[0;34m)\u001b[0m\u001b[0;34m\u001b[0m\u001b[0;34m\u001b[0m\u001b[0m\n\u001b[0m",
      "\u001b[0;31mTypeError\u001b[0m: cannot convert dictionary update sequence element #0 to a sequence"
     ]
    }
   ],
   "source": [
    "dict(a)"
   ]
  },
  {
   "cell_type": "code",
   "execution_count": null,
   "id": "bfdc77d0",
   "metadata": {},
   "outputs": [],
   "source": []
  }
 ],
 "metadata": {
  "kernelspec": {
   "display_name": "Python 3 (ipykernel)",
   "language": "python",
   "name": "python3"
  },
  "language_info": {
   "codemirror_mode": {
    "name": "ipython",
    "version": 3
   },
   "file_extension": ".py",
   "mimetype": "text/x-python",
   "name": "python",
   "nbconvert_exporter": "python",
   "pygments_lexer": "ipython3",
   "version": "3.9.5"
  }
 },
 "nbformat": 4,
 "nbformat_minor": 5
}
