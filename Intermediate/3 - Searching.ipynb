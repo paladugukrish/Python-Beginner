{
 "cells": [
  {
   "cell_type": "code",
   "execution_count": 1,
   "id": "22d044fa",
   "metadata": {},
   "outputs": [
    {
     "data": {
      "text/plain": [
       "'\\nExample ->\\nINPUT ->\\na = [4,5,8,10,11,6,2,1]\\ntarget = 10\\n\\nOUTPUT -> 3 (index value)\\n\\nIf element is not present, return -1\\n'"
      ]
     },
     "execution_count": 1,
     "metadata": {},
     "output_type": "execute_result"
    }
   ],
   "source": [
    "'''\n",
    "Example ->\n",
    "INPUT ->\n",
    "a = [4,5,8,10,11,6,2,1]\n",
    "target = 10\n",
    "\n",
    "OUTPUT -> 3 (index value)\n",
    "\n",
    "If element is not present, return -1\n",
    "'''"
   ]
  },
  {
   "cell_type": "code",
   "execution_count": 2,
   "id": "7dad01b7",
   "metadata": {},
   "outputs": [],
   "source": [
    "def linear_search(arr, target):\n",
    "    for i in range(len(arr)):\n",
    "        if a[i] == target:\n",
    "            return i\n",
    "    \n",
    "    return -1"
   ]
  },
  {
   "cell_type": "code",
   "execution_count": 3,
   "id": "d4de6fb9",
   "metadata": {},
   "outputs": [],
   "source": [
    "a = [4,5,8,10,11,6,2,1]"
   ]
  },
  {
   "cell_type": "code",
   "execution_count": 5,
   "id": "4b7b0aad",
   "metadata": {},
   "outputs": [
    {
     "data": {
      "text/plain": [
       "-1"
      ]
     },
     "execution_count": 5,
     "metadata": {},
     "output_type": "execute_result"
    }
   ],
   "source": [
    "linear_search(a, 100)"
   ]
  },
  {
   "cell_type": "code",
   "execution_count": 6,
   "id": "e74661c8",
   "metadata": {},
   "outputs": [],
   "source": [
    "def linear_search_2(arr, target):\n",
    "    index = 0\n",
    "    \n",
    "    for i in arr:\n",
    "        if i == target:\n",
    "            return index\n",
    "        \n",
    "        index += 1\n",
    "    \n",
    "    return -1"
   ]
  },
  {
   "cell_type": "code",
   "execution_count": 8,
   "id": "dd4a7102",
   "metadata": {},
   "outputs": [
    {
     "data": {
      "text/plain": [
       "3"
      ]
     },
     "execution_count": 8,
     "metadata": {},
     "output_type": "execute_result"
    }
   ],
   "source": [
    "linear_search_2(a, 10)"
   ]
  },
  {
   "cell_type": "code",
   "execution_count": 9,
   "id": "85a26d93",
   "metadata": {},
   "outputs": [],
   "source": [
    "a = [4,5,8,10,11,6,2,1]"
   ]
  },
  {
   "cell_type": "code",
   "execution_count": 10,
   "id": "96c6c514",
   "metadata": {},
   "outputs": [],
   "source": [
    "# enumerate"
   ]
  },
  {
   "cell_type": "code",
   "execution_count": 11,
   "id": "ef99ffdf",
   "metadata": {},
   "outputs": [
    {
     "data": {
      "text/plain": [
       "[(0, 4), (1, 5), (2, 8), (3, 10), (4, 11), (5, 6), (6, 2), (7, 1)]"
      ]
     },
     "execution_count": 11,
     "metadata": {},
     "output_type": "execute_result"
    }
   ],
   "source": [
    "list(enumerate(a))"
   ]
  },
  {
   "cell_type": "code",
   "execution_count": 12,
   "id": "40169252",
   "metadata": {},
   "outputs": [],
   "source": [
    "a = [\"a\", \"b\", \"c\"]"
   ]
  },
  {
   "cell_type": "code",
   "execution_count": 13,
   "id": "cb57a1d4",
   "metadata": {},
   "outputs": [
    {
     "data": {
      "text/plain": [
       "[(0, 'a'), (1, 'b'), (2, 'c')]"
      ]
     },
     "execution_count": 13,
     "metadata": {},
     "output_type": "execute_result"
    }
   ],
   "source": [
    "list(enumerate(a))"
   ]
  },
  {
   "cell_type": "code",
   "execution_count": 14,
   "id": "f2dfdfcf",
   "metadata": {
    "scrolled": true
   },
   "outputs": [
    {
     "data": {
      "text/plain": [
       "<enumerate at 0x7fa5402e2d00>"
      ]
     },
     "execution_count": 14,
     "metadata": {},
     "output_type": "execute_result"
    }
   ],
   "source": [
    "enumerate(a)"
   ]
  },
  {
   "cell_type": "code",
   "execution_count": 16,
   "id": "7cfe54f0",
   "metadata": {},
   "outputs": [
    {
     "data": {
      "text/plain": [
       "range(4, 5)"
      ]
     },
     "execution_count": 16,
     "metadata": {},
     "output_type": "execute_result"
    }
   ],
   "source": [
    "range(4,5)"
   ]
  },
  {
   "cell_type": "code",
   "execution_count": 17,
   "id": "745e15be",
   "metadata": {},
   "outputs": [],
   "source": [
    "s = {1,2,3,4,4}"
   ]
  },
  {
   "cell_type": "code",
   "execution_count": 18,
   "id": "eefafe02",
   "metadata": {},
   "outputs": [
    {
     "data": {
      "text/plain": [
       "<enumerate at 0x7fa550385500>"
      ]
     },
     "execution_count": 18,
     "metadata": {},
     "output_type": "execute_result"
    }
   ],
   "source": [
    "enumerate(s)"
   ]
  },
  {
   "cell_type": "code",
   "execution_count": 23,
   "id": "6e529d3c",
   "metadata": {},
   "outputs": [
    {
     "name": "stdout",
     "output_type": "stream",
     "text": [
      "(0, 1)\n",
      "(1, 2)\n",
      "(2, 3)\n",
      "(3, 4)\n"
     ]
    }
   ],
   "source": [
    "for i in enumerate(s):\n",
    "    print(i)"
   ]
  },
  {
   "cell_type": "code",
   "execution_count": 20,
   "id": "44bc6542",
   "metadata": {},
   "outputs": [],
   "source": [
    "d = {\n",
    "    \"a\": 45,\n",
    "    \"b\": 56\n",
    "}"
   ]
  },
  {
   "cell_type": "code",
   "execution_count": 22,
   "id": "d8432283",
   "metadata": {},
   "outputs": [
    {
     "name": "stdout",
     "output_type": "stream",
     "text": [
      "(0, 'a')\n",
      "(1, 'b')\n"
     ]
    }
   ],
   "source": [
    "for i in enumerate(d):\n",
    "    print(i)"
   ]
  },
  {
   "cell_type": "code",
   "execution_count": 15,
   "id": "fe65c6a3",
   "metadata": {},
   "outputs": [
    {
     "name": "stdout",
     "output_type": "stream",
     "text": [
      "(0, 'a')\n",
      "(1, 'b')\n",
      "(2, 'c')\n"
     ]
    }
   ],
   "source": [
    "for i in enumerate(a):\n",
    "    print(i)"
   ]
  },
  {
   "cell_type": "code",
   "execution_count": 25,
   "id": "2842123e",
   "metadata": {},
   "outputs": [],
   "source": [
    "a = [4,5,8,10,11,6,2,1]"
   ]
  },
  {
   "cell_type": "code",
   "execution_count": 26,
   "id": "bc8de888",
   "metadata": {},
   "outputs": [],
   "source": [
    "def linear_search_3(arr, target):\n",
    "    for index, value in enumerate(arr):\n",
    "        if value == target:\n",
    "            return index\n",
    "    \n",
    "    return -1"
   ]
  },
  {
   "cell_type": "code",
   "execution_count": 27,
   "id": "0fabb075",
   "metadata": {},
   "outputs": [
    {
     "data": {
      "text/plain": [
       "3"
      ]
     },
     "execution_count": 27,
     "metadata": {},
     "output_type": "execute_result"
    }
   ],
   "source": [
    "linear_search_3(a, 10)"
   ]
  },
  {
   "cell_type": "code",
   "execution_count": 28,
   "id": "983fb6d9",
   "metadata": {},
   "outputs": [
    {
     "data": {
      "text/plain": [
       "'\\nQuestion 2 ->\\nIMPLEMENT BINARY SEARCH. :)\\n'"
      ]
     },
     "execution_count": 28,
     "metadata": {},
     "output_type": "execute_result"
    }
   ],
   "source": [
    "'''\n",
    "Question 2 ->\n",
    "IMPLEMENT BINARY SEARCH. :)\n",
    "'''"
   ]
  },
  {
   "cell_type": "code",
   "execution_count": 49,
   "id": "d36f0096",
   "metadata": {},
   "outputs": [],
   "source": [
    "def binary_search(a, target):\n",
    "    start, end = 0, len(a) - 1\n",
    "    \n",
    "    iterations = 0\n",
    "    \n",
    "    while start <= end:\n",
    "        mid = (start + end) // 2\n",
    "        \n",
    "        iterations += 1\n",
    "        \n",
    "        if target == a[mid]:\n",
    "            print(f\"Iterations Required - {iterations}\")\n",
    "            return mid\n",
    "        elif target < a[mid]:\n",
    "            end = mid - 1\n",
    "        else:\n",
    "            start = mid + 1\n",
    "            \n",
    "    print(f\"Iterations Required - {iterations}\")\n",
    "            \n",
    "    return -1"
   ]
  },
  {
   "cell_type": "code",
   "execution_count": 50,
   "id": "4a050857",
   "metadata": {},
   "outputs": [],
   "source": [
    "a = list(range(1,11))"
   ]
  },
  {
   "cell_type": "code",
   "execution_count": 51,
   "id": "e9d3e377",
   "metadata": {},
   "outputs": [
    {
     "data": {
      "text/plain": [
       "[1, 2, 3, 4, 5, 6, 7, 8, 9, 10]"
      ]
     },
     "execution_count": 51,
     "metadata": {},
     "output_type": "execute_result"
    }
   ],
   "source": [
    "a"
   ]
  },
  {
   "cell_type": "code",
   "execution_count": 56,
   "id": "9796978d",
   "metadata": {},
   "outputs": [
    {
     "name": "stdout",
     "output_type": "stream",
     "text": [
      "Iterations Required - 2\n"
     ]
    },
    {
     "data": {
      "text/plain": [
       "7"
      ]
     },
     "execution_count": 56,
     "metadata": {},
     "output_type": "execute_result"
    }
   ],
   "source": [
    "binary_search(a, 8)"
   ]
  },
  {
   "cell_type": "code",
   "execution_count": 57,
   "id": "a6b53e3e",
   "metadata": {},
   "outputs": [
    {
     "name": "stdout",
     "output_type": "stream",
     "text": [
      "Iterations Required - 4\n"
     ]
    },
    {
     "data": {
      "text/plain": [
       "-1"
      ]
     },
     "execution_count": 57,
     "metadata": {},
     "output_type": "execute_result"
    }
   ],
   "source": [
    "binary_search(a, 20)"
   ]
  },
  {
   "cell_type": "code",
   "execution_count": 60,
   "id": "5a58b62e",
   "metadata": {},
   "outputs": [],
   "source": [
    "def linear_search_multiple(arr, target):\n",
    "    results = []\n",
    "    for index, value in enumerate(arr):\n",
    "        if value == target:\n",
    "            results.append(index)\n",
    "    \n",
    "    return results"
   ]
  },
  {
   "cell_type": "code",
   "execution_count": 61,
   "id": "8b852b06",
   "metadata": {},
   "outputs": [],
   "source": [
    "a = [5,6,6,6,7,8,9,6,5]"
   ]
  },
  {
   "cell_type": "code",
   "execution_count": 62,
   "id": "4131f161",
   "metadata": {},
   "outputs": [
    {
     "data": {
      "text/plain": [
       "[1, 2, 3, 7]"
      ]
     },
     "execution_count": 62,
     "metadata": {},
     "output_type": "execute_result"
    }
   ],
   "source": [
    "linear_search_multiple(a, 6)"
   ]
  },
  {
   "cell_type": "code",
   "execution_count": null,
   "id": "096d08eb",
   "metadata": {},
   "outputs": [],
   "source": []
  }
 ],
 "metadata": {
  "kernelspec": {
   "display_name": "Python 3 (ipykernel)",
   "language": "python",
   "name": "python3"
  },
  "language_info": {
   "codemirror_mode": {
    "name": "ipython",
    "version": 3
   },
   "file_extension": ".py",
   "mimetype": "text/x-python",
   "name": "python",
   "nbconvert_exporter": "python",
   "pygments_lexer": "ipython3",
   "version": "3.9.5"
  }
 },
 "nbformat": 4,
 "nbformat_minor": 5
}
