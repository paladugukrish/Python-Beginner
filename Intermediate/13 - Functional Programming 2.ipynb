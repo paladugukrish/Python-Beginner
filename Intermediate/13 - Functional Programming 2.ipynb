{
 "cells": [
  {
   "cell_type": "code",
   "execution_count": 1,
   "id": "db969cf3",
   "metadata": {},
   "outputs": [],
   "source": [
    "a = [1, 2, 3, 4, 5]"
   ]
  },
  {
   "cell_type": "code",
   "execution_count": 2,
   "id": "782ece41",
   "metadata": {},
   "outputs": [],
   "source": [
    "m = map(lambda x: x**2, a)"
   ]
  },
  {
   "cell_type": "code",
   "execution_count": 6,
   "id": "b550b68b",
   "metadata": {},
   "outputs": [
    {
     "data": {
      "text/plain": [
       "<map at 0x7feae045d550>"
      ]
     },
     "execution_count": 6,
     "metadata": {},
     "output_type": "execute_result"
    }
   ],
   "source": [
    "m"
   ]
  },
  {
   "cell_type": "code",
   "execution_count": 4,
   "id": "380177f8",
   "metadata": {},
   "outputs": [],
   "source": [
    "m_list = list(m)"
   ]
  },
  {
   "cell_type": "code",
   "execution_count": 5,
   "id": "66a0d81a",
   "metadata": {},
   "outputs": [
    {
     "data": {
      "text/plain": [
       "[1, 4, 9, 16, 25]"
      ]
     },
     "execution_count": 5,
     "metadata": {},
     "output_type": "execute_result"
    }
   ],
   "source": [
    "m_list"
   ]
  },
  {
   "cell_type": "code",
   "execution_count": 7,
   "id": "ff29e4ab",
   "metadata": {},
   "outputs": [
    {
     "data": {
      "text/plain": [
       "'\\nQuestion 1 - \\nConvert heights to t shirt sizes - \\nh < 150 -> S\\nh >= 150 and h < 180 -> M\\nh >= 180 -> L\\n\\nINPUT = [140, 134, 156, 178, 190, 130, 200, 160]\\nOUTPUT = [S, S, M, M, L, S, L, M]\\n'"
      ]
     },
     "execution_count": 7,
     "metadata": {},
     "output_type": "execute_result"
    }
   ],
   "source": [
    "'''\n",
    "Question 1 - \n",
    "Convert heights to t shirt sizes - \n",
    "h < 150 -> S\n",
    "h >= 150 and h < 180 -> M\n",
    "h >= 180 -> L\n",
    "\n",
    "INPUT = [140, 134, 156, 178, 190, 130, 200, 160]\n",
    "OUTPUT = [S, S, M, M, L, S, L, M]\n",
    "'''"
   ]
  },
  {
   "cell_type": "code",
   "execution_count": 9,
   "id": "0cf317a5",
   "metadata": {},
   "outputs": [],
   "source": [
    "a = [140, 134, 156, 178, 190, 130, 200, 160]"
   ]
  },
  {
   "cell_type": "code",
   "execution_count": 13,
   "id": "fd711c3d",
   "metadata": {},
   "outputs": [],
   "source": [
    "def sizing_logic(h):\n",
    "    if h < 150:\n",
    "        return \"S\"\n",
    "    elif h < 180:\n",
    "        return \"M\"\n",
    "    else:\n",
    "        return \"L\""
   ]
  },
  {
   "cell_type": "code",
   "execution_count": 14,
   "id": "eb32edff",
   "metadata": {},
   "outputs": [],
   "source": [
    "result = list(map(sizing_logic, a))"
   ]
  },
  {
   "cell_type": "code",
   "execution_count": 15,
   "id": "a915b7ca",
   "metadata": {},
   "outputs": [
    {
     "data": {
      "text/plain": [
       "['S', 'S', 'M', 'M', 'L', 'S', 'L', 'M']"
      ]
     },
     "execution_count": 15,
     "metadata": {},
     "output_type": "execute_result"
    }
   ],
   "source": [
    "result"
   ]
  },
  {
   "cell_type": "code",
   "execution_count": 16,
   "id": "d273751f",
   "metadata": {},
   "outputs": [
    {
     "data": {
      "text/plain": [
       "'\\nQuestion 2 - \\nA = [1,0,1,0,1,1,1,0,0]\\nB = [0,0,0,1,0,1,0,1,1]\\n\\na[i] is qual to b[i] -> True else False\\n'"
      ]
     },
     "execution_count": 16,
     "metadata": {},
     "output_type": "execute_result"
    }
   ],
   "source": [
    "'''\n",
    "Question 2 - \n",
    "A = [1,0,1,0,1,1,1,0,0]\n",
    "B = [0,0,0,1,0,1,0,1,1]\n",
    "\n",
    "a[i] is qual to b[i] -> True else False\n",
    "'''"
   ]
  },
  {
   "cell_type": "code",
   "execution_count": 18,
   "id": "962596fb",
   "metadata": {},
   "outputs": [
    {
     "data": {
      "text/plain": [
       "False"
      ]
     },
     "execution_count": 18,
     "metadata": {},
     "output_type": "execute_result"
    }
   ],
   "source": [
    "1 == 0"
   ]
  },
  {
   "cell_type": "code",
   "execution_count": 19,
   "id": "5a92c601",
   "metadata": {},
   "outputs": [],
   "source": [
    "A = [1,0,1,0,1,1,1,0,0]\n",
    "B = [0,0,0,1,0,1,0,1,1]"
   ]
  },
  {
   "cell_type": "code",
   "execution_count": 20,
   "id": "0821349a",
   "metadata": {},
   "outputs": [],
   "source": [
    "result = list(map(lambda x, y: x == y, A, B))"
   ]
  },
  {
   "cell_type": "code",
   "execution_count": 21,
   "id": "e2a31909",
   "metadata": {},
   "outputs": [
    {
     "data": {
      "text/plain": [
       "[False, True, False, False, False, True, False, False, False]"
      ]
     },
     "execution_count": 21,
     "metadata": {},
     "output_type": "execute_result"
    }
   ],
   "source": [
    "result"
   ]
  },
  {
   "cell_type": "code",
   "execution_count": 22,
   "id": "a5261c1e",
   "metadata": {},
   "outputs": [],
   "source": [
    "A = [1,0,1,0,1,1,1,0,0]\n",
    "B = [0,0,0,1,0,1,0,1,1,1,1,1,1,1]"
   ]
  },
  {
   "cell_type": "code",
   "execution_count": 23,
   "id": "a9f37a1a",
   "metadata": {},
   "outputs": [],
   "source": [
    "result = list(map(lambda x, y: x == y, A, B))"
   ]
  },
  {
   "cell_type": "code",
   "execution_count": 24,
   "id": "80df5c16",
   "metadata": {},
   "outputs": [
    {
     "data": {
      "text/plain": [
       "[False, True, False, False, False, True, False, False, False]"
      ]
     },
     "execution_count": 24,
     "metadata": {},
     "output_type": "execute_result"
    }
   ],
   "source": [
    "result"
   ]
  },
  {
   "cell_type": "code",
   "execution_count": 25,
   "id": "fe975fcf",
   "metadata": {},
   "outputs": [],
   "source": [
    "a = [1,2,3,4,5,6,7,8,9]"
   ]
  },
  {
   "cell_type": "code",
   "execution_count": 26,
   "id": "7d26a270",
   "metadata": {},
   "outputs": [],
   "source": [
    "result = list(filter(lambda x: x % 2 == 0, a))"
   ]
  },
  {
   "cell_type": "code",
   "execution_count": 27,
   "id": "7750d46b",
   "metadata": {},
   "outputs": [
    {
     "data": {
      "text/plain": [
       "[2, 4, 6, 8]"
      ]
     },
     "execution_count": 27,
     "metadata": {},
     "output_type": "execute_result"
    }
   ],
   "source": [
    "result"
   ]
  },
  {
   "cell_type": "code",
   "execution_count": 28,
   "id": "a8ed638d",
   "metadata": {},
   "outputs": [],
   "source": [
    "from functools import reduce"
   ]
  },
  {
   "cell_type": "code",
   "execution_count": 35,
   "id": "799908b3",
   "metadata": {},
   "outputs": [],
   "source": [
    "a = [1, 2, 3, 4, 5]"
   ]
  },
  {
   "cell_type": "code",
   "execution_count": 30,
   "id": "fb2c00e3",
   "metadata": {},
   "outputs": [],
   "source": [
    "r = reduce(lambda x, y: x + y, a)"
   ]
  },
  {
   "cell_type": "code",
   "execution_count": 34,
   "id": "65624858",
   "metadata": {},
   "outputs": [
    {
     "data": {
      "text/plain": [
       "int"
      ]
     },
     "execution_count": 34,
     "metadata": {},
     "output_type": "execute_result"
    }
   ],
   "source": [
    "type(r)"
   ]
  },
  {
   "cell_type": "code",
   "execution_count": 36,
   "id": "2f14d406",
   "metadata": {},
   "outputs": [],
   "source": [
    "b = [\"a\", \"b\", \"c\", \"d\"]"
   ]
  },
  {
   "cell_type": "code",
   "execution_count": 37,
   "id": "2c0730be",
   "metadata": {},
   "outputs": [],
   "source": [
    "r = reduce(lambda x, y: x + y, b)"
   ]
  },
  {
   "cell_type": "code",
   "execution_count": 38,
   "id": "36c1d14e",
   "metadata": {},
   "outputs": [
    {
     "data": {
      "text/plain": [
       "'abcd'"
      ]
     },
     "execution_count": 38,
     "metadata": {},
     "output_type": "execute_result"
    }
   ],
   "source": [
    "r"
   ]
  },
  {
   "cell_type": "code",
   "execution_count": 39,
   "id": "4a9f49fb",
   "metadata": {},
   "outputs": [],
   "source": [
    "a = list(range(1,11))"
   ]
  },
  {
   "cell_type": "code",
   "execution_count": 48,
   "id": "9061dc30",
   "metadata": {},
   "outputs": [
    {
     "data": {
      "text/plain": [
       "[1, 2, 3, 4, 5, 6, 7, 8, 9, 10]"
      ]
     },
     "execution_count": 48,
     "metadata": {},
     "output_type": "execute_result"
    }
   ],
   "source": [
    "a"
   ]
  },
  {
   "cell_type": "code",
   "execution_count": 46,
   "id": "32928561",
   "metadata": {},
   "outputs": [],
   "source": [
    "b = a[::-1]"
   ]
  },
  {
   "cell_type": "code",
   "execution_count": 47,
   "id": "428462cb",
   "metadata": {},
   "outputs": [
    {
     "data": {
      "text/plain": [
       "[10, 9, 8, 7, 6, 5, 4, 3, 2, 1]"
      ]
     },
     "execution_count": 47,
     "metadata": {},
     "output_type": "execute_result"
    }
   ],
   "source": [
    "b"
   ]
  },
  {
   "cell_type": "code",
   "execution_count": 49,
   "id": "3f39102e",
   "metadata": {},
   "outputs": [
    {
     "data": {
      "text/plain": [
       "True"
      ]
     },
     "execution_count": 49,
     "metadata": {},
     "output_type": "execute_result"
    }
   ],
   "source": [
    "reduce(lambda x, y: x * y, a) == reduce(lambda x, y: x * y, b)"
   ]
  },
  {
   "cell_type": "code",
   "execution_count": 50,
   "id": "cec81148",
   "metadata": {},
   "outputs": [
    {
     "data": {
      "text/plain": [
       "'\\nQuestion 3 - \\nWrite a function to print the max element in a list using reduce.\\n'"
      ]
     },
     "execution_count": 50,
     "metadata": {},
     "output_type": "execute_result"
    }
   ],
   "source": [
    "'''\n",
    "Question 3 - \n",
    "Write a function to print the max element in a list using reduce.\n",
    "'''"
   ]
  },
  {
   "cell_type": "code",
   "execution_count": 51,
   "id": "37ce4376",
   "metadata": {},
   "outputs": [],
   "source": [
    "a = [4, 5, 3, 7, 8, 10, 2, 1, 0]"
   ]
  },
  {
   "cell_type": "code",
   "execution_count": 52,
   "id": "8490cab7",
   "metadata": {},
   "outputs": [
    {
     "data": {
      "text/plain": [
       "10"
      ]
     },
     "execution_count": 52,
     "metadata": {},
     "output_type": "execute_result"
    }
   ],
   "source": [
    "reduce(lambda x, y: x if x >= y else y, a)"
   ]
  },
  {
   "cell_type": "code",
   "execution_count": 53,
   "id": "b2202b00",
   "metadata": {},
   "outputs": [],
   "source": [
    "# ARGS and KWARGS"
   ]
  },
  {
   "cell_type": "code",
   "execution_count": 54,
   "id": "a1e7c078",
   "metadata": {},
   "outputs": [],
   "source": [
    "def custom_sum(a, b):\n",
    "    return a + b"
   ]
  },
  {
   "cell_type": "code",
   "execution_count": 55,
   "id": "8b9d3d43",
   "metadata": {},
   "outputs": [
    {
     "data": {
      "text/plain": [
       "9"
      ]
     },
     "execution_count": 55,
     "metadata": {},
     "output_type": "execute_result"
    }
   ],
   "source": [
    "custom_sum(4,5)"
   ]
  },
  {
   "cell_type": "code",
   "execution_count": 56,
   "id": "8068ca2f",
   "metadata": {},
   "outputs": [],
   "source": [
    "def custom_sum(a, b, *args):\n",
    "    print(a)\n",
    "    print(b)\n",
    "    print(args)"
   ]
  },
  {
   "cell_type": "code",
   "execution_count": 58,
   "id": "f7586ba7",
   "metadata": {},
   "outputs": [
    {
     "name": "stdout",
     "output_type": "stream",
     "text": [
      "5\n",
      "6\n",
      "(8, 9, 10, 10, 10, 10, 10, 20, 30, 40)\n"
     ]
    }
   ],
   "source": [
    "custom_sum(5, 6, 8, 9, 10, 10, 10, 10, 10, 20, 30, 40)"
   ]
  },
  {
   "cell_type": "code",
   "execution_count": 59,
   "id": "1da5e514",
   "metadata": {},
   "outputs": [],
   "source": [
    "def custom_sum(a, b, *args):\n",
    "    return a + b + sum(args)"
   ]
  },
  {
   "cell_type": "code",
   "execution_count": 60,
   "id": "84921f76",
   "metadata": {},
   "outputs": [
    {
     "data": {
      "text/plain": [
       "45"
      ]
     },
     "execution_count": 60,
     "metadata": {},
     "output_type": "execute_result"
    }
   ],
   "source": [
    "custom_sum(5,6,7,8,9,10)"
   ]
  },
  {
   "cell_type": "code",
   "execution_count": 61,
   "id": "51abb9ce",
   "metadata": {},
   "outputs": [],
   "source": [
    "def custom_sum(a, b, *any_random_variable_name):\n",
    "    return a + b + sum(any_random_variable_name)"
   ]
  },
  {
   "cell_type": "code",
   "execution_count": 62,
   "id": "16137c28",
   "metadata": {},
   "outputs": [],
   "source": [
    "# args consolidates all extra postitional arguments into a tuple"
   ]
  },
  {
   "cell_type": "code",
   "execution_count": 63,
   "id": "5222981e",
   "metadata": {},
   "outputs": [],
   "source": [
    "def create_person(name, age, gender):\n",
    "    Person = {\n",
    "        \"name\": name,\n",
    "        \"age\": age,\n",
    "        \"gender\": gender\n",
    "    }\n",
    "    \n",
    "    return Person"
   ]
  },
  {
   "cell_type": "code",
   "execution_count": 64,
   "id": "3b4c6b29",
   "metadata": {},
   "outputs": [
    {
     "data": {
      "text/plain": [
       "{'name': 'Bipin Kalra', 'age': 5000, 'gender': 'Male'}"
      ]
     },
     "execution_count": 64,
     "metadata": {},
     "output_type": "execute_result"
    }
   ],
   "source": [
    "create_person(name = \"Bipin Kalra\", age = 5000, gender = \"Male\")"
   ]
  },
  {
   "cell_type": "code",
   "execution_count": 65,
   "id": "c9f888d0",
   "metadata": {},
   "outputs": [],
   "source": [
    "def create_person(name, age, gender, **kwargs):\n",
    "    print(kwargs)\n",
    "    \n",
    "    Person = {\n",
    "        \"name\": name,\n",
    "        \"age\": age,\n",
    "        \"gender\": gender\n",
    "    }\n",
    "    \n",
    "    return Person"
   ]
  },
  {
   "cell_type": "code",
   "execution_count": 66,
   "id": "732f07c2",
   "metadata": {},
   "outputs": [
    {
     "name": "stdout",
     "output_type": "stream",
     "text": [
      "{}\n"
     ]
    },
    {
     "data": {
      "text/plain": [
       "{'name': 'Bipin Kalra', 'age': 5000, 'gender': 'Male'}"
      ]
     },
     "execution_count": 66,
     "metadata": {},
     "output_type": "execute_result"
    }
   ],
   "source": [
    "create_person(name = \"Bipin Kalra\", age = 5000, gender = \"Male\")"
   ]
  },
  {
   "cell_type": "code",
   "execution_count": 68,
   "id": "e3620dc8",
   "metadata": {},
   "outputs": [
    {
     "name": "stdout",
     "output_type": "stream",
     "text": [
      "{'skills': ['python', 'CSE'], 'email': 'bipin.kalra@scaler.com'}\n"
     ]
    },
    {
     "data": {
      "text/plain": [
       "{'name': 'Bipin Kalra', 'age': 5000, 'gender': 'Male'}"
      ]
     },
     "execution_count": 68,
     "metadata": {},
     "output_type": "execute_result"
    }
   ],
   "source": [
    "create_person(name = \"Bipin Kalra\", age = 5000, gender = \"Male\", skills = [\"python\", \"CSE\"], email = \"bipin.kalra@scaler.com\")"
   ]
  },
  {
   "cell_type": "code",
   "execution_count": 71,
   "id": "3f04a3c2",
   "metadata": {},
   "outputs": [],
   "source": [
    "def create_person(name, age, gender, **extra_info):\n",
    "    Person = {\n",
    "        \"name\": name,\n",
    "        \"age\": age,\n",
    "        \"gender\": gender\n",
    "    }\n",
    "    \n",
    "    Person.update(extra_info)\n",
    "    \n",
    "    return Person"
   ]
  },
  {
   "cell_type": "code",
   "execution_count": 72,
   "id": "e3caf6da",
   "metadata": {},
   "outputs": [
    {
     "data": {
      "text/plain": [
       "{'name': 'Bipin Kalra',\n",
       " 'age': 5000,\n",
       " 'gender': 'Male',\n",
       " 'skills': ['python', 'CSE'],\n",
       " 'email': 'bipin.kalra@scaler.com'}"
      ]
     },
     "execution_count": 72,
     "metadata": {},
     "output_type": "execute_result"
    }
   ],
   "source": [
    "create_person(name = \"Bipin Kalra\", age = 5000, gender = \"Male\", skills = [\"python\", \"CSE\"], email = \"bipin.kalra@scaler.com\")"
   ]
  },
  {
   "cell_type": "code",
   "execution_count": 74,
   "id": "c6a9d072",
   "metadata": {},
   "outputs": [],
   "source": [
    "def random(a, b, c, *args, **kwargs):\n",
    "    print(a)\n",
    "    print(b)\n",
    "    print(c)\n",
    "    print(args)\n",
    "    print(kwargs)"
   ]
  },
  {
   "cell_type": "code",
   "execution_count": 77,
   "id": "8c841767",
   "metadata": {},
   "outputs": [
    {
     "name": "stdout",
     "output_type": "stream",
     "text": [
      "4\n",
      "6\n",
      "7\n",
      "(8, 9, 10)\n",
      "{'x': 1, 'y': 2, 'z': 3}\n"
     ]
    }
   ],
   "source": [
    "random(4, 6, 7, 8, 9, 10, x = 1, y = 2, z = 3)"
   ]
  },
  {
   "cell_type": "code",
   "execution_count": 84,
   "id": "2aa3304a",
   "metadata": {},
   "outputs": [],
   "source": [
    "# kwargs consolidates extra key worded arguments into a dictionary"
   ]
  },
  {
   "cell_type": "code",
   "execution_count": 78,
   "id": "bacd8b9b",
   "metadata": {},
   "outputs": [],
   "source": [
    "def random():\n",
    "    return 100, 200, 300, 400, 500"
   ]
  },
  {
   "cell_type": "code",
   "execution_count": 86,
   "id": "8f82e813",
   "metadata": {},
   "outputs": [],
   "source": [
    "a, *b = random()"
   ]
  },
  {
   "cell_type": "code",
   "execution_count": 80,
   "id": "bb978ef6",
   "metadata": {},
   "outputs": [],
   "source": [
    "x, y, *z = random()"
   ]
  },
  {
   "cell_type": "code",
   "execution_count": 81,
   "id": "6a3da0ce",
   "metadata": {},
   "outputs": [
    {
     "data": {
      "text/plain": [
       "100"
      ]
     },
     "execution_count": 81,
     "metadata": {},
     "output_type": "execute_result"
    }
   ],
   "source": [
    "x"
   ]
  },
  {
   "cell_type": "code",
   "execution_count": 82,
   "id": "477c4a67",
   "metadata": {},
   "outputs": [
    {
     "data": {
      "text/plain": [
       "200"
      ]
     },
     "execution_count": 82,
     "metadata": {},
     "output_type": "execute_result"
    }
   ],
   "source": [
    "y"
   ]
  },
  {
   "cell_type": "code",
   "execution_count": 83,
   "id": "ee3d7dff",
   "metadata": {},
   "outputs": [
    {
     "data": {
      "text/plain": [
       "[300, 400, 500]"
      ]
     },
     "execution_count": 83,
     "metadata": {},
     "output_type": "execute_result"
    }
   ],
   "source": [
    "z"
   ]
  },
  {
   "cell_type": "code",
   "execution_count": null,
   "id": "323bb911",
   "metadata": {},
   "outputs": [],
   "source": []
  }
 ],
 "metadata": {
  "kernelspec": {
   "display_name": "Python 3 (ipykernel)",
   "language": "python",
   "name": "python3"
  },
  "language_info": {
   "codemirror_mode": {
    "name": "ipython",
    "version": 3
   },
   "file_extension": ".py",
   "mimetype": "text/x-python",
   "name": "python",
   "nbconvert_exporter": "python",
   "pygments_lexer": "ipython3",
   "version": "3.9.5"
  }
 },
 "nbformat": 4,
 "nbformat_minor": 5
}
