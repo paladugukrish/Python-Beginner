{
 "cells": [
  {
   "cell_type": "code",
   "execution_count": 1,
   "id": "7e1cd505",
   "metadata": {},
   "outputs": [],
   "source": [
    "a = 5"
   ]
  },
  {
   "cell_type": "code",
   "execution_count": 2,
   "id": "cc20b5c7",
   "metadata": {},
   "outputs": [
    {
     "data": {
      "text/plain": [
       "int"
      ]
     },
     "execution_count": 2,
     "metadata": {},
     "output_type": "execute_result"
    }
   ],
   "source": [
    "type(5)"
   ]
  },
  {
   "cell_type": "code",
   "execution_count": 3,
   "id": "e2a79409",
   "metadata": {},
   "outputs": [],
   "source": [
    "# 5 is an object of the type int\n",
    "# 5 is an instance of the int class"
   ]
  },
  {
   "cell_type": "code",
   "execution_count": 4,
   "id": "a353f9aa",
   "metadata": {},
   "outputs": [],
   "source": [
    "string = \"abcd\""
   ]
  },
  {
   "cell_type": "code",
   "execution_count": 5,
   "id": "8a17d7e2",
   "metadata": {},
   "outputs": [
    {
     "data": {
      "text/plain": [
       "'abcdefgh'"
      ]
     },
     "execution_count": 5,
     "metadata": {},
     "output_type": "execute_result"
    }
   ],
   "source": [
    "\"abcd\" + \"efgh\""
   ]
  },
  {
   "cell_type": "code",
   "execution_count": 6,
   "id": "1178dfff",
   "metadata": {},
   "outputs": [
    {
     "data": {
      "text/plain": [
       "['abcd']"
      ]
     },
     "execution_count": 6,
     "metadata": {},
     "output_type": "execute_result"
    }
   ],
   "source": [
    "string.split(\" \")"
   ]
  },
  {
   "cell_type": "code",
   "execution_count": 7,
   "id": "6133f231",
   "metadata": {},
   "outputs": [],
   "source": [
    "# Creation of a class\n",
    "class Student:\n",
    "    pass"
   ]
  },
  {
   "cell_type": "code",
   "execution_count": 8,
   "id": "787312f1",
   "metadata": {},
   "outputs": [],
   "source": [
    "# Instantiating a class -> Creating an object of a class\n",
    "s = Student()"
   ]
  },
  {
   "cell_type": "code",
   "execution_count": 9,
   "id": "774cf45d",
   "metadata": {},
   "outputs": [
    {
     "data": {
      "text/plain": [
       "<__main__.Student at 0x7ff1705bd7c0>"
      ]
     },
     "execution_count": 9,
     "metadata": {},
     "output_type": "execute_result"
    }
   ],
   "source": [
    "s"
   ]
  },
  {
   "cell_type": "code",
   "execution_count": 10,
   "id": "5717f08e",
   "metadata": {},
   "outputs": [
    {
     "data": {
      "text/plain": [
       "__main__.Student"
      ]
     },
     "execution_count": 10,
     "metadata": {},
     "output_type": "execute_result"
    }
   ],
   "source": [
    "type(s)"
   ]
  },
  {
   "cell_type": "code",
   "execution_count": 11,
   "id": "df184feb",
   "metadata": {},
   "outputs": [],
   "source": [
    "# bipin_height, bipin_weight...."
   ]
  },
  {
   "cell_type": "code",
   "execution_count": 12,
   "id": "1f94207a",
   "metadata": {},
   "outputs": [],
   "source": [
    "def random():\n",
    "    return True"
   ]
  },
  {
   "cell_type": "code",
   "execution_count": 13,
   "id": "f698e93f",
   "metadata": {},
   "outputs": [],
   "source": [
    "class Random():\n",
    "    pass"
   ]
  },
  {
   "cell_type": "code",
   "execution_count": 14,
   "id": "e6c2bcca",
   "metadata": {},
   "outputs": [
    {
     "data": {
      "text/plain": [
       "3"
      ]
     },
     "execution_count": 14,
     "metadata": {},
     "output_type": "execute_result"
    }
   ],
   "source": [
    "1 + 2"
   ]
  },
  {
   "cell_type": "code",
   "execution_count": 15,
   "id": "a3f201ec",
   "metadata": {},
   "outputs": [
    {
     "data": {
      "text/plain": [
       "'abcbcd'"
      ]
     },
     "execution_count": 15,
     "metadata": {},
     "output_type": "execute_result"
    }
   ],
   "source": [
    "\"abc\" + \"bcd\""
   ]
  },
  {
   "cell_type": "code",
   "execution_count": 16,
   "id": "741507de",
   "metadata": {},
   "outputs": [],
   "source": [
    "class Student:\n",
    "    pass"
   ]
  },
  {
   "cell_type": "code",
   "execution_count": 17,
   "id": "487febb1",
   "metadata": {},
   "outputs": [],
   "source": [
    "s1 = Student()"
   ]
  },
  {
   "cell_type": "code",
   "execution_count": 18,
   "id": "96e627dd",
   "metadata": {},
   "outputs": [],
   "source": [
    "s2 = Student()"
   ]
  },
  {
   "cell_type": "code",
   "execution_count": 21,
   "id": "be574d4e",
   "metadata": {},
   "outputs": [],
   "source": [
    "s1.name = \"Mansi\""
   ]
  },
  {
   "cell_type": "code",
   "execution_count": 23,
   "id": "17c470b4",
   "metadata": {},
   "outputs": [
    {
     "data": {
      "text/plain": [
       "'Mansi'"
      ]
     },
     "execution_count": 23,
     "metadata": {},
     "output_type": "execute_result"
    }
   ],
   "source": [
    "s1.name"
   ]
  },
  {
   "cell_type": "code",
   "execution_count": 22,
   "id": "89e90b07",
   "metadata": {},
   "outputs": [
    {
     "ename": "AttributeError",
     "evalue": "'Student' object has no attribute 'name'",
     "output_type": "error",
     "traceback": [
      "\u001b[0;31m---------------------------------------------------------------------------\u001b[0m",
      "\u001b[0;31mAttributeError\u001b[0m                            Traceback (most recent call last)",
      "\u001b[0;32m/var/folders/nn/c52y0d3j0gq59dpsswchkt2r0000gn/T/ipykernel_38063/1547413451.py\u001b[0m in \u001b[0;36m<module>\u001b[0;34m\u001b[0m\n\u001b[0;32m----> 1\u001b[0;31m \u001b[0ms2\u001b[0m\u001b[0;34m.\u001b[0m\u001b[0mname\u001b[0m\u001b[0;34m\u001b[0m\u001b[0;34m\u001b[0m\u001b[0m\n\u001b[0m",
      "\u001b[0;31mAttributeError\u001b[0m: 'Student' object has no attribute 'name'"
     ]
    }
   ],
   "source": [
    "s2.name"
   ]
  },
  {
   "cell_type": "code",
   "execution_count": 27,
   "id": "11c22619",
   "metadata": {},
   "outputs": [],
   "source": [
    "class Student:\n",
    "    def __init__(self):\n",
    "        print(id(self))"
   ]
  },
  {
   "cell_type": "code",
   "execution_count": 28,
   "id": "2b8c4e64",
   "metadata": {},
   "outputs": [
    {
     "name": "stdout",
     "output_type": "stream",
     "text": [
      "140674948911840\n"
     ]
    }
   ],
   "source": [
    "s1 = Student()\n",
    "# Student.__init__(s1) -> Internally"
   ]
  },
  {
   "cell_type": "code",
   "execution_count": 29,
   "id": "cb27e1af",
   "metadata": {},
   "outputs": [
    {
     "data": {
      "text/plain": [
       "140674948911840"
      ]
     },
     "execution_count": 29,
     "metadata": {},
     "output_type": "execute_result"
    }
   ],
   "source": [
    "id(s1)"
   ]
  },
  {
   "cell_type": "code",
   "execution_count": 30,
   "id": "33911b95",
   "metadata": {},
   "outputs": [],
   "source": [
    "class Student:\n",
    "    def __init__(self, input_name):\n",
    "        self.name = input_name"
   ]
  },
  {
   "cell_type": "code",
   "execution_count": 35,
   "id": "c3b08e16",
   "metadata": {},
   "outputs": [],
   "source": [
    "s1 = Student(\"Bipin\")\n",
    "# Student.__init__(s1, \"Bipin\")\n",
    "# self = s1\n",
    "# self.name = input_name -> s1.name = \"Bipin\""
   ]
  },
  {
   "cell_type": "code",
   "execution_count": 32,
   "id": "0b81a757",
   "metadata": {},
   "outputs": [],
   "source": [
    "s2 = Student(\"Kshitiz\")"
   ]
  },
  {
   "cell_type": "code",
   "execution_count": 33,
   "id": "8c70fbea",
   "metadata": {},
   "outputs": [
    {
     "data": {
      "text/plain": [
       "'Bipin'"
      ]
     },
     "execution_count": 33,
     "metadata": {},
     "output_type": "execute_result"
    }
   ],
   "source": [
    "s1.name"
   ]
  },
  {
   "cell_type": "code",
   "execution_count": 34,
   "id": "04a1de40",
   "metadata": {},
   "outputs": [
    {
     "data": {
      "text/plain": [
       "'Kshitiz'"
      ]
     },
     "execution_count": 34,
     "metadata": {},
     "output_type": "execute_result"
    }
   ],
   "source": [
    "s2.name"
   ]
  },
  {
   "cell_type": "code",
   "execution_count": 36,
   "id": "da61bf6b",
   "metadata": {},
   "outputs": [],
   "source": [
    "# Methods -> Functions inside a class"
   ]
  },
  {
   "cell_type": "code",
   "execution_count": 56,
   "id": "e96aa22f",
   "metadata": {},
   "outputs": [],
   "source": [
    "class Student:\n",
    "    def hello(): # class method\n",
    "        print(\"Hello!\")\n",
    "        \n",
    "    def hello2(anything): # instance method\n",
    "        print(\"Hello!\")"
   ]
  },
  {
   "cell_type": "code",
   "execution_count": 48,
   "id": "38da9a31",
   "metadata": {},
   "outputs": [],
   "source": [
    "s1 = Student()"
   ]
  },
  {
   "cell_type": "code",
   "execution_count": 49,
   "id": "fb79876a",
   "metadata": {},
   "outputs": [
    {
     "data": {
      "text/plain": [
       "__main__.Student"
      ]
     },
     "execution_count": 49,
     "metadata": {},
     "output_type": "execute_result"
    }
   ],
   "source": [
    "type(s1)"
   ]
  },
  {
   "cell_type": "code",
   "execution_count": 50,
   "id": "50c202c4",
   "metadata": {},
   "outputs": [
    {
     "ename": "TypeError",
     "evalue": "hello() takes 0 positional arguments but 1 was given",
     "output_type": "error",
     "traceback": [
      "\u001b[0;31m---------------------------------------------------------------------------\u001b[0m",
      "\u001b[0;31mTypeError\u001b[0m                                 Traceback (most recent call last)",
      "\u001b[0;32m/var/folders/nn/c52y0d3j0gq59dpsswchkt2r0000gn/T/ipykernel_38063/3885920172.py\u001b[0m in \u001b[0;36m<module>\u001b[0;34m\u001b[0m\n\u001b[0;32m----> 1\u001b[0;31m \u001b[0ms1\u001b[0m\u001b[0;34m.\u001b[0m\u001b[0mhello\u001b[0m\u001b[0;34m(\u001b[0m\u001b[0;34m)\u001b[0m\u001b[0;34m\u001b[0m\u001b[0;34m\u001b[0m\u001b[0m\n\u001b[0m\u001b[1;32m      2\u001b[0m \u001b[0;31m# whenever a class method is called using a class object\u001b[0m\u001b[0;34m\u001b[0m\u001b[0;34m\u001b[0m\u001b[0;34m\u001b[0m\u001b[0m\n\u001b[1;32m      3\u001b[0m \u001b[0;31m# Student.hello(s1) -> Object gets passed to the method by default\u001b[0m\u001b[0;34m\u001b[0m\u001b[0;34m\u001b[0m\u001b[0;34m\u001b[0m\u001b[0m\n",
      "\u001b[0;31mTypeError\u001b[0m: hello() takes 0 positional arguments but 1 was given"
     ]
    }
   ],
   "source": [
    "s1.hello()\n",
    "# whenever a class method is called using a class object\n",
    "# Student.hello(s1) -> Object gets passed to the method by default"
   ]
  },
  {
   "cell_type": "code",
   "execution_count": 51,
   "id": "cc035ad4",
   "metadata": {},
   "outputs": [
    {
     "name": "stdout",
     "output_type": "stream",
     "text": [
      "Hello!\n"
     ]
    }
   ],
   "source": [
    "Student.hello()\n",
    "# I can call this method directly by using the name of the class"
   ]
  },
  {
   "cell_type": "code",
   "execution_count": 52,
   "id": "bbb7bcdb",
   "metadata": {},
   "outputs": [
    {
     "ename": "TypeError",
     "evalue": "hello2() missing 1 required positional argument: 'self'",
     "output_type": "error",
     "traceback": [
      "\u001b[0;31m---------------------------------------------------------------------------\u001b[0m",
      "\u001b[0;31mTypeError\u001b[0m                                 Traceback (most recent call last)",
      "\u001b[0;32m/var/folders/nn/c52y0d3j0gq59dpsswchkt2r0000gn/T/ipykernel_38063/2344266595.py\u001b[0m in \u001b[0;36m<module>\u001b[0;34m\u001b[0m\n\u001b[0;32m----> 1\u001b[0;31m \u001b[0mStudent\u001b[0m\u001b[0;34m.\u001b[0m\u001b[0mhello2\u001b[0m\u001b[0;34m(\u001b[0m\u001b[0;34m)\u001b[0m\u001b[0;34m\u001b[0m\u001b[0;34m\u001b[0m\u001b[0m\n\u001b[0m",
      "\u001b[0;31mTypeError\u001b[0m: hello2() missing 1 required positional argument: 'self'"
     ]
    }
   ],
   "source": [
    "Student.hello2()"
   ]
  },
  {
   "cell_type": "code",
   "execution_count": 55,
   "id": "bbc137df",
   "metadata": {},
   "outputs": [
    {
     "name": "stdout",
     "output_type": "stream",
     "text": [
      "Hello!\n"
     ]
    }
   ],
   "source": [
    "s1.hello2()\n",
    "# Student.hello2(s1)"
   ]
  },
  {
   "cell_type": "code",
   "execution_count": 65,
   "id": "e934978a",
   "metadata": {},
   "outputs": [],
   "source": [
    "class Dog:\n",
    "    kind = \"labra\" # class variable\n",
    "    \n",
    "    def __init__(self, name):\n",
    "        self.name = name # instance variable"
   ]
  },
  {
   "cell_type": "code",
   "execution_count": 66,
   "id": "5cbba6e3",
   "metadata": {},
   "outputs": [],
   "source": [
    "d1 = Dog(\"Scooby\")\n",
    "d2 = Dog(\"Tuffy\")"
   ]
  },
  {
   "cell_type": "code",
   "execution_count": 67,
   "id": "8a4c349b",
   "metadata": {},
   "outputs": [
    {
     "data": {
      "text/plain": [
       "'Scooby'"
      ]
     },
     "execution_count": 67,
     "metadata": {},
     "output_type": "execute_result"
    }
   ],
   "source": [
    "d1.name"
   ]
  },
  {
   "cell_type": "code",
   "execution_count": 68,
   "id": "fa18cc1a",
   "metadata": {},
   "outputs": [
    {
     "data": {
      "text/plain": [
       "'Tuffy'"
      ]
     },
     "execution_count": 68,
     "metadata": {},
     "output_type": "execute_result"
    }
   ],
   "source": [
    "d2.name"
   ]
  },
  {
   "cell_type": "code",
   "execution_count": 69,
   "id": "f4f53a7d",
   "metadata": {},
   "outputs": [
    {
     "data": {
      "text/plain": [
       "'labra'"
      ]
     },
     "execution_count": 69,
     "metadata": {},
     "output_type": "execute_result"
    }
   ],
   "source": [
    "d1.kind"
   ]
  },
  {
   "cell_type": "code",
   "execution_count": 70,
   "id": "4fb6f855",
   "metadata": {},
   "outputs": [
    {
     "data": {
      "text/plain": [
       "'labra'"
      ]
     },
     "execution_count": 70,
     "metadata": {},
     "output_type": "execute_result"
    }
   ],
   "source": [
    "d2.kind"
   ]
  },
  {
   "cell_type": "code",
   "execution_count": 71,
   "id": "47d4be0b",
   "metadata": {},
   "outputs": [
    {
     "data": {
      "text/plain": [
       "'labra'"
      ]
     },
     "execution_count": 71,
     "metadata": {},
     "output_type": "execute_result"
    }
   ],
   "source": [
    "Dog.kind"
   ]
  },
  {
   "cell_type": "code",
   "execution_count": 73,
   "id": "d40257d0",
   "metadata": {},
   "outputs": [
    {
     "ename": "AttributeError",
     "evalue": "type object 'Dog' has no attribute 'name'",
     "output_type": "error",
     "traceback": [
      "\u001b[0;31m---------------------------------------------------------------------------\u001b[0m",
      "\u001b[0;31mAttributeError\u001b[0m                            Traceback (most recent call last)",
      "\u001b[0;32m/var/folders/nn/c52y0d3j0gq59dpsswchkt2r0000gn/T/ipykernel_38063/1781462753.py\u001b[0m in \u001b[0;36m<module>\u001b[0;34m\u001b[0m\n\u001b[0;32m----> 1\u001b[0;31m \u001b[0mDog\u001b[0m\u001b[0;34m.\u001b[0m\u001b[0mname\u001b[0m \u001b[0;31m# instance variable can't be accessed by the class directly\u001b[0m\u001b[0;34m\u001b[0m\u001b[0;34m\u001b[0m\u001b[0m\n\u001b[0m",
      "\u001b[0;31mAttributeError\u001b[0m: type object 'Dog' has no attribute 'name'"
     ]
    }
   ],
   "source": [
    "Dog.name # instance variable can't be accessed by the class directly"
   ]
  },
  {
   "cell_type": "code",
   "execution_count": 74,
   "id": "d72e3392",
   "metadata": {},
   "outputs": [],
   "source": [
    "d1.kind = \"golden retriever\""
   ]
  },
  {
   "cell_type": "code",
   "execution_count": 75,
   "id": "43930c00",
   "metadata": {},
   "outputs": [
    {
     "data": {
      "text/plain": [
       "'golden retriever'"
      ]
     },
     "execution_count": 75,
     "metadata": {},
     "output_type": "execute_result"
    }
   ],
   "source": [
    "d1.kind"
   ]
  },
  {
   "cell_type": "code",
   "execution_count": 76,
   "id": "019c2261",
   "metadata": {},
   "outputs": [
    {
     "data": {
      "text/plain": [
       "'labra'"
      ]
     },
     "execution_count": 76,
     "metadata": {},
     "output_type": "execute_result"
    }
   ],
   "source": [
    "d2.kind"
   ]
  },
  {
   "cell_type": "code",
   "execution_count": 77,
   "id": "ec789e91",
   "metadata": {},
   "outputs": [
    {
     "data": {
      "text/plain": [
       "'labra'"
      ]
     },
     "execution_count": 77,
     "metadata": {},
     "output_type": "execute_result"
    }
   ],
   "source": [
    "Dog.kind"
   ]
  },
  {
   "cell_type": "code",
   "execution_count": 78,
   "id": "fe3ba06f",
   "metadata": {},
   "outputs": [],
   "source": [
    "class Dog:\n",
    "    tricks = []\n",
    "    \n",
    "    def __init__(self, name):\n",
    "        self.name = name\n",
    "        \n",
    "    def teach_trick(self, trick):\n",
    "        self.tricks.append(trick)"
   ]
  },
  {
   "cell_type": "code",
   "execution_count": 79,
   "id": "67e0ebfd",
   "metadata": {},
   "outputs": [],
   "source": [
    "d1 = Dog(\"Scooby\")\n",
    "d2 = Dog(\"Tuffy\")"
   ]
  },
  {
   "cell_type": "code",
   "execution_count": 80,
   "id": "2b96f79c",
   "metadata": {},
   "outputs": [],
   "source": [
    "d1.teach_trick(\"jump\")"
   ]
  },
  {
   "cell_type": "code",
   "execution_count": 81,
   "id": "d84408f6",
   "metadata": {},
   "outputs": [
    {
     "data": {
      "text/plain": [
       "['jump']"
      ]
     },
     "execution_count": 81,
     "metadata": {},
     "output_type": "execute_result"
    }
   ],
   "source": [
    "d1.tricks"
   ]
  },
  {
   "cell_type": "code",
   "execution_count": 82,
   "id": "95999dc9",
   "metadata": {},
   "outputs": [],
   "source": [
    "d1.teach_trick(\"sit\")"
   ]
  },
  {
   "cell_type": "code",
   "execution_count": 83,
   "id": "e4ff5cfa",
   "metadata": {},
   "outputs": [
    {
     "data": {
      "text/plain": [
       "['jump', 'sit']"
      ]
     },
     "execution_count": 83,
     "metadata": {},
     "output_type": "execute_result"
    }
   ],
   "source": [
    "d1.tricks"
   ]
  },
  {
   "cell_type": "code",
   "execution_count": 84,
   "id": "dd3fc44e",
   "metadata": {},
   "outputs": [
    {
     "data": {
      "text/plain": [
       "['jump', 'sit']"
      ]
     },
     "execution_count": 84,
     "metadata": {},
     "output_type": "execute_result"
    }
   ],
   "source": [
    "d2.tricks"
   ]
  },
  {
   "cell_type": "code",
   "execution_count": null,
   "id": "b4e85fbd",
   "metadata": {},
   "outputs": [],
   "source": []
  }
 ],
 "metadata": {
  "kernelspec": {
   "display_name": "Python 3 (ipykernel)",
   "language": "python",
   "name": "python3"
  },
  "language_info": {
   "codemirror_mode": {
    "name": "ipython",
    "version": 3
   },
   "file_extension": ".py",
   "mimetype": "text/x-python",
   "name": "python",
   "nbconvert_exporter": "python",
   "pygments_lexer": "ipython3",
   "version": "3.9.5"
  }
 },
 "nbformat": 4,
 "nbformat_minor": 5
}
