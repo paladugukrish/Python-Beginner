{
 "cells": [
  {
   "cell_type": "code",
   "execution_count": 30,
   "id": "e70939ff",
   "metadata": {},
   "outputs": [],
   "source": [
    "class Car:\n",
    "    def __init__(self, name, milaege):\n",
    "        self.name = name\n",
    "        self.milaege = milaege\n",
    "        \n",
    "    def __str__(self): # dunder -> magic method\n",
    "        return f\"{self.name} -> {self.milaege}\"\n",
    "    \n",
    "    def __add__(self, other):\n",
    "        return self.name + other.name\n",
    "    \n",
    "    def __call__(self):\n",
    "        return \"I JUST GOT CALLED WOHOOOOO!!!\""
   ]
  },
  {
   "cell_type": "code",
   "execution_count": 31,
   "id": "2e726c51",
   "metadata": {},
   "outputs": [],
   "source": [
    "c1 = Car(\"Nexon\", 13)\n",
    "c2 = Car(\"Altroz\", 15)"
   ]
  },
  {
   "cell_type": "code",
   "execution_count": 32,
   "id": "db42f0bf",
   "metadata": {},
   "outputs": [
    {
     "name": "stdout",
     "output_type": "stream",
     "text": [
      "Nexon -> 13\n"
     ]
    }
   ],
   "source": [
    "print(c1)\n",
    "\n",
    "# name -> milaege"
   ]
  },
  {
   "cell_type": "code",
   "execution_count": 33,
   "id": "b51e2127",
   "metadata": {},
   "outputs": [
    {
     "ename": "TypeError",
     "evalue": "unsupported operand type(s) for +: 'set' and 'set'",
     "output_type": "error",
     "traceback": [
      "\u001b[0;31m---------------------------------------------------------------------------\u001b[0m",
      "\u001b[0;31mTypeError\u001b[0m                                 Traceback (most recent call last)",
      "\u001b[0;32m/var/folders/nn/c52y0d3j0gq59dpsswchkt2r0000gn/T/ipykernel_54472/2254370483.py\u001b[0m in \u001b[0;36m<module>\u001b[0;34m\u001b[0m\n\u001b[0;32m----> 1\u001b[0;31m \u001b[0;34m{\u001b[0m\u001b[0;36m3\u001b[0m\u001b[0;34m,\u001b[0m\u001b[0;36m4\u001b[0m\u001b[0;34m}\u001b[0m \u001b[0;34m+\u001b[0m \u001b[0;34m{\u001b[0m\u001b[0;36m4\u001b[0m\u001b[0;34m,\u001b[0m\u001b[0;36m5\u001b[0m\u001b[0;34m}\u001b[0m\u001b[0;34m\u001b[0m\u001b[0;34m\u001b[0m\u001b[0m\n\u001b[0m",
      "\u001b[0;31mTypeError\u001b[0m: unsupported operand type(s) for +: 'set' and 'set'"
     ]
    }
   ],
   "source": [
    "{3,4} + {4,5}"
   ]
  },
  {
   "cell_type": "code",
   "execution_count": 34,
   "id": "21d06848",
   "metadata": {},
   "outputs": [
    {
     "data": {
      "text/plain": [
       "'NexonAltroz'"
      ]
     },
     "execution_count": 34,
     "metadata": {},
     "output_type": "execute_result"
    }
   ],
   "source": [
    "c1 + c2\n",
    "# c1.__add__(c2)\n",
    "# Car.__add__(c1,c2)"
   ]
  },
  {
   "cell_type": "code",
   "execution_count": 35,
   "id": "3b30e6fc",
   "metadata": {},
   "outputs": [
    {
     "data": {
      "text/plain": [
       "'NexonAltroz'"
      ]
     },
     "execution_count": 35,
     "metadata": {},
     "output_type": "execute_result"
    }
   ],
   "source": [
    "Car.__add__(c1,c2)"
   ]
  },
  {
   "cell_type": "code",
   "execution_count": 36,
   "id": "0b10cd8d",
   "metadata": {},
   "outputs": [
    {
     "data": {
      "text/plain": [
       "'I JUST GOT CALLED WOHOOOOO!!!'"
      ]
     },
     "execution_count": 36,
     "metadata": {},
     "output_type": "execute_result"
    }
   ],
   "source": [
    "c1()"
   ]
  },
  {
   "cell_type": "code",
   "execution_count": null,
   "id": "4c50146d",
   "metadata": {},
   "outputs": [],
   "source": []
  }
 ],
 "metadata": {
  "kernelspec": {
   "display_name": "Python 3 (ipykernel)",
   "language": "python",
   "name": "python3"
  },
  "language_info": {
   "codemirror_mode": {
    "name": "ipython",
    "version": 3
   },
   "file_extension": ".py",
   "mimetype": "text/x-python",
   "name": "python",
   "nbconvert_exporter": "python",
   "pygments_lexer": "ipython3",
   "version": "3.9.5"
  }
 },
 "nbformat": 4,
 "nbformat_minor": 5
}
