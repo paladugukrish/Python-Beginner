{
 "cells": [
  {
   "cell_type": "code",
   "execution_count": 1,
   "id": "6382f9dc",
   "metadata": {},
   "outputs": [],
   "source": [
    "def fun(i,j):\n",
    "    if(i==0):\n",
    "        return j\n",
    "    else:\n",
    "        return fun(i-1,j+1)"
   ]
  },
  {
   "cell_type": "code",
   "execution_count": 3,
   "id": "1f521574",
   "metadata": {},
   "outputs": [
    {
     "data": {
      "text/plain": [
       "False"
      ]
     },
     "execution_count": 3,
     "metadata": {},
     "output_type": "execute_result"
    }
   ],
   "source": [
    "\"abcd\" > \"acbd\""
   ]
  },
  {
   "cell_type": "code",
   "execution_count": 4,
   "id": "1b4cd4d7",
   "metadata": {},
   "outputs": [
    {
     "data": {
      "text/plain": [
       "True"
      ]
     },
     "execution_count": 4,
     "metadata": {},
     "output_type": "execute_result"
    }
   ],
   "source": [
    "\"z\" > \"aaadjdshfhsjdfhgjsdhfjhsdfgjsfgasdgu\""
   ]
  },
  {
   "cell_type": "code",
   "execution_count": 5,
   "id": "2d12a19b",
   "metadata": {},
   "outputs": [],
   "source": [
    "def bubble_sort(a):\n",
    "    for i in range(len(a) - 1):\n",
    "        for j in range(len(a) - i - 1):\n",
    "            if a[j] > a[j+1]:\n",
    "                a[j], a[j+1] = a[j+1], a[j]\n",
    "    \n",
    "    return a"
   ]
  },
  {
   "cell_type": "code",
   "execution_count": 6,
   "id": "f9123020",
   "metadata": {},
   "outputs": [],
   "source": [
    "a = [\"zebra\", \"mango\", \"random\", \"butcher\", \"compound\", \"exclamation\"]"
   ]
  },
  {
   "cell_type": "code",
   "execution_count": 7,
   "id": "e692fc01",
   "metadata": {},
   "outputs": [
    {
     "data": {
      "text/plain": [
       "['butcher', 'compound', 'exclamation', 'mango', 'random', 'zebra']"
      ]
     },
     "execution_count": 7,
     "metadata": {},
     "output_type": "execute_result"
    }
   ],
   "source": [
    "bubble_sort(a)"
   ]
  },
  {
   "cell_type": "code",
   "execution_count": 8,
   "id": "83d88608",
   "metadata": {},
   "outputs": [
    {
     "data": {
      "text/plain": [
       "'\\ni = 15, j = 8\\n\\nfun(15, 8)\\ni = 15\\nj = 8\\n-\\nfun(8, 10)\\ni = 8\\nj = 10\\n-\\nfun(10, 3)\\ni = 10\\nj = 3\\n-\\nfun(3, 5)\\ni = 3\\nj = 5\\n-\\nfun(5, -2)\\ni = 5\\nj = -2\\n-\\nfun(-2, 0)\\ni = -2\\nj = 0\\n-\\nfun(0, -7)\\ni = 0\\nj = -7\\n'"
      ]
     },
     "execution_count": 8,
     "metadata": {},
     "output_type": "execute_result"
    }
   ],
   "source": [
    "def fun(i,j):\n",
    "    if(i==0):\n",
    "        return j\n",
    "    else:\n",
    "        return fun(j,i-5)\n",
    "    \n",
    "'''\n",
    "i = 15, j = 8\n",
    "\n",
    "fun(15, 8)\n",
    "i = 15\n",
    "j = 8\n",
    "-\n",
    "fun(8, 10)\n",
    "i = 8\n",
    "j = 10\n",
    "-\n",
    "fun(10, 3)\n",
    "i = 10\n",
    "j = 3\n",
    "-\n",
    "fun(3, 5)\n",
    "i = 3\n",
    "j = 5\n",
    "-\n",
    "fun(5, -2)\n",
    "i = 5\n",
    "j = -2\n",
    "-\n",
    "fun(-2, 0)\n",
    "i = -2\n",
    "j = 0\n",
    "-\n",
    "fun(0, -7)\n",
    "i = 0\n",
    "j = -7\n",
    "'''"
   ]
  },
  {
   "cell_type": "code",
   "execution_count": 9,
   "id": "33aa8098",
   "metadata": {},
   "outputs": [],
   "source": [
    "a = \"hi there this is bipin hi yasmina hi someone hi you hi me.\""
   ]
  },
  {
   "cell_type": "code",
   "execution_count": 12,
   "id": "b0478191",
   "metadata": {},
   "outputs": [],
   "source": [
    "def find_hi(a):\n",
    "    print(a.index(\"hi\"))"
   ]
  },
  {
   "cell_type": "code",
   "execution_count": 13,
   "id": "e47d4068",
   "metadata": {},
   "outputs": [
    {
     "name": "stdout",
     "output_type": "stream",
     "text": [
      "0\n"
     ]
    }
   ],
   "source": [
    "find_hi(a)"
   ]
  },
  {
   "cell_type": "code",
   "execution_count": null,
   "id": "1f107fbf",
   "metadata": {},
   "outputs": [],
   "source": []
  },
  {
   "cell_type": "code",
   "execution_count": 28,
   "id": "62d186e0",
   "metadata": {},
   "outputs": [
    {
     "data": {
      "text/plain": [
       "'\\nfind_hi(a, 0)\\nfind_hi(a, 1)\\nfind_hi(a, 2)\\n.\\n.\\n.\\n'"
      ]
     },
     "execution_count": 28,
     "metadata": {},
     "output_type": "execute_result"
    }
   ],
   "source": [
    "def find_hi(a, count = 0):\n",
    "    starting_point = a.find(\"hi\")\n",
    "    \n",
    "    if starting_point == -1:\n",
    "        return f\"Count = {count}\"\n",
    "    \n",
    "    print(a[starting_point : starting_point + 2])\n",
    "    \n",
    "    return find_hi(a[starting_point + 2 :], count = count + 1)\n",
    "\n",
    "'''\n",
    "find_hi(a, 0)\n",
    "find_hi(a, 1)\n",
    "find_hi(a, 2)\n",
    ".\n",
    ".\n",
    ".\n",
    "'''"
   ]
  },
  {
   "cell_type": "code",
   "execution_count": 27,
   "id": "7e289970",
   "metadata": {},
   "outputs": [
    {
     "name": "stdout",
     "output_type": "stream",
     "text": [
      "hi\n",
      "hi\n",
      "hi\n",
      "hi\n",
      "hi\n",
      "hi\n"
     ]
    },
    {
     "data": {
      "text/plain": [
       "'Count = 6'"
      ]
     },
     "execution_count": 27,
     "metadata": {},
     "output_type": "execute_result"
    }
   ],
   "source": [
    "find_hi(a)"
   ]
  },
  {
   "cell_type": "code",
   "execution_count": 29,
   "id": "656526d3",
   "metadata": {},
   "outputs": [
    {
     "data": {
      "text/plain": [
       "'Count = 0'"
      ]
     },
     "execution_count": 29,
     "metadata": {},
     "output_type": "execute_result"
    }
   ],
   "source": [
    "find_hi(\"random\")"
   ]
  },
  {
   "cell_type": "code",
   "execution_count": null,
   "id": "6aa5c791",
   "metadata": {},
   "outputs": [],
   "source": []
  }
 ],
 "metadata": {
  "kernelspec": {
   "display_name": "Python 3 (ipykernel)",
   "language": "python",
   "name": "python3"
  },
  "language_info": {
   "codemirror_mode": {
    "name": "ipython",
    "version": 3
   },
   "file_extension": ".py",
   "mimetype": "text/x-python",
   "name": "python",
   "nbconvert_exporter": "python",
   "pygments_lexer": "ipython3",
   "version": "3.9.5"
  }
 },
 "nbformat": 4,
 "nbformat_minor": 5
}
