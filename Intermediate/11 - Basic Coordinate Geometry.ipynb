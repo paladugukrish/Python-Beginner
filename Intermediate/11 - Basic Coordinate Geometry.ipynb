{
 "cells": [
  {
   "cell_type": "code",
   "execution_count": 8,
   "id": "89d5b0c3",
   "metadata": {},
   "outputs": [],
   "source": [
    "class Father:\n",
    "    def __init__(self, x):\n",
    "        self.x = x\n",
    "\n",
    "class Mother:\n",
    "    def __init__(self, y):\n",
    "        self.y = y\n",
    "\n",
    "class Child(Mother, Father):\n",
    "    def __init__(self, x, y, z):\n",
    "        self.z = z\n",
    "        \n",
    "        # super() is not working as we assume\n",
    "        # super().__init__(x, y)\n",
    "        # HOMEWORK\n",
    "        \n",
    "        Mother.__init__(self, y)\n",
    "        Father.__init__(self, x)"
   ]
  },
  {
   "cell_type": "code",
   "execution_count": 9,
   "id": "189b475c",
   "metadata": {},
   "outputs": [],
   "source": [
    "c1 = Child(5,6,7)"
   ]
  },
  {
   "cell_type": "code",
   "execution_count": 10,
   "id": "c35cfbb0",
   "metadata": {},
   "outputs": [
    {
     "data": {
      "text/plain": [
       "5"
      ]
     },
     "execution_count": 10,
     "metadata": {},
     "output_type": "execute_result"
    }
   ],
   "source": [
    "c1.x"
   ]
  },
  {
   "cell_type": "code",
   "execution_count": 12,
   "id": "eb7f9c63",
   "metadata": {},
   "outputs": [
    {
     "data": {
      "text/plain": [
       "6"
      ]
     },
     "execution_count": 12,
     "metadata": {},
     "output_type": "execute_result"
    }
   ],
   "source": [
    "c1.y"
   ]
  },
  {
   "cell_type": "code",
   "execution_count": 13,
   "id": "38bb7d1f",
   "metadata": {},
   "outputs": [
    {
     "data": {
      "text/plain": [
       "7"
      ]
     },
     "execution_count": 13,
     "metadata": {},
     "output_type": "execute_result"
    }
   ],
   "source": [
    "c1.z"
   ]
  },
  {
   "cell_type": "code",
   "execution_count": 14,
   "id": "ee86b8d5",
   "metadata": {},
   "outputs": [],
   "source": [
    "# DIAMOND INHERITENCE"
   ]
  },
  {
   "cell_type": "code",
   "execution_count": 28,
   "id": "22309e2b",
   "metadata": {},
   "outputs": [],
   "source": [
    "class A:\n",
    "    pass\n",
    "\n",
    "class B(A):\n",
    "    pass\n",
    "\n",
    "class C(B):\n",
    "    x = 10\n",
    "    \n",
    "class D(A):\n",
    "    x = 5\n",
    "    \n",
    "class E(C, D):\n",
    "    pass"
   ]
  },
  {
   "cell_type": "code",
   "execution_count": 29,
   "id": "74035548",
   "metadata": {},
   "outputs": [],
   "source": [
    "e = E()"
   ]
  },
  {
   "cell_type": "code",
   "execution_count": 30,
   "id": "cb268843",
   "metadata": {},
   "outputs": [
    {
     "data": {
      "text/plain": [
       "10"
      ]
     },
     "execution_count": 30,
     "metadata": {},
     "output_type": "execute_result"
    }
   ],
   "source": [
    "e.x"
   ]
  },
  {
   "cell_type": "code",
   "execution_count": 31,
   "id": "337fb32f",
   "metadata": {},
   "outputs": [
    {
     "data": {
      "text/plain": [
       "(__main__.E, __main__.C, __main__.B, __main__.D, __main__.A, object)"
      ]
     },
     "execution_count": 31,
     "metadata": {},
     "output_type": "execute_result"
    }
   ],
   "source": [
    "# Method Resolution Order\n",
    "E.__mro__"
   ]
  },
  {
   "cell_type": "code",
   "execution_count": 32,
   "id": "242e9607",
   "metadata": {},
   "outputs": [
    {
     "data": {
      "text/plain": [
       "'\\nQuestion 1 - \\nDo the following points given in order make a rectangle or not.\\n(0,-1), (6,7), (-2,3), (8,3)\\n'"
      ]
     },
     "execution_count": 32,
     "metadata": {},
     "output_type": "execute_result"
    }
   ],
   "source": [
    "'''\n",
    "Question 1 - \n",
    "Do the following points given in order make a rectangle or not.\n",
    "(0,-1), (6,7), (-2,3), (8,3)\n",
    "'''"
   ]
  },
  {
   "cell_type": "code",
   "execution_count": 33,
   "id": "70142d68",
   "metadata": {},
   "outputs": [],
   "source": [
    "points = [(0,-1), (6,7), (-2,3), (8,3)]"
   ]
  },
  {
   "cell_type": "code",
   "execution_count": null,
   "id": "fae7cc1d",
   "metadata": {},
   "outputs": [],
   "source": []
  }
 ],
 "metadata": {
  "kernelspec": {
   "display_name": "Python 3 (ipykernel)",
   "language": "python",
   "name": "python3"
  },
  "language_info": {
   "codemirror_mode": {
    "name": "ipython",
    "version": 3
   },
   "file_extension": ".py",
   "mimetype": "text/x-python",
   "name": "python",
   "nbconvert_exporter": "python",
   "pygments_lexer": "ipython3",
   "version": "3.9.5"
  }
 },
 "nbformat": 4,
 "nbformat_minor": 5
}
