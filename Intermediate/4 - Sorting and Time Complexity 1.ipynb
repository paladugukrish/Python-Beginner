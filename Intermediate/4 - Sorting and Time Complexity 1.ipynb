{
 "cells": [
  {
   "cell_type": "code",
   "execution_count": 2,
   "id": "a010a075",
   "metadata": {},
   "outputs": [],
   "source": [
    "def foo():\n",
    "    x = 1 # operation 1\n",
    "    y = 2 # 2\n",
    "    z = 3 # 3\n",
    "    \n",
    "# We will write a cost function for every function / algorithm\n",
    "# C(foo()) -> 3 (Constant)"
   ]
  },
  {
   "cell_type": "code",
   "execution_count": 3,
   "id": "2d392156",
   "metadata": {},
   "outputs": [],
   "source": [
    "def foo(n):\n",
    "    x = 1 # 1\n",
    "    y = 2 # 2\n",
    "    z = 3 # 3\n",
    "    \n",
    "# The number of operations is completely independent on the argument\n",
    "# C(foo()) -> 3 (Constant)"
   ]
  },
  {
   "cell_type": "code",
   "execution_count": 5,
   "id": "5d1d21e3",
   "metadata": {},
   "outputs": [],
   "source": [
    "foo(5) \n",
    "foo(1000)\n",
    "foo(1000000)\n",
    "\n",
    "# Same operations no matter the value of n"
   ]
  },
  {
   "cell_type": "code",
   "execution_count": 10,
   "id": "2a2f69bc",
   "metadata": {},
   "outputs": [],
   "source": [
    "def foo(n):\n",
    "    for i in range(n):\n",
    "        print(i, end = \" \") # n operations\n",
    "        \n",
    "# The number of operations are directly dependent on n\n",
    "# C(foo()) -> n (linear)"
   ]
  },
  {
   "cell_type": "code",
   "execution_count": 11,
   "id": "cd7b2fd6",
   "metadata": {},
   "outputs": [
    {
     "name": "stdout",
     "output_type": "stream",
     "text": [
      "0 1 2 3 4 0 1 2 3 4 5 6 7 8 9 "
     ]
    }
   ],
   "source": [
    "foo(5)\n",
    "foo(10)"
   ]
  },
  {
   "cell_type": "code",
   "execution_count": 14,
   "id": "fe6bde60",
   "metadata": {},
   "outputs": [],
   "source": [
    "def foo(n):\n",
    "    x = 1 # 1\n",
    "    y = 2 # 2\n",
    "    z = 3 # 3\n",
    "    \n",
    "    for i in range(n):\n",
    "        print(i) # n \n",
    "        \n",
    "        \n",
    "# C(foo()) -> n + 3 -> n^1 + 3*n^0"
   ]
  },
  {
   "cell_type": "code",
   "execution_count": 15,
   "id": "3f0e93d4",
   "metadata": {},
   "outputs": [],
   "source": [
    "def foo(n):\n",
    "    x = 1 # 1\n",
    "    y = 2 # 2\n",
    "    z = 3 # 3\n",
    "    \n",
    "    for i in range(n):\n",
    "        print(i) # n\n",
    "        \n",
    "    for j in range(n):\n",
    "        for k in range(n):\n",
    "            print(j+k) # n^2\n",
    "            \n",
    "# C(foo()) -> n^2 + n + 3 -> n^2 + n^1 + 3*n^0\n",
    "# O(n^2)\n",
    "# Omega(n^2)"
   ]
  },
  {
   "cell_type": "code",
   "execution_count": 16,
   "id": "ea7482ea",
   "metadata": {},
   "outputs": [],
   "source": [
    "def foo(n):\n",
    "    x = 1 # 1\n",
    "    y = 2 # 2\n",
    "    z = 3 # 3\n",
    "    \n",
    "    for i in range(n):\n",
    "        print(i) # n\n",
    "    \n",
    "    if n > 10:\n",
    "        for j in range(n):\n",
    "            for k in range(n):\n",
    "                print(j+k) # n^2\n",
    "            \n",
    "# Worst Case C(foo()) -> n^2 + n + 3 -> n^2 + n^1 + 3*n^0 -> Big O\n",
    "# Best Case C(foo()) -> n + 3 -> n^1 + 3*n^0 -> Omega\n",
    "# O(n^2)\n",
    "# Omega(n)"
   ]
  },
  {
   "cell_type": "code",
   "execution_count": 18,
   "id": "cfda6c29",
   "metadata": {},
   "outputs": [],
   "source": [
    "def foo(m, n):\n",
    "    for i in m:\n",
    "        print(i)\n",
    "        \n",
    "    for j in n:\n",
    "        for k in n:\n",
    "            print(j + k)\n",
    "            \n",
    "# One variable is chosen for time complexity analysis\n",
    "# All other variables (arguments) are considered constants\n",
    "# O(m)\n",
    "# O(n^2)"
   ]
  },
  {
   "cell_type": "code",
   "execution_count": 22,
   "id": "96ffbb6e",
   "metadata": {},
   "outputs": [],
   "source": [
    "def some_logic(dp, rp1, rp2):\n",
    "    # dp -> distance between two planets\n",
    "    # rp1 -> radius of planet 1\n",
    "    # rp2 -> radius of planet 2\n",
    "    for i in dp:\n",
    "        print(i)\n",
    "        \n",
    "    for j in rp1:\n",
    "        for k in rp2:\n",
    "            print(j+k)\n",
    "\n",
    "# O(dp)"
   ]
  },
  {
   "cell_type": "code",
   "execution_count": 2,
   "id": "82d0d431",
   "metadata": {},
   "outputs": [],
   "source": [
    "def bubble_sort(a):\n",
    "    for i in range(len(a) - 1):\n",
    "        for j in range(len(a) - i - 1):\n",
    "            if a[j] > a[j+1]:\n",
    "                a[j], a[j+1] = a[j+1], a[j]\n",
    "    \n",
    "    return a"
   ]
  },
  {
   "cell_type": "code",
   "execution_count": 28,
   "id": "6339a768",
   "metadata": {},
   "outputs": [],
   "source": [
    "a = [5, 1, 2, 4, 7, 3]"
   ]
  },
  {
   "cell_type": "code",
   "execution_count": 25,
   "id": "7991929e",
   "metadata": {},
   "outputs": [
    {
     "data": {
      "text/plain": [
       "[1, 2, 3, 4, 5, 7]"
      ]
     },
     "execution_count": 25,
     "metadata": {},
     "output_type": "execute_result"
    }
   ],
   "source": [
    "bubble_sort(a)"
   ]
  },
  {
   "cell_type": "code",
   "execution_count": 29,
   "id": "bce06f5b",
   "metadata": {},
   "outputs": [],
   "source": [
    "def bubble_sort_annotated(a):\n",
    "    for i in range(len(a) - 1):\n",
    "        print(a)\n",
    "        print(\"-\"*20)\n",
    "        \n",
    "        for j in range(len(a) - i - 1):\n",
    "            if a[j] > a[j+1]:\n",
    "                a[j], a[j+1] = a[j+1], a[j]\n",
    "                \n",
    "            print(\"\\t\", a)\n",
    "    \n",
    "    return a"
   ]
  },
  {
   "cell_type": "code",
   "execution_count": 30,
   "id": "85d528c5",
   "metadata": {},
   "outputs": [
    {
     "name": "stdout",
     "output_type": "stream",
     "text": [
      "[5, 1, 2, 4, 7, 3]\n",
      "--------------------\n",
      "\t [1, 5, 2, 4, 7, 3]\n",
      "\t [1, 2, 5, 4, 7, 3]\n",
      "\t [1, 2, 4, 5, 7, 3]\n",
      "\t [1, 2, 4, 5, 7, 3]\n",
      "\t [1, 2, 4, 5, 3, 7]\n",
      "[1, 2, 4, 5, 3, 7]\n",
      "--------------------\n",
      "\t [1, 2, 4, 5, 3, 7]\n",
      "\t [1, 2, 4, 5, 3, 7]\n",
      "\t [1, 2, 4, 5, 3, 7]\n",
      "\t [1, 2, 4, 3, 5, 7]\n",
      "[1, 2, 4, 3, 5, 7]\n",
      "--------------------\n",
      "\t [1, 2, 4, 3, 5, 7]\n",
      "\t [1, 2, 4, 3, 5, 7]\n",
      "\t [1, 2, 3, 4, 5, 7]\n",
      "[1, 2, 3, 4, 5, 7]\n",
      "--------------------\n",
      "\t [1, 2, 3, 4, 5, 7]\n",
      "\t [1, 2, 3, 4, 5, 7]\n",
      "[1, 2, 3, 4, 5, 7]\n",
      "--------------------\n",
      "\t [1, 2, 3, 4, 5, 7]\n"
     ]
    },
    {
     "data": {
      "text/plain": [
       "[1, 2, 3, 4, 5, 7]"
      ]
     },
     "execution_count": 30,
     "metadata": {},
     "output_type": "execute_result"
    }
   ],
   "source": [
    "bubble_sort_annotated(a)"
   ]
  },
  {
   "cell_type": "code",
   "execution_count": 32,
   "id": "dcbe1c18",
   "metadata": {},
   "outputs": [
    {
     "name": "stdout",
     "output_type": "stream",
     "text": [
      "[1, 2, 3, 4, 5]\n",
      "--------------------\n",
      "\t [1, 2, 3, 4, 5]\n",
      "\t [1, 2, 3, 4, 5]\n",
      "\t [1, 2, 3, 4, 5]\n",
      "\t [1, 2, 3, 4, 5]\n",
      "[1, 2, 3, 4, 5]\n",
      "--------------------\n",
      "\t [1, 2, 3, 4, 5]\n",
      "\t [1, 2, 3, 4, 5]\n",
      "\t [1, 2, 3, 4, 5]\n",
      "[1, 2, 3, 4, 5]\n",
      "--------------------\n",
      "\t [1, 2, 3, 4, 5]\n",
      "\t [1, 2, 3, 4, 5]\n",
      "[1, 2, 3, 4, 5]\n",
      "--------------------\n",
      "\t [1, 2, 3, 4, 5]\n"
     ]
    },
    {
     "data": {
      "text/plain": [
       "[1, 2, 3, 4, 5]"
      ]
     },
     "execution_count": 32,
     "metadata": {},
     "output_type": "execute_result"
    }
   ],
   "source": [
    "bubble_sort_annotated([1,2,3,4,5])"
   ]
  },
  {
   "cell_type": "code",
   "execution_count": 33,
   "id": "dfa54f5b",
   "metadata": {},
   "outputs": [],
   "source": [
    "# HOMEWORK\n",
    "# Think of an optimisation to make bubble sort.\n",
    "# Omega(n)"
   ]
  },
  {
   "cell_type": "code",
   "execution_count": 7,
   "id": "94a48b00",
   "metadata": {},
   "outputs": [
    {
     "data": {
      "text/plain": [
       "'\\n4, 5, 8, 10, 15, 17, 18\\n'"
      ]
     },
     "execution_count": 7,
     "metadata": {},
     "output_type": "execute_result"
    }
   ],
   "source": [
    "def bubble_sort_optimized(a):\n",
    "    count = 0\n",
    "    \n",
    "    for i in range(len(a) - 1):\n",
    "        is_sorted = True\n",
    "        \n",
    "        for j in range(len(a) - i - 1):\n",
    "            count += 1\n",
    "            if a[j] > a[j+1]:\n",
    "                a[j], a[j+1] = a[j+1], a[j]\n",
    "                is_sorted = False\n",
    "        \n",
    "        if is_sorted:\n",
    "            break\n",
    "    \n",
    "    print(f\"Count - {count}\")\n",
    "    return a\n",
    "\n",
    "'''\n",
    "4, 5, 8, 10, 15, 17, 18\n",
    "'''"
   ]
  },
  {
   "cell_type": "code",
   "execution_count": 8,
   "id": "13c82aea",
   "metadata": {},
   "outputs": [],
   "source": [
    "def bubble_sort(a):\n",
    "    count = 0\n",
    "    for i in range(len(a) - 1):\n",
    "        for j in range(len(a) - i - 1):\n",
    "            count += 1\n",
    "            if a[j] > a[j+1]:\n",
    "                a[j], a[j+1] = a[j+1], a[j]\n",
    "    \n",
    "    print(f\"Count - {count}\")\n",
    "    return a"
   ]
  },
  {
   "cell_type": "code",
   "execution_count": 16,
   "id": "d307fab3",
   "metadata": {},
   "outputs": [],
   "source": [
    "a = [5, 1, 2, 4, 7, 3]"
   ]
  },
  {
   "cell_type": "code",
   "execution_count": 17,
   "id": "f8851b6e",
   "metadata": {},
   "outputs": [
    {
     "name": "stdout",
     "output_type": "stream",
     "text": [
      "Count - 15\n"
     ]
    },
    {
     "data": {
      "text/plain": [
       "[1, 2, 3, 4, 5, 7]"
      ]
     },
     "execution_count": 17,
     "metadata": {},
     "output_type": "execute_result"
    }
   ],
   "source": [
    "bubble_sort(a)"
   ]
  },
  {
   "cell_type": "code",
   "execution_count": 18,
   "id": "9808925d",
   "metadata": {},
   "outputs": [],
   "source": [
    "a = [5, 1, 2, 4, 7, 3]"
   ]
  },
  {
   "cell_type": "code",
   "execution_count": 19,
   "id": "30bdf599",
   "metadata": {},
   "outputs": [
    {
     "name": "stdout",
     "output_type": "stream",
     "text": [
      "Count - 14\n"
     ]
    },
    {
     "data": {
      "text/plain": [
       "[1, 2, 3, 4, 5, 7]"
      ]
     },
     "execution_count": 19,
     "metadata": {},
     "output_type": "execute_result"
    }
   ],
   "source": [
    "bubble_sort_optimized(a)"
   ]
  },
  {
   "cell_type": "code",
   "execution_count": 20,
   "id": "c2506097",
   "metadata": {},
   "outputs": [],
   "source": [
    "a = [1,2,3,4,5,6,7,8,9,10]"
   ]
  },
  {
   "cell_type": "code",
   "execution_count": 21,
   "id": "e5ff373c",
   "metadata": {},
   "outputs": [
    {
     "name": "stdout",
     "output_type": "stream",
     "text": [
      "Count - 45\n"
     ]
    },
    {
     "data": {
      "text/plain": [
       "[1, 2, 3, 4, 5, 6, 7, 8, 9, 10]"
      ]
     },
     "execution_count": 21,
     "metadata": {},
     "output_type": "execute_result"
    }
   ],
   "source": [
    "bubble_sort(a)"
   ]
  },
  {
   "cell_type": "code",
   "execution_count": 22,
   "id": "1c85ee1b",
   "metadata": {},
   "outputs": [],
   "source": [
    "a = [1,2,3,4,5,6,7,8,9,10]"
   ]
  },
  {
   "cell_type": "code",
   "execution_count": 23,
   "id": "f4b3bc57",
   "metadata": {},
   "outputs": [
    {
     "name": "stdout",
     "output_type": "stream",
     "text": [
      "Count - 9\n"
     ]
    },
    {
     "data": {
      "text/plain": [
       "[1, 2, 3, 4, 5, 6, 7, 8, 9, 10]"
      ]
     },
     "execution_count": 23,
     "metadata": {},
     "output_type": "execute_result"
    }
   ],
   "source": [
    "bubble_sort_optimized(a)"
   ]
  },
  {
   "cell_type": "code",
   "execution_count": 24,
   "id": "c80517f0",
   "metadata": {},
   "outputs": [],
   "source": [
    "board = [[\"\"]*3]*3"
   ]
  },
  {
   "cell_type": "code",
   "execution_count": 25,
   "id": "56154d03",
   "metadata": {},
   "outputs": [
    {
     "data": {
      "text/plain": [
       "[['', '', ''], ['', '', ''], ['', '', '']]"
      ]
     },
     "execution_count": 25,
     "metadata": {},
     "output_type": "execute_result"
    }
   ],
   "source": [
    "board"
   ]
  },
  {
   "cell_type": "code",
   "execution_count": 27,
   "id": "20e5d18a",
   "metadata": {},
   "outputs": [
    {
     "data": {
      "text/plain": [
       "140181846404864"
      ]
     },
     "execution_count": 27,
     "metadata": {},
     "output_type": "execute_result"
    }
   ],
   "source": [
    "id(board[1])"
   ]
  },
  {
   "cell_type": "code",
   "execution_count": 28,
   "id": "b13b26b0",
   "metadata": {},
   "outputs": [
    {
     "data": {
      "text/plain": [
       "140181846404864"
      ]
     },
     "execution_count": 28,
     "metadata": {},
     "output_type": "execute_result"
    }
   ],
   "source": [
    "id(board[0])"
   ]
  },
  {
   "cell_type": "code",
   "execution_count": 29,
   "id": "4c43a7c9",
   "metadata": {},
   "outputs": [
    {
     "data": {
      "text/plain": [
       "140181846404864"
      ]
     },
     "execution_count": 29,
     "metadata": {},
     "output_type": "execute_result"
    }
   ],
   "source": [
    "id(board[2])"
   ]
  },
  {
   "cell_type": "code",
   "execution_count": 30,
   "id": "b911bfa2",
   "metadata": {},
   "outputs": [],
   "source": [
    "a = [1,2,3]"
   ]
  },
  {
   "cell_type": "code",
   "execution_count": 31,
   "id": "6ff147c7",
   "metadata": {},
   "outputs": [],
   "source": [
    "b = a"
   ]
  },
  {
   "cell_type": "code",
   "execution_count": 32,
   "id": "8e4491b1",
   "metadata": {},
   "outputs": [],
   "source": [
    "a.append(4)"
   ]
  },
  {
   "cell_type": "code",
   "execution_count": 33,
   "id": "04e05920",
   "metadata": {},
   "outputs": [
    {
     "data": {
      "text/plain": [
       "[1, 2, 3, 4]"
      ]
     },
     "execution_count": 33,
     "metadata": {},
     "output_type": "execute_result"
    }
   ],
   "source": [
    "a"
   ]
  },
  {
   "cell_type": "code",
   "execution_count": 34,
   "id": "eec2a754",
   "metadata": {},
   "outputs": [
    {
     "data": {
      "text/plain": [
       "[1, 2, 3, 4]"
      ]
     },
     "execution_count": 34,
     "metadata": {},
     "output_type": "execute_result"
    }
   ],
   "source": [
    "b"
   ]
  },
  {
   "cell_type": "code",
   "execution_count": 35,
   "id": "fa80f9a9",
   "metadata": {},
   "outputs": [],
   "source": [
    "a = [1,2,3]"
   ]
  },
  {
   "cell_type": "code",
   "execution_count": 36,
   "id": "7b11db37",
   "metadata": {},
   "outputs": [],
   "source": [
    "b = a.copy()"
   ]
  },
  {
   "cell_type": "code",
   "execution_count": 37,
   "id": "c2c9164a",
   "metadata": {},
   "outputs": [
    {
     "data": {
      "text/plain": [
       "140181023648256"
      ]
     },
     "execution_count": 37,
     "metadata": {},
     "output_type": "execute_result"
    }
   ],
   "source": [
    "id(a)"
   ]
  },
  {
   "cell_type": "code",
   "execution_count": 38,
   "id": "918f63b8",
   "metadata": {},
   "outputs": [
    {
     "data": {
      "text/plain": [
       "140181846261120"
      ]
     },
     "execution_count": 38,
     "metadata": {},
     "output_type": "execute_result"
    }
   ],
   "source": [
    "id(b)"
   ]
  },
  {
   "cell_type": "code",
   "execution_count": null,
   "id": "e06604eb",
   "metadata": {},
   "outputs": [],
   "source": []
  }
 ],
 "metadata": {
  "kernelspec": {
   "display_name": "Python 3 (ipykernel)",
   "language": "python",
   "name": "python3"
  },
  "language_info": {
   "codemirror_mode": {
    "name": "ipython",
    "version": 3
   },
   "file_extension": ".py",
   "mimetype": "text/x-python",
   "name": "python",
   "nbconvert_exporter": "python",
   "pygments_lexer": "ipython3",
   "version": "3.9.5"
  }
 },
 "nbformat": 4,
 "nbformat_minor": 5
}
