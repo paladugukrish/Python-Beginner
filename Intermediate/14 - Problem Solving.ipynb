{
 "cells": [
  {
   "cell_type": "code",
   "execution_count": 3,
   "id": "dfd284a8",
   "metadata": {},
   "outputs": [],
   "source": [
    "ids = [\"Sam@gmail.com\", \"Ram@gmail.com\", \"Sam@gmail.com\", \"samJohnson@iit.com\", \"SAM@harvard.com\"]\n",
    "\n",
    "name = \"sam\""
   ]
  },
  {
   "cell_type": "code",
   "execution_count": 4,
   "id": "569a4e06",
   "metadata": {},
   "outputs": [
    {
     "data": {
      "text/plain": [
       "['samJohnson@iit.com', 'SAM@harvard.com']"
      ]
     },
     "execution_count": 4,
     "metadata": {},
     "output_type": "execute_result"
    }
   ],
   "source": [
    "result = list(filter(lambda x: name.lower() in x or name.upper() in x, ids))\n",
    "result"
   ]
  },
  {
   "cell_type": "code",
   "execution_count": 7,
   "id": "654d7291",
   "metadata": {},
   "outputs": [
    {
     "data": {
      "text/plain": [
       "['samJohnson@iit.com']"
      ]
     },
     "execution_count": 7,
     "metadata": {},
     "output_type": "execute_result"
    }
   ],
   "source": [
    "result = list(filter(lambda x: (name.lower() or name.upper()) in x, ids))\n",
    "result"
   ]
  },
  {
   "cell_type": "code",
   "execution_count": 8,
   "id": "397ba5be",
   "metadata": {},
   "outputs": [],
   "source": [
    "# Correct\n",
    "result = list(filter(lambda x: name in x.lower(), ids))"
   ]
  },
  {
   "cell_type": "code",
   "execution_count": 9,
   "id": "6cb112ce",
   "metadata": {},
   "outputs": [
    {
     "data": {
      "text/plain": [
       "['Sam@gmail.com', 'Sam@gmail.com', 'samJohnson@iit.com', 'SAM@harvard.com']"
      ]
     },
     "execution_count": 9,
     "metadata": {},
     "output_type": "execute_result"
    }
   ],
   "source": [
    "result"
   ]
  },
  {
   "cell_type": "code",
   "execution_count": 10,
   "id": "48bb6cd0",
   "metadata": {},
   "outputs": [
    {
     "ename": "SyntaxError",
     "evalue": "invalid syntax (3547734752.py, line 1)",
     "output_type": "error",
     "traceback": [
      "\u001b[0;36m  File \u001b[0;32m\"/var/folders/nn/c52y0d3j0gq59dpsswchkt2r0000gn/T/ipykernel_11996/3547734752.py\"\u001b[0;36m, line \u001b[0;32m1\u001b[0m\n\u001b[0;31m    type(def)\u001b[0m\n\u001b[0m         ^\u001b[0m\n\u001b[0;31mSyntaxError\u001b[0m\u001b[0;31m:\u001b[0m invalid syntax\n"
     ]
    }
   ],
   "source": [
    "type(def)"
   ]
  },
  {
   "cell_type": "code",
   "execution_count": 12,
   "id": "6dab58f1",
   "metadata": {},
   "outputs": [
    {
     "ename": "SyntaxError",
     "evalue": "invalid syntax (2332009412.py, line 1)",
     "output_type": "error",
     "traceback": [
      "\u001b[0;36m  File \u001b[0;32m\"/var/folders/nn/c52y0d3j0gq59dpsswchkt2r0000gn/T/ipykernel_11996/2332009412.py\"\u001b[0;36m, line \u001b[0;32m1\u001b[0m\n\u001b[0;31m    type(class)\u001b[0m\n\u001b[0m         ^\u001b[0m\n\u001b[0;31mSyntaxError\u001b[0m\u001b[0;31m:\u001b[0m invalid syntax\n"
     ]
    }
   ],
   "source": [
    "type(class)"
   ]
  },
  {
   "cell_type": "code",
   "execution_count": 13,
   "id": "9e2ee18b",
   "metadata": {},
   "outputs": [
    {
     "ename": "SyntaxError",
     "evalue": "invalid syntax (343065240.py, line 1)",
     "output_type": "error",
     "traceback": [
      "\u001b[0;36m  File \u001b[0;32m\"/var/folders/nn/c52y0d3j0gq59dpsswchkt2r0000gn/T/ipykernel_11996/343065240.py\"\u001b[0;36m, line \u001b[0;32m1\u001b[0m\n\u001b[0;31m    type(if)\u001b[0m\n\u001b[0m         ^\u001b[0m\n\u001b[0;31mSyntaxError\u001b[0m\u001b[0;31m:\u001b[0m invalid syntax\n"
     ]
    }
   ],
   "source": [
    "type(if)"
   ]
  },
  {
   "cell_type": "code",
   "execution_count": 14,
   "id": "ae0dd7f2",
   "metadata": {},
   "outputs": [
    {
     "ename": "SyntaxError",
     "evalue": "invalid syntax (3453837779.py, line 1)",
     "output_type": "error",
     "traceback": [
      "\u001b[0;36m  File \u001b[0;32m\"/var/folders/nn/c52y0d3j0gq59dpsswchkt2r0000gn/T/ipykernel_11996/3453837779.py\"\u001b[0;36m, line \u001b[0;32m1\u001b[0m\n\u001b[0;31m    type(else)\u001b[0m\n\u001b[0m         ^\u001b[0m\n\u001b[0;31mSyntaxError\u001b[0m\u001b[0;31m:\u001b[0m invalid syntax\n"
     ]
    }
   ],
   "source": [
    "type(else)"
   ]
  },
  {
   "cell_type": "code",
   "execution_count": 15,
   "id": "7f3cead0",
   "metadata": {},
   "outputs": [
    {
     "ename": "SyntaxError",
     "evalue": "invalid syntax (2652494113.py, line 1)",
     "output_type": "error",
     "traceback": [
      "\u001b[0;36m  File \u001b[0;32m\"/var/folders/nn/c52y0d3j0gq59dpsswchkt2r0000gn/T/ipykernel_11996/2652494113.py\"\u001b[0;36m, line \u001b[0;32m1\u001b[0m\n\u001b[0;31m    type(try)\u001b[0m\n\u001b[0m         ^\u001b[0m\n\u001b[0;31mSyntaxError\u001b[0m\u001b[0;31m:\u001b[0m invalid syntax\n"
     ]
    }
   ],
   "source": [
    "type(try)"
   ]
  },
  {
   "cell_type": "code",
   "execution_count": 16,
   "id": "60e423aa",
   "metadata": {},
   "outputs": [
    {
     "data": {
      "text/plain": [
       "type"
      ]
     },
     "execution_count": 16,
     "metadata": {},
     "output_type": "execute_result"
    }
   ],
   "source": [
    "type(type)"
   ]
  },
  {
   "cell_type": "code",
   "execution_count": 17,
   "id": "00052899",
   "metadata": {},
   "outputs": [
    {
     "data": {
      "text/plain": [
       "'bipin.kalra@scaler.com'"
      ]
     },
     "execution_count": 17,
     "metadata": {},
     "output_type": "execute_result"
    }
   ],
   "source": [
    "\"bipin.kalra@scaler.com\""
   ]
  },
  {
   "cell_type": "code",
   "execution_count": 18,
   "id": "730043f4",
   "metadata": {},
   "outputs": [],
   "source": [
    "components = \"bipin.kalra@scaler.com\".split(\"@\")"
   ]
  },
  {
   "cell_type": "code",
   "execution_count": 19,
   "id": "4a74f47a",
   "metadata": {},
   "outputs": [
    {
     "data": {
      "text/plain": [
       "['bipin.kalra', 'scaler.com']"
      ]
     },
     "execution_count": 19,
     "metadata": {},
     "output_type": "execute_result"
    }
   ],
   "source": [
    "components"
   ]
  },
  {
   "cell_type": "code",
   "execution_count": 20,
   "id": "d251c036",
   "metadata": {},
   "outputs": [
    {
     "data": {
      "text/plain": [
       "True"
      ]
     },
     "execution_count": 20,
     "metadata": {},
     "output_type": "execute_result"
    }
   ],
   "source": [
    "len(components) == 2"
   ]
  },
  {
   "cell_type": "code",
   "execution_count": 24,
   "id": "f515f13e",
   "metadata": {},
   "outputs": [],
   "source": [
    "names = [\"A\", \"B\", \"C\", \"D\"]\n",
    "grades = [1,2,3,4,5,6,6]"
   ]
  },
  {
   "cell_type": "code",
   "execution_count": 25,
   "id": "36c5f7c0",
   "metadata": {},
   "outputs": [],
   "source": [
    "data = list(zip(names, grades)) "
   ]
  },
  {
   "cell_type": "code",
   "execution_count": 26,
   "id": "2896c76e",
   "metadata": {},
   "outputs": [
    {
     "data": {
      "text/plain": [
       "[('A', 1), ('B', 2), ('C', 3), ('D', 4)]"
      ]
     },
     "execution_count": 26,
     "metadata": {},
     "output_type": "execute_result"
    }
   ],
   "source": [
    "data"
   ]
  },
  {
   "cell_type": "code",
   "execution_count": 27,
   "id": "acc01df8",
   "metadata": {},
   "outputs": [],
   "source": [
    "list1 = [[1,2,3],[4,5,6],[7,8,9]]\n",
    "list2 = [[9,8,7],[6,5,4],[3,2,1]]\n",
    "ls11,ls12,ls13=list1\n",
    "ls21,ls22,ls23=list2"
   ]
  },
  {
   "cell_type": "code",
   "execution_count": 34,
   "id": "a52e5934",
   "metadata": {},
   "outputs": [
    {
     "data": {
      "text/plain": [
       "[3, 2, 1]"
      ]
     },
     "execution_count": 34,
     "metadata": {},
     "output_type": "execute_result"
    }
   ],
   "source": [
    "ls23"
   ]
  },
  {
   "cell_type": "code",
   "execution_count": 35,
   "id": "d0363717",
   "metadata": {},
   "outputs": [
    {
     "data": {
      "text/plain": [
       "[(1, 4, 7, 9, 6, 3), (2, 5, 8, 8, 5, 2), (3, 6, 9, 7, 4, 1)]"
      ]
     },
     "execution_count": 35,
     "metadata": {},
     "output_type": "execute_result"
    }
   ],
   "source": [
    "list(zip(ls11, ls12, ls13, ls21, ls22, ls23))"
   ]
  },
  {
   "cell_type": "code",
   "execution_count": 37,
   "id": "711d3bbc",
   "metadata": {},
   "outputs": [
    {
     "name": "stdout",
     "output_type": "stream",
     "text": [
      "[['a', 'b', 'c'], ['c', 'd', 'e'], ['d', 'e', 'f']]\n"
     ]
    }
   ],
   "source": [
    "sentence = \"abc cde def\"\n",
    "\n",
    "result = list(map(lambda x: list(x), sentence.split(\" \")))\n",
    "\n",
    "print(result)\n",
    "\n",
    "# [[\"a\", \"b\", \"c\"], [\"c\", \"d\", \"d\"], [\"d\", \"e\", \"f\"]]"
   ]
  },
  {
   "cell_type": "code",
   "execution_count": 38,
   "id": "039c1177",
   "metadata": {},
   "outputs": [
    {
     "data": {
      "text/plain": [
       "['abc', 'cde', 'def']"
      ]
     },
     "execution_count": 38,
     "metadata": {},
     "output_type": "execute_result"
    }
   ],
   "source": [
    "sentence.split(\" \")"
   ]
  },
  {
   "cell_type": "code",
   "execution_count": 39,
   "id": "5ab4446d",
   "metadata": {},
   "outputs": [
    {
     "data": {
      "text/plain": [
       "['a', 'b', 'c']"
      ]
     },
     "execution_count": 39,
     "metadata": {},
     "output_type": "execute_result"
    }
   ],
   "source": [
    "x = \"abc\"\n",
    "list(x)"
   ]
  },
  {
   "cell_type": "code",
   "execution_count": 43,
   "id": "69cbc405",
   "metadata": {},
   "outputs": [],
   "source": [
    "a = [\"random\", \"ama\", \"rama\", \"something\", \"aaaaa\", \"aaa\"]"
   ]
  },
  {
   "cell_type": "code",
   "execution_count": 44,
   "id": "ef380b9f",
   "metadata": {},
   "outputs": [
    {
     "data": {
      "text/plain": [
       "['aaa', 'aaaaa', 'ama', 'rama', 'random', 'something']"
      ]
     },
     "execution_count": 44,
     "metadata": {},
     "output_type": "execute_result"
    }
   ],
   "source": [
    "sorted(a)"
   ]
  },
  {
   "cell_type": "code",
   "execution_count": 45,
   "id": "a60ab959",
   "metadata": {},
   "outputs": [
    {
     "data": {
      "text/plain": [
       "['something', 'random', 'ama', 'rama', 'aaa', 'aaaaa']"
      ]
     },
     "execution_count": 45,
     "metadata": {},
     "output_type": "execute_result"
    }
   ],
   "source": [
    "sorted(a, key = lambda x: x.count(\"a\"))"
   ]
  },
  {
   "cell_type": "code",
   "execution_count": 49,
   "id": "854eebdc",
   "metadata": {},
   "outputs": [],
   "source": [
    "a = [\"random\", \"ama\", \"rama\", \"something\", \"aaaaa\", \"aaa\"]"
   ]
  },
  {
   "cell_type": "code",
   "execution_count": null,
   "id": "b319b315",
   "metadata": {},
   "outputs": [],
   "source": [
    "sorted(a)"
   ]
  },
  {
   "cell_type": "code",
   "execution_count": 54,
   "id": "0f6898b2",
   "metadata": {},
   "outputs": [
    {
     "data": {
      "text/plain": [
       "['aaa', 'ama', 'rama', 'aaaaa', 'random', 'something']"
      ]
     },
     "execution_count": 54,
     "metadata": {},
     "output_type": "execute_result"
    }
   ],
   "source": [
    "sorted(sorted(a), key = lambda x: len(x))"
   ]
  },
  {
   "cell_type": "code",
   "execution_count": null,
   "id": "9d688347",
   "metadata": {},
   "outputs": [],
   "source": []
  },
  {
   "cell_type": "code",
   "execution_count": null,
   "id": "fa5b2988",
   "metadata": {},
   "outputs": [],
   "source": []
  }
 ],
 "metadata": {
  "kernelspec": {
   "display_name": "Python 3 (ipykernel)",
   "language": "python",
   "name": "python3"
  },
  "language_info": {
   "codemirror_mode": {
    "name": "ipython",
    "version": 3
   },
   "file_extension": ".py",
   "mimetype": "text/x-python",
   "name": "python",
   "nbconvert_exporter": "python",
   "pygments_lexer": "ipython3",
   "version": "3.9.5"
  }
 },
 "nbformat": 4,
 "nbformat_minor": 5
}
