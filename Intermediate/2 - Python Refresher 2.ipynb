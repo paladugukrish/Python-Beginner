{
 "cells": [
  {
   "cell_type": "code",
   "execution_count": 1,
   "id": "02c3d64a",
   "metadata": {},
   "outputs": [
    {
     "data": {
      "text/plain": [
       "'\\nQuestion 1 -\\n1. Given a list a = [1,2,3,4,5]\\n2. How would create a list of squares of all these elements.\\n\\nExample ->\\na = [2,4,8]\\nsq_a = [4,16,64]\\n'"
      ]
     },
     "execution_count": 1,
     "metadata": {},
     "output_type": "execute_result"
    }
   ],
   "source": [
    "'''\n",
    "Question 1 -\n",
    "1. Given a list a = [1,2,3,4,5]\n",
    "2. How would create a list of squares of all these elements.\n",
    "\n",
    "Example ->\n",
    "a = [2,4,8]\n",
    "sq_a = [4,16,64]\n",
    "'''"
   ]
  },
  {
   "cell_type": "code",
   "execution_count": 2,
   "id": "2c3b0781",
   "metadata": {},
   "outputs": [],
   "source": [
    "a = [1,2,3,4,5]"
   ]
  },
  {
   "cell_type": "code",
   "execution_count": 3,
   "id": "4bbbf902",
   "metadata": {},
   "outputs": [],
   "source": [
    "result = []\n",
    "\n",
    "for i in a:\n",
    "    result.append(i**2)"
   ]
  },
  {
   "cell_type": "code",
   "execution_count": 4,
   "id": "1189a299",
   "metadata": {},
   "outputs": [
    {
     "data": {
      "text/plain": [
       "[1, 4, 9, 16, 25]"
      ]
     },
     "execution_count": 4,
     "metadata": {},
     "output_type": "execute_result"
    }
   ],
   "source": [
    "result"
   ]
  },
  {
   "cell_type": "code",
   "execution_count": 5,
   "id": "4cb3a8d9",
   "metadata": {},
   "outputs": [
    {
     "data": {
      "text/plain": [
       "[1, 4, 9, 16, 25]"
      ]
     },
     "execution_count": 5,
     "metadata": {},
     "output_type": "execute_result"
    }
   ],
   "source": [
    "[ i**2 for i in a ]"
   ]
  },
  {
   "cell_type": "code",
   "execution_count": 6,
   "id": "0e2874f6",
   "metadata": {},
   "outputs": [
    {
     "data": {
      "text/plain": [
       "'\\nQuestion 2 - \\nYou are given a list of heights in centimeters. You have to map heights to sizes.\\nNow,\\nh < 150 -> S\\nh >= 150 and h < 180 -> M\\nh >= 180 -> L\\n\\nExample ->\\nINPUT = [140,160,170,190]\\nOutput = [S, M, M, L]\\n'"
      ]
     },
     "execution_count": 6,
     "metadata": {},
     "output_type": "execute_result"
    }
   ],
   "source": [
    "'''\n",
    "Question 2 - \n",
    "You are given a list of heights in centimeters. You have to map heights to sizes.\n",
    "Now,\n",
    "h < 150 -> S\n",
    "h >= 150 and h < 180 -> M\n",
    "h >= 180 -> L\n",
    "\n",
    "Example ->\n",
    "INPUT = [140,160,170,190]\n",
    "Output = [S, M, M, L]\n",
    "'''"
   ]
  },
  {
   "cell_type": "code",
   "execution_count": 7,
   "id": "47853a0c",
   "metadata": {},
   "outputs": [],
   "source": [
    "a = [140, 160, 170, 190]"
   ]
  },
  {
   "cell_type": "code",
   "execution_count": 9,
   "id": "282d5c09",
   "metadata": {},
   "outputs": [],
   "source": [
    "def sizing_logic(x):\n",
    "    if x < 150:\n",
    "        return \"S\"\n",
    "    elif x >= 150 and x < 180:\n",
    "        return \"M\"\n",
    "    else:\n",
    "        return \"L\""
   ]
  },
  {
   "cell_type": "code",
   "execution_count": 10,
   "id": "56b1b748",
   "metadata": {},
   "outputs": [
    {
     "data": {
      "text/plain": [
       "['S', 'M', 'M', 'L']"
      ]
     },
     "execution_count": 10,
     "metadata": {},
     "output_type": "execute_result"
    }
   ],
   "source": [
    "[ sizing_logic(i) for i in a ]"
   ]
  },
  {
   "cell_type": "code",
   "execution_count": 12,
   "id": "4bc9fcee",
   "metadata": {},
   "outputs": [],
   "source": [
    "x = 40"
   ]
  },
  {
   "cell_type": "code",
   "execution_count": 13,
   "id": "4bd705c0",
   "metadata": {
    "scrolled": true
   },
   "outputs": [
    {
     "data": {
      "text/plain": [
       "'S'"
      ]
     },
     "execution_count": 13,
     "metadata": {},
     "output_type": "execute_result"
    }
   ],
   "source": [
    "\"S\" if x < 150 else \"M\" if x >= 150 and x < 180 else \"L\""
   ]
  },
  {
   "cell_type": "code",
   "execution_count": 14,
   "id": "da3e47a1",
   "metadata": {},
   "outputs": [
    {
     "data": {
      "text/plain": [
       "['S', 'M', 'M', 'L']"
      ]
     },
     "execution_count": 14,
     "metadata": {},
     "output_type": "execute_result"
    }
   ],
   "source": [
    "[ \"S\" if x < 150 else \"M\" if x >= 150 and x < 180 else \"L\" for x in a]"
   ]
  },
  {
   "cell_type": "code",
   "execution_count": 15,
   "id": "e4699a15",
   "metadata": {},
   "outputs": [
    {
     "data": {
      "text/plain": [
       "'\\nQuestion 3 - \\nPrint the multiplication table of all numbers from 1 to 10 using a single line of python.\\n\\n1 2 3 4 5 6 7 8 9 10\\n2 4 6 8 10 12 14 16 18 20\\n.\\n.\\n.\\n10 20 30 40 50 60 70 80 90 100\\n'"
      ]
     },
     "execution_count": 15,
     "metadata": {},
     "output_type": "execute_result"
    }
   ],
   "source": [
    "'''\n",
    "Question 3 - \n",
    "Print the multiplication table of all numbers from 1 to 10 using a single line of python.\n",
    "\n",
    "1 2 3 4 5 6 7 8 9 10\n",
    "2 4 6 8 10 12 14 16 18 20\n",
    ".\n",
    ".\n",
    ".\n",
    "10 20 30 40 50 60 70 80 90 100\n",
    "'''"
   ]
  },
  {
   "cell_type": "code",
   "execution_count": 20,
   "id": "79f93366",
   "metadata": {},
   "outputs": [
    {
     "data": {
      "text/plain": [
       "[[1, 2, 3, 4, 5, 6, 7, 8, 9, 10],\n",
       " [2, 4, 6, 8, 10, 12, 14, 16, 18, 20],\n",
       " [3, 6, 9, 12, 15, 18, 21, 24, 27, 30],\n",
       " [4, 8, 12, 16, 20, 24, 28, 32, 36, 40],\n",
       " [5, 10, 15, 20, 25, 30, 35, 40, 45, 50],\n",
       " [6, 12, 18, 24, 30, 36, 42, 48, 54, 60],\n",
       " [7, 14, 21, 28, 35, 42, 49, 56, 63, 70],\n",
       " [8, 16, 24, 32, 40, 48, 56, 64, 72, 80],\n",
       " [9, 18, 27, 36, 45, 54, 63, 72, 81, 90],\n",
       " [10, 20, 30, 40, 50, 60, 70, 80, 90, 100]]"
      ]
     },
     "execution_count": 20,
     "metadata": {},
     "output_type": "execute_result"
    }
   ],
   "source": [
    "[ [ i*j for j in range(1,11) ] for i in range(1,11) ]"
   ]
  },
  {
   "cell_type": "code",
   "execution_count": 45,
   "id": "ba46e1bf",
   "metadata": {
    "scrolled": true
   },
   "outputs": [
    {
     "data": {
      "text/plain": [
       "[('A', 'C'), ('B', 'C'), ('A', 'D'), ('B', 'D')]"
      ]
     },
     "execution_count": 45,
     "metadata": {},
     "output_type": "execute_result"
    }
   ],
   "source": [
    "a = [\"A\", \"B\"]\n",
    "b = [\"C\", \"D\"]\n",
    "\n",
    "[ (i, j) for j in b for i in a ] # outer loop to inner loop from left to right"
   ]
  },
  {
   "cell_type": "code",
   "execution_count": 46,
   "id": "d078565e",
   "metadata": {
    "scrolled": true
   },
   "outputs": [
    {
     "name": "stdout",
     "output_type": "stream",
     "text": [
      "('A', 'C') ('A', 'D') ('B', 'C') ('B', 'D') "
     ]
    }
   ],
   "source": [
    "for i in a:\n",
    "    for j in b:\n",
    "        print((i, j), end = \" \")"
   ]
  },
  {
   "cell_type": "code",
   "execution_count": 23,
   "id": "be9c7c43",
   "metadata": {
    "scrolled": true
   },
   "outputs": [
    {
     "name": "stdout",
     "output_type": "stream",
     "text": [
      "('A', 'C') ('B', 'C') ('A', 'D') ('B', 'D') "
     ]
    }
   ],
   "source": [
    "for j in b:\n",
    "    for i in a:\n",
    "        print((i, j), end = \" \")"
   ]
  },
  {
   "cell_type": "code",
   "execution_count": 25,
   "id": "89570ffb",
   "metadata": {},
   "outputs": [],
   "source": [
    "# [ for i in a for j in b for k in c..... ]"
   ]
  },
  {
   "cell_type": "code",
   "execution_count": 26,
   "id": "75798626",
   "metadata": {},
   "outputs": [],
   "source": [
    "s = { i for i in [1,2,3,4,5] }"
   ]
  },
  {
   "cell_type": "code",
   "execution_count": 27,
   "id": "8ba51e70",
   "metadata": {},
   "outputs": [
    {
     "data": {
      "text/plain": [
       "{1, 2, 3, 4, 5}"
      ]
     },
     "execution_count": 27,
     "metadata": {},
     "output_type": "execute_result"
    }
   ],
   "source": [
    "s"
   ]
  },
  {
   "cell_type": "code",
   "execution_count": 28,
   "id": "fa6522ac",
   "metadata": {},
   "outputs": [],
   "source": [
    "d = { i:i**2 for i in [1,2,3,4,5] }"
   ]
  },
  {
   "cell_type": "code",
   "execution_count": 29,
   "id": "8ecf72d5",
   "metadata": {},
   "outputs": [
    {
     "data": {
      "text/plain": [
       "{1: 1, 2: 4, 3: 9, 4: 16, 5: 25}"
      ]
     },
     "execution_count": 29,
     "metadata": {},
     "output_type": "execute_result"
    }
   ],
   "source": [
    "d"
   ]
  },
  {
   "cell_type": "code",
   "execution_count": 30,
   "id": "dabe1dd5",
   "metadata": {},
   "outputs": [],
   "source": [
    "d1 = { f\"key {i}\":i for i in [1,2,3,4,5] }"
   ]
  },
  {
   "cell_type": "code",
   "execution_count": 31,
   "id": "cf84dded",
   "metadata": {},
   "outputs": [
    {
     "data": {
      "text/plain": [
       "{'key 1': 1, 'key 2': 2, 'key 3': 3, 'key 4': 4, 'key 5': 5}"
      ]
     },
     "execution_count": 31,
     "metadata": {},
     "output_type": "execute_result"
    }
   ],
   "source": [
    "d1"
   ]
  },
  {
   "cell_type": "code",
   "execution_count": 32,
   "id": "9549f7c2",
   "metadata": {},
   "outputs": [],
   "source": [
    "t = ( i for i in [1,2,3,4,5] )"
   ]
  },
  {
   "cell_type": "code",
   "execution_count": 34,
   "id": "88ac6ad1",
   "metadata": {},
   "outputs": [
    {
     "data": {
      "text/plain": [
       "<generator object <genexpr> at 0x7f8bd0453e40>"
      ]
     },
     "execution_count": 34,
     "metadata": {},
     "output_type": "execute_result"
    }
   ],
   "source": [
    "t # bizarre output!"
   ]
  },
  {
   "cell_type": "code",
   "execution_count": 35,
   "id": "57768423",
   "metadata": {},
   "outputs": [],
   "source": [
    "s1 = \"x for x in range(1,10)\""
   ]
  },
  {
   "cell_type": "code",
   "execution_count": 36,
   "id": "93e60a49",
   "metadata": {},
   "outputs": [
    {
     "data": {
      "text/plain": [
       "'x for x in range(1,10)'"
      ]
     },
     "execution_count": 36,
     "metadata": {},
     "output_type": "execute_result"
    }
   ],
   "source": [
    "s1"
   ]
  },
  {
   "cell_type": "code",
   "execution_count": 41,
   "id": "a53e12d3",
   "metadata": {},
   "outputs": [
    {
     "data": {
      "text/plain": [
       "'1 2 3 4 5 6 7 8 9 10'"
      ]
     },
     "execution_count": 41,
     "metadata": {},
     "output_type": "execute_result"
    }
   ],
   "source": [
    "\" \".join([ str(i) for i in range(1,11) ])"
   ]
  },
  {
   "cell_type": "code",
   "execution_count": null,
   "id": "e4bb593b",
   "metadata": {},
   "outputs": [],
   "source": []
  }
 ],
 "metadata": {
  "kernelspec": {
   "display_name": "Python 3 (ipykernel)",
   "language": "python",
   "name": "python3"
  },
  "language_info": {
   "codemirror_mode": {
    "name": "ipython",
    "version": 3
   },
   "file_extension": ".py",
   "mimetype": "text/x-python",
   "name": "python",
   "nbconvert_exporter": "python",
   "pygments_lexer": "ipython3",
   "version": "3.9.5"
  }
 },
 "nbformat": 4,
 "nbformat_minor": 5
}
