{
 "cells": [
  {
   "cell_type": "code",
   "execution_count": 1,
   "id": "4d38313a",
   "metadata": {},
   "outputs": [],
   "source": [
    "def factorial(n):\n",
    "    if n < 0:\n",
    "        return \"Factorial not defined negative numbers.\"\n",
    "    \n",
    "    if n == 1 or n == 0:\n",
    "        return 1\n",
    "    \n",
    "    return n * factorial(n-1)"
   ]
  },
  {
   "cell_type": "code",
   "execution_count": 2,
   "id": "df0a1c03",
   "metadata": {},
   "outputs": [
    {
     "data": {
      "text/plain": [
       "120"
      ]
     },
     "execution_count": 2,
     "metadata": {},
     "output_type": "execute_result"
    }
   ],
   "source": [
    "factorial(5)"
   ]
  },
  {
   "cell_type": "code",
   "execution_count": 3,
   "id": "c138b31d",
   "metadata": {},
   "outputs": [
    {
     "data": {
      "text/plain": [
       "720"
      ]
     },
     "execution_count": 3,
     "metadata": {},
     "output_type": "execute_result"
    }
   ],
   "source": [
    "factorial(6)"
   ]
  },
  {
   "cell_type": "code",
   "execution_count": 4,
   "id": "a7af66d8",
   "metadata": {},
   "outputs": [
    {
     "data": {
      "text/plain": [
       "'Factorial not defined negative numbers.'"
      ]
     },
     "execution_count": 4,
     "metadata": {},
     "output_type": "execute_result"
    }
   ],
   "source": [
    "factorial(-5)"
   ]
  },
  {
   "cell_type": "code",
   "execution_count": 5,
   "id": "72345819",
   "metadata": {},
   "outputs": [
    {
     "data": {
      "text/plain": [
       "1"
      ]
     },
     "execution_count": 5,
     "metadata": {},
     "output_type": "execute_result"
    }
   ],
   "source": [
    "factorial(0)"
   ]
  },
  {
   "cell_type": "code",
   "execution_count": 6,
   "id": "7e046096",
   "metadata": {},
   "outputs": [
    {
     "data": {
      "text/plain": [
       "'\\nQuestion 1 - \\nGiven two sorted lists. Write down a function to merge those lists.\\nThe result should also be sorted.\\n\\nExample - \\nINPUT - \\nA = [1,4,5]\\nB = [2,6]\\n\\nResult = [1,2,4,5,6]\\n'"
      ]
     },
     "execution_count": 6,
     "metadata": {},
     "output_type": "execute_result"
    }
   ],
   "source": [
    "'''\n",
    "Question 1 - \n",
    "Given two sorted lists. Write down a function to merge those lists.\n",
    "The result should also be sorted.\n",
    "\n",
    "Example - \n",
    "INPUT - \n",
    "A = [1,4,5]\n",
    "B = [2,6]\n",
    "\n",
    "Result = [1,2,4,5,6]\n",
    "'''"
   ]
  },
  {
   "cell_type": "code",
   "execution_count": 7,
   "id": "dd8b98f9",
   "metadata": {},
   "outputs": [],
   "source": [
    "def merge_two_lists(a, b):\n",
    "    i, j = 0, 0\n",
    "    result = []\n",
    "    \n",
    "    while i < len(a) and j < len(b):\n",
    "        if a[i] <= b[j]:\n",
    "            result.append(a[i])\n",
    "            i += 1\n",
    "        else:\n",
    "            result.append(b[j])\n",
    "            j += 1\n",
    "            \n",
    "    if i < len(a):\n",
    "        result += a[i:]\n",
    "    elif j < len(b):\n",
    "        result += b[j:]\n",
    "        \n",
    "    return result"
   ]
  },
  {
   "cell_type": "code",
   "execution_count": 9,
   "id": "8d01545e",
   "metadata": {},
   "outputs": [],
   "source": [
    "def merge_sort(a):\n",
    "    # BASE CONDITION\n",
    "    if len(a) <= 1:\n",
    "        return a\n",
    "    \n",
    "    # RECURSIVE PART\n",
    "    n = len(a)\n",
    "    \n",
    "    left = merge_sort(a[:n//2])\n",
    "    right = merge_sort(a[n//2:])\n",
    "    \n",
    "    # MERGING PART\n",
    "    i, j = 0, 0\n",
    "    \n",
    "    result = []\n",
    "    \n",
    "    while i < len(left) and j < len(right):\n",
    "        if left[i] <= right[j]:\n",
    "            result.append(left[i])\n",
    "            i += 1\n",
    "        else:\n",
    "            result.append(right[j])\n",
    "            j += 1\n",
    "    \n",
    "    if i < len(left):\n",
    "        result += left[i:]\n",
    "    elif j < len(right):\n",
    "        result += right[j:]\n",
    "        \n",
    "    return result"
   ]
  },
  {
   "cell_type": "code",
   "execution_count": 10,
   "id": "18a96ce7",
   "metadata": {},
   "outputs": [],
   "source": [
    "a = [4,5,1,3,9,0,8,7,2]"
   ]
  },
  {
   "cell_type": "code",
   "execution_count": 11,
   "id": "ad9786da",
   "metadata": {},
   "outputs": [
    {
     "data": {
      "text/plain": [
       "[0, 1, 2, 3, 4, 5, 7, 8, 9]"
      ]
     },
     "execution_count": 11,
     "metadata": {},
     "output_type": "execute_result"
    }
   ],
   "source": [
    "merge_sort(a)"
   ]
  },
  {
   "cell_type": "code",
   "execution_count": 22,
   "id": "8f2c7e20",
   "metadata": {},
   "outputs": [],
   "source": [
    "def merge_sort_annotated(a):\n",
    "    # BASE CONDITION\n",
    "    if len(a) <= 1:\n",
    "        return a\n",
    "    \n",
    "    # RECURSIVE PART\n",
    "    n = len(a)\n",
    "    \n",
    "    left = merge_sort_annotated(a[:n//2])\n",
    "    right = merge_sort_annotated(a[n//2:])\n",
    "    \n",
    "    # PRINTING PART\n",
    "    print(\"Left - \", left)\n",
    "    print(\"Right - \", right)\n",
    "    print(\"-\"*20)\n",
    "    \n",
    "    # MERGING PART\n",
    "    i, j = 0, 0\n",
    "    \n",
    "    result = []\n",
    "    \n",
    "    while i < len(left) and j < len(right):\n",
    "        if left[i] <= right[j]:\n",
    "            result.append(left[i])\n",
    "            i += 1\n",
    "        else:\n",
    "            result.append(right[j])\n",
    "            j += 1\n",
    "    \n",
    "    if i < len(left):\n",
    "        result += left[i:]\n",
    "    elif j < len(right):\n",
    "        result += right[j:]\n",
    "        \n",
    "    return result"
   ]
  },
  {
   "cell_type": "code",
   "execution_count": 23,
   "id": "29bf5fa3",
   "metadata": {},
   "outputs": [],
   "source": [
    "a = [4,5,1,3,9,0,8,7,2]"
   ]
  },
  {
   "cell_type": "code",
   "execution_count": 24,
   "id": "311157ff",
   "metadata": {},
   "outputs": [
    {
     "name": "stdout",
     "output_type": "stream",
     "text": [
      "Left -  [4]\n",
      "Right -  [5]\n",
      "--------------------\n",
      "Left -  [1]\n",
      "Right -  [3]\n",
      "--------------------\n",
      "Left -  [4, 5]\n",
      "Right -  [1, 3]\n",
      "--------------------\n",
      "Left -  [9]\n",
      "Right -  [0]\n",
      "--------------------\n",
      "Left -  [7]\n",
      "Right -  [2]\n",
      "--------------------\n",
      "Left -  [8]\n",
      "Right -  [2, 7]\n",
      "--------------------\n",
      "Left -  [0, 9]\n",
      "Right -  [2, 7, 8]\n",
      "--------------------\n",
      "Left -  [1, 3, 4, 5]\n",
      "Right -  [0, 2, 7, 8, 9]\n",
      "--------------------\n"
     ]
    },
    {
     "data": {
      "text/plain": [
       "[0, 1, 2, 3, 4, 5, 7, 8, 9]"
      ]
     },
     "execution_count": 24,
     "metadata": {},
     "output_type": "execute_result"
    }
   ],
   "source": [
    "merge_sort_annotated(a)"
   ]
  },
  {
   "cell_type": "code",
   "execution_count": 25,
   "id": "96ef9b1f",
   "metadata": {},
   "outputs": [],
   "source": [
    "a = [40, 20, 50, 10, 90, 70, 80]"
   ]
  },
  {
   "cell_type": "code",
   "execution_count": 26,
   "id": "5b850e9c",
   "metadata": {},
   "outputs": [],
   "source": [
    "a = [1,2,3,4,5,6]\n",
    "\n",
    "def solve(a):\n",
    "    if len(a) == 1:\n",
    "        return a\n",
    "    \n",
    "    result = a[::2]\n",
    "    \n",
    "    return result + solve(a[1::2])"
   ]
  },
  {
   "cell_type": "code",
   "execution_count": 27,
   "id": "95b54047",
   "metadata": {},
   "outputs": [
    {
     "data": {
      "text/plain": [
       "[1, 3, 5, 2, 6, 4]"
      ]
     },
     "execution_count": 27,
     "metadata": {},
     "output_type": "execute_result"
    }
   ],
   "source": [
    "solve(a)"
   ]
  },
  {
   "cell_type": "code",
   "execution_count": 28,
   "id": "7d9c362d",
   "metadata": {},
   "outputs": [],
   "source": [
    "# HOMEWORK\n",
    "# This code will not work for a few cases.\n",
    "# 1. Figure out those cases.\n",
    "# 2. Try to solve for those."
   ]
  },
  {
   "cell_type": "code",
   "execution_count": 30,
   "id": "794f879e",
   "metadata": {},
   "outputs": [
    {
     "ename": "TypeError",
     "evalue": "can only concatenate list (not \"int\") to list",
     "output_type": "error",
     "traceback": [
      "\u001b[0;31m---------------------------------------------------------------------------\u001b[0m",
      "\u001b[0;31mTypeError\u001b[0m                                 Traceback (most recent call last)",
      "\u001b[0;32m/var/folders/nn/c52y0d3j0gq59dpsswchkt2r0000gn/T/ipykernel_4745/2529044493.py\u001b[0m in \u001b[0;36m<module>\u001b[0;34m\u001b[0m\n\u001b[0;32m----> 1\u001b[0;31m \u001b[0;34m[\u001b[0m\u001b[0;36m1\u001b[0m\u001b[0;34m,\u001b[0m\u001b[0;36m2\u001b[0m\u001b[0;34m,\u001b[0m\u001b[0;36m3\u001b[0m\u001b[0;34m,\u001b[0m\u001b[0;36m4\u001b[0m\u001b[0;34m]\u001b[0m \u001b[0;34m+\u001b[0m \u001b[0;36m5\u001b[0m\u001b[0;34m\u001b[0m\u001b[0;34m\u001b[0m\u001b[0m\n\u001b[0m",
      "\u001b[0;31mTypeError\u001b[0m: can only concatenate list (not \"int\") to list"
     ]
    }
   ],
   "source": [
    "[1,2,3,4] + 5"
   ]
  },
  {
   "cell_type": "code",
   "execution_count": null,
   "id": "f2461ee7",
   "metadata": {},
   "outputs": [],
   "source": []
  }
 ],
 "metadata": {
  "kernelspec": {
   "display_name": "Python 3 (ipykernel)",
   "language": "python",
   "name": "python3"
  },
  "language_info": {
   "codemirror_mode": {
    "name": "ipython",
    "version": 3
   },
   "file_extension": ".py",
   "mimetype": "text/x-python",
   "name": "python",
   "nbconvert_exporter": "python",
   "pygments_lexer": "ipython3",
   "version": "3.9.5"
  }
 },
 "nbformat": 4,
 "nbformat_minor": 5
}
