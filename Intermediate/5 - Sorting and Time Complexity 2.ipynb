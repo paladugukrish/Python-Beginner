{
 "cells": [
  {
   "cell_type": "code",
   "execution_count": 8,
   "id": "cfa7cae0",
   "metadata": {},
   "outputs": [
    {
     "data": {
      "text/plain": [
       "'\\nO(n^2)\\nOmega(n^2)\\n'"
      ]
     },
     "execution_count": 8,
     "metadata": {},
     "output_type": "execute_result"
    }
   ],
   "source": [
    "def selection_sort(a):\n",
    "    for i in range(len(a) - 1):\n",
    "        min_index = i\n",
    "        \n",
    "        for j in range(i+1, len(a)):\n",
    "            if a[min_index] > a[j]:\n",
    "                min_index = j\n",
    "                \n",
    "        if min_index != i:\n",
    "            a[i], a[min_index] = a[min_index], a[i]\n",
    "            \n",
    "    return a\n",
    "\n",
    "'''\n",
    "O(n^2)\n",
    "Omega(n^2)\n",
    "'''"
   ]
  },
  {
   "cell_type": "code",
   "execution_count": 2,
   "id": "5356e953",
   "metadata": {},
   "outputs": [],
   "source": [
    "a = [2,8,5,3,9,4,1]"
   ]
  },
  {
   "cell_type": "code",
   "execution_count": 3,
   "id": "7b360768",
   "metadata": {},
   "outputs": [
    {
     "data": {
      "text/plain": [
       "[1, 2, 3, 4, 5, 8, 9]"
      ]
     },
     "execution_count": 3,
     "metadata": {},
     "output_type": "execute_result"
    }
   ],
   "source": [
    "selection_sort(a)"
   ]
  },
  {
   "cell_type": "code",
   "execution_count": 6,
   "id": "3186cc4a",
   "metadata": {},
   "outputs": [],
   "source": [
    "a = [-1,2,3,4,5,6,7,8,9,10,0]\n",
    "\n",
    "min_index = 0\n",
    "\n",
    "for i in range(1, len(a)):\n",
    "    if a[i] < a[min_index]:\n",
    "        min_index = i"
   ]
  },
  {
   "cell_type": "code",
   "execution_count": 7,
   "id": "b8e58cdc",
   "metadata": {},
   "outputs": [
    {
     "data": {
      "text/plain": [
       "10"
      ]
     },
     "execution_count": 7,
     "metadata": {},
     "output_type": "execute_result"
    }
   ],
   "source": [
    "min_index"
   ]
  },
  {
   "cell_type": "code",
   "execution_count": 4,
   "id": "e44b0b7f",
   "metadata": {},
   "outputs": [],
   "source": [
    "def selection_sort_annotated(a):\n",
    "    for i in range(len(a) - 1):\n",
    "        min_index = i\n",
    "        \n",
    "        print(a)\n",
    "        print(\"-\"*20)\n",
    "        \n",
    "        for j in range(i+1, len(a)):\n",
    "            if a[min_index] > a[j]:\n",
    "                min_index = j\n",
    "                \n",
    "        if min_index != i:\n",
    "            a[i], a[min_index] = a[min_index], a[i]\n",
    "            \n",
    "    return a"
   ]
  },
  {
   "cell_type": "code",
   "execution_count": 5,
   "id": "8e19f091",
   "metadata": {},
   "outputs": [
    {
     "name": "stdout",
     "output_type": "stream",
     "text": [
      "[2, 8, 5, 3, 9, 4, 1]\n",
      "--------------------\n",
      "[1, 8, 5, 3, 9, 4, 2]\n",
      "--------------------\n",
      "[1, 2, 5, 3, 9, 4, 8]\n",
      "--------------------\n",
      "[1, 2, 3, 5, 9, 4, 8]\n",
      "--------------------\n",
      "[1, 2, 3, 4, 9, 5, 8]\n",
      "--------------------\n",
      "[1, 2, 3, 4, 5, 9, 8]\n",
      "--------------------\n"
     ]
    },
    {
     "data": {
      "text/plain": [
       "[1, 2, 3, 4, 5, 8, 9]"
      ]
     },
     "execution_count": 5,
     "metadata": {},
     "output_type": "execute_result"
    }
   ],
   "source": [
    "a = [2,8,5,3,9,4,1]\n",
    "selection_sort_annotated(a)"
   ]
  },
  {
   "cell_type": "code",
   "execution_count": 18,
   "id": "44944f63",
   "metadata": {},
   "outputs": [
    {
     "data": {
      "text/plain": [
       "'\\nO(n^2)\\nOmega(n)\\n'"
      ]
     },
     "execution_count": 18,
     "metadata": {},
     "output_type": "execute_result"
    }
   ],
   "source": [
    "def insertion_sort(a):\n",
    "    for i in range(1, len(a)):\n",
    "        index_to_insert = i\n",
    "        j = i-1\n",
    "        \n",
    "        while j >= 0:\n",
    "            if a[j] < a[index_to_insert]:\n",
    "                break\n",
    "            \n",
    "            a[j], a[index_to_insert] = a[index_to_insert], a[j]\n",
    "            index_to_insert = j\n",
    "            j -= 1\n",
    "            \n",
    "    return a\n",
    "\n",
    "'''\n",
    "O(n^2)\n",
    "Omega(n)\n",
    "'''"
   ]
  },
  {
   "cell_type": "code",
   "execution_count": 13,
   "id": "37dcc596",
   "metadata": {},
   "outputs": [],
   "source": [
    "a = [2,8,5,3,9,4,1]"
   ]
  },
  {
   "cell_type": "code",
   "execution_count": 12,
   "id": "1cc57a92",
   "metadata": {},
   "outputs": [
    {
     "data": {
      "text/plain": [
       "[1, 2, 3, 4, 5, 8, 9]"
      ]
     },
     "execution_count": 12,
     "metadata": {},
     "output_type": "execute_result"
    }
   ],
   "source": [
    "insertion_sort(a)"
   ]
  },
  {
   "cell_type": "code",
   "execution_count": 16,
   "id": "8436c047",
   "metadata": {},
   "outputs": [],
   "source": [
    "def insertion_sort_annotated(a):\n",
    "    for i in range(1, len(a)):\n",
    "        index_to_insert = i\n",
    "        j = i-1\n",
    "        \n",
    "        print(a[:i], \"|\", a[i:])\n",
    "        print(\"-\"*20)\n",
    "        \n",
    "        while j >= 0:\n",
    "            if a[j] < a[index_to_insert]:\n",
    "                break\n",
    "            \n",
    "            a[j], a[index_to_insert] = a[index_to_insert], a[j]\n",
    "            index_to_insert = j\n",
    "            j -= 1\n",
    "            \n",
    "    return a"
   ]
  },
  {
   "cell_type": "code",
   "execution_count": 17,
   "id": "d6ae1e29",
   "metadata": {},
   "outputs": [
    {
     "name": "stdout",
     "output_type": "stream",
     "text": [
      "[2] | [8, 5, 3, 9, 4, 1]\n",
      "--------------------\n",
      "[2, 8] | [5, 3, 9, 4, 1]\n",
      "--------------------\n",
      "[2, 5, 8] | [3, 9, 4, 1]\n",
      "--------------------\n",
      "[2, 3, 5, 8] | [9, 4, 1]\n",
      "--------------------\n",
      "[2, 3, 5, 8, 9] | [4, 1]\n",
      "--------------------\n",
      "[2, 3, 4, 5, 8, 9] | [1]\n",
      "--------------------\n"
     ]
    },
    {
     "data": {
      "text/plain": [
       "[1, 2, 3, 4, 5, 8, 9]"
      ]
     },
     "execution_count": 17,
     "metadata": {},
     "output_type": "execute_result"
    }
   ],
   "source": [
    "insertion_sort_annotated(a)"
   ]
  },
  {
   "cell_type": "code",
   "execution_count": 19,
   "id": "5984e7d2",
   "metadata": {},
   "outputs": [
    {
     "data": {
      "text/plain": [
       "[2, 3, 4, 5]"
      ]
     },
     "execution_count": 19,
     "metadata": {},
     "output_type": "execute_result"
    }
   ],
   "source": [
    "sorted([4,5,2,3])"
   ]
  },
  {
   "cell_type": "code",
   "execution_count": 20,
   "id": "7eff3ca3",
   "metadata": {},
   "outputs": [],
   "source": [
    "def insertion_sort_descending(a):\n",
    "    for i in range(1, len(a)):\n",
    "        index_to_insert = i\n",
    "        j = i-1\n",
    "        \n",
    "        while j >= 0:\n",
    "            if a[j] < a[index_to_insert]:\n",
    "                break\n",
    "            \n",
    "            a[j], a[index_to_insert] = a[index_to_insert], a[j]\n",
    "            index_to_insert = j\n",
    "            j -= 1\n",
    "            \n",
    "    return a[::-1]"
   ]
  },
  {
   "cell_type": "code",
   "execution_count": null,
   "id": "901f0c45",
   "metadata": {},
   "outputs": [],
   "source": []
  }
 ],
 "metadata": {
  "kernelspec": {
   "display_name": "Python 3 (ipykernel)",
   "language": "python",
   "name": "python3"
  },
  "language_info": {
   "codemirror_mode": {
    "name": "ipython",
    "version": 3
   },
   "file_extension": ".py",
   "mimetype": "text/x-python",
   "name": "python",
   "nbconvert_exporter": "python",
   "pygments_lexer": "ipython3",
   "version": "3.9.5"
  }
 },
 "nbformat": 4,
 "nbformat_minor": 5
}
