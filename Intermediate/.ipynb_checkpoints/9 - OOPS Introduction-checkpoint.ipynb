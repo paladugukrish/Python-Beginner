{
 "cells": [
  {
   "cell_type": "code",
   "execution_count": 1,
   "id": "a257e4c1",
   "metadata": {},
   "outputs": [],
   "source": [
    "a = 5"
   ]
  },
  {
   "cell_type": "code",
   "execution_count": 2,
   "id": "e6e52258",
   "metadata": {},
   "outputs": [
    {
     "data": {
      "text/plain": [
       "int"
      ]
     },
     "execution_count": 2,
     "metadata": {},
     "output_type": "execute_result"
    }
   ],
   "source": [
    "type(5)"
   ]
  },
  {
   "cell_type": "code",
   "execution_count": 3,
   "id": "49fb33cd",
   "metadata": {},
   "outputs": [],
   "source": [
    "# 5 is an object of the type int\n",
    "# 5 is an instance of the int class"
   ]
  },
  {
   "cell_type": "code",
   "execution_count": 4,
   "id": "a2497a96",
   "metadata": {},
   "outputs": [],
   "source": [
    "string = \"abcd\""
   ]
  },
  {
   "cell_type": "code",
   "execution_count": 5,
   "id": "aff7e6b4",
   "metadata": {},
   "outputs": [
    {
     "data": {
      "text/plain": [
       "'abcdefgh'"
      ]
     },
     "execution_count": 5,
     "metadata": {},
     "output_type": "execute_result"
    }
   ],
   "source": [
    "\"abcd\" + \"efgh\""
   ]
  },
  {
   "cell_type": "code",
   "execution_count": 6,
   "id": "17643922",
   "metadata": {},
   "outputs": [
    {
     "data": {
      "text/plain": [
       "['abcd']"
      ]
     },
     "execution_count": 6,
     "metadata": {},
     "output_type": "execute_result"
    }
   ],
   "source": [
    "string.split(\" \")"
   ]
  },
  {
   "cell_type": "code",
   "execution_count": 7,
   "id": "f968d5cd",
   "metadata": {},
   "outputs": [],
   "source": [
    "# Creation of a class\n",
    "class Student:\n",
    "    pass"
   ]
  },
  {
   "cell_type": "code",
   "execution_count": 8,
   "id": "1593b15e",
   "metadata": {},
   "outputs": [],
   "source": [
    "# Instantiating a class -> Creating an object of a class\n",
    "s = Student()"
   ]
  },
  {
   "cell_type": "code",
   "execution_count": 9,
   "id": "ae9ca99d",
   "metadata": {},
   "outputs": [
    {
     "data": {
      "text/plain": [
       "<__main__.Student at 0x7ff1705bd7c0>"
      ]
     },
     "execution_count": 9,
     "metadata": {},
     "output_type": "execute_result"
    }
   ],
   "source": [
    "s"
   ]
  },
  {
   "cell_type": "code",
   "execution_count": 10,
   "id": "09322c07",
   "metadata": {},
   "outputs": [
    {
     "data": {
      "text/plain": [
       "__main__.Student"
      ]
     },
     "execution_count": 10,
     "metadata": {},
     "output_type": "execute_result"
    }
   ],
   "source": [
    "type(s)"
   ]
  },
  {
   "cell_type": "code",
   "execution_count": 11,
   "id": "136a572b",
   "metadata": {},
   "outputs": [],
   "source": [
    "# bipin_height, bipin_weight...."
   ]
  },
  {
   "cell_type": "code",
   "execution_count": 12,
   "id": "77442e59",
   "metadata": {},
   "outputs": [],
   "source": [
    "def random():\n",
    "    return True"
   ]
  },
  {
   "cell_type": "code",
   "execution_count": 13,
   "id": "5a613797",
   "metadata": {},
   "outputs": [],
   "source": [
    "class Random():\n",
    "    pass"
   ]
  },
  {
   "cell_type": "code",
   "execution_count": 14,
   "id": "cb31f1dd",
   "metadata": {},
   "outputs": [
    {
     "data": {
      "text/plain": [
       "3"
      ]
     },
     "execution_count": 14,
     "metadata": {},
     "output_type": "execute_result"
    }
   ],
   "source": [
    "1 + 2"
   ]
  },
  {
   "cell_type": "code",
   "execution_count": 15,
   "id": "16cf1741",
   "metadata": {},
   "outputs": [
    {
     "data": {
      "text/plain": [
       "'abcbcd'"
      ]
     },
     "execution_count": 15,
     "metadata": {},
     "output_type": "execute_result"
    }
   ],
   "source": [
    "\"abc\" + \"bcd\""
   ]
  },
  {
   "cell_type": "code",
   "execution_count": 16,
   "id": "2d6f6e98",
   "metadata": {},
   "outputs": [],
   "source": [
    "class Student:\n",
    "    pass"
   ]
  },
  {
   "cell_type": "code",
   "execution_count": 17,
   "id": "d45ad614",
   "metadata": {},
   "outputs": [],
   "source": [
    "s1 = Student()"
   ]
  },
  {
   "cell_type": "code",
   "execution_count": 18,
   "id": "f71eac96",
   "metadata": {},
   "outputs": [],
   "source": [
    "s2 = Student()"
   ]
  },
  {
   "cell_type": "code",
   "execution_count": 21,
   "id": "14a214f4",
   "metadata": {},
   "outputs": [],
   "source": [
    "s1.name = \"Mansi\""
   ]
  },
  {
   "cell_type": "code",
   "execution_count": 23,
   "id": "dd5deab7",
   "metadata": {},
   "outputs": [
    {
     "data": {
      "text/plain": [
       "'Mansi'"
      ]
     },
     "execution_count": 23,
     "metadata": {},
     "output_type": "execute_result"
    }
   ],
   "source": [
    "s1.name"
   ]
  },
  {
   "cell_type": "code",
   "execution_count": 22,
   "id": "e67af1f1",
   "metadata": {},
   "outputs": [
    {
     "ename": "AttributeError",
     "evalue": "'Student' object has no attribute 'name'",
     "output_type": "error",
     "traceback": [
      "\u001b[0;31m---------------------------------------------------------------------------\u001b[0m",
      "\u001b[0;31mAttributeError\u001b[0m                            Traceback (most recent call last)",
      "\u001b[0;32m/var/folders/nn/c52y0d3j0gq59dpsswchkt2r0000gn/T/ipykernel_38063/1547413451.py\u001b[0m in \u001b[0;36m<module>\u001b[0;34m\u001b[0m\n\u001b[0;32m----> 1\u001b[0;31m \u001b[0ms2\u001b[0m\u001b[0;34m.\u001b[0m\u001b[0mname\u001b[0m\u001b[0;34m\u001b[0m\u001b[0;34m\u001b[0m\u001b[0m\n\u001b[0m",
      "\u001b[0;31mAttributeError\u001b[0m: 'Student' object has no attribute 'name'"
     ]
    }
   ],
   "source": [
    "s2.name"
   ]
  },
  {
   "cell_type": "code",
   "execution_count": 27,
   "id": "d591d89d",
   "metadata": {},
   "outputs": [],
   "source": [
    "class Student:\n",
    "    def __init__(self):\n",
    "        print(id(self))"
   ]
  },
  {
   "cell_type": "code",
   "execution_count": 28,
   "id": "cf7ec295",
   "metadata": {},
   "outputs": [
    {
     "name": "stdout",
     "output_type": "stream",
     "text": [
      "140674948911840\n"
     ]
    }
   ],
   "source": [
    "s1 = Student()\n",
    "# Student.__init__(s1) -> Internally"
   ]
  },
  {
   "cell_type": "code",
   "execution_count": 29,
   "id": "f7cce11c",
   "metadata": {},
   "outputs": [
    {
     "data": {
      "text/plain": [
       "140674948911840"
      ]
     },
     "execution_count": 29,
     "metadata": {},
     "output_type": "execute_result"
    }
   ],
   "source": [
    "id(s1)"
   ]
  },
  {
   "cell_type": "code",
   "execution_count": 30,
   "id": "52bd6fc7",
   "metadata": {},
   "outputs": [],
   "source": [
    "class Student:\n",
    "    def __init__(self, input_name):\n",
    "        self.name = input_name"
   ]
  },
  {
   "cell_type": "code",
   "execution_count": 35,
   "id": "da922064",
   "metadata": {},
   "outputs": [],
   "source": [
    "s1 = Student(\"Bipin\")\n",
    "# Student.__init__(s1, \"Bipin\")\n",
    "# self = s1\n",
    "# self.name = input_name -> s1.name = \"Bipin\""
   ]
  },
  {
   "cell_type": "code",
   "execution_count": 32,
   "id": "bd9e0ff9",
   "metadata": {},
   "outputs": [],
   "source": [
    "s2 = Student(\"Kshitiz\")"
   ]
  },
  {
   "cell_type": "code",
   "execution_count": 33,
   "id": "871bfed0",
   "metadata": {},
   "outputs": [
    {
     "data": {
      "text/plain": [
       "'Bipin'"
      ]
     },
     "execution_count": 33,
     "metadata": {},
     "output_type": "execute_result"
    }
   ],
   "source": [
    "s1.name"
   ]
  },
  {
   "cell_type": "code",
   "execution_count": 34,
   "id": "6b4c0196",
   "metadata": {},
   "outputs": [
    {
     "data": {
      "text/plain": [
       "'Kshitiz'"
      ]
     },
     "execution_count": 34,
     "metadata": {},
     "output_type": "execute_result"
    }
   ],
   "source": [
    "s2.name"
   ]
  },
  {
   "cell_type": "code",
   "execution_count": 36,
   "id": "fc7f4c4c",
   "metadata": {},
   "outputs": [],
   "source": [
    "# Methods -> Functions inside a class"
   ]
  },
  {
   "cell_type": "code",
   "execution_count": 56,
   "id": "d20f9722",
   "metadata": {},
   "outputs": [],
   "source": [
    "class Student:\n",
    "    def hello(): # class method\n",
    "        print(\"Hello!\")\n",
    "        \n",
    "    def hello2(anything): # instance method\n",
    "        print(\"Hello!\")"
   ]
  },
  {
   "cell_type": "code",
   "execution_count": 48,
   "id": "33024de0",
   "metadata": {},
   "outputs": [],
   "source": [
    "s1 = Student()"
   ]
  },
  {
   "cell_type": "code",
   "execution_count": 49,
   "id": "5726340d",
   "metadata": {},
   "outputs": [
    {
     "data": {
      "text/plain": [
       "__main__.Student"
      ]
     },
     "execution_count": 49,
     "metadata": {},
     "output_type": "execute_result"
    }
   ],
   "source": [
    "type(s1)"
   ]
  },
  {
   "cell_type": "code",
   "execution_count": 50,
   "id": "d0539be4",
   "metadata": {},
   "outputs": [
    {
     "ename": "TypeError",
     "evalue": "hello() takes 0 positional arguments but 1 was given",
     "output_type": "error",
     "traceback": [
      "\u001b[0;31m---------------------------------------------------------------------------\u001b[0m",
      "\u001b[0;31mTypeError\u001b[0m                                 Traceback (most recent call last)",
      "\u001b[0;32m/var/folders/nn/c52y0d3j0gq59dpsswchkt2r0000gn/T/ipykernel_38063/3885920172.py\u001b[0m in \u001b[0;36m<module>\u001b[0;34m\u001b[0m\n\u001b[0;32m----> 1\u001b[0;31m \u001b[0ms1\u001b[0m\u001b[0;34m.\u001b[0m\u001b[0mhello\u001b[0m\u001b[0;34m(\u001b[0m\u001b[0;34m)\u001b[0m\u001b[0;34m\u001b[0m\u001b[0;34m\u001b[0m\u001b[0m\n\u001b[0m\u001b[1;32m      2\u001b[0m \u001b[0;31m# whenever a class method is called using a class object\u001b[0m\u001b[0;34m\u001b[0m\u001b[0;34m\u001b[0m\u001b[0;34m\u001b[0m\u001b[0m\n\u001b[1;32m      3\u001b[0m \u001b[0;31m# Student.hello(s1) -> Object gets passed to the method by default\u001b[0m\u001b[0;34m\u001b[0m\u001b[0;34m\u001b[0m\u001b[0;34m\u001b[0m\u001b[0m\n",
      "\u001b[0;31mTypeError\u001b[0m: hello() takes 0 positional arguments but 1 was given"
     ]
    }
   ],
   "source": [
    "s1.hello()\n",
    "# whenever a class method is called using a class object\n",
    "# Student.hello(s1) -> Object gets passed to the method by default"
   ]
  },
  {
   "cell_type": "code",
   "execution_count": 51,
   "id": "ed6c1743",
   "metadata": {},
   "outputs": [
    {
     "name": "stdout",
     "output_type": "stream",
     "text": [
      "Hello!\n"
     ]
    }
   ],
   "source": [
    "Student.hello()\n",
    "# I can call this method directly by using the name of the class"
   ]
  },
  {
   "cell_type": "code",
   "execution_count": 52,
   "id": "7364536d",
   "metadata": {},
   "outputs": [
    {
     "ename": "TypeError",
     "evalue": "hello2() missing 1 required positional argument: 'self'",
     "output_type": "error",
     "traceback": [
      "\u001b[0;31m---------------------------------------------------------------------------\u001b[0m",
      "\u001b[0;31mTypeError\u001b[0m                                 Traceback (most recent call last)",
      "\u001b[0;32m/var/folders/nn/c52y0d3j0gq59dpsswchkt2r0000gn/T/ipykernel_38063/2344266595.py\u001b[0m in \u001b[0;36m<module>\u001b[0;34m\u001b[0m\n\u001b[0;32m----> 1\u001b[0;31m \u001b[0mStudent\u001b[0m\u001b[0;34m.\u001b[0m\u001b[0mhello2\u001b[0m\u001b[0;34m(\u001b[0m\u001b[0;34m)\u001b[0m\u001b[0;34m\u001b[0m\u001b[0;34m\u001b[0m\u001b[0m\n\u001b[0m",
      "\u001b[0;31mTypeError\u001b[0m: hello2() missing 1 required positional argument: 'self'"
     ]
    }
   ],
   "source": [
    "Student.hello2()"
   ]
  },
  {
   "cell_type": "code",
   "execution_count": 55,
   "id": "13040a66",
   "metadata": {},
   "outputs": [
    {
     "name": "stdout",
     "output_type": "stream",
     "text": [
      "Hello!\n"
     ]
    }
   ],
   "source": [
    "s1.hello2()\n",
    "# Student.hello2(s1)"
   ]
  },
  {
   "cell_type": "code",
   "execution_count": 65,
   "id": "1f58839f",
   "metadata": {},
   "outputs": [],
   "source": [
    "class Dog:\n",
    "    kind = \"labra\" # class variable\n",
    "    \n",
    "    def __init__(self, name):\n",
    "        self.name = name # instance variable"
   ]
  },
  {
   "cell_type": "code",
   "execution_count": 66,
   "id": "5ba25df9",
   "metadata": {},
   "outputs": [],
   "source": [
    "d1 = Dog(\"Scooby\")\n",
    "d2 = Dog(\"Tuffy\")"
   ]
  },
  {
   "cell_type": "code",
   "execution_count": 67,
   "id": "5e606286",
   "metadata": {},
   "outputs": [
    {
     "data": {
      "text/plain": [
       "'Scooby'"
      ]
     },
     "execution_count": 67,
     "metadata": {},
     "output_type": "execute_result"
    }
   ],
   "source": [
    "d1.name"
   ]
  },
  {
   "cell_type": "code",
   "execution_count": 68,
   "id": "e02a9903",
   "metadata": {},
   "outputs": [
    {
     "data": {
      "text/plain": [
       "'Tuffy'"
      ]
     },
     "execution_count": 68,
     "metadata": {},
     "output_type": "execute_result"
    }
   ],
   "source": [
    "d2.name"
   ]
  },
  {
   "cell_type": "code",
   "execution_count": 69,
   "id": "bd7dc19f",
   "metadata": {},
   "outputs": [
    {
     "data": {
      "text/plain": [
       "'labra'"
      ]
     },
     "execution_count": 69,
     "metadata": {},
     "output_type": "execute_result"
    }
   ],
   "source": [
    "d1.kind"
   ]
  },
  {
   "cell_type": "code",
   "execution_count": 70,
   "id": "7cbf4160",
   "metadata": {},
   "outputs": [
    {
     "data": {
      "text/plain": [
       "'labra'"
      ]
     },
     "execution_count": 70,
     "metadata": {},
     "output_type": "execute_result"
    }
   ],
   "source": [
    "d2.kind"
   ]
  },
  {
   "cell_type": "code",
   "execution_count": 71,
   "id": "bd84768c",
   "metadata": {},
   "outputs": [
    {
     "data": {
      "text/plain": [
       "'labra'"
      ]
     },
     "execution_count": 71,
     "metadata": {},
     "output_type": "execute_result"
    }
   ],
   "source": [
    "Dog.kind"
   ]
  },
  {
   "cell_type": "code",
   "execution_count": 73,
   "id": "55594d5b",
   "metadata": {},
   "outputs": [
    {
     "ename": "AttributeError",
     "evalue": "type object 'Dog' has no attribute 'name'",
     "output_type": "error",
     "traceback": [
      "\u001b[0;31m---------------------------------------------------------------------------\u001b[0m",
      "\u001b[0;31mAttributeError\u001b[0m                            Traceback (most recent call last)",
      "\u001b[0;32m/var/folders/nn/c52y0d3j0gq59dpsswchkt2r0000gn/T/ipykernel_38063/1781462753.py\u001b[0m in \u001b[0;36m<module>\u001b[0;34m\u001b[0m\n\u001b[0;32m----> 1\u001b[0;31m \u001b[0mDog\u001b[0m\u001b[0;34m.\u001b[0m\u001b[0mname\u001b[0m \u001b[0;31m# instance variable can't be accessed by the class directly\u001b[0m\u001b[0;34m\u001b[0m\u001b[0;34m\u001b[0m\u001b[0m\n\u001b[0m",
      "\u001b[0;31mAttributeError\u001b[0m: type object 'Dog' has no attribute 'name'"
     ]
    }
   ],
   "source": [
    "Dog.name # instance variable can't be accessed by the class directly"
   ]
  },
  {
   "cell_type": "code",
   "execution_count": 74,
   "id": "5acfdec4",
   "metadata": {},
   "outputs": [],
   "source": [
    "d1.kind = \"golden retriever\""
   ]
  },
  {
   "cell_type": "code",
   "execution_count": 75,
   "id": "89521525",
   "metadata": {},
   "outputs": [
    {
     "data": {
      "text/plain": [
       "'golden retriever'"
      ]
     },
     "execution_count": 75,
     "metadata": {},
     "output_type": "execute_result"
    }
   ],
   "source": [
    "d1.kind"
   ]
  },
  {
   "cell_type": "code",
   "execution_count": 76,
   "id": "7480115b",
   "metadata": {},
   "outputs": [
    {
     "data": {
      "text/plain": [
       "'labra'"
      ]
     },
     "execution_count": 76,
     "metadata": {},
     "output_type": "execute_result"
    }
   ],
   "source": [
    "d2.kind"
   ]
  },
  {
   "cell_type": "code",
   "execution_count": 77,
   "id": "57fdb54a",
   "metadata": {},
   "outputs": [
    {
     "data": {
      "text/plain": [
       "'labra'"
      ]
     },
     "execution_count": 77,
     "metadata": {},
     "output_type": "execute_result"
    }
   ],
   "source": [
    "Dog.kind"
   ]
  },
  {
   "cell_type": "code",
   "execution_count": null,
   "id": "7d8a8918",
   "metadata": {},
   "outputs": [],
   "source": []
  },
  {
   "cell_type": "code",
   "execution_count": null,
   "id": "4ac1aa69",
   "metadata": {},
   "outputs": [],
   "source": []
  }
 ],
 "metadata": {
  "kernelspec": {
   "display_name": "Python 3 (ipykernel)",
   "language": "python",
   "name": "python3"
  },
  "language_info": {
   "codemirror_mode": {
    "name": "ipython",
    "version": 3
   },
   "file_extension": ".py",
   "mimetype": "text/x-python",
   "name": "python",
   "nbconvert_exporter": "python",
   "pygments_lexer": "ipython3",
   "version": "3.9.5"
  }
 },
 "nbformat": 4,
 "nbformat_minor": 5
}
