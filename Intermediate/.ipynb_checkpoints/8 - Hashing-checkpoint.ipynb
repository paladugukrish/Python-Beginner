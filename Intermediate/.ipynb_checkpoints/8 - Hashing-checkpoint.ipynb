{
 "cells": [
  {
   "cell_type": "code",
   "execution_count": 1,
   "id": "4a70b9f0",
   "metadata": {},
   "outputs": [],
   "source": [
    "flag = [True, True, False, True]"
   ]
  },
  {
   "cell_type": "code",
   "execution_count": 2,
   "id": "9f380df4",
   "metadata": {},
   "outputs": [
    {
     "data": {
      "text/plain": [
       "False"
      ]
     },
     "execution_count": 2,
     "metadata": {},
     "output_type": "execute_result"
    }
   ],
   "source": [
    "flag[2]"
   ]
  },
  {
   "cell_type": "code",
   "execution_count": 3,
   "id": "c2a5acd8",
   "metadata": {},
   "outputs": [],
   "source": [
    "# only can contain values from 1 to 10\n",
    "flags = [False]*11"
   ]
  },
  {
   "cell_type": "code",
   "execution_count": 4,
   "id": "887f46ee",
   "metadata": {},
   "outputs": [
    {
     "data": {
      "text/plain": [
       "[False, False, False, False, False, False, False, False, False, False, False]"
      ]
     },
     "execution_count": 4,
     "metadata": {},
     "output_type": "execute_result"
    }
   ],
   "source": [
    "flags"
   ]
  },
  {
   "cell_type": "code",
   "execution_count": 5,
   "id": "cad97127",
   "metadata": {},
   "outputs": [],
   "source": [
    "values = [5, 1, 3, 8, 10]"
   ]
  },
  {
   "cell_type": "code",
   "execution_count": 6,
   "id": "27e97e4b",
   "metadata": {},
   "outputs": [],
   "source": [
    "for i in values:\n",
    "    flags[i] = True"
   ]
  },
  {
   "cell_type": "code",
   "execution_count": null,
   "id": "97832638",
   "metadata": {},
   "outputs": [],
   "source": [
    "flag"
   ]
  }
 ],
 "metadata": {
  "kernelspec": {
   "display_name": "Python 3 (ipykernel)",
   "language": "python",
   "name": "python3"
  },
  "language_info": {
   "codemirror_mode": {
    "name": "ipython",
    "version": 3
   },
   "file_extension": ".py",
   "mimetype": "text/x-python",
   "name": "python",
   "nbconvert_exporter": "python",
   "pygments_lexer": "ipython3",
   "version": "3.9.5"
  }
 },
 "nbformat": 4,
 "nbformat_minor": 5
}
