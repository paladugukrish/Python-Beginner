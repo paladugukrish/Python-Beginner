{
 "cells": [
  {
   "cell_type": "code",
   "execution_count": 1,
   "id": "07f60aa1",
   "metadata": {},
   "outputs": [],
   "source": [
    "# lambda functions"
   ]
  },
  {
   "cell_type": "code",
   "execution_count": 2,
   "id": "dbf0e107",
   "metadata": {},
   "outputs": [],
   "source": [
    "# Function to square a number\n",
    "def square(a):\n",
    "    return a ** 2"
   ]
  },
  {
   "cell_type": "code",
   "execution_count": 4,
   "id": "50e0779f",
   "metadata": {},
   "outputs": [],
   "source": [
    "# Lambda Functions\n",
    "square2 = lambda x: x ** 2"
   ]
  },
  {
   "cell_type": "code",
   "execution_count": 5,
   "id": "c21f1896",
   "metadata": {},
   "outputs": [
    {
     "data": {
      "text/plain": [
       "4"
      ]
     },
     "execution_count": 5,
     "metadata": {},
     "output_type": "execute_result"
    }
   ],
   "source": [
    "square(2)"
   ]
  },
  {
   "cell_type": "code",
   "execution_count": 6,
   "id": "6623202b",
   "metadata": {},
   "outputs": [
    {
     "data": {
      "text/plain": [
       "4"
      ]
     },
     "execution_count": 6,
     "metadata": {},
     "output_type": "execute_result"
    }
   ],
   "source": [
    "square2(2)"
   ]
  },
  {
   "cell_type": "code",
   "execution_count": 7,
   "id": "d8156778",
   "metadata": {},
   "outputs": [
    {
     "data": {
      "text/plain": [
       "25"
      ]
     },
     "execution_count": 7,
     "metadata": {},
     "output_type": "execute_result"
    }
   ],
   "source": [
    "square2(5)"
   ]
  },
  {
   "cell_type": "code",
   "execution_count": 8,
   "id": "9d11d786",
   "metadata": {},
   "outputs": [],
   "source": [
    "sum_random = lambda x, y: x + y"
   ]
  },
  {
   "cell_type": "code",
   "execution_count": 11,
   "id": "5a14bbb0",
   "metadata": {},
   "outputs": [
    {
     "data": {
      "text/plain": [
       "11"
      ]
     },
     "execution_count": 11,
     "metadata": {},
     "output_type": "execute_result"
    }
   ],
   "source": [
    "sum_random(5, 6)"
   ]
  },
  {
   "cell_type": "code",
   "execution_count": 13,
   "id": "4abe4597",
   "metadata": {},
   "outputs": [],
   "source": [
    "# Lambda Functions are anonymous"
   ]
  },
  {
   "cell_type": "code",
   "execution_count": 14,
   "id": "7ed15f4c",
   "metadata": {},
   "outputs": [
    {
     "data": {
      "text/plain": [
       "25"
      ]
     },
     "execution_count": 14,
     "metadata": {},
     "output_type": "execute_result"
    }
   ],
   "source": [
    "(lambda x: x ** 2)(5)"
   ]
  },
  {
   "cell_type": "code",
   "execution_count": 15,
   "id": "6dee5861",
   "metadata": {},
   "outputs": [
    {
     "data": {
      "text/plain": [
       "64"
      ]
     },
     "execution_count": 15,
     "metadata": {},
     "output_type": "execute_result"
    }
   ],
   "source": [
    "(lambda x: x ** 2)(8)"
   ]
  },
  {
   "cell_type": "code",
   "execution_count": 17,
   "id": "fea489c5",
   "metadata": {},
   "outputs": [
    {
     "data": {
      "text/plain": [
       "10"
      ]
     },
     "execution_count": 17,
     "metadata": {},
     "output_type": "execute_result"
    }
   ],
   "source": [
    "(lambda x: x if x > 10 else x + 5)(5)"
   ]
  },
  {
   "cell_type": "code",
   "execution_count": 18,
   "id": "b1da1262",
   "metadata": {},
   "outputs": [],
   "source": [
    "a = [5, 8, 9, 10, 12, 3, 2, 1]"
   ]
  },
  {
   "cell_type": "code",
   "execution_count": 19,
   "id": "03d43eba",
   "metadata": {},
   "outputs": [
    {
     "data": {
      "text/plain": [
       "[1, 2, 3, 5, 8, 9, 10, 12]"
      ]
     },
     "execution_count": 19,
     "metadata": {},
     "output_type": "execute_result"
    }
   ],
   "source": [
    "sorted(a)"
   ]
  },
  {
   "cell_type": "code",
   "execution_count": 20,
   "id": "cb004069",
   "metadata": {},
   "outputs": [],
   "source": [
    "students = [\n",
    "    {\"name\": \"A\", \"marks\": 80 },\n",
    "    {\"name\": \"B\", \"marks\": 70 },\n",
    "    {\"name\": \"C\", \"marks\": 100 },\n",
    "    {\"name\": \"D\", \"marks\": 50 },\n",
    "    {\"name\": \"E\", \"marks\": 60 },\n",
    "]"
   ]
  },
  {
   "cell_type": "code",
   "execution_count": 21,
   "id": "0ced7862",
   "metadata": {},
   "outputs": [
    {
     "ename": "TypeError",
     "evalue": "'<' not supported between instances of 'dict' and 'dict'",
     "output_type": "error",
     "traceback": [
      "\u001b[0;31m---------------------------------------------------------------------------\u001b[0m",
      "\u001b[0;31mTypeError\u001b[0m                                 Traceback (most recent call last)",
      "\u001b[0;32m/var/folders/nn/c52y0d3j0gq59dpsswchkt2r0000gn/T/ipykernel_83303/645918957.py\u001b[0m in \u001b[0;36m<module>\u001b[0;34m\u001b[0m\n\u001b[0;32m----> 1\u001b[0;31m \u001b[0msorted\u001b[0m\u001b[0;34m(\u001b[0m\u001b[0mstudents\u001b[0m\u001b[0;34m)\u001b[0m\u001b[0;34m\u001b[0m\u001b[0;34m\u001b[0m\u001b[0m\n\u001b[0m",
      "\u001b[0;31mTypeError\u001b[0m: '<' not supported between instances of 'dict' and 'dict'"
     ]
    }
   ],
   "source": [
    "sorted(students)"
   ]
  },
  {
   "cell_type": "code",
   "execution_count": 25,
   "id": "8d0707f0",
   "metadata": {},
   "outputs": [
    {
     "data": {
      "text/plain": [
       "[{'name': 'E', 'marks': 60},\n",
       " {'name': 'D', 'marks': 50},\n",
       " {'name': 'C', 'marks': 100},\n",
       " {'name': 'B', 'marks': 70},\n",
       " {'name': 'A', 'marks': 80}]"
      ]
     },
     "execution_count": 25,
     "metadata": {},
     "output_type": "execute_result"
    }
   ],
   "source": [
    "sorted(students, key = lambda x: x[\"name\"], reverse = True )"
   ]
  },
  {
   "cell_type": "code",
   "execution_count": 27,
   "id": "c691f56a",
   "metadata": {},
   "outputs": [
    {
     "data": {
      "text/plain": [
       "'\\nHOMEWORK - \\nTweak your custom sorting functions in a way that if I provide a complex data structure.\\nAnd a key to confirm sorting order.\\nIt can sort that data structure.\\n'"
      ]
     },
     "execution_count": 27,
     "metadata": {},
     "output_type": "execute_result"
    }
   ],
   "source": [
    "'''\n",
    "HOMEWORK - \n",
    "Tweak your custom sorting functions in a way that if I provide a complex data structure.\n",
    "And a key to confirm sorting order.\n",
    "It can sort that data structure.\n",
    "'''"
   ]
  },
  {
   "cell_type": "code",
   "execution_count": 28,
   "id": "a36f3c48",
   "metadata": {},
   "outputs": [],
   "source": [
    "def gen_exp(n):\n",
    "    def exp(x):\n",
    "        return x ** n\n",
    "    \n",
    "    return exp"
   ]
  },
  {
   "cell_type": "code",
   "execution_count": 29,
   "id": "a2242bd7",
   "metadata": {},
   "outputs": [],
   "source": [
    "exp_2 = gen_exp(2)"
   ]
  },
  {
   "cell_type": "code",
   "execution_count": 31,
   "id": "68aac83a",
   "metadata": {},
   "outputs": [
    {
     "data": {
      "text/plain": [
       "25"
      ]
     },
     "execution_count": 31,
     "metadata": {},
     "output_type": "execute_result"
    }
   ],
   "source": [
    "exp_2(5)"
   ]
  },
  {
   "cell_type": "code",
   "execution_count": 32,
   "id": "665b7199",
   "metadata": {},
   "outputs": [],
   "source": [
    "exp_5 = gen_exp(5)"
   ]
  },
  {
   "cell_type": "code",
   "execution_count": 33,
   "id": "6ff222b6",
   "metadata": {},
   "outputs": [
    {
     "data": {
      "text/plain": [
       "3125"
      ]
     },
     "execution_count": 33,
     "metadata": {},
     "output_type": "execute_result"
    }
   ],
   "source": [
    "exp_5(5)"
   ]
  },
  {
   "cell_type": "code",
   "execution_count": 34,
   "id": "c903a616",
   "metadata": {},
   "outputs": [
    {
     "data": {
      "text/plain": [
       "function"
      ]
     },
     "execution_count": 34,
     "metadata": {},
     "output_type": "execute_result"
    }
   ],
   "source": [
    "type(exp_2)"
   ]
  },
  {
   "cell_type": "code",
   "execution_count": 35,
   "id": "26a48c4d",
   "metadata": {},
   "outputs": [],
   "source": [
    "# DECORATORS"
   ]
  },
  {
   "cell_type": "code",
   "execution_count": 37,
   "id": "92ca28f0",
   "metadata": {},
   "outputs": [],
   "source": [
    "def say_hello():\n",
    "    print(\"Hello :)\")\n",
    "    \n",
    "def say_bye():\n",
    "    print(\"Bye :(\")"
   ]
  },
  {
   "cell_type": "code",
   "execution_count": 39,
   "id": "cac2c67e",
   "metadata": {},
   "outputs": [
    {
     "name": "stdout",
     "output_type": "stream",
     "text": [
      "Bye :(\n"
     ]
    }
   ],
   "source": [
    "say_bye()"
   ]
  },
  {
   "cell_type": "code",
   "execution_count": 40,
   "id": "11dc2c7e",
   "metadata": {},
   "outputs": [],
   "source": [
    "def say_hello():\n",
    "    print(\"-\"*20)\n",
    "    print(\"Hello :)\")\n",
    "    print(\"-\"*20)"
   ]
  },
  {
   "cell_type": "code",
   "execution_count": 41,
   "id": "312501c3",
   "metadata": {},
   "outputs": [
    {
     "name": "stdout",
     "output_type": "stream",
     "text": [
      "--------------------\n",
      "Hello :)\n",
      "--------------------\n"
     ]
    }
   ],
   "source": [
    "say_hello()"
   ]
  },
  {
   "cell_type": "code",
   "execution_count": 42,
   "id": "77d294e4",
   "metadata": {},
   "outputs": [],
   "source": [
    "def pretty(func): # if func input is a function\n",
    "    def wrapper():\n",
    "        # I can do something before calling it\n",
    "        print(\"-\"*20)\n",
    "        func()\n",
    "        print(\"-\"*20)\n",
    "        # I can do something after calling it\n",
    "    \n",
    "    return wrapper"
   ]
  },
  {
   "cell_type": "code",
   "execution_count": 43,
   "id": "90228870",
   "metadata": {},
   "outputs": [],
   "source": [
    "def say_hello():\n",
    "    print(\"Hello :)\")"
   ]
  },
  {
   "cell_type": "code",
   "execution_count": 44,
   "id": "65b677dd",
   "metadata": {},
   "outputs": [],
   "source": [
    "say_hello_decorated = pretty(say_hello)"
   ]
  },
  {
   "cell_type": "code",
   "execution_count": 45,
   "id": "e684737c",
   "metadata": {},
   "outputs": [
    {
     "name": "stdout",
     "output_type": "stream",
     "text": [
      "--------------------\n",
      "Hello :)\n",
      "--------------------\n"
     ]
    }
   ],
   "source": [
    "say_hello_decorated()"
   ]
  },
  {
   "cell_type": "code",
   "execution_count": 46,
   "id": "fda55778",
   "metadata": {},
   "outputs": [],
   "source": [
    "say_bye_decorated = pretty(say_bye)"
   ]
  },
  {
   "cell_type": "code",
   "execution_count": 47,
   "id": "e52e35ab",
   "metadata": {},
   "outputs": [
    {
     "name": "stdout",
     "output_type": "stream",
     "text": [
      "--------------------\n",
      "Bye :(\n",
      "--------------------\n"
     ]
    }
   ],
   "source": [
    "say_bye_decorated()"
   ]
  },
  {
   "cell_type": "code",
   "execution_count": 48,
   "id": "356d1335",
   "metadata": {},
   "outputs": [],
   "source": [
    "@pretty\n",
    "def say_wow():\n",
    "    print(\"WOWWW!!\")"
   ]
  },
  {
   "cell_type": "code",
   "execution_count": 49,
   "id": "0fcd041d",
   "metadata": {},
   "outputs": [
    {
     "name": "stdout",
     "output_type": "stream",
     "text": [
      "--------------------\n",
      "WOWWW!!\n",
      "--------------------\n"
     ]
    }
   ],
   "source": [
    "say_wow()"
   ]
  },
  {
   "cell_type": "code",
   "execution_count": null,
   "id": "2d0fdb51",
   "metadata": {},
   "outputs": [],
   "source": []
  }
 ],
 "metadata": {
  "kernelspec": {
   "display_name": "Python 3 (ipykernel)",
   "language": "python",
   "name": "python3"
  },
  "language_info": {
   "codemirror_mode": {
    "name": "ipython",
    "version": 3
   },
   "file_extension": ".py",
   "mimetype": "text/x-python",
   "name": "python",
   "nbconvert_exporter": "python",
   "pygments_lexer": "ipython3",
   "version": "3.9.5"
  }
 },
 "nbformat": 4,
 "nbformat_minor": 5
}
