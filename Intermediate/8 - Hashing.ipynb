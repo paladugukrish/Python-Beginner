{
 "cells": [
  {
   "cell_type": "code",
   "execution_count": 1,
   "id": "ddfb7c5b",
   "metadata": {},
   "outputs": [],
   "source": [
    "flag = [True, True, False, True]"
   ]
  },
  {
   "cell_type": "code",
   "execution_count": 2,
   "id": "1c4823b3",
   "metadata": {},
   "outputs": [
    {
     "data": {
      "text/plain": [
       "False"
      ]
     },
     "execution_count": 2,
     "metadata": {},
     "output_type": "execute_result"
    }
   ],
   "source": [
    "flag[2]"
   ]
  },
  {
   "cell_type": "code",
   "execution_count": 3,
   "id": "9d2037b9",
   "metadata": {},
   "outputs": [],
   "source": [
    "# only can contain values from 1 to 10\n",
    "flags = [False]*11"
   ]
  },
  {
   "cell_type": "code",
   "execution_count": 4,
   "id": "e6623fef",
   "metadata": {},
   "outputs": [
    {
     "data": {
      "text/plain": [
       "[False, False, False, False, False, False, False, False, False, False, False]"
      ]
     },
     "execution_count": 4,
     "metadata": {},
     "output_type": "execute_result"
    }
   ],
   "source": [
    "flags"
   ]
  },
  {
   "cell_type": "code",
   "execution_count": 5,
   "id": "98c2cc46",
   "metadata": {},
   "outputs": [],
   "source": [
    "values = [5, 1, 3, 8, 10]"
   ]
  },
  {
   "cell_type": "code",
   "execution_count": 6,
   "id": "57c90f62",
   "metadata": {},
   "outputs": [],
   "source": [
    "for i in values:\n",
    "    flags[i] = True"
   ]
  },
  {
   "cell_type": "code",
   "execution_count": 8,
   "id": "9b626c8c",
   "metadata": {},
   "outputs": [
    {
     "data": {
      "text/plain": [
       "[False, True, False, True, False, True, False, False, True, False, True]"
      ]
     },
     "execution_count": 8,
     "metadata": {},
     "output_type": "execute_result"
    }
   ],
   "source": [
    "flags"
   ]
  },
  {
   "cell_type": "code",
   "execution_count": 9,
   "id": "db661cf9",
   "metadata": {},
   "outputs": [],
   "source": [
    "queries = [2,4,8]"
   ]
  },
  {
   "cell_type": "code",
   "execution_count": 10,
   "id": "725bfa6c",
   "metadata": {},
   "outputs": [
    {
     "name": "stdout",
     "output_type": "stream",
     "text": [
      "False\n",
      "False\n",
      "True\n"
     ]
    }
   ],
   "source": [
    "for q in queries:\n",
    "    if flags[q]:\n",
    "        print(\"True\")\n",
    "    else:\n",
    "        print(\"False\")"
   ]
  },
  {
   "cell_type": "code",
   "execution_count": 11,
   "id": "27ea7e4f",
   "metadata": {},
   "outputs": [],
   "source": [
    "values = [5, 1, 3, 8, 10]\n",
    "\n",
    "unique_values = set(values)"
   ]
  },
  {
   "cell_type": "code",
   "execution_count": 12,
   "id": "c0459d55",
   "metadata": {},
   "outputs": [
    {
     "data": {
      "text/plain": [
       "{1, 3, 5, 8, 10}"
      ]
     },
     "execution_count": 12,
     "metadata": {},
     "output_type": "execute_result"
    }
   ],
   "source": [
    "unique_values"
   ]
  },
  {
   "cell_type": "code",
   "execution_count": 13,
   "id": "06894d63",
   "metadata": {},
   "outputs": [],
   "source": [
    "unique_values_1 = set()\n",
    "\n",
    "for i in values:\n",
    "    unique_values_1.add(i)"
   ]
  },
  {
   "cell_type": "code",
   "execution_count": 14,
   "id": "a26eb70e",
   "metadata": {},
   "outputs": [
    {
     "data": {
      "text/plain": [
       "{1, 3, 5, 8, 10}"
      ]
     },
     "execution_count": 14,
     "metadata": {},
     "output_type": "execute_result"
    }
   ],
   "source": [
    "unique_values_1"
   ]
  },
  {
   "cell_type": "code",
   "execution_count": 15,
   "id": "53bcd811",
   "metadata": {},
   "outputs": [
    {
     "name": "stdout",
     "output_type": "stream",
     "text": [
      "False\n",
      "False\n",
      "True\n"
     ]
    }
   ],
   "source": [
    "queries = [2,4,8]\n",
    "\n",
    "for q in queries:\n",
    "    if q in unique_values:\n",
    "        print(\"True\")\n",
    "    else:\n",
    "        print(\"False\")"
   ]
  },
  {
   "cell_type": "code",
   "execution_count": null,
   "id": "37c169e4",
   "metadata": {},
   "outputs": [],
   "source": []
  },
  {
   "cell_type": "code",
   "execution_count": null,
   "id": "1cb2d69a",
   "metadata": {},
   "outputs": [],
   "source": []
  }
 ],
 "metadata": {
  "kernelspec": {
   "display_name": "Python 3 (ipykernel)",
   "language": "python",
   "name": "python3"
  },
  "language_info": {
   "codemirror_mode": {
    "name": "ipython",
    "version": 3
   },
   "file_extension": ".py",
   "mimetype": "text/x-python",
   "name": "python",
   "nbconvert_exporter": "python",
   "pygments_lexer": "ipython3",
   "version": "3.9.5"
  }
 },
 "nbformat": 4,
 "nbformat_minor": 5
}
